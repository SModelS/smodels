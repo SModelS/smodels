{
 "cells": [
  {
   "cell_type": "code",
   "execution_count": 1,
   "metadata": {},
   "outputs": [],
   "source": [
    "import numpy as np\n",
    "import glob\n",
    "from io import StringIO"
   ]
  },
  {
   "cell_type": "markdown",
   "metadata": {},
   "source": [
    "### Convert Efficiency Maps"
   ]
  },
  {
   "cell_type": "code",
   "execution_count": 2,
   "metadata": {},
   "outputs": [
    {
     "name": "stdout",
     "output_type": "stream",
     "text": [
      "SR_2018A_nlay4\n",
      "SR_2018A_nlay5\n",
      "SR_2018A_nlay6p\n",
      "SR_2017_nlay4\n",
      "SR_2017_nlay5\n",
      "SR_2017_nlay6p\n",
      "SR_2018B_nlay4\n",
      "SR_2018B_nlay5\n",
      "SR_2018B_nlay6p\n"
     ]
    }
   ],
   "source": [
    "#TDTM1F_EMs\n",
    "for f in glob.glob('./HEPData-ins1790827-v2-csv/chargino+charginoacceptances(winoLSP,*).csv'):\n",
    "    dataPeriod = f.split(',')[1].split(')')[0]\n",
    "    with open(f,'r') as ff:\n",
    "        dataBlocks = ff.read().split('\\n\\n')\n",
    "    for data in dataBlocks:\n",
    "        if '#' in data:\n",
    "            skip=4\n",
    "        else:\n",
    "            skip =0\n",
    "        if not data.strip().replace('\\n',''):\n",
    "            continue\n",
    "        d = np.genfromtxt(StringIO(data),names=True,delimiter=',',comments='#',skip_header=skip)\n",
    "        d['Chargino_lifetime_ns'] = 6.582e-16/d['Chargino_lifetime_ns']\n",
    "        d.dtype.names = [name.replace('lifetime_ns','width_GeV') for name in d.dtype.names]\n",
    "        d[d.dtype.names[2]] = 2*d[d.dtype.names[2]] #Multiply chargino+chargino by 2 (as recommended by Brian)\n",
    "        nlayers = d.dtype.names[2].split('_')[-1]\n",
    "        if nlayers == '6': nlayers = '6p'\n",
    "        SR = 'SR_%s_nlay%s' %(dataPeriod,nlayers)\n",
    "        print(SR)\n",
    "        header = ','.join(d.dtype.names)\n",
    "        np.savetxt('TDTM1F_%s.csv' %SR,d,header=header,delimiter=',',fmt='%1.5e')            "
   ]
  },
  {
   "cell_type": "code",
   "execution_count": 3,
   "metadata": {},
   "outputs": [
    {
     "data": {
      "text/plain": [
       "('Chargino_width_GeV',\n",
       " 'Chargino_mass_GeV',\n",
       " 'Atimesepsilon_n_textlay_geq_6',\n",
       " '1_sd_',\n",
       " '1_sd__1')"
      ]
     },
     "execution_count": 3,
     "metadata": {},
     "output_type": "execute_result"
    }
   ],
   "source": [
    "d.dtype.names"
   ]
  },
  {
   "cell_type": "code",
   "execution_count": 4,
   "metadata": {},
   "outputs": [
    {
     "name": "stdout",
     "output_type": "stream",
     "text": [
      "SR_2017_nlay4\n",
      "SR_2017_nlay5\n",
      "SR_2017_nlay6p\n",
      "SR_2018A_nlay4\n",
      "SR_2018A_nlay5\n",
      "SR_2018A_nlay6p\n",
      "SR_2018B_nlay4\n",
      "SR_2018B_nlay5\n",
      "SR_2018B_nlay6p\n"
     ]
    }
   ],
   "source": [
    "#TDTM2F_EMs\n",
    "for f in glob.glob('./HEPData-ins1790827-v2-csv/chargino+neutralinoacceptances(winoLSP,*).csv'):\n",
    "    dataPeriod = f.split(',')[1].split(')')[0]\n",
    "    with open(f,'r') as ff:\n",
    "        dataBlocks = ff.read().split('\\n\\n')\n",
    "    for data in dataBlocks:\n",
    "        if '#' in data:\n",
    "            skip=4\n",
    "        else:\n",
    "            skip =0\n",
    "        if not data.strip().replace('\\n',''):\n",
    "            continue\n",
    "        d = np.genfromtxt(StringIO(data),names=True,delimiter=',',comments='#',skip_header=skip)\n",
    "        d['Chargino_lifetime_ns'] = 6.582e-16/d['Chargino_lifetime_ns']\n",
    "        d.dtype.names = [name.replace('lifetime_ns','width_GeV') for name in d.dtype.names]\n",
    "        nlayers = d.dtype.names[2].split('_')[-1]\n",
    "        if nlayers == '6': nlayers = '6p'\n",
    "        SR = 'SR_%s_nlay%s' %(dataPeriod,nlayers)\n",
    "        print(SR)\n",
    "        header = ','.join(d.dtype.names)\n",
    "        np.savetxt('TDTM2F_%s.csv' %SR,d,header=header,delimiter=',',fmt='%1.5e')            "
   ]
  },
  {
   "cell_type": "markdown",
   "metadata": {},
   "source": [
    "### Convert exclusion curves"
   ]
  },
  {
   "cell_type": "code",
   "execution_count": 5,
   "metadata": {},
   "outputs": [],
   "source": [
    "d = np.genfromtxt('./HEPData-ins1790827-v2-csv/Masslimitsvs.lifetime,winoLSP.csv',\n",
    "                     delimiter=',',comments='#',names=True,skip_footer=84,skip_header=4)"
   ]
  },
  {
   "cell_type": "code",
   "execution_count": 6,
   "metadata": {},
   "outputs": [],
   "source": [
    "d['Chargino_lifetime_ns'] = 6.582e-16/d['Chargino_lifetime_ns']\n",
    "d.dtype.names = [name.replace('lifetime_ns','width_GeV') for name in d.dtype.names]\n",
    "header = ','.join(d.dtype.names)\n",
    "np.savetxt('Wino_ExclusionObs.csv',d,header=header,delimiter=',',fmt='%1.5e')            "
   ]
  },
  {
   "cell_type": "code",
   "execution_count": null,
   "metadata": {},
   "outputs": [],
   "source": []
  }
 ],
 "metadata": {
  "kernelspec": {
   "display_name": "Python 3",
   "language": "python",
   "name": "python3"
  },
  "language_info": {
   "codemirror_mode": {
    "name": "ipython",
    "version": 3
   },
   "file_extension": ".py",
   "mimetype": "text/x-python",
   "name": "python",
   "nbconvert_exporter": "python",
   "pygments_lexer": "ipython3",
   "version": "3.8.6"
  }
 },
 "nbformat": 4,
 "nbformat_minor": 4
}
