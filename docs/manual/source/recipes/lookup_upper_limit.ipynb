{
 "cells": [
  {
   "cell_type": "markdown",
   "metadata": {},
   "source": [
    "# How To: Look up the upper limit of a particular result, for a particular set of masses"
   ]
  },
  {
   "cell_type": "code",
   "execution_count": 1,
   "metadata": {},
   "outputs": [],
   "source": [
    "# Set up the path to SModelS installation folder\n",
    "import sys; sys.path.append(\".\"); import smodels_paths"
   ]
  },
  {
   "cell_type": "code",
   "execution_count": 2,
   "metadata": {},
   "outputs": [],
   "source": [
    "# Import those parts of smodels that are needed for this exercise\n",
    "from smodels.tools.physicsUnits import GeV\n",
    "from smodels.experiment.databaseObj import Database"
   ]
  },
  {
   "cell_type": "code",
   "execution_count": 3,
   "metadata": {},
   "outputs": [],
   "source": [
    "## Load the official database\n",
    "db = Database( \"official\" )"
   ]
  },
  {
   "cell_type": "markdown",
   "metadata": {},
   "source": [
    "## Look up upper limit for an Upper Limit-type result:"
   ]
  },
  {
   "cell_type": "code",
   "execution_count": 4,
   "metadata": {},
   "outputs": [
    {
     "name": "stdout",
     "output_type": "stream",
     "text": [
      "selected result: CMS-PAS-SUS-13-016:(0):T1tttt(1)\n"
     ]
    }
   ],
   "source": [
    "# Select desired result:\n",
    "resultID = [\"CMS-PAS-SUS-13-016\"]\n",
    "txname = [\"T1tttt\"]\n",
    "expResult = db.getExpResults(analysisIDs=resultID,txnames=txname)[0]\n",
    "print ('selected result:',expResult)"
   ]
  },
  {
   "cell_type": "code",
   "execution_count": 5,
   "metadata": {},
   "outputs": [
    {
     "name": "stdout",
     "output_type": "stream",
     "text": [
      "UL for mass\n",
      " [[5.00E+02 [GeV], 1.50E+02 [GeV]], [5.00E+02 [GeV], 1.50E+02 [GeV]]]  is:  3.67E+02 [fb]\n"
     ]
    }
   ],
   "source": [
    "# Define the desired mass vector (must be consistent with the txname/simplified model):\n",
    "masses = [[500*GeV, 150*GeV],[500*GeV, 150*GeV]]\n",
    "print ('UL for mass\\n',masses,' is: ',expResult.getUpperLimitFor(mass=masses,txname=\"T1tttt\"))"
   ]
  },
  {
   "cell_type": "markdown",
   "metadata": {},
   "source": [
    "## Look up upper limit for an Efficiency Map-type result:"
   ]
  },
  {
   "cell_type": "code",
   "execution_count": 6,
   "metadata": {},
   "outputs": [
    {
     "name": "stdout",
     "output_type": "stream",
     "text": [
      "selected result: CMS-PAS-SUS-13-016: sr0(1):T1tttt(1)\n"
     ]
    }
   ],
   "source": [
    "# Select desired result:\n",
    "resultID = [\"CMS-PAS-SUS-13-016\"]\n",
    "txname = [\"T1tttt\"]\n",
    "expResult = db.getExpResults(analysisIDs=resultID,txnames=txname,dataTypes='efficiencyMap')[0]\n",
    "print ('selected result:',expResult)"
   ]
  },
  {
   "cell_type": "code",
   "execution_count": 7,
   "metadata": {},
   "outputs": [
    {
     "name": "stdout",
     "output_type": "stream",
     "text": [
      "UL for dataset sr0  is:  2.11E-01 [fb]\n"
     ]
    }
   ],
   "source": [
    "# For an efficiency map result one only needs to specify the desired signal region (dataset)\n",
    "datasetID = 'sr0'\n",
    "print ('UL for dataset',datasetID,' is: ',expResult.getUpperLimitFor(dataID=datasetID))"
   ]
  }
 ],
 "metadata": {
  "kernelspec": {
   "display_name": "Python 3",
   "language": "python",
   "name": "python3"
  },
  "language_info": {
   "codemirror_mode": {
    "name": "ipython",
    "version": 3
   },
   "file_extension": ".py",
   "mimetype": "text/x-python",
   "name": "python",
   "nbconvert_exporter": "python",
   "pygments_lexer": "ipython3",
   "version": "3.7.3"
  }
 },
 "nbformat": 4,
 "nbformat_minor": 1
}
