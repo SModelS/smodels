{
 "cells": [
  {
   "cell_type": "code",
   "execution_count": 1,
   "metadata": {},
   "outputs": [],
   "source": [
    "import sys\n",
    "sys.path.append('../')\n",
    "import networkx as nx\n",
    "import time\n",
    "from smodels.theory.exceptions import SModelSTheoryError as SModelSError\n",
    "from smodels.tools.smodelsLogging import logger\n",
    "import matplotlib.pyplot as plt\n",
    "from networkx.drawing.nx_agraph import graphviz_layout\n",
    "from smodels.theory.element import Element\n",
    "from smodels.theory.topology import TopologyDict\n",
    "from smodels.theory.crossSection import XSection,XSectionInfo,XSectionList\n",
    "from smodels.particlesLoader import BSMList\n",
    "from smodels.share.models.SMparticles import SMList\n",
    "from smodels.theory.model import Model\n",
    "from smodels.tools.physicsUnits import fb, GeV\n",
    "from smodels.theory.tree import Tree,ParticleNode\n",
    "from smodels.theory.decomposer import cascadeDecay, addOneStepDecays\n",
    "import itertools\n",
    "%load_ext line_profiler"
   ]
  },
  {
   "cell_type": "markdown",
   "metadata": {},
   "source": [
    "### Decomposer"
   ]
  },
  {
   "cell_type": "code",
   "execution_count": 2,
   "metadata": {},
   "outputs": [],
   "source": [
    "def decompose(model, sigmacut= 0*fb, doCompress=True, doInvisible=True,\n",
    "              minmassgap= 0*GeV):\n",
    "    \"\"\"\n",
    "    Perform decomposition using the information stored in model.\n",
    "    \n",
    "    :param sigmacut: minimum sigma*BR to be generated, by default sigmacut = 0.1 fb\n",
    "    :param doCompress: turn mass compression on/off\n",
    "    :param doInvisible: turn invisible compression on/off\n",
    "    :param minmassgap: maximum value (in GeV) for considering two R-odd particles\n",
    "                       degenerate (only revelant for doCompress=True )\n",
    "    :returns: list of topologies (TopologyList object)\n",
    "\n",
    "    \"\"\"\n",
    "    t1 = time.time()\n",
    "    \n",
    "    xSectionList = model.xsections    \n",
    "    pdgList = model.getValuesFor('pdg')\n",
    "\n",
    "    if doCompress and minmassgap/GeV < 0.:\n",
    "        logger.error(\"Asked for compression without specifying minmassgap. Please set minmassgap.\")        \n",
    "        raise SModelSError()\n",
    "\n",
    "    if isinstance(sigmacut,(float,int)):\n",
    "        sigmacut = float(sigmacut) * fb\n",
    "\n",
    "    xSectionList.removeLowerOrder()\n",
    "    # Order xsections by highest xsec value to improve performance\n",
    "    xSectionList.sort()\n",
    "\n",
    "    # Generate all primary nodes (e.g. PV > X+Y)\n",
    "    # and assign the nodeWeight as the maximum cross-section\n",
    "    productionTrees = []\n",
    "    for pid in xSectionList.getPIDpairs():\n",
    "        weight = xSectionList.getXsecsFor(pid)\n",
    "        if weight < sigmacut:\n",
    "            continue\n",
    "        pv = ParticleNode(model.getParticlesWith(label='PV')[0],0,nodeWeight=weight)\n",
    "        pv.xsection = xSectionList.getXsecsFor(pid)\n",
    "        primaryMothers = [ParticleNode(model.getParticlesWith(pdg=pdg)[0],i+1) for i,pdg in enumerate(pid)]\n",
    "        productionTrees.append(Tree({pv : primaryMothers}))\n",
    "\n",
    "    # Sort production trees\n",
    "    productionTrees = sorted(productionTrees, key = lambda t: t.getTreeWeight().getMaxXsec(), reverse=True)\n",
    "    \n",
    "    \n",
    "#     print('%i production trees' %len(productionTrees))\n",
    "\n",
    "    # For each production tree, produce all allowed cascade decays (above sigmacut):\n",
    "    allTrees = []\n",
    "    for tree in productionTrees:\n",
    "        allTrees += cascadeDecay(tree,sigmacut=sigmacut)\n",
    "\n",
    "#     print('%i decayed trees' %len(allTrees))\n",
    "\n",
    "    # Create elements for each tree and combine equal elements\n",
    "    smsTopDict = TopologyDict()\n",
    "\n",
    "    for tree in allTrees:\n",
    "        newElement = Element(tree)\n",
    "        newElement.weight = tree.getTreeWeight()\n",
    "        smsTopDict.addElement(newElement)                                                 \n",
    "\n",
    "    if doCompress or doInvisible:\n",
    "        smsTopDict.compressElements(doCompress, doInvisible, minmassgap)\n",
    "    smsTopDict._setElementIds()    \n",
    "#     print('total number of unique elements = %i' %len(smsTopDict.getElements()))\n",
    "#     print(\"decomposer done in %.2f s.\" % (time.time() -t1 ) )\n",
    "    \n",
    "\n",
    "    return smsTopDict"
   ]
  },
  {
   "cell_type": "markdown",
   "metadata": {},
   "source": [
    "### Load model"
   ]
  },
  {
   "cell_type": "code",
   "execution_count": 3,
   "metadata": {},
   "outputs": [],
   "source": [
    "slhafile = '../inputFiles/slha/lightEWinos.slha'\n",
    "# slhafile = '../inputFiles/slha/simplyGluino.slha'\n",
    "model = Model(BSMparticles=BSMList, SMparticles=SMList)\n",
    "model.updateParticles(inputFile=slhafile)\n"
   ]
  },
  {
   "cell_type": "markdown",
   "metadata": {},
   "source": [
    "### Check with large sigmacut"
   ]
  },
  {
   "cell_type": "code",
   "execution_count": 4,
   "metadata": {},
   "outputs": [
    {
     "name": "stdout",
     "output_type": "stream",
     "text": [
      "decomposer done in 0.82 s.\n",
      "103 unique elements\n",
      "103 unique elements (expected)\n"
     ]
    }
   ],
   "source": [
    "sigmacut = 10*fb\n",
    "t0 = time.time()\n",
    "topDict = decompose(model, sigmacut= sigmacut, doCompress=False, doInvisible=False)\n",
    "print(\"decomposer done in %.2f s.\" % (time.time() -t0 ) )\n",
    "nUnique = 103 # uncompressed\n",
    "print('%i unique elements' %(len(topDict.getElements())))\n",
    "print('%i unique elements (expected)' %nUnique)"
   ]
  },
  {
   "cell_type": "code",
   "execution_count": 5,
   "metadata": {},
   "outputs": [
    {
     "name": "stdout",
     "output_type": "stream",
     "text": [
      "110110101000 2 1.08E-01 [pb]\n",
      "111010100110101000 58 6.13E+00 [pb]\n",
      "11101010011011010000 1 3.19E-02 [pb]\n",
      "111010100110101101010000 7 4.91E-01 [pb]\n",
      "11101010011011011010100000 4 8.54E-02 [pb]\n",
      "11101101000110101101010000 4 8.11E-02 [pb]\n",
      "111010110101000110101101010000 27 1.24E+00 [pb]\n"
     ]
    }
   ],
   "source": [
    "for c in sorted(topDict.keys()):\n",
    "    total = 0.0*fb\n",
    "    for el in topDict[c]:\n",
    "        total += el.weight.getMaxXsec()\n",
    "    print(c,len(topDict[c]),total)"
   ]
  },
  {
   "cell_type": "markdown",
   "metadata": {},
   "source": [
    "### Check with small sigmacut"
   ]
  },
  {
   "cell_type": "code",
   "execution_count": 6,
   "metadata": {},
   "outputs": [
    {
     "name": "stdout",
     "output_type": "stream",
     "text": [
      "decomposer done in 54.74 s.\n",
      "5435 unique elements\n"
     ]
    }
   ],
   "source": [
    "sigmacut = 0.1*fb\n",
    "t0 = time.time()\n",
    "topDict = decompose(model, sigmacut= sigmacut, doCompress=False, doInvisible=False)\n",
    "print(\"decomposer done in %.2f s.\" % (time.time() -t0 ) )\n",
    "print('%i unique elements' %(len(topDict.getElements())))"
   ]
  },
  {
   "cell_type": "code",
   "execution_count": 12,
   "metadata": {},
   "outputs": [
    {
     "name": "stdout",
     "output_type": "stream",
     "text": [
      "110100 1 3.88E-03 [pb]\n",
      "1101101000 4 2.62E-03 [pb]\n",
      "110110101000 15 1.64E-01 [pb]\n",
      "11101001101000 10 3.38E-03 [pb]\n",
      "1101101101010000 25 1.29E-02 [pb]\n",
      "1110100110101000 49 4.29E-02 [pb]\n",
      "111010011011010000 2 1.00E-03 [pb]\n",
      "111010100110101000 90 6.35E+00 [pb]\n",
      "11101001101101010000 126 4.73E-02 [pb]\n",
      "11101010011011010000 16 7.80E-02 [pb]\n",
      "1110100110101101010000 13 1.40E-02 [pb]\n",
      "1110101001101011010000 17 3.05E-02 [pb]\n",
      "1110101001101101010000 295 1.66E-01 [pb]\n",
      "1110110100011011010000 10 1.50E-02 [pb]\n",
      "111010011011011010100000 8 3.64E-03 [pb]\n",
      "111010100110101101010000 132 1.08E+00 [pb]\n",
      "111011010001101011010000 14 1.12E-02 [pb]\n",
      "111011010001101101010000 11 1.05E-02 [pb]\n",
      "11101001101011011010100000 4 8.92E-04 [pb]\n",
      "11101010011011011010100000 113 4.04E-01 [pb]\n",
      "11101011010001101011010000 3 1.09E-03 [pb]\n",
      "11101011010001101101010000 6 2.85E-03 [pb]\n",
      "11101101000110101101010000 107 4.05E-01 [pb]\n",
      "11101101010001101101010000 411 1.57E-01 [pb]\n",
      "1110101001101011011010100000 144 2.68E-01 [pb]\n",
      "1110101101000110101101010000 102 1.54E-01 [pb]\n",
      "1110110100011011011010100000 104 1.54E-01 [pb]\n",
      "1110110101000110101101010000 87 1.51E-01 [pb]\n",
      "111010110100011011011010100000 78 5.17E-02 [pb]\n",
      "111010110101000110101101010000 504 2.82E+00 [pb]\n",
      "111011010001101011011010100000 104 9.43E-02 [pb]\n",
      "111011010100011011011010100000 62 4.85E-02 [pb]\n",
      "11101011010001101011011010100000 56 2.52E-02 [pb]\n",
      "11101011010100011011011010100000 747 2.09E+00 [pb]\n",
      "11101101010001101011011010100000 28 1.91E-02 [pb]\n",
      "1110101101010001101011011010100000 802 1.33E+00 [pb]\n",
      "1110110110101000011011011010100000 304 3.77E-01 [pb]\n",
      "111011011010100001101011011010100000 648 4.55E-01 [pb]\n",
      "11101011011010100001101011011010100000 183 1.06E-01 [pb]\n",
      "Equal? True\n"
     ]
    }
   ],
   "source": [
    "topSummary = []\n",
    "for c in sorted(topDict.keys()):\n",
    "    total = 0.0*fb\n",
    "    for el in topDict[c]:\n",
    "        total += el.weight.getMaxXsec()\n",
    "    print(c,len(topDict[c]),total)\n",
    "    topSummary.append([len(topDict[c]),round(total.asNumber(fb),3)])\n",
    "expectedSummary = [[1, 3.883], [2, 1.003], [3, 1.094], [4, 0.892], [4, 2.616], [6, 2.853], [8, 3.643], [10, 3.376], [10, 14.988], [11, 10.526], [13, 13.994], [14, 11.171], [15, 164.364], [16, 78.045], [17, 30.516], [25, 12.91], [28, 19.106], [49, 42.873], [56, 25.215], [62, 48.534], [78, 51.703], [87, 150.926], [90, 6350.441], [102, 154.363], [104, 94.307], [104, 153.527], [107, 404.754], [113, 403.824], [126, 47.333], [132, 1078.776], [144, 267.975], [183, 106.275], [295, 166.074], [304, 377.261], [411, 157.421], [504, 2817.347], [648, 455.245], [747, 2086.069], [802, 1330.765]]\n",
    "\n",
    "\n",
    "print('Equal?',sorted(topSummary) == sorted(expectedSummary))"
   ]
  },
  {
   "cell_type": "markdown",
   "metadata": {},
   "source": [
    "### Check with mas compression"
   ]
  },
  {
   "cell_type": "code",
   "execution_count": null,
   "metadata": {},
   "outputs": [],
   "source": []
  },
  {
   "cell_type": "code",
   "execution_count": null,
   "metadata": {},
   "outputs": [],
   "source": []
  },
  {
   "cell_type": "code",
   "execution_count": 8,
   "metadata": {},
   "outputs": [],
   "source": [
    "# %lprun -f addOneStepDecays decompose(model, sigmacut= sigmacut)"
   ]
  }
 ],
 "metadata": {
  "kernelspec": {
   "display_name": "Python 3 (ipykernel)",
   "language": "python",
   "name": "python3"
  },
  "language_info": {
   "codemirror_mode": {
    "name": "ipython",
    "version": 3
   },
   "file_extension": ".py",
   "mimetype": "text/x-python",
   "name": "python",
   "nbconvert_exporter": "python",
   "pygments_lexer": "ipython3",
   "version": "3.9.7"
  }
 },
 "nbformat": 4,
 "nbformat_minor": 2
}
