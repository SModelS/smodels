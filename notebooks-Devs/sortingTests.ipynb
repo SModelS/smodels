{
 "cells": [
  {
   "cell_type": "code",
   "execution_count": 1,
   "id": "d0c131a1",
   "metadata": {},
   "outputs": [],
   "source": [
    "import sys\n",
    "sys.path.append('../')\n",
    "import networkx as nx\n",
    "import matplotlib.pyplot as plt\n",
    "from networkx.drawing.nx_agraph import graphviz_layout\n",
    "from smodels.theory.element import Element\n",
    "from smodels.theory.tree import Tree\n",
    "from smodels.theory.particleNode import ParticleNode\n",
    "from smodels.particlesLoader import BSMList\n",
    "from smodels.share.models.SMparticles import SMList\n",
    "from smodels.theory.model import Model\n",
    "from smodels.theory.auxiliaryFunctions import index_bisect\n",
    "from collections import OrderedDict\n",
    "from smodels.tools.physicsUnits import fb, GeV\n",
    "import timeit\n",
    "%load_ext line_profiler"
   ]
  },
  {
   "cell_type": "code",
   "execution_count": 2,
   "id": "eb1b793d",
   "metadata": {},
   "outputs": [
    {
     "data": {
      "image/png": "[encoded data removed]",
      "text/plain": [
       "<Figure size 432x288 with 1 Axes>"
      ]
     },
     "metadata": {},
     "output_type": "display_data"
    },
    {
     "name": "stdout",
     "output_type": "stream",
     "text": [
      "[PV, st_1~, st_1, N2~, t-, N2, t+, e-, N1~, e+, N1, nu, nu]\n",
      "[(PV, st_1~), (PV, st_1), (st_1~, N2~), (st_1~, t-), (st_1, N2), (st_1, t+), (N2~, e-), (N2~, N1~), (N2~, e+), (N2, N1), (N2, nu), (N2, nu)]\n"
     ]
    }
   ],
   "source": [
    "slhafile=\"../inputFiles/slha/higgsinoStop.slha\"\n",
    "model = Model(BSMList,SMList)\n",
    "model.updateParticles(inputFile=slhafile,promptWidth = 1e-12*GeV)\n",
    "elA  = Element(\"(PV > st_1~(1),st_1(2)), (st_1~(1) > N2~(3),t-), (st_1(2) > N2(4),t+), (N2~(3) > e-,N1~,e+), (N2(4) > N1,nu,nu)\"\n",
    "              ,model=model,sort=False)\n",
    "elA.drawTree()\n",
    "print(elA.tree.nodes)\n",
    "print(elA.tree.edges)"
   ]
  },
  {
   "cell_type": "code",
   "execution_count": 3,
   "id": "b2be4842",
   "metadata": {},
   "outputs": [],
   "source": [
    "def sortTree(self, n=None):\n",
    "    \"\"\"\n",
    "    Sort subtree of self generated by nodeIndex n.\n",
    "    If n is None, sort the tree.\n",
    "    \n",
    "    :param n: Node index\n",
    "    \"\"\"\n",
    "    \n",
    "\n",
    "    if n is None:\n",
    "        n = self.root.node\n",
    "        \n",
    "#     print('\\nSorting',self.nodesMapping[n])    \n",
    "    daughters = self.successors[n]\n",
    "    if daughters:\n",
    "        for d in daughters:\n",
    "            sortTree(self,d)\n",
    "        sorted_daughters = sortTreeList(self,daughters)\n",
    "        self.successors[n] = sorted_daughters\n",
    "        # Reorder daughters appearence\n",
    "        newSuccessors = OrderedDict({d : self.successors.pop(d) \n",
    "                                        for d in sorted_daughters})\n",
    "        self.successors.update(newSuccessors)\n",
    "    \n",
    "#     else:\n",
    "#         print('nothing to be done')\n",
    "    \n",
    "def sortTreeList(self,subtreeList):\n",
    "    \"\"\"\n",
    "    Sorts a list of subtrees of self generated by the nodes\n",
    "    in subtreeList.\n",
    "    \n",
    "    :param subtreeList: List of node indices\n",
    "    \n",
    "    :return: Sorted list of node indices.\n",
    "    \"\"\"\n",
    "\n",
    "#     print('sorting treeList =',[self.nodesMapping[n] for n in subtreeList])\n",
    "    \n",
    "    if len(subtreeList) == 1 or len(subtreeList) == 0:\n",
    "        return subtreeList\n",
    "    \n",
    "    # First group trees by canonical name:\n",
    "    nameDict = {}\n",
    "    for nodeIndex in subtreeList:\n",
    "        cName = self.nodesMapping[nodeIndex].canonName\n",
    "        if cName not in nameDict:\n",
    "            nameDict[cName] = [nodeIndex]\n",
    "        else:\n",
    "            nameDict[cName].append(nodeIndex)\n",
    "\n",
    "    # Now sort trees with common canonical names:\n",
    "    sorted_trees = []\n",
    "    for cName in sorted(nameDict.keys()):\n",
    "        # Within equal canonincal names sort daughters by the generated subtrees\n",
    "        sorted_trees += sortCommonTreeList(self,nameDict[cName])\n",
    "    \n",
    "#     print('returning sorted =',[self.nodesMapping[n] for n in sorted_trees])\n",
    "    return sorted_trees\n",
    "    \n",
    "def sortCommonTreeList(self,subtreeList):\n",
    "    \"\"\"\n",
    "    Sorts a list of subtrees of self generated by the nodes\n",
    "    in subtreeList. All the subtrees should have a common topology\n",
    "    (same canonical name).\n",
    "    \n",
    "    :param subtreeList: List of node indices\n",
    "    \n",
    "    :return: Sorted list of node indices.\n",
    "    \"\"\"\n",
    "\n",
    "#     print('sorting common treeList =',[self.nodesMapping[n] for n in subtreeList])\n",
    "    if len(subtreeList) == 1 or len(subtreeList) == 0:\n",
    "        return subtreeList\n",
    "    \n",
    "    s = subtreeList[:]\n",
    "    pivot = s[0]\n",
    "    i = 0\n",
    "    for j in range(len(s)-1):\n",
    "        if compareSubTrees(self,s[j+1],pivot) < 0:\n",
    "            s[j+1],s[i+1] = s[i+1],s[j+1]\n",
    "            i += 1\n",
    "    s[0],s[i] = s[i],s[0]\n",
    "    first_part = sortCommonTreeList(self,s[:i])\n",
    "    second_part = sortCommonTreeList(self,s[i+1:])\n",
    "    first_part.append(s[i])\n",
    "    \n",
    "    sortedList = first_part + second_part\n",
    "#     print('   returning:',[self.nodesMapping[n] for n in sortedList])\n",
    "    return sortedList\n",
    "\n",
    "def compareSubTrees(self,n1,n2):\n",
    "    \n",
    "\n",
    "    root1 = self.nodesMapping[n1]\n",
    "    root2 = self.nodesMapping[n2]\n",
    "    cmp = root1.compareTo(root2)\n",
    "    if cmp != 0:\n",
    "        return cmp\n",
    "\n",
    "    # For inclusive nodes always return True (once nodes are equal)\n",
    "    if root1.isInclusive or root1.isInclusive:\n",
    "        return 0\n",
    "\n",
    "    \n",
    "    daughters1 = self.successors[n1]\n",
    "    daughters2 = self.successors[n2]\n",
    "    # If nodes are leaves, return 0\n",
    "    if len(daughters1) == len(daughters2) == 0:\n",
    "        return 0\n",
    "    \n",
    "#     # Otherwise sort subTrees:\n",
    "#     print('Sorting daughters1 from',self.nodesMapping[n1])\n",
    "#     print('Sorting daughters2 from',self.nodesMapping[n2])\n",
    "\n",
    "#     sorted_daughters1 = sortTreeList(self,daughters1)\n",
    "#     sorted_daughters2 = sortTreeList(self,daughters2)\n",
    "    sorted_daughters1 = daughters1\n",
    "    sorted_daughters2 = daughters2\n",
    "    # Check if the daughters from n2 match the ones from n1:\n",
    "    for i1,d1 in enumerate(sorted_daughters1):\n",
    "        d2 = sorted_daughters2[i1]\n",
    "        cmp = compareSubTrees(self,d1,d2)\n",
    "        if cmp != 0:\n",
    "            return cmp\n",
    "    return 0"
   ]
  },
  {
   "cell_type": "code",
   "execution_count": 4,
   "id": "ebdcf68d",
   "metadata": {},
   "outputs": [],
   "source": [
    "tree = elA.tree.copyTree()"
   ]
  },
  {
   "cell_type": "code",
   "execution_count": 5,
   "id": "306036c9",
   "metadata": {},
   "outputs": [
    {
     "data": {
      "text/plain": [
       "0.36561041199820465"
      ]
     },
     "execution_count": 5,
     "metadata": {},
     "output_type": "execute_result"
    }
   ],
   "source": [
    "timeit.timeit('sortTree(tree)',globals={'sortTree' : sortTree, 'tree' : tree},number=10000)"
   ]
  },
  {
   "cell_type": "code",
   "execution_count": 6,
   "id": "e7221c7d",
   "metadata": {},
   "outputs": [],
   "source": [
    "# sortTree(tree)\n",
    "# tree.draw()"
   ]
  },
  {
   "cell_type": "code",
   "execution_count": 7,
   "id": "a53848f9",
   "metadata": {},
   "outputs": [
    {
     "data": {
      "text/plain": [
       "3.996047068001644"
      ]
     },
     "execution_count": 7,
     "metadata": {},
     "output_type": "execute_result"
    }
   ],
   "source": [
    "timeit.timeit('tree.sort()',globals={'tree' : tree}, number=10000)"
   ]
  },
  {
   "cell_type": "code",
   "execution_count": 8,
   "id": "5c2ff173",
   "metadata": {},
   "outputs": [],
   "source": [
    "# tree = elA.tree.copyTree()\n",
    "# %lprun -f ParticleNode.compareTo -f compareSubTrees sortTree(tree)"
   ]
  },
  {
   "cell_type": "code",
   "execution_count": 9,
   "id": "35c200e3",
   "metadata": {},
   "outputs": [],
   "source": [
    "# tree = elA.tree.copyTree()\n",
    "# %lprun -f ParticleNode.compareTo -f Tree.compareTreeTo tree.sort()"
   ]
  },
  {
   "cell_type": "code",
   "execution_count": null,
   "id": "4bda928c",
   "metadata": {},
   "outputs": [],
   "source": []
  }
 ],
 "metadata": {
  "kernelspec": {
   "display_name": "Python 3",
   "language": "python",
   "name": "python3"
  },
  "language_info": {
   "codemirror_mode": {
    "name": "ipython",
    "version": 3
   },
   "file_extension": ".py",
   "mimetype": "text/x-python",
   "name": "python",
   "nbconvert_exporter": "python",
   "pygments_lexer": "ipython3",
   "version": "3.9.7"
  }
 },
 "nbformat": 4,
 "nbformat_minor": 5
}
