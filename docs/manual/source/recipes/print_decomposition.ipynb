{
 "cells": [
  {
   "cell_type": "markdown",
   "metadata": {},
   "source": [
    "# How To: Print out the theoretical decomposition"
   ]
  },
  {
   "cell_type": "code",
   "execution_count": 1,
   "metadata": {},
   "outputs": [],
   "source": [
    "# Set up the path to SModelS installation folder\n",
    "import sys; sys.path.append(\".\"); import smodels_paths"
   ]
  },
  {
   "cell_type": "code",
   "execution_count": 2,
   "metadata": {},
   "outputs": [],
   "source": [
    "# Import those parts of smodels that are needed for this exercise\n",
    "# (We will assume the input is a SLHA file. For LHE files, use the lheDecomposer instead)\n",
    "from smodels.share.models.mssm import BSMList\n",
    "from smodels.share.models.SMparticles import SMList\n",
    "from smodels.theory.model import Model\n",
    "from smodels.theory import decomposer\n",
    "from smodels.installation import installDirectory\n",
    "from smodels.tools.physicsUnits import fb, GeV"
   ]
  },
  {
   "cell_type": "code",
   "execution_count": 3,
   "metadata": {},
   "outputs": [],
   "source": [
    "# Define the SLHA file name\n",
    "filename=\"inputFiles/slha/gluino_squarks.slha\"\n",
    "model = Model(BSMparticles = BSMList, SMparticles = SMList)\n",
    "model.updateParticles(inputFile=filename)"
   ]
  },
  {
   "cell_type": "code",
   "execution_count": 4,
   "metadata": {},
   "outputs": [],
   "source": [
    "# Perform the decomposition:\n",
    "listOfTopologies = decomposer.decompose(model, sigmacut = 0.5 * fb, \n",
    "                                            doCompress=True, doInvisible=True,minmassgap = 5* GeV)"
   ]
  },
  {
   "cell_type": "code",
   "execution_count": 5,
   "metadata": {},
   "outputs": [
    {
     "name": "stdout",
     "output_type": "stream",
     "text": [
      "number of vertices: [0, 0], number of vertex particles: [[], []], number of elements: 1\n",
      "number of vertices: [0, 1], number of vertex particles: [[], [1]], number of elements: 1\n",
      "number of vertices: [0, 1], number of vertex particles: [[], [2]], number of elements: 2\n",
      "number of vertices: [1, 1], number of vertex particles: [[1], [1]], number of elements: 8\n",
      "number of vertices: [1, 1], number of vertex particles: [[1], [2]], number of elements: 10\n",
      "number of vertices: [1, 1], number of vertex particles: [[2], [2]], number of elements: 3\n",
      "number of vertices: [0, 2], number of vertex particles: [[], [2, 1]], number of elements: 9\n",
      "number of vertices: [1, 2], number of vertex particles: [[1], [1, 1]], number of elements: 28\n",
      "number of vertices: [1, 2], number of vertex particles: [[1], [1, 2]], number of elements: 4\n",
      "number of vertices: [1, 2], number of vertex particles: [[1], [2, 1]], number of elements: 50\n",
      "number of vertices: [1, 2], number of vertex particles: [[2], [1, 1]], number of elements: 14\n",
      "number of vertices: [1, 2], number of vertex particles: [[2], [1, 2]], number of elements: 4\n",
      "number of vertices: [1, 2], number of vertex particles: [[2], [2, 1]], number of elements: 20\n",
      "number of vertices: [2, 2], number of vertex particles: [[1, 1], [1, 1]], number of elements: 31\n",
      "number of vertices: [2, 2], number of vertex particles: [[1, 1], [1, 2]], number of elements: 8\n",
      "number of vertices: [2, 2], number of vertex particles: [[1, 1], [2, 1]], number of elements: 87\n",
      "number of vertices: [2, 2], number of vertex particles: [[1, 2], [2, 1]], number of elements: 42\n",
      "number of vertices: [2, 2], number of vertex particles: [[2, 1], [2, 1]], number of elements: 72\n",
      "number of vertices: [0, 3], number of vertex particles: [[], [1, 2, 1]], number of elements: 6\n",
      "number of vertices: [1, 3], number of vertex particles: [[1], [1, 2, 1]], number of elements: 37\n",
      "number of vertices: [1, 3], number of vertex particles: [[2], [1, 2, 1]], number of elements: 42\n",
      "number of vertices: [2, 3], number of vertex particles: [[1, 1], [1, 2, 1]], number of elements: 82\n",
      "number of vertices: [2, 3], number of vertex particles: [[2, 1], [1, 2, 1]], number of elements: 276\n"
     ]
    }
   ],
   "source": [
    "# Print a summary of all the topologies generated:\n",
    "for top in listOfTopologies:\n",
    "    print (top.describe())"
   ]
  },
  {
   "cell_type": "code",
   "execution_count": 6,
   "metadata": {},
   "outputs": [
    {
     "name": "stdout",
     "output_type": "stream",
     "text": [
      "Number of vertices =  [1, 1]\n",
      "Number of final states =  [[1], [1]]\n",
      "Number of elements =  8\n"
     ]
    }
   ],
   "source": [
    "# To print specific information about othe i-th topology:\n",
    "i = 3\n",
    "top = listOfTopologies[i]\n",
    "print (\"Number of vertices = \",top.vertnumb)\n",
    "print (\"Number of final states = \",top.vertparts)\n",
    "print (\"Number of elements = \",len(top.elementList))"
   ]
  },
  {
   "cell_type": "code",
   "execution_count": 7,
   "metadata": {},
   "outputs": [
    {
     "name": "stdout",
     "output_type": "stream",
     "text": [
      "Element 0 : [[[higgs]], [[higgs]]]\n",
      "masses= [[2.69E+02 [GeV], 1.29E+02 [GeV]], [2.69E+02 [GeV], 1.29E+02 [GeV]]]\n",
      "weight= ['8.00E+00 [TeV]:5.63E-04 [pb] (1000023, 1000023)', '1.30E+01 [TeV]:1.85E-03 [pb] (1000023, 1000023)'] \n",
      "\n",
      "Element 1 : [[[higgs]], [[W-]]]\n",
      "masses= [[2.69E+02 [GeV], 1.29E+02 [GeV]], [2.69E+02 [GeV], 1.29E+02 [GeV]]]\n",
      "weight= ['8.00E+00 [TeV]:2.74E-02 [pb] (-1000024, 1000023)', '1.30E+01 [TeV]:7.11E-02 [pb] (-1000024, 1000023)'] \n",
      "\n",
      "Element 2 : [[[higgs]], [[W+]]]\n",
      "masses= [[2.69E+02 [GeV], 1.29E+02 [GeV]], [2.69E+02 [GeV], 1.29E+02 [GeV]]]\n",
      "weight= ['8.00E+00 [TeV]:6.84E-02 [pb] (1000023, 1000024)', '1.30E+01 [TeV]:1.36E-01 [pb] (1000023, 1000024)'] \n",
      "\n",
      "Element 3 : [[[Z]], [[W-]]]\n",
      "masses= [[2.69E+02 [GeV], 1.29E+02 [GeV]], [2.69E+02 [GeV], 1.29E+02 [GeV]]]\n",
      "weight= ['8.00E+00 [TeV]:5.29E-03 [pb] (-1000024, 1000023)', '1.30E+01 [TeV]:1.37E-02 [pb] (-1000024, 1000023)'] \n",
      "\n",
      "Element 4 : [[[Z]], [[W+]]]\n",
      "masses= [[2.69E+02 [GeV], 1.29E+02 [GeV]], [2.69E+02 [GeV], 1.29E+02 [GeV]]]\n",
      "weight= ['8.00E+00 [TeV]:1.32E-02 [pb] (1000023, 1000024)', '1.30E+01 [TeV]:2.62E-02 [pb] (1000023, 1000024)'] \n",
      "\n",
      "Element 5 : [[[W-]], [[W+]]]\n",
      "masses= [[2.69E+02 [GeV], 1.29E+02 [GeV]], [2.69E+02 [GeV], 1.29E+02 [GeV]]]\n",
      "weight= ['8.00E+00 [TeV]:5.96E-02 [pb] (-1000024, 1000024)', '1.30E+01 [TeV]:1.45E-01 [pb] (-1000024, 1000024)'] \n",
      "\n",
      "Element 6 : [[[q]], [[q]]]\n",
      "masses= [[9.91E+02 [GeV], 1.29E+02 [GeV]], [9.91E+02 [GeV], 1.29E+02 [GeV]]]\n",
      "weight= ['8.00E+00 [TeV]:1.36E-03 [pb] (None, None)', '1.30E+01 [TeV]:7.31E-03 [pb] (None, None)'] \n",
      "\n",
      "Element 7 : [[[q]], [[q]]]\n",
      "masses= [[9.91E+02 [GeV], 1.29E+02 [GeV]], [9.92E+02 [GeV], 1.29E+02 [GeV]]]\n",
      "weight= ['8.00E+00 [TeV]:4.15E-04 [pb] (2000001, 2000002)', '1.30E+01 [TeV]:2.27E-03 [pb] (2000001, 2000002)'] \n",
      "\n"
     ]
    }
   ],
   "source": [
    "# We can also print information for each element in the topology:\n",
    "for iel,element in enumerate(top.elementList):\n",
    "    print ('Element',iel,':',element.evenParticles)\n",
    "    print ('masses=',element.mass)\n",
    "    print ('weight=',element.weight,'\\n')"
   ]
  },
  {
   "cell_type": "code",
   "execution_count": null,
   "metadata": {},
   "outputs": [],
   "source": []
  }
 ],
 "metadata": {
  "kernelspec": {
   "display_name": "Python 3",
   "language": "python",
   "name": "python3"
  },
  "language_info": {
   "codemirror_mode": {
    "name": "ipython",
    "version": 3
   },
   "file_extension": ".py",
   "mimetype": "text/x-python",
   "name": "python",
   "nbconvert_exporter": "python",
   "pygments_lexer": "ipython3",
   "version": "3.7.3"
  }
 },
 "nbformat": 4,
 "nbformat_minor": 1
}
