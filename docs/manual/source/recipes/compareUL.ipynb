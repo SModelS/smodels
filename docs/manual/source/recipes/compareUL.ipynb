{
 "cells": [
  {
   "cell_type": "markdown",
   "metadata": {},
   "source": [
    "# How To: Compare theory predictions with experimental limits"
   ]
  },
  {
   "cell_type": "code",
   "execution_count": 6,
   "metadata": {},
   "outputs": [],
   "source": [
    "# Set up the path to SModelS installation folder\n",
    "import sys; sys.path.append(\".\"); import smodels_paths"
   ]
  },
  {
   "cell_type": "code",
   "execution_count": 7,
   "metadata": {},
   "outputs": [],
   "source": [
    "# Import those parts of smodels that are needed for this exercise\n",
    "# (We will assume the input is a SLHA file. For LHE files, use the lheDecomposer instead)\n",
    "from smodels.share.models.mssm import BSMList\n",
    "from smodels.share.models.SMparticles import SMList\n",
    "from smodels.base.model import Model\n",
    "from smodels.decomposition import decomposer\n",
    "from smodels.installation import installDirectory\n",
    "from smodels.base.physicsUnits import fb, GeV\n",
    "from smodels.matching.theoryPrediction import theoryPredictionsFor\n",
    "from smodels.experiment.databaseObj import Database"
   ]
  },
  {
   "cell_type": "code",
   "execution_count": 8,
   "metadata": {},
   "outputs": [],
   "source": [
    "# Define the SLHA input file name\n",
    "filename=\"inputFiles/slha/gluino_squarks.slha\" \n",
    "model = Model(BSMparticles = BSMList, SMparticles = SMList)\n",
    "model.updateParticles(inputFile=filename)"
   ]
  },
  {
   "cell_type": "code",
   "execution_count": 9,
   "metadata": {},
   "outputs": [],
   "source": [
    "# Load the database, do the decomposition and compute theory predictions:\n",
    "# (Look at the theory predictions HowTo to learn how to compute theory predictions)\n",
    "database = Database(\"unittest\")\n",
    "topList = decomposer.decompose(model, sigmacut = 10*fb, massCompress=True, invisibleCompress=True,minmassgap = 5* GeV)\n",
    "allThPredictions = theoryPredictionsFor(database, topList)"
   ]
  },
  {
   "cell_type": "code",
   "execution_count": 10,
   "metadata": {},
   "outputs": [
    {
     "name": "stdout",
     "output_type": "stream",
     "text": [
      "\n",
      "Experimental Result: ATLAS-SUSY-2013-02 (upperLimit-type)\n",
      "Theory prediction xsec =  5.50E-03 [pb]\n",
      "Upper limit =  1.72E+01 [fb]\n",
      "Expected Upper limit =  None\n",
      "\n",
      "Experimental Result: CMS-SUS-16-039 (upperLimit-type)\n",
      "Theory prediction xsec =  2.07E-01 [pb]\n",
      "Upper limit =  2.12E+03 [fb]\n",
      "Expected Upper limit =  None\n",
      "\n",
      "Experimental Result: CMS-SUS-16-039 (upperLimit-type)\n",
      "Theory prediction xsec =  3.99E-02 [pb]\n",
      "Upper limit =  4.68E+02 [fb]\n",
      "Expected Upper limit =  None\n",
      "\n",
      "Experimental Result: ATLAS-SUSY-2013-12 (upperLimit-type)\n",
      "Theory prediction xsec =  1.85E-02 [pb]\n",
      "Upper limit =  4.81E+02 [fb]\n",
      "Expected Upper limit =  None\n"
     ]
    }
   ],
   "source": [
    "# Print the value of each theory prediction for each experimental\n",
    "# result and the corresponding upper limit (see the obtain experimental upper limits HowTo to learn how\n",
    "# to compute the upper limits).\n",
    "# lso print the expected upper limit, if available\n",
    "for theoryPred in allThPredictions:\n",
    "    expID = theoryPred.expResult.globalInfo.id\n",
    "    dataType = theoryPred.dataType()\n",
    "    dataId = theoryPred.dataId()\n",
    "    print ( \"\\nExperimental Result: %s (%s-type)\" %(expID,dataType) ) #Result ID and type \n",
    "    print ( \"Theory prediction xsec = \",theoryPred.xsection )#Signal xsection*efficiency*BR\n",
    "    print ( \"Upper limit = \",theoryPred.getUpperLimit() )\n",
    "    print ( \"Expected Upper limit = \",theoryPred.getUpperLimit(expected= True) )"
   ]
  },
  {
   "cell_type": "code",
   "execution_count": null,
   "metadata": {},
   "outputs": [],
   "source": []
  }
 ],
 "metadata": {
  "kernelspec": {
   "display_name": "Python 3.10.6 64-bit",
   "language": "python",
   "name": "python3"
  },
  "language_info": {
   "codemirror_mode": {
    "name": "ipython",
    "version": 3
   },
   "file_extension": ".py",
   "mimetype": "text/x-python",
   "name": "python",
   "nbconvert_exporter": "python",
   "pygments_lexer": "ipython3",
   "version": "3.10.6"
  },
  "vscode": {
   "interpreter": {
    "hash": "e7370f93d1d0cde622a1f8e1c04877d8463912d04d973331ad4851f04de6915a"
   }
  }
 },
 "nbformat": 4,
 "nbformat_minor": 1
}
