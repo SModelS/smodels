{
 "cells": [
  {
   "cell_type": "code",
   "execution_count": 1,
   "metadata": {},
   "outputs": [],
   "source": [
    "import sys\n",
    "sys.path.append('../')\n",
    "import matplotlib.pyplot as plt\n",
    "from smodels.decomposition.theorySMS import TheorySMS\n",
    "from smodels.experiment.expSMS import ExpSMS\n",
    "from smodels.share.models.mssm import BSMList\n",
    "from smodels.share.models.SMparticles import SMList\n",
    "from smodels.experiment.defaultFinalStates import finalStates\n",
    "from smodels.base.model import Model\n",
    "from collections import OrderedDict\n",
    "from smodels.base.physicsUnits import fb, GeV\n",
    "from itertools import product\n",
    "from smodels.experiment.databaseObj import Database\n",
    "from smodels.experiment.expResultObj import ExpResult\n",
    "import copy\n",
    "import re\n",
    "from smodels.base.smodelsLogging import logger\n",
    "import plotly.graph_objects as go\n",
    "import networkx as nx\n",
    "import numpy as np\n",
    "logger.setLevel('ERROR')"
   ]
  },
  {
   "cell_type": "code",
   "execution_count": 2,
   "metadata": {},
   "outputs": [],
   "source": [
    "db = Database('official')"
   ]
  },
  {
   "cell_type": "code",
   "execution_count": 3,
   "metadata": {},
   "outputs": [
    {
     "name": "stdout",
     "output_type": "stream",
     "text": [
      "206\n"
     ]
    }
   ],
   "source": [
    "print(len(db.expSMSMap))"
   ]
  },
  {
   "cell_type": "code",
   "execution_count": 4,
   "metadata": {},
   "outputs": [],
   "source": [
    "smsDict = db.expSMSMap.smsDict"
   ]
  },
  {
   "cell_type": "code",
   "execution_count": 7,
   "metadata": {},
   "outputs": [],
   "source": [
    "cNameDict = {}\n",
    "for isms, sms in smsDict.items():\n",
    "    cName = sms.canonName\n",
    "    if cName in cNameDict:\n",
    "        cNameDict[cName].append(isms)\n",
    "    else:\n",
    "        cNameDict[cName] = [isms]\n",
    "\n"
   ]
  },
  {
   "cell_type": "code",
   "execution_count": 15,
   "metadata": {},
   "outputs": [
    {
     "name": "stdout",
     "output_type": "stream",
     "text": [
      "11101001101000 17\n",
      "111010100110101000 25\n",
      "* 8\n",
      "11101011010001101011010000 23\n",
      "111010110101000110101101010000 6\n",
      "1110110100011011010000 88\n",
      "11101101010001101101010000 16\n",
      "111010011011010000 2\n",
      "1110101001101101010000 1\n",
      "1110100110101000 4\n",
      "1110101010011010101000 8\n",
      "11101010101001101010101000 1\n",
      "110100 5\n",
      "1101101000 1\n",
      "110110101000 1\n"
     ]
    }
   ],
   "source": [
    "for cName,smsList in cNameDict.items():\n",
    "    print(cName,len(smsList))\n",
    "    continue\n",
    "    if str(cName) == '*':\n",
    "        print('\\n\\n',cName)\n",
    "        for isms in smsList:\n",
    "            print(smsDict[isms])\n",
    "    if any('HSCP' in str(smsDict[isms]) for isms in smsList):\n",
    "        print('\\n\\n',cName, 'has HSCP')\n",
    "        for isms in smsList:\n",
    "            if 'HSCP' in str(smsDict[isms]):\n",
    "                print(smsDict[isms])"
   ]
  },
  {
   "cell_type": "code",
   "execution_count": null,
   "metadata": {},
   "outputs": [],
   "source": [
    "cName = 111010100110101000\n",
    "for c in cNameDict:\n",
    "    if c == cName:\n",
    "        print(c,'=',cName)"
   ]
  },
  {
   "cell_type": "code",
   "execution_count": null,
   "metadata": {},
   "outputs": [],
   "source": []
  }
 ],
 "metadata": {
  "kernelspec": {
   "display_name": "Python 3.10.4 64-bit",
   "language": "python",
   "name": "python3"
  },
  "language_info": {
   "codemirror_mode": {
    "name": "ipython",
    "version": 3
   },
   "file_extension": ".py",
   "mimetype": "text/x-python",
   "name": "python",
   "nbconvert_exporter": "python",
   "pygments_lexer": "ipython3",
   "version": "3.10.4"
  },
  "orig_nbformat": 4,
  "vscode": {
   "interpreter": {
    "hash": "e7370f93d1d0cde622a1f8e1c04877d8463912d04d973331ad4851f04de6915a"
   }
  }
 },
 "nbformat": 4,
 "nbformat_minor": 2
}
