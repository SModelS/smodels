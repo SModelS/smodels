{
 "cells": [
  {
   "cell_type": "code",
   "execution_count": 1,
   "metadata": {},
   "outputs": [],
   "source": [
    "import sys,os\n",
    "sys.path.append(os.path.expanduser('~/smodels'))\n",
    "from smodels.tools import runtime\n",
    "# Define your model (list of BSM particles)\n",
    "runtime.modelFile = 'smodels.share.models.mssm'\n",
    "# runtime.modelFile = 'mssmQNumbers.slha'\n",
    "import numpy as np\n",
    "from smodels.theory import decomposer\n",
    "from smodels.tools.physicsUnits import fb, GeV, TeV\n",
    "from smodels.theory.theoryPrediction import theoryPredictionsFor\n",
    "from smodels.experiment.databaseObj import Database\n",
    "from smodels.tools.theoryPredictionsCombiner import TheoryPredictionsCombiner\n",
    "from smodels.tools.smodelsLogging import setLogLevel\n",
    "from smodels.particlesLoader import BSMList\n",
    "from smodels.share.models.SMparticles import SMList\n",
    "from smodels.theory.model import Model\n",
    "from smodels.theory.branch import Branch\n",
    "from smodels.tools.coverage import Uncovered,UncoveredGroup,GeneralElement\n",
    "from smodels.theory.auxiliaryFunctions import index_bisect\n",
    "%load_ext line_profiler\n",
    "setLogLevel(\"error\")\n",
    "\n",
    "# Set the path to the database\n",
    "database = Database(os.path.expanduser(\"~/smodels/test/database\"))"
   ]
  },
  {
   "cell_type": "markdown",
   "metadata": {},
   "source": [
    "### Load model"
   ]
  },
  {
   "cell_type": "code",
   "execution_count": 2,
   "metadata": {},
   "outputs": [],
   "source": [
    "slhafile = '../inputFiles/slha/lightEWinos.slha'\n",
    "model = Model(BSMparticles=BSMList, SMparticles=SMList)\n",
    "model.updateParticles(inputFile=slhafile)\n"
   ]
  },
  {
   "cell_type": "markdown",
   "metadata": {},
   "source": [
    "### Decompose"
   ]
  },
  {
   "cell_type": "code",
   "execution_count": 3,
   "metadata": {},
   "outputs": [],
   "source": [
    "# Set main options for decomposition\n",
    "sigmacut = 1*fb\n",
    "mingap = 5.*GeV\n",
    "\n",
    "# Decompose model\n",
    "topDict = decomposer.decompose(model, sigmacut,\n",
    "                               doCompress=True, doInvisible=True,\n",
    "                               minmassgap=mingap)"
   ]
  },
  {
   "cell_type": "code",
   "execution_count": 4,
   "metadata": {},
   "outputs": [
    {
     "name": "stdout",
     "output_type": "stream",
     "text": [
      "917\n",
      "['8.00E+00 [TeV]:4.75E+00 [pb] (None, None)', '1.30E+01 [TeV]:1.40E+01 [pb] (None, None)']\n"
     ]
    }
   ],
   "source": [
    "print(len(topDict.getElements()))\n",
    "print(topDict.getTotalWeight())"
   ]
  },
  {
   "cell_type": "markdown",
   "metadata": {},
   "source": [
    "### Load the experimental results to be used."
   ]
  },
  {
   "cell_type": "code",
   "execution_count": 5,
   "metadata": {},
   "outputs": [],
   "source": [
    "listOfExpRes = database.getExpResults()"
   ]
  },
  {
   "cell_type": "markdown",
   "metadata": {},
   "source": [
    "### Compute the theory predictions"
   ]
  },
  {
   "cell_type": "code",
   "execution_count": 6,
   "metadata": {},
   "outputs": [
    {
     "name": "stdout",
     "output_type": "stream",
     "text": [
      "\n",
      " Theory Predictions and Constraints:\n",
      "\n",
      " ATLAS-CONF-2013-037 \n",
      "r = 1.142E-01\n",
      "\n",
      " ATLAS-SUSY-2013-02 \n",
      "r = 6.560E-05\n",
      "\n",
      " ATLAS-SUSY-2013-12 \n",
      "r = 6.460E-01\n",
      "\n",
      " CMS-SUS-13-012 \n",
      "r = 5.050E-03\n"
     ]
    }
   ],
   "source": [
    "print(\"\\n Theory Predictions and Constraints:\")\n",
    "rmax = 0.\n",
    "bestResult = None\n",
    "allPredictions = []\n",
    "for expResult in listOfExpRes:\n",
    "    predictions = theoryPredictionsFor(expResult, topDict, combinedResults=False, marginalize=False)\n",
    "    if not predictions:\n",
    "        continue  # Skip if there are no constraints from this result\n",
    "    print('\\n %s ' % expResult.globalInfo.id)\n",
    "    for theoryPrediction in predictions:\n",
    "        # Compute the r-value\n",
    "        r = theoryPrediction.getRValue()\n",
    "        print(\"r = %1.3E\" % r)"
   ]
  },
  {
   "cell_type": "code",
   "execution_count": 7,
   "metadata": {},
   "outputs": [],
   "source": [
    "# import time\n",
    "# t0 = time.time()\n",
    "uncovered = Uncovered(topDict, sqrts=13.*TeV)\n",
    "# print(time.time()-t0)"
   ]
  },
  {
   "cell_type": "code",
   "execution_count": 8,
   "metadata": {},
   "outputs": [
    {
     "name": "stdout",
     "output_type": "stream",
     "text": [
      "\n",
      "Total cross-section for missing topologies (fb):  1.046E+04\n",
      "\n",
      "\n",
      "Total cross-section for missing topologies with displaced decays (fb):  0.000E+00\n",
      "\n",
      "\n",
      "Total cross-section for missing topologies with prompt decays (fb):  1.046E+04\n",
      "\n",
      "\n",
      "Total cross-section for topologies outside the grid (fb):  8.055E+01\n",
      "\n"
     ]
    }
   ],
   "source": [
    "# First sort coverage groups by label\n",
    "groups = sorted(uncovered.groups[:], key=lambda g: g.label)\n",
    "# Print uncovered cross-sections:\n",
    "for group in groups:\n",
    "    print(\"\\nTotal cross-section for %s (fb): %10.3E\\n\" % (group.description, group.getTotalXSec()))"
   ]
  },
  {
   "cell_type": "code",
   "execution_count": 20,
   "metadata": {},
   "outputs": [
    {
     "name": "stdout",
     "output_type": "stream",
     "text": [
      "148\n",
      "Element: MET,MET\n",
      "\tcross-section (fb): 3.8833\n",
      "Element: MET,MET,W,W,jet,jet,jet,jet,jet,jet\n",
      "\tcross-section (fb): 130.8067\n",
      "Element: MET,MET,W,Z,b,b,b,jet,t\n",
      "\tcross-section (fb): 4.7111\n",
      "Element: MET,MET,W,Z,b,jet,jet,jet,jet,jet,t\n",
      "\tcross-section (fb): 34.8003\n",
      "Element: MET,MET,W,Z,b,jet,jet,jet,t\n",
      "\tcross-section (fb): 9.8184\n",
      "Element: MET,MET,W,Z,b,jet,t\n",
      "\tcross-section (fb): 4.8514\n",
      "Element: MET,MET,W,Z,jet,jet,jet,jet\n",
      "\tcross-section (fb): 61.0672\n",
      "Element: MET,MET,W,Z,jet,jet,l,nu\n",
      "\tcross-section (fb): 9.0134\n",
      "Element: MET,MET,W,Z,jet,jet,nu,ta\n",
      "\tcross-section (fb): 4.4948\n",
      "Element: MET,MET,W,b,b,b,b,b,b,b,t\n",
      "\tcross-section (fb): 7.8995\n",
      "Element: MET,MET,W,b,b,b,b,b,b,jet,jet\n",
      "\tcross-section (fb): 8.5326\n",
      "Element: MET,MET,W,b,b,b,b,b,jet,jet,t\n",
      "\tcross-section (fb): 58.3254\n",
      "Element: MET,MET,W,b,b,b,b,b,t\n",
      "\tcross-section (fb): 22.0898\n",
      "Element: MET,MET,W,b,b,b,b,jet,jet\n",
      "\tcross-section (fb): 15.0736\n",
      "Element: MET,MET,W,b,b,b,b,jet,jet,jet\n",
      "\tcross-section (fb): 88.9474\n",
      "Element: MET,MET,W,b,b,b,b,jet,jet,jet,jet\n",
      "\tcross-section (fb): 17.7826\n",
      "Element: MET,MET,W,b,b,b,b,jet,jet,t,t\n",
      "\tcross-section (fb): 35.5298\n",
      "Element: MET,MET,W,b,b,b,b,jet,l,nu\n",
      "\tcross-section (fb): 27.814\n",
      "Element: MET,MET,W,b,b,b,b,jet,nu,ta\n",
      "\tcross-section (fb): 13.8702\n",
      "Element: MET,MET,W,b,b,b,jet,jet,jet,jet,t\n",
      "\tcross-section (fb): 146.0377\n",
      "Element: MET,MET,W,b,b,b,jet,jet,t\n",
      "\tcross-section (fb): 81.5494\n",
      "Element: MET,MET,W,b,b,b,t\n",
      "\tcross-section (fb): 14.3707\n",
      "Element: MET,MET,W,b,b,b,t,t,t\n",
      "\tcross-section (fb): 4.285\n",
      "Element: MET,MET,W,b,b,jet,jet,jet\n",
      "\tcross-section (fb): 157.1326\n",
      "Element: MET,MET,W,b,b,jet,jet,jet,jet,jet\n",
      "\tcross-section (fb): 328.3684\n",
      "Element: MET,MET,W,b,b,jet,jet,jet,jet,t,t\n",
      "\tcross-section (fb): 131.1658\n",
      "Element: MET,MET,W,b,b,jet,jet,jet,l,nu\n",
      "\tcross-section (fb): 102.6812\n",
      "Element: MET,MET,W,b,b,jet,jet,jet,nu,ta\n",
      "\tcross-section (fb): 51.205\n",
      "Element: MET,MET,W,b,b,jet,jet,t,t\n",
      "\tcross-section (fb): 36.5879\n",
      "Element: MET,MET,W,b,b,jet,l,nu\n",
      "\tcross-section (fb): 49.1356\n",
      "Element: MET,MET,W,b,b,jet,nu,ta\n",
      "\tcross-section (fb): 24.5029\n",
      "Element: MET,MET,W,b,jet,jet,jet,jet,jet,t\n",
      "\tcross-section (fb): 400.0608\n",
      "Element: MET,MET,W,b,jet,jet,jet,l,nu,t\n",
      "\tcross-section (fb): 250.1991\n",
      "Element: MET,MET,W,b,jet,jet,jet,nu,t,ta\n",
      "\tcross-section (fb): 124.769\n",
      "Element: MET,MET,W,b,jet,jet,t,t,t\n",
      "\tcross-section (fb): 8.9302\n",
      "Element: MET,MET,W,b,t,t,t\n",
      "\tcross-section (fb): 4.4126\n",
      "Element: MET,MET,W,higgs,jet,jet,jet,jet\n",
      "\tcross-section (fb): 18.955\n",
      "Element: MET,MET,W,jet,jet\n",
      "\tcross-section (fb): 5.076\n",
      "Element: MET,MET,W,jet,jet,jet,jet\n",
      "\tcross-section (fb): 11.521\n",
      "Element: MET,MET,W,jet,jet,jet,t,t\n",
      "\tcross-section (fb): 48.2483\n",
      "Element: MET,MET,W,jet,l,nu,t,t\n",
      "\tcross-section (fb): 8.198\n",
      "Element: MET,MET,W,jet,nu,t,t,ta\n",
      "\tcross-section (fb): 4.0882\n",
      "Element: MET,MET,Z\n",
      "\tcross-section (fb): 1.8942\n",
      "Element: MET,MET,Z,Z,b,b,jet,jet\n",
      "\tcross-section (fb): 2.0588\n",
      "Element: MET,MET,Z,Z,b,jet,jet,jet,t\n",
      "\tcross-section (fb): 12.9863\n",
      "Element: MET,MET,Z,Z,jet,jet\n",
      "\tcross-section (fb): 7.7957\n",
      "Element: MET,MET,Z,Z,jet,jet,jet,jet\n",
      "\tcross-section (fb): 4.2907\n",
      "Element: MET,MET,Z,b,b,b,b\n",
      "\tcross-section (fb): 2.5528\n",
      "Element: MET,MET,Z,b,b,b,b,b,b,jet\n",
      "\tcross-section (fb): 3.4521\n",
      "Element: MET,MET,Z,b,b,b,b,b,jet,jet,t\n",
      "\tcross-section (fb): 21.775\n",
      "Element: MET,MET,Z,b,b,b,b,jet\n",
      "\tcross-section (fb): 27.0839\n",
      "Element: MET,MET,Z,b,b,b,b,jet,jet,jet\n",
      "\tcross-section (fb): 25.4884\n",
      "Element: MET,MET,Z,b,b,b,jet,jet,jet,jet,t\n",
      "\tcross-section (fb): 80.387\n",
      "Element: MET,MET,Z,b,b,b,jet,jet,jet,t\n",
      "\tcross-section (fb): 15.5266\n",
      "Element: MET,MET,Z,b,b,b,jet,jet,t\n",
      "\tcross-section (fb): 38.4672\n",
      "Element: MET,MET,Z,b,b,b,l,nu,t\n",
      "\tcross-section (fb): 12.0287\n",
      "Element: MET,MET,Z,b,b,b,nu,t,ta\n",
      "\tcross-section (fb): 5.9985\n",
      "Element: MET,MET,Z,b,b,jet\n",
      "\tcross-section (fb): 45.6887\n",
      "Element: MET,MET,Z,b,b,jet,jet,jet\n",
      "\tcross-section (fb): 99.9862\n",
      "Element: MET,MET,Z,b,b,jet,jet,jet,jet,jet\n",
      "\tcross-section (fb): 47.0479\n",
      "Element: MET,MET,Z,b,b,jet,jet,jet,jet,t,t\n",
      "\tcross-section (fb): 97.9378\n",
      "Element: MET,MET,Z,b,b,jet,l,l\n",
      "\tcross-section (fb): 4.2043\n",
      "Element: MET,MET,Z,b,b,jet,ta,ta\n",
      "\tcross-section (fb): 2.1935\n",
      "Element: MET,MET,Z,b,jet,jet,jet,jet,jet,t\n",
      "\tcross-section (fb): 57.3198\n",
      "Element: MET,MET,Z,b,jet,jet,jet,t\n",
      "\tcross-section (fb): 94.3871\n",
      "Element: MET,MET,Z,b,jet,jet,t,t,t\n",
      "\tcross-section (fb): 11.8115\n",
      "Element: MET,MET,Z,b,jet,l,nu,t\n",
      "\tcross-section (fb): 25.3662\n",
      "Element: MET,MET,Z,b,jet,nu,t,ta\n",
      "\tcross-section (fb): 12.6496\n",
      "Element: MET,MET,Z,higgs,jet,jet\n",
      "\tcross-section (fb): 3.8435\n",
      "Element: MET,MET,Z,jet,jet\n",
      "\tcross-section (fb): 4.2992\n",
      "Element: MET,MET,Z,jet,t,t\n",
      "\tcross-section (fb): 9.7832\n",
      "Element: MET,MET,b,b\n",
      "\tcross-section (fb): 1.1665\n",
      "Element: MET,MET,b,b,b,b,b,b\n",
      "\tcross-section (fb): 67.8715\n",
      "Element: MET,MET,b,b,b,b,b,b,b,b\n",
      "\tcross-section (fb): 15.1209\n",
      "Element: MET,MET,b,b,b,b,b,b,jet\n",
      "\tcross-section (fb): 2.2603\n",
      "Element: MET,MET,b,b,b,b,b,b,jet,jet\n",
      "\tcross-section (fb): 111.6438\n",
      "Element: MET,MET,b,b,b,b,b,b,l,l\n",
      "\tcross-section (fb): 7.0497\n",
      "Element: MET,MET,b,b,b,b,b,b,ta,ta\n",
      "\tcross-section (fb): 3.6779\n",
      "Element: MET,MET,b,b,b,b,b,higgs,jet,jet,t\n",
      "\tcross-section (fb): 8.6709\n",
      "Element: MET,MET,b,b,b,b,b,jet,jet,t\n",
      "\tcross-section (fb): 136.0189\n",
      "Element: MET,MET,b,b,b,b,b,l,nu,t\n",
      "\tcross-section (fb): 42.5333\n",
      "Element: MET,MET,b,b,b,b,b,nu,t,ta\n",
      "\tcross-section (fb): 21.2105\n",
      "Element: MET,MET,b,b,b,b,higgs\n",
      "\tcross-section (fb): 2.3918\n",
      "Element: MET,MET,b,b,b,b,higgs,jet\n",
      "\tcross-section (fb): 11.4513\n",
      "Element: MET,MET,b,b,b,b,jet\n",
      "\tcross-section (fb): 3.993\n",
      "Element: MET,MET,b,b,b,b,jet,jet\n",
      "\tcross-section (fb): 257.1412\n",
      "Element: MET,MET,b,b,b,b,jet,jet,jet\n",
      "\tcross-section (fb): 9.4213\n",
      "Element: MET,MET,b,b,b,b,jet,jet,jet,jet\n",
      "\tcross-section (fb): 227.781\n",
      "Element: MET,MET,b,b,b,b,jet,jet,l,l\n",
      "\tcross-section (fb): 26.0254\n",
      "Element: MET,MET,b,b,b,b,jet,jet,ta,ta\n",
      "\tcross-section (fb): 13.5779\n",
      "Element: MET,MET,b,b,b,b,l,l\n",
      "\tcross-section (fb): 12.4538\n",
      "Element: MET,MET,b,b,b,b,t,t\n",
      "\tcross-section (fb): 16.4042\n",
      "Element: MET,MET,b,b,b,b,ta,ta\n",
      "\tcross-section (fb): 6.4974\n",
      "Element: MET,MET,b,b,b,higgs,jet,jet,jet,jet,t\n",
      "\tcross-section (fb): 18.0708\n",
      "Element: MET,MET,b,b,b,higgs,jet,jet,t\n",
      "\tcross-section (fb): 15.3179\n",
      "Element: MET,MET,b,b,b,jet,jet,jet,jet,t\n",
      "\tcross-section (fb): 502.143\n",
      "Element: MET,MET,b,b,b,jet,jet,jet,t\n",
      "\tcross-section (fb): 10.1662\n",
      "Element: MET,MET,b,b,b,jet,jet,l,l,t\n",
      "\tcross-section (fb): 31.7076\n",
      "Element: MET,MET,b,b,b,jet,jet,l,nu,t\n",
      "\tcross-section (fb): 157.0208\n",
      "Element: MET,MET,b,b,b,jet,jet,nu,t,ta\n",
      "\tcross-section (fb): 78.303\n",
      "Element: MET,MET,b,b,b,jet,jet,t\n",
      "\tcross-section (fb): 305.2675\n",
      "Element: MET,MET,b,b,b,jet,jet,t,ta,ta\n",
      "\tcross-section (fb): 16.5423\n",
      "Element: MET,MET,b,b,b,l,nu,t\n",
      "\tcross-section (fb): 75.1384\n",
      "Element: MET,MET,b,b,b,nu,t,ta\n",
      "\tcross-section (fb): 37.4699\n",
      "Element: MET,MET,b,b,higgs,jet\n",
      "\tcross-section (fb): 16.1158\n",
      "Element: MET,MET,b,b,higgs,jet,jet,jet\n",
      "\tcross-section (fb): 38.5312\n",
      "Element: MET,MET,b,b,higgs,jet,jet,jet,jet,t,t\n",
      "\tcross-section (fb): 38.9994\n",
      "Element: MET,MET,b,b,jet\n",
      "\tcross-section (fb): 2.1883\n",
      "Element: MET,MET,b,b,jet,jet\n",
      "\tcross-section (fb): 523.4689\n",
      "Element: MET,MET,b,b,jet,jet,jet\n",
      "\tcross-section (fb): 14.7411\n",
      "Element: MET,MET,b,b,jet,jet,jet,jet\n",
      "\tcross-section (fb): 62.6262\n",
      "Element: MET,MET,b,b,jet,jet,jet,jet,jet\n",
      "\tcross-section (fb): 9.8173\n",
      "Element: MET,MET,b,b,jet,jet,jet,jet,jet,jet\n",
      "\tcross-section (fb): 80.1193\n",
      "Element: MET,MET,b,b,jet,jet,jet,jet,t,t\n",
      "\tcross-section (fb): 305.8877\n",
      "Element: MET,MET,b,b,jet,jet,l,nu,t,t\n",
      "\tcross-section (fb): 191.303\n",
      "Element: MET,MET,b,b,jet,jet,nu,t,t,ta\n",
      "\tcross-section (fb): 95.3988\n",
      "Element: MET,MET,b,b,jet,jet,t,t\n",
      "\tcross-section (fb): 64.6526\n",
      "Element: MET,MET,b,b,l,l,nu,nu,t,t\n",
      "\tcross-section (fb): 29.9103\n",
      "Element: MET,MET,b,b,l,nu\n",
      "\tcross-section (fb): 158.7077\n",
      "Element: MET,MET,b,b,l,nu,nu,t,t,ta\n",
      "\tcross-section (fb): 29.8313\n",
      "Element: MET,MET,b,b,nu,nu,t,t,ta,ta\n",
      "\tcross-section (fb): 7.4381\n",
      "Element: MET,MET,b,b,nu,ta\n",
      "\tcross-section (fb): 79.1442\n",
      "Element: MET,MET,b,higgs,jet,jet,jet,t\n",
      "\tcross-section (fb): 41.031\n",
      "Element: MET,MET,b,higgs,jet,l,nu,t\n",
      "\tcross-section (fb): 9.064\n",
      "Element: MET,MET,b,higgs,jet,nu,t,ta\n",
      "\tcross-section (fb): 4.52\n",
      "Element: MET,MET,b,jet,jet,jet,jet,jet,jet,t\n",
      "\tcross-section (fb): 97.6116\n",
      "Element: MET,MET,b,jet,jet,jet,jet,jet,t\n",
      "\tcross-section (fb): 37.5309\n",
      "Element: MET,MET,b,jet,jet,jet,jet,t\n",
      "\tcross-section (fb): 29.5897\n",
      "Element: MET,MET,b,jet,jet,t,t,t\n",
      "\tcross-section (fb): 73.7816\n",
      "Element: MET,MET,b,l,nu,t,t,t\n",
      "\tcross-section (fb): 23.0716\n",
      "Element: MET,MET,b,nu,t,t,t,ta\n",
      "\tcross-section (fb): 11.5053\n",
      "Element: MET,MET,higgs,jet,t,t\n",
      "\tcross-section (fb): 3.4958\n",
      "Element: MET,MET,jet,jet\n",
      "\tcross-section (fb): 352.4218\n",
      "Element: MET,MET,jet,jet,l,l\n",
      "\tcross-section (fb): 118.3128\n",
      "Element: MET,MET,jet,jet,l,nu\n",
      "\tcross-section (fb): 1203.6884\n",
      "Element: MET,MET,jet,jet,nu,ta\n",
      "\tcross-section (fb): 600.2543\n",
      "Element: MET,MET,jet,jet,photon\n",
      "\tcross-section (fb): 12.2826\n",
      "Element: MET,MET,jet,jet,ta,ta\n",
      "\tcross-section (fb): 61.7256\n",
      "Element: MET,MET,l,l,nu,nu\n",
      "\tcross-section (fb): 96.5911\n",
      "Element: MET,MET,l,l,nu,ta\n",
      "\tcross-section (fb): 18.4494\n",
      "Element: MET,MET,l,nu\n",
      "\tcross-section (fb): 109.4426\n",
      "Element: MET,MET,l,nu,nu,ta\n",
      "\tcross-section (fb): 96.3359\n",
      "Element: MET,MET,l,nu,photon\n",
      "\tcross-section (fb): 2.4535\n",
      "Element: MET,MET,l,nu,ta,ta\n",
      "\tcross-section (fb): 19.3017\n",
      "Element: MET,MET,nu,nu,ta,ta\n",
      "\tcross-section (fb): 24.0204\n",
      "Element: MET,MET,nu,photon,ta\n",
      "\tcross-section (fb): 1.2235\n",
      "Element: MET,MET,nu,ta\n",
      "\tcross-section (fb): 54.5767\n",
      "Element: MET,MET,nu,ta,ta,ta\n",
      "\tcross-section (fb): 9.6253\n"
     ]
    }
   ],
   "source": [
    "missingTopos = uncovered.getGroup('missing (prompt)')\n",
    "finalStates = {}\n",
    "if missingTopos.generalElements:\n",
    "    for iel,genEl in enumerate(missingTopos.generalElements[:]):\n",
    "        elStr = str(genEl).replace(']','').replace('[','')\n",
    "        elStr = elStr.replace('(',',').replace(')','')\n",
    "        elStr = elStr.replace(' ','')\n",
    "        elStr = ','.join(sorted([ee for ee in elStr.split(',') if ee]))\n",
    "        if elStr not in finalStates:\n",
    "            finalStates[elStr] = genEl.missingX\n",
    "        else:\n",
    "            finalStates[elStr] += genEl.missingX\n",
    "else:\n",
    "    print(\"No missing topologies found\\n\")\n",
    "\n",
    "# Print some of the missing topologies:\n",
    "f = open('coverage-old.txt','w')\n",
    "print(len(finalStates))\n",
    "for fs in sorted(finalStates.keys()):\n",
    "    print('Element:', fs)\n",
    "    print('\\tcross-section (fb):', np.round(finalStates[fs],4))\n",
    "    f.write('%s : %1.3e\\n' %(fs, np.round(finalStates[fs],4)))\n",
    "f.close()        "
   ]
  },
  {
   "cell_type": "code",
   "execution_count": 10,
   "metadata": {},
   "outputs": [
    {
     "name": "stdout",
     "output_type": "stream",
     "text": [
      "0\n",
      "\n",
      "No displaced decays\n"
     ]
    }
   ],
   "source": [
    "missingDisplaced = uncovered.getGroup('missing (displaced)')\n",
    "print(len(missingDisplaced.generalElements))\n",
    "# Print elements with displaced decays:\n",
    "if missingDisplaced.generalElements:\n",
    "    print('\\nElements with displaced vertices (up to 2):')\n",
    "    for genEl in missingDisplaced.generalElements[:2]:\n",
    "        print('Element:', genEl)\n",
    "        print('\\tcross-section (fb):', genEl.missingX)\n",
    "else:\n",
    "    print(\"\\nNo displaced decays\")\n"
   ]
  },
  {
   "cell_type": "code",
   "execution_count": 11,
   "metadata": {},
   "outputs": [
    {
     "name": "stdout",
     "output_type": "stream",
     "text": [
      "2\n",
      "Element: [[[b,b]],[[b,b]]]  (MET,MET)\n",
      "\tcross-section (fb): 72.7112\n",
      "Element: [[[t,t]],[[b,b]]]  (MET,MET)\n",
      "\tcross-section (fb): 7.8367\n"
     ]
    }
   ],
   "source": [
    "missingGrid = uncovered.getGroup('outsideGrid (all)')\n",
    "print(len(missingGrid.generalElements))\n",
    "# Print some of the missing topologies:\n",
    "if missingGrid.generalElements:\n",
    "    for genEl in missingGrid.generalElements[:]:\n",
    "#         if str(genEl) != '(PV > MET,MET,jet,jet,l,nu)':\n",
    "#             continue\n",
    "        print('Element:', genEl)\n",
    "        print('\\tcross-section (fb):', np.round(genEl.missingX,4))\n",
    "#         for el in genEl._contributingElements:\n",
    "#             print(el.tree.treeToBrackets())\n",
    "#             el.drawTree()\n",
    "else:\n",
    "    print(\"No missing topologies found\\n\")"
   ]
  },
  {
   "cell_type": "code",
   "execution_count": null,
   "metadata": {},
   "outputs": [],
   "source": []
  },
  {
   "cell_type": "code",
   "execution_count": null,
   "metadata": {},
   "outputs": [],
   "source": []
  },
  {
   "cell_type": "code",
   "execution_count": null,
   "metadata": {},
   "outputs": [],
   "source": []
  },
  {
   "cell_type": "code",
   "execution_count": 12,
   "metadata": {},
   "outputs": [
    {
     "name": "stdout",
     "output_type": "stream",
     "text": [
      "4\n",
      "[[[b,b]],[[b,b],[q,q]]] 1.54E-01 [pb]\n",
      "[[[b,b]],[[b,b],[c,c]]] 4.29E-02 [pb]\n",
      "[[[b,b]],[[b,b],[q,q]]] 4.17E-02 [pb]\n",
      "[[[b,b]],[[b,b],[c,c]]] 1.16E-02 [pb]\n"
     ]
    }
   ],
   "source": [
    "genEl = missingTopos.generalElements[9]\n",
    "print(len(genEl._contributingElements))\n",
    "for el in genEl._contributingElements:\n",
    "    print(el,el.weight.getMaxXsec())"
   ]
  },
  {
   "cell_type": "code",
   "execution_count": 13,
   "metadata": {},
   "outputs": [
    {
     "name": "stdout",
     "output_type": "stream",
     "text": [
      "[[[c,c]],[[b,b],[b,b]]] set() set() 3.29E-03 [pb]\n"
     ]
    }
   ],
   "source": [
    "for el in topDict.getElements():\n",
    "    if str(el) == '[[[c,c]],[[b,b],[b,b]]]':\n",
    "        print(el,el.testedBy,el.coveredBy,el.weight.getMaxXsec())\n",
    "        break"
   ]
  },
  {
   "cell_type": "code",
   "execution_count": 14,
   "metadata": {},
   "outputs": [
    {
     "name": "stdout",
     "output_type": "stream",
     "text": [
      "[[[c,c]],[[b,b],[b,b]]] 159\n",
      "[[gluino, N1], [gluino, N2, N1]]\n",
      "3.29E-03 [pb]\n",
      "[[[c,c]],[[b,b],[b,b]]] 0\n",
      "[[gluino, N1], [gluino, N2, N1]]\n",
      "1.64E-03 [pb]\n"
     ]
    }
   ],
   "source": [
    "for mom in el.motherElements:\n",
    "    print(mom,mom.elID)\n",
    "    print(mom.oddParticles)\n",
    "    print(mom.weight.getMaxXsec())"
   ]
  },
  {
   "cell_type": "code",
   "execution_count": 15,
   "metadata": {},
   "outputs": [
    {
     "data": {
      "text/plain": [
       "(3.2894097755385134, 1.0)"
      ]
     },
     "execution_count": 15,
     "metadata": {},
     "output_type": "execute_result"
    }
   ],
   "source": [
    "missingTopos.getMissingX(el),missingTopos.reweightFactor(el)"
   ]
  }
 ],
 "metadata": {
  "kernelspec": {
   "display_name": "Python 3 (ipykernel)",
   "language": "python",
   "name": "python3"
  },
  "language_info": {
   "codemirror_mode": {
    "name": "ipython",
    "version": 3
   },
   "file_extension": ".py",
   "mimetype": "text/x-python",
   "name": "python",
   "nbconvert_exporter": "python",
   "pygments_lexer": "ipython3",
   "version": "3.10.4"
  }
 },
 "nbformat": 4,
 "nbformat_minor": 2
}
