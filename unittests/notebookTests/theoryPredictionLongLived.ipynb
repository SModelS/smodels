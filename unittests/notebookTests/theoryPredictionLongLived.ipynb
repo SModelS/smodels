{
 "cells": [
  {
   "cell_type": "code",
   "execution_count": 1,
   "metadata": {},
   "outputs": [],
   "source": [
    "import sys,os\n",
    "sys.path.append('../../')\n",
    "import numpy as np\n",
    "from smodels.base import runtime\n",
    "# Define your model (list of BSM particles)\n",
    "runtime.modelFile = 'smodels.share.models.mssm'\n",
    "# runtime.modelFile = 'mssmQNumbers.slha'\n",
    "\n",
    "from smodels.decomposition import decomposer\n",
    "from smodels.base.physicsUnits import fb, GeV, pb\n",
    "from smodels.matching.theoryPrediction import theoryPredictionsFor\n",
    "from smodels.experiment.databaseObj import Database\n",
    "from smodels.matching.theoryPredictionsCombiner import TheoryPredictionsCombiner\n",
    "from smodels.base.smodelsLogging import setLogLevel\n",
    "from smodels.share.models.mssm import BSMList\n",
    "from smodels.share.models.SMparticles import SMList\n",
    "from smodels.base.model import Model\n",
    "setLogLevel(\"error\")\n",
    "\n",
    "# Set the path to the database\n",
    "database = Database('unittest')"
   ]
  },
  {
   "attachments": {},
   "cell_type": "markdown",
   "metadata": {},
   "source": [
    "### Load model"
   ]
  },
  {
   "cell_type": "code",
   "execution_count": 2,
   "metadata": {},
   "outputs": [],
   "source": [
    "slhafile = '../../inputFiles/slha/longLived.slha'\n",
    "model = Model(BSMparticles=BSMList, SMparticles=SMList)\n",
    "model.updateParticles(inputFile=slhafile)\n"
   ]
  },
  {
   "attachments": {},
   "cell_type": "markdown",
   "metadata": {},
   "source": [
    "### Decompose"
   ]
  },
  {
   "cell_type": "code",
   "execution_count": 3,
   "metadata": {},
   "outputs": [],
   "source": [
    "# Set main options for decomposition\n",
    "sigmacut = 0.01*fb\n",
    "mingap = 5.*GeV\n",
    "\n",
    "# Decompose model\n",
    "topDict = decomposer.decompose(model, sigmacut,\n",
    "                               massCompress=True, invisibleCompress=True,\n",
    "                               minmassgap=mingap)"
   ]
  },
  {
   "attachments": {},
   "cell_type": "markdown",
   "metadata": {},
   "source": [
    "### Get experimental results"
   ]
  },
  {
   "cell_type": "code",
   "execution_count": 4,
   "metadata": {},
   "outputs": [],
   "source": [
    "listOfExpRes = database.expResultList"
   ]
  },
  {
   "attachments": {},
   "cell_type": "markdown",
   "metadata": {},
   "source": [
    "### Compute the theory predictions"
   ]
  },
  {
   "cell_type": "code",
   "execution_count": 5,
   "metadata": {},
   "outputs": [
    {
     "name": "stdout",
     "output_type": "stream",
     "text": [
      "\n",
      " Theory Predictions and Constraints:\n",
      "\n",
      " CMS-EXO-13-006 \n",
      "------------------------\n",
      "Dataset =  c200track\n",
      "TxNames =  ['THSCPM1', 'THSCPM2', 'THSCPM3', 'THSCPM4', 'THSCPM5', 'THSCPM6', 'THSCPM7']\n",
      "Theory Prediction =  3.70E-04 [pb]\n",
      "Condition Violation =  None\n",
      "UL for theory prediction =  1.60E-01 [fb]\n",
      "r = 2.3E+00\n",
      "L_BSM, L_SM, L_max = 2.0E-03, 2.1E+00, 2.1E+00\n",
      "\n",
      " CMS-SUS-16-039 \n",
      "------------------------\n",
      "Dataset =  None\n",
      "TxNames =  ['TChiChipmSlepL']\n",
      "Theory Prediction =  1.69E-03 [pb]\n",
      "Condition Violation =  ['2.03E-01', '0.00E+00', '0.00E+00']\n",
      "UL for theory prediction =  5.70E+00 [fb]\n",
      "r = 3.0E-01\n",
      "------------------------\n",
      "Dataset =  None\n",
      "TxNames =  ['TChiChipmSlepStau']\n",
      "Theory Prediction =  5.94E-05 [pb]\n",
      "Condition Violation =  ['0.00E+00', '0.00E+00']\n",
      "UL for theory prediction =  5.06E+00 [fb]\n",
      "r = 1.2E-02\n",
      "\n",
      " CMS-SUS-16-050-agg \n",
      "------------------------\n",
      "Dataset =  ar6\n",
      "TxNames =  ['T2tt']\n",
      "Theory Prediction =  2.75E-04 [pb]\n",
      "Condition Violation =  None\n",
      "UL for theory prediction =  2.87E+00 [fb]\n",
      "r = 9.6E-02\n",
      "L_BSM, L_SM, L_max = 2.5E-04, 2.0E-04, 3.2E-04\n",
      "\n",
      " ATLAS-CONF-2013-037 \n",
      "------------------------\n",
      "Dataset =  SRtN3\n",
      "TxNames =  ['T2tt', 'T5tttt']\n",
      "Theory Prediction =  3.22E-06 [pb]\n",
      "Condition Violation =  None\n",
      "UL for theory prediction =  4.00E-01 [fb]\n",
      "r = 8.0E-03\n",
      "L_BSM, L_SM, L_max = 2.5E-02, 2.4E-02, 3.0E-02\n"
     ]
    }
   ],
   "source": [
    "print(\"\\n Theory Predictions and Constraints:\")\n",
    "rmax = 0.\n",
    "bestResult = None\n",
    "allPredictions = theoryPredictionsFor(database, topDict, combinedResults=False)\n",
    "predsDict = {}\n",
    "for tp in allPredictions:\n",
    "    anaID = tp.analysisId()\n",
    "    if anaID not in predsDict:\n",
    "        predsDict[anaID] = []\n",
    "    predsDict[anaID].append(tp)\n",
    "\n",
    "\n",
    "for anaID,predictions in predsDict.items():\n",
    "    if not predictions:\n",
    "        continue  # Skip if there are no constraints from this result\n",
    "    print('\\n %s ' % anaID)\n",
    "    for theoryPrediction in predictions:\n",
    "        dataset = theoryPrediction.dataset\n",
    "        datasetID = theoryPrediction.dataId()\n",
    "        txnames = sorted([str(txname) for txname in theoryPrediction.txnames])\n",
    "        print(\"------------------------\")\n",
    "        print(\"Dataset = \", datasetID)  # Analysis name\n",
    "        print(\"TxNames = \", txnames)\n",
    "        print(\"Theory Prediction = \", theoryPrediction.xsection)  # Signal cross section\n",
    "        if isinstance(theoryPrediction.conditions,list):\n",
    "            cond = ['%1.2E' %c for c in theoryPrediction.conditions]\n",
    "        else:\n",
    "            cond = theoryPrediction.conditions\n",
    "        print(\"Condition Violation = \", cond)  # Condition violation values\n",
    "\n",
    "        # Get the corresponding upper limit:\n",
    "        print(\"UL for theory prediction = \", theoryPrediction.upperLimit)\n",
    "\n",
    "        # Compute the r-value\n",
    "        r = theoryPrediction.getRValue()\n",
    "        print(\"r = %1.1E\" % r)\n",
    "        # Compute likelihoods for EM-type results:\n",
    "        if dataset.getType() == 'efficiencyMap':\n",
    "            theoryPrediction.computeStatistics()\n",
    "            print('L_BSM, L_SM, L_max = %1.1E, %1.1E, %1.1E' % (theoryPrediction.likelihood(),\n",
    "                  theoryPrediction.lsm(), theoryPrediction.lmax()))\n",
    "        if r > rmax:\n",
    "            rmax = r\n",
    "            bestResult = anaID\n",
    "        allPredictions.append(theoryPrediction)"
   ]
  },
  {
   "cell_type": "code",
   "execution_count": null,
   "metadata": {},
   "outputs": [],
   "source": []
  }
 ],
 "metadata": {
  "kernelspec": {
   "display_name": "Python 3.10.6 64-bit",
   "language": "python",
   "name": "python3"
  },
  "language_info": {
   "codemirror_mode": {
    "name": "ipython",
    "version": 3
   },
   "file_extension": ".py",
   "mimetype": "text/x-python",
   "name": "python",
   "nbconvert_exporter": "python",
   "pygments_lexer": "ipython3",
   "version": "3.10.6"
  },
  "vscode": {
   "interpreter": {
    "hash": "e7370f93d1d0cde622a1f8e1c04877d8463912d04d973331ad4851f04de6915a"
   }
  }
 },
 "nbformat": 4,
 "nbformat_minor": 2
}
