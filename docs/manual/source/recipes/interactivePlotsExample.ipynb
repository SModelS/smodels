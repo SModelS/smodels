{
 "cells": [
  {
   "cell_type": "markdown",
   "metadata": {},
   "source": [
    "### Import the plot creator"
   ]
  },
  {
   "cell_type": "code",
   "execution_count": 1,
   "metadata": {},
   "outputs": [],
   "source": [
    "# Set up the path to SModelS installation folder\n",
    "import sys,os\n",
    "\n",
    "sys.path.append(\".\")\n",
    "\n",
    "import smodels_paths\n",
    "from smodels.tools.interactivePlots import PlotMaster\n",
    "from smodels.installation import installDirectory\n",
    "import smodels\n",
    "from types import SimpleNamespace\n"
   ]
  },
  {
   "cell_type": "markdown",
   "metadata": {},
   "source": [
    "### Define the input folders, the parameters file and where to store the plots"
   ]
  },
  {
   "cell_type": "code",
   "execution_count": 2,
   "metadata": {},
   "outputs": [],
   "source": [
    "smodelsOutput = f'{installDirectory()}/inputFiles/scanExample/smodels-output.tar.gz'\n",
    "slhaFiles = f'{installDirectory()}/inputFiles/scanExample/slhas.tar.gz'\n",
    "parameters = './iplots_parameters.py'\n",
    "indexfile = 'main.html'\n",
    "modelfile='{installDirectory()}/smodels/share/models/mssm.py'\n",
    "outputFolder = './plots/'\n",
    "npoints = -1 #If negative will use all the points in the folders"
   ]
  },
  {
   "cell_type": "markdown",
   "metadata": {},
   "source": [
    "### Create plots"
   ]
  },
  {
   "cell_type": "code",
   "execution_count": 3,
   "metadata": {},
   "outputs": [
    {
     "data": {
      "text/plain": [
       "True"
      ]
     },
     "execution_count": 3,
     "metadata": {},
     "output_type": "execute_result"
    }
   ],
   "source": [
    "plotMaster = PlotMaster(smodelsOutput,slhaFiles,parameters,indexfile)\n",
    "loadData = plotMaster.loadData(npoints)\n",
    "plotMaster.makePlots(outputFolder)  \n"
   ]
  },
  {
   "cell_type": "markdown",
   "metadata": {},
   "source": [
    "### Display the output"
   ]
  },
  {
   "cell_type": "code",
   "execution_count": 4,
   "metadata": {},
   "outputs": [],
   "source": [
    "from IPython.core.display import display,HTML"
   ]
  },
  {
   "cell_type": "code",
   "execution_count": 5,
   "metadata": {},
   "outputs": [
    {
     "data": {
      "text/html": [
       "<html><head><font size=6>SModelS interactive plots: interactive plot example from a small pMSSM scan</font></head><p><strong>MT<sub>max xsection</sub>.</strong>: Cross section of MT_max. <br><a href=MT_max_xsec_all.html>all</a> <a href=MT_max_xsec_excluded.html>excluded</a> <a href=MT_max_xsec_non-excluded.html>non-excluded</a> </p><p><strong>MT<sub>total xsection</sub></strong>: Total missing cross section. <br><a href=MT_total_xsec_all.html>all</a> <a href=MT_total_xsec_excluded.html>excluded</a> <a href=MT_total_xsec_non-excluded.html>non-excluded</a> </p><p><strong>MT<sub>displaced xsection</sub></strong>: Extracts the total cross section from missing displaced topologies <br><a href=MT_displaced_xsec_all.html>all</a> <a href=MT_displaced_xsec_excluded.html>excluded</a> <a href=MT_displaced_xsec_non-excluded.html>non-excluded</a> </p><p><strong>MT<sub>prompt xsection</sub></strong>: Extracts the total cross section from missing prompt topologies <br><a href=MT_prompt_xsec_all.html>all</a> <a href=MT_prompt_xsec_excluded.html>excluded</a> <a href=MT_prompt_xsec_non-excluded.html>non-excluded</a> </p><p><strong>MT<sub>outside grid xsection</sub></strong>: Missing cross section outside the mass grids of the experimental results. <br><a href=MT_outgrid_xsec_all.html>all</a> <a href=MT_outgrid_xsec_excluded.html>excluded</a> <a href=MT_outgrid_xsec_non-excluded.html>non-excluded</a> </p><p><strong> &#967;<sup>2</sup></strong>: &#967;<sup>2</sup> value associated to the highest r-value. <br><a href=chi2_all.html>all</a> <a href=chi2_excluded.html>excluded</a> <a href=chi2_non-excluded.html>non-excluded</a> </p><p><strong>SModelS status</strong>: Excluded or not excluded by SModelS. <br><a href=SModelS_status_all.html>all</a> <a href=SModelS_status_excluded.html>excluded</a> <a href=SModelS_status_non-excluded.html>non-excluded</a> </p><p><strong>r<sub>max</sub></strong>: highest r-value from SModelS. <br><a href=r_max_all.html>all</a> <a href=r_max_excluded.html>excluded</a> <a href=r_max_non-excluded.html>non-excluded</a> </p><p><strong>MT<sub>max</sub></strong>: Missing topologies with the largest cross section. <br><a href=MT_max_all.html>all</a> <a href=MT_max_excluded.html>excluded</a> <a href=MT_max_non-excluded.html>non-excluded</a> </p><p><strong>Analysis</strong>: Experimental analysis from which the highest r-value comes from. <br><a href=Analysis_all.html>all</a> <a href=Analysis_excluded.html>excluded</a> <a href=Analysis_non-excluded.html>non-excluded</a> </p><p><strong>T<sub>max</sub></strong>: Topology/ies which give the highest r-value. <br><a href=Tx_all.html>all</a> <a href=Tx_excluded.html>excluded</a> <a href=Tx_non-excluded.html>non-excluded</a> </p>"
      ],
      "text/plain": [
       "<IPython.core.display.HTML object>"
      ]
     },
     "metadata": {},
     "output_type": "display_data"
    }
   ],
   "source": [
    "#Main page (to open the plots go to the plots output folder and open them with the browser)\n",
    "mainFile = open(outputFolder + 'index.html','r')\n",
    "display(HTML(mainFile.read()))\n",
    "mainFile.close()"
   ]
  }
 ],
 "metadata": {
  "kernelspec": {
   "display_name": "Python 3",
   "language": "python",
   "name": "python3"
  },
  "language_info": {
   "codemirror_mode": {
    "name": "ipython",
    "version": 3
   },
   "file_extension": ".py",
   "mimetype": "text/x-python",
   "name": "python",
   "nbconvert_exporter": "python",
   "pygments_lexer": "ipython3",
   "version": "3.9.4"
  }
 },
 "nbformat": 4,
 "nbformat_minor": 4
}
