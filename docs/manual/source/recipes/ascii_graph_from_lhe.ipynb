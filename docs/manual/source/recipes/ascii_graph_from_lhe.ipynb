{
 "cells": [
  {
   "cell_type": "markdown",
   "metadata": {},
   "source": [
    "# How To: Create ASCII graphs for elements in a LHE event file"
   ]
  },
  {
   "cell_type": "code",
   "execution_count": 1,
   "metadata": {},
   "outputs": [],
   "source": [
    "# Set up the path to SModelS installation folder\n",
    "import sys; sys.path.append(\".\"); import smodels_paths"
   ]
  },
  {
   "cell_type": "code",
   "execution_count": 2,
   "metadata": {},
   "outputs": [],
   "source": [
    "# Import those parts of smodels that are needed for this exercise\n",
    "from smodels.installation import installDirectory\n",
    "from smodels.tools import asciiGraph\n",
    "from smodels.share.models.mssm import BSMList\n",
    "from smodels.share.models.SMparticles import SMList\n",
    "from smodels.theory.model import Model\n",
    "from smodels.tools import asciiGraph\n",
    "from smodels.theory import decomposer"
   ]
  },
  {
   "cell_type": "code",
   "execution_count": 3,
   "metadata": {},
   "outputs": [],
   "source": [
    "# Load an input file containing LHE events and update the model\n",
    "filename=\"./inputFiles/lhe/gluino_squarks.lhe\"\n",
    "model = Model(BSMparticles = BSMList, SMparticles = SMList)\n",
    "model.updateParticles(inputFile=filename)"
   ]
  },
  {
   "cell_type": "code",
   "execution_count": 4,
   "metadata": {},
   "outputs": [],
   "source": [
    "# Decompose the model and get the second element\n",
    "topList = decomposer.decompose(model)\n",
    "element = topList.getElements()[1]"
   ]
  },
  {
   "cell_type": "code",
   "execution_count": 5,
   "metadata": {},
   "outputs": [
    {
     "name": "stdout",
     "output_type": "stream",
     "text": [
      "    hi  \n",
      "    |   \n",
      "----*----\n",
      "----*----\n",
      "    |   \n",
      "    W+  \n",
      "\n"
     ]
    }
   ],
   "source": [
    "# Print the corresponding ASCII graph\n",
    "print(asciiGraph.asciidraw(element))"
   ]
  },
  {
   "cell_type": "code",
   "execution_count": 6,
   "metadata": {},
   "outputs": [
    {
     "name": "stdout",
     "output_type": "stream",
     "text": [
      "    W-  \n",
      "    |   \n",
      "----*----\n",
      "----*----\n",
      "    |   \n",
      "    Z   \n",
      "\n"
     ]
    }
   ],
   "source": [
    "# Do the same for the next element:\n",
    "element = topList.getElements()[2]\n",
    "print(asciiGraph.asciidraw(element))"
   ]
  }
 ],
 "metadata": {
  "kernelspec": {
   "display_name": "Python 3",
   "language": "python",
   "name": "python3"
  },
  "language_info": {
   "codemirror_mode": {
    "name": "ipython",
    "version": 3
   },
   "file_extension": ".py",
   "mimetype": "text/x-python",
   "name": "python",
   "nbconvert_exporter": "python",
   "pygments_lexer": "ipython3",
   "version": "3.6.7"
  }
 },
 "nbformat": 4,
 "nbformat_minor": 1
}
