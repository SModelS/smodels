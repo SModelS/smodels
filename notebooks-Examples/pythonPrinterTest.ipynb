{
 "cells": [
  {
   "cell_type": "code",
   "execution_count": 1,
   "id": "67e74468",
   "metadata": {},
   "outputs": [],
   "source": [
    "#!/usr/bin/env python3\n",
    "import sys\n",
    "import copy\n",
    "sys.path.append('../')\n",
    "\n",
    "from __future__ import print_function\n",
    "from smodels.tools import runtime\n",
    "# Define your model (list of BSM particles)\n",
    "runtime.modelFile = 'smodels.share.models.mssm'\n",
    "# runtime.modelFile = 'mssmQNumbers.slha'\n",
    "\n",
    "from smodels.theory import decomposer\n",
    "from smodels.tools.physicsUnits import fb, GeV, TeV\n",
    "from smodels.theory.theoryPrediction import theoryPredictionsFor\n",
    "from smodels.theory import theoryPrediction\n",
    "from smodels.experiment.databaseObj import Database, ExpResultList\n",
    "from smodels.tools import coverage\n",
    "from smodels.tools.theoryPredictionsCombiner import TheoryPredictionsCombiner\n",
    "from smodels.tools.smodelsLogging import setLogLevel\n",
    "from smodels.particlesLoader import BSMList\n",
    "from smodels.share.models.SMparticles import SMList\n",
    "from smodels.theory.model import Model\n",
    "from smodels.tools.printers.masterPrinter import MPrinter\n",
    "from smodels.tools import ioObjects\n",
    "import time\n",
    "import os\n",
    "from collections import OrderedDict\n",
    "from configparser import ConfigParser, NoSectionError, NoOptionError\n",
    "setLogLevel(\"warning\")"
   ]
  },
  {
   "cell_type": "code",
   "execution_count": 2,
   "id": "bd2baa8c",
   "metadata": {},
   "outputs": [],
   "source": [
    "# Set the path to the database\n",
    "database = Database(os.path.expanduser('../test/database'))\n",
    "databaseVersion = database.databaseVersion"
   ]
  },
  {
   "cell_type": "code",
   "execution_count": 3,
   "id": "e3d87f9a",
   "metadata": {},
   "outputs": [],
   "source": [
    "parameterFile='../test/testPrinters_parameters.ini'\n",
    "parser = ConfigParser(inline_comment_prefixes=(';',))\n",
    "ret = parser.read(parameterFile)\n",
    "parser.set(\"printer\",\"outputType\",\"python\")\n",
    "parser.set(\"printer\",\"outputFormat\",\"current\")\n",
    "\n",
    "inputFile = '../test/testFiles/slha/lightEWinos.slha'\n",
    "outputDir = '../test/'"
   ]
  },
  {
   "cell_type": "code",
   "execution_count": 4,
   "id": "85f7abc1",
   "metadata": {},
   "outputs": [],
   "source": [
    "sigmacut = parser.getfloat(\"parameters\", \"sigmacut\") * fb\n",
    "minmassgap = parser.getfloat(\"parameters\", \"minmassgap\") * GeV\n",
    "\n",
    "masterPrinter = MPrinter()\n",
    "masterPrinter.setPrinterOptions(parser)\n",
    "masterPrinter.setOutPutFiles(os.path.join(\n",
    "    outputDir, os.path.basename(inputFile)))\n",
    "# for printer in masterPrinter.Printers.values():\n",
    "#     printer.output = 'stdout'\n"
   ]
  },
  {
   "cell_type": "code",
   "execution_count": 5,
   "id": "5132ee14",
   "metadata": {},
   "outputs": [],
   "source": [
    "listOfExpRes = database.getExpResults()\n",
    "masterPrinter.addObj(ExpResultList(listOfExpRes))\n",
    "\n",
    "inputStatus = ioObjects.FileStatus()\n",
    "if parser.getboolean(\"options\", \"checkInput\"):\n",
    "    inputStatus.checkFile(inputFile)\n",
    "\n",
    "printParameters = []\n",
    "if parser.has_section('parameters'):\n",
    "    printParameters += list(parser.items('parameters'))\n",
    "if parser.has_section('particles'):\n",
    "    printParameters += list(parser.items('particles'))\n",
    "if parser.has_section('options'):\n",
    "    printParameters += list(parser.items('options'))\n",
    "\n",
    "printParameters = OrderedDict(printParameters)\n",
    "outputStatus = ioObjects.OutputStatus(inputStatus.status, inputFile,\n",
    "                                      printParameters, databaseVersion)\n",
    "masterPrinter.addObj(outputStatus)"
   ]
  },
  {
   "cell_type": "code",
   "execution_count": 6,
   "id": "9960a9c0",
   "metadata": {},
   "outputs": [],
   "source": [
    "model = Model(BSMparticles=BSMList, SMparticles=SMList)\n",
    "promptWidth = None\n",
    "stableWidth = None\n",
    "if parser.has_option(\"particles\", \"promptWidth\"):\n",
    "    promptWidth = parser.getfloat(\"particles\", \"promptWidth\")*GeV\n",
    "if parser.has_option(\"particles\", \"stableWidth\"):\n",
    "    stableWidth = parser.getfloat(\"particles\", \"stableWidth\")*GeV\n",
    "model.updateParticles(inputFile=inputFile,\n",
    "                      promptWidth=promptWidth, stableWidth=stableWidth)"
   ]
  },
  {
   "cell_type": "code",
   "execution_count": 7,
   "id": "c48b5227",
   "metadata": {},
   "outputs": [],
   "source": [
    "sigmacut = parser.getfloat(\"parameters\", \"sigmacut\") * fb\n",
    "smstoplist = decomposer.decompose(model, sigmacut,\n",
    "                                  massCompress=parser.getboolean(\n",
    "                                      \"options\", \"doCompress\"),\n",
    "                                  invisibleCompress=parser.getboolean(\n",
    "                                      \"options\", \"doInvisible\"),\n",
    "                                  minmassgap=minmassgap)\n"
   ]
  },
  {
   "cell_type": "code",
   "execution_count": 8,
   "id": "8853f48d",
   "metadata": {},
   "outputs": [],
   "source": [
    "masterPrinter.addObj(smstoplist)"
   ]
  },
  {
   "cell_type": "code",
   "execution_count": 9,
   "id": "58054183",
   "metadata": {},
   "outputs": [],
   "source": [
    "allPredictions = []\n",
    "combineResults = False\n",
    "useBest = True\n",
    "combineResults = parser.getboolean(\"options\", \"combineSRs\")\n",
    "allSRs = parser.getboolean(\"options\", \"reportAllSRs\")\n",
    "if allSRs:  # If set print out all SRs and skip combination\n",
    "    useBest = False\n",
    "    combineResults = False\n",
    "\n",
    "for expResult in listOfExpRes:\n",
    "    theorypredictions = theoryPredictionsFor(expResult, smstoplist,\n",
    "                                             useBestDataset=useBest, combinedResults=combineResults,\n",
    "                                             marginalize=False)\n",
    "    if not theorypredictions:\n",
    "        continue\n",
    "    allPredictions += theorypredictions._theoryPredictions\n",
    "\n",
    "if parser.getboolean(\"options\", \"computeStatistics\"):\n",
    "    for theoPred in allPredictions:\n",
    "        theoPred.computeStatistics()\n",
    "\n",
    "maxcond = parser.getfloat(\"parameters\", \"maxcond\")\n",
    "theoryPredictions = theoryPrediction.TheoryPredictionList(\n",
    "    allPredictions, maxcond)\n"
   ]
  },
  {
   "cell_type": "code",
   "execution_count": 10,
   "id": "ee108d54",
   "metadata": {},
   "outputs": [],
   "source": [
    "outputStatus.updateStatus(1)\n",
    "masterPrinter.addObj(theoryPredictions)"
   ]
  },
  {
   "cell_type": "code",
   "execution_count": 11,
   "id": "87fe0f88",
   "metadata": {},
   "outputs": [],
   "source": [
    "if parser.getboolean(\"options\", \"testCoverage\"):\n",
    "    \"\"\" Testing coverage of model point, add results to the output file \"\"\"\n",
    "    if parser.has_option(\"options\", \"coverageSqrts\"):\n",
    "        sqrts = parser.getfloat(\"options\", \"coverageSqrts\")*TeV\n",
    "    else:\n",
    "        sqrts = None\n",
    "    uncovered = coverage.Uncovered(\n",
    "        smstoplist, sigmacut=sigmacut, sqrts=sqrts)\n",
    "    masterPrinter.addObj(uncovered)\n"
   ]
  },
  {
   "cell_type": "code",
   "execution_count": 12,
   "id": "f4ec1765",
   "metadata": {},
   "outputs": [],
   "source": [
    "if parser.has_option(\"options\", \"combineAnas\"):\n",
    "    \"\"\" Combine analyses \"\"\"\n",
    "\n",
    "    combineAnas = parser.get(\"options\", \"combineAnas\").replace(\" \",\"\").split(\",\")\n",
    "    if combineAnas:\n",
    "        if combineResults is True:\n",
    "            logger.warning(\"Combining analyses with signal region combination (combineSRs=True) might significantly reduce CPU performance.\")\n",
    "        combiner = TheoryPredictionsCombiner.selectResultsFrom(theoryPredictions,\n",
    "                                                               combineAnas)\n",
    "        # Only compute combination if at least one result was selected\n",
    "        if combiner is not None:\n",
    "            combiner.computeStatistics()\n",
    "            masterPrinter.addObj(combiner)\n"
   ]
  },
  {
   "cell_type": "code",
   "execution_count": 13,
   "id": "e6e4a611",
   "metadata": {},
   "outputs": [],
   "source": [
    "masterCopy = copy.deepcopy(masterPrinter)\n",
    "x = masterPrinter.flush()['python']\n",
    "os.remove(masterPrinter.Printers['python'].filename)"
   ]
  },
  {
   "cell_type": "code",
   "execution_count": 14,
   "id": "2f742e32",
   "metadata": {},
   "outputs": [
    {
     "name": "stdout",
     "output_type": "stream",
     "text": [
      "CombinedRes\n",
      "ExptRes\n",
      "OutputStatus\n",
      "SMS Decomposition\n",
      "Total xsec for missing topologies (fb)\n",
      "Total xsec for missing topologies with displaced decays (fb)\n",
      "Total xsec for missing topologies with prompt decays (fb)\n",
      "Total xsec for topologies outside the grid (fb)\n",
      "missing topologies\n",
      "missing topologies with displaced decays\n",
      "missing topologies with prompt decays\n",
      "topologies outside the grid\n"
     ]
    }
   ],
   "source": [
    "sortedKeys = sorted(x.keys())\n",
    "for key in sortedKeys:\n",
    "    print(key)"
   ]
  },
  {
   "cell_type": "code",
   "execution_count": 15,
   "id": "891f8fd8",
   "metadata": {},
   "outputs": [
    {
     "name": "stdout",
     "output_type": "stream",
     "text": [
      "{'AnalysisID': 'ATLAS-CONF-2013-037', 'r': 0.1092856, 'r_expected': 0.1009566, 'likelihood': 0.01900539, 'l_max': 0.02067189, 'l_SM': 0.02067189}\n"
     ]
    }
   ],
   "source": [
    "for v in x['CombinedRes']:\n",
    "    print(v)"
   ]
  },
  {
   "cell_type": "code",
   "execution_count": 16,
   "id": "b4310067",
   "metadata": {},
   "outputs": [
    {
     "name": "stdout",
     "output_type": "stream",
     "text": [
      "{'maxcond': 0.0, 'theory prediction (fb)': 0.04371422, 'upper limit (fb)': 0.4, 'expected upper limit (fb)': 0.433, 'TxNames': ['T1bbtt'], 'Mass (GeV)': None, 'AnalysisID': 'ATLAS-CONF-2013-037', 'DataSetID': 'SRbC3', 'AnalysisSqrts (TeV)': 8.0, 'lumi (fb-1)': 20.7, 'dataType': 'efficiencyMap', 'r': 0.1092856, 'r_expected': 0.1009566, 'TxNames weights (fb)': {'T1bbtt': 0.04371422206454377}, 'likelihood': 0.01900539, 'l_max': 0.02067189, 'l_SM': 0.02067189}\n",
      "{'maxcond': 0.0, 'theory prediction (fb)': 1530.012, 'upper limit (fb)': 23325110.0, 'expected upper limit (fb)': None, 'TxNames': ['T1'], 'Mass (GeV)': None, 'AnalysisID': 'ATLAS-SUSY-2013-02', 'DataSetID': None, 'AnalysisSqrts (TeV)': 8.0, 'lumi (fb-1)': 20.3, 'dataType': 'upperLimit', 'r': 6.559505e-05, 'r_expected': None, 'TxNames weights (fb)': {'T1': 1530.0117493459818}}\n"
     ]
    }
   ],
   "source": [
    "for v in x['ExptRes']:\n",
    "    print(v)"
   ]
  },
  {
   "cell_type": "code",
   "execution_count": 17,
   "id": "166ee244",
   "metadata": {},
   "outputs": [
    {
     "name": "stdout",
     "output_type": "stream",
     "text": [
      "{'sigmacut': 10.0, 'minmassgap': 5.0, 'maxcond': 0.2, 'ncpus': 1, 'model': 'share.models.mssm', 'promptwidth': 1e-11, 'stablewidth': 1e-25, 'checkinput': True, 'doinvisible': True, 'docompress': True, 'computestatistics': True, 'testcoverage': True, 'combinesrs': False, 'combineanas': 'ATLAS-CONF-2013-037,CMS-SUS-13-012', 'reportallsrs': False, 'experimentalfeatures': False, 'file status': 1, 'decomposition status': 1, 'warnings': 'Input file ok', 'input file': '../test/testFiles/slha/lightEWinos.slha', 'database version': 'unittest220', 'smodels version': '2.2.1'}\n"
     ]
    }
   ],
   "source": [
    "print(x['OutputStatus'])"
   ]
  },
  {
   "cell_type": "code",
   "execution_count": 18,
   "id": "49176cf4",
   "metadata": {},
   "outputs": [
    {
     "name": "stdout",
     "output_type": "stream",
     "text": [
      "105\n",
      "{'ID': 1, 'SMS': '(PV > N1,C1+/C1-(1)), (C1+/C1-(1) > N1/N1~,q,q)', 'Masses (GeV)': [('N1', 68.1), ('C1+/C1-', 134.4), ('N1/N1~', 68.1)], 'PIDs': [('N1', 1000022), ('C1+/C1-', [1000024, -1000024]), ('N1/N1~', [1000022, -1000022])], 'Weights (fb)': {'xsec 8.0 TeV': 38.5, 'xsec 13.0 TeV': 53.8}}\n",
      "{'ID': 2, 'SMS': '(PV > N1,C1+/C1-(1)), (C1+/C1-(1) > N1/N1~,q,c)', 'Masses (GeV)': [('N1', 68.1), ('C1+/C1-', 134.4), ('N1/N1~', 68.1)], 'PIDs': [('N1', 1000022), ('C1+/C1-', [1000024, -1000024]), ('N1/N1~', [1000022, -1000022])], 'Weights (fb)': {'xsec 8.0 TeV': 38.5, 'xsec 13.0 TeV': 53.8}}\n",
      "{'ID': 3, 'SMS': '(PV > inv,C1+/C1-(1)), (C1+/C1-(1) > N1/N1~,q,q)', 'Masses (GeV)': [('inv', 135.3), ('C1+/C1-', 134.4), ('N1/N1~', 68.1)], 'PIDs': [('inv', 1000023), ('C1+/C1-', [1000024, -1000024]), ('N1/N1~', [1000022, -1000022])], 'Weights (fb)': {'xsec 8.0 TeV': 64.7, 'xsec 13.0 TeV': 121.0}}\n"
     ]
    }
   ],
   "source": [
    "print(len(x['SMS Decomposition']))\n",
    "for sms in x['SMS Decomposition'][:3]:\n",
    "    print(sms)"
   ]
  },
  {
   "cell_type": "code",
   "execution_count": 19,
   "id": "d0942a60",
   "metadata": {},
   "outputs": [
    {
     "name": "stdout",
     "output_type": "stream",
     "text": [
      "5223.424\n",
      "0.0\n",
      "5223.424\n",
      "47.18918\n"
     ]
    }
   ],
   "source": [
    "print(x['Total xsec for missing topologies (fb)'])\n",
    "print(x['Total xsec for missing topologies with displaced decays (fb)'])\n",
    "print(x['Total xsec for missing topologies with prompt decays (fb)'])\n",
    "print(x['Total xsec for topologies outside the grid (fb)'])"
   ]
  },
  {
   "cell_type": "code",
   "execution_count": 20,
   "id": "50ab1dc9",
   "metadata": {},
   "outputs": [
    {
     "name": "stdout",
     "output_type": "stream",
     "text": [
      "{'sqrts (TeV)': 13.0, 'weight (fb)': 1203.688, 'SMS': '(PV > MET,MET,jet,jet,l,nu)', 'SMS IDs': [31, 36, 10, 18, 8, 9, 16, 17, 29, 30, 34, 35, 32, 37, 11, 19]}\n",
      "{'sqrts (TeV)': 13.0, 'weight (fb)': 600.2543, 'SMS': '(PV > MET,MET,jet,jet,ta,nu)', 'SMS IDs': [41, 26, 24, 25, 39, 40, 42, 27]}\n"
     ]
    }
   ],
   "source": [
    "for v in x['missing topologies'][:2]:\n",
    "    print(v)"
   ]
  },
  {
   "cell_type": "code",
   "execution_count": 21,
   "id": "72240d51",
   "metadata": {},
   "outputs": [
    {
     "name": "stdout",
     "output_type": "stream",
     "text": [
      "[]\n"
     ]
    }
   ],
   "source": [
    "print(x['missing topologies with displaced decays'])"
   ]
  },
  {
   "cell_type": "code",
   "execution_count": 22,
   "id": "cda26c56",
   "metadata": {},
   "outputs": [
    {
     "name": "stdout",
     "output_type": "stream",
     "text": [
      "{'sqrts (TeV)': 13.0, 'weight (fb)': 1203.688, 'SMS': '(PV > MET,MET,jet,jet,l,nu)', 'SMS IDs': [31, 36, 10, 18, 8, 9, 16, 17, 29, 30, 34, 35, 32, 37, 11, 19]}\n",
      "{'sqrts (TeV)': 13.0, 'weight (fb)': 600.2543, 'SMS': '(PV > MET,MET,jet,jet,ta,nu)', 'SMS IDs': [41, 26, 24, 25, 39, 40, 42, 27]}\n"
     ]
    }
   ],
   "source": [
    "for v in x['missing topologies with prompt decays'][:2]:\n",
    "    print(v)"
   ]
  },
  {
   "cell_type": "code",
   "execution_count": 23,
   "id": "f60ca0ec",
   "metadata": {},
   "outputs": [
    {
     "name": "stdout",
     "output_type": "stream",
     "text": [
      "{'sqrts (TeV)': 13.0, 'weight (fb)': 47.18918, 'SMS': '(PV > MET,MET,b,b,b,b)', 'SMS IDs': [62]}\n"
     ]
    }
   ],
   "source": [
    "for v in x['topologies outside the grid']:\n",
    "    print(v)"
   ]
  },
  {
   "cell_type": "code",
   "execution_count": 24,
   "id": "85fbe04d",
   "metadata": {},
   "outputs": [],
   "source": [
    "masterCopy.outputFormat = \"version2\"\n",
    "for printer in masterCopy.Printers.values():\n",
    "    printer.outputFormat = \"version2\"\n",
    "    \n",
    "x = masterCopy.flush()['python']\n",
    "os.remove(masterCopy.Printers['python'].filename)"
   ]
  },
  {
   "cell_type": "code",
   "execution_count": 25,
   "id": "8e6debe1",
   "metadata": {},
   "outputs": [
    {
     "name": "stdout",
     "output_type": "stream",
     "text": [
      "CombinedRes\n",
      "Element\n",
      "ExptRes\n",
      "OutputStatus\n",
      "Total xsec for missing topologies (fb)\n",
      "Total xsec for missing topologies with displaced decays (fb)\n",
      "Total xsec for missing topologies with prompt decays (fb)\n",
      "Total xsec for topologies outside the grid (fb)\n",
      "missing topologies\n",
      "missing topologies with displaced decays\n",
      "missing topologies with prompt decays\n",
      "topologies outside the grid\n"
     ]
    }
   ],
   "source": [
    "sortedKeys = sorted(x.keys())\n",
    "for key in sortedKeys:\n",
    "    print(key)"
   ]
  },
  {
   "cell_type": "code",
   "execution_count": 26,
   "id": "0a3292c2",
   "metadata": {},
   "outputs": [
    {
     "name": "stdout",
     "output_type": "stream",
     "text": [
      "{'AnalysisID': 'ATLAS-CONF-2013-037', 'r': 0.1092856, 'r_expected': 0.1009566, 'likelihood': 0.01900539, 'l_max': 0.02067189, 'l_SM': 0.02067189}\n"
     ]
    }
   ],
   "source": [
    "for v in x['CombinedRes']:\n",
    "    print(v)"
   ]
  },
  {
   "cell_type": "code",
   "execution_count": 27,
   "id": "f9541381",
   "metadata": {},
   "outputs": [
    {
     "name": "stdout",
     "output_type": "stream",
     "text": [
      "{'maxcond': 0.0, 'theory prediction (fb)': 0.04371422, 'upper limit (fb)': 0.4, 'expected upper limit (fb)': 0.433, 'TxNames': ['T1bbtt'], 'Mass (GeV)': None, 'AnalysisID': 'ATLAS-CONF-2013-037', 'DataSetID': 'SRbC3', 'AnalysisSqrts (TeV)': 8.0, 'lumi (fb-1)': 20.7, 'dataType': 'efficiencyMap', 'r': 0.1092856, 'r_expected': 0.1009566, 'TxNames weights (fb)': {'T1bbtt': 0.04371422206454377}, 'likelihood': 0.01900539, 'l_max': 0.02067189, 'l_SM': 0.02067189}\n",
      "{'maxcond': 0.0, 'theory prediction (fb)': 1530.012, 'upper limit (fb)': 23325110.0, 'expected upper limit (fb)': None, 'TxNames': ['T1'], 'Mass (GeV)': None, 'AnalysisID': 'ATLAS-SUSY-2013-02', 'DataSetID': None, 'AnalysisSqrts (TeV)': 8.0, 'lumi (fb-1)': 20.3, 'dataType': 'upperLimit', 'r': 6.559505e-05, 'r_expected': None, 'TxNames weights (fb)': {'T1': 1530.0117493459818}}\n"
     ]
    }
   ],
   "source": [
    "for v in x['ExptRes']:\n",
    "    print(v)"
   ]
  },
  {
   "cell_type": "code",
   "execution_count": 28,
   "id": "18569a65",
   "metadata": {},
   "outputs": [
    {
     "name": "stdout",
     "output_type": "stream",
     "text": [
      "{'sigmacut': 10.0, 'minmassgap': 5.0, 'maxcond': 0.2, 'ncpus': 1, 'model': 'share.models.mssm', 'promptwidth': 1e-11, 'stablewidth': 1e-25, 'checkinput': True, 'doinvisible': True, 'docompress': True, 'computestatistics': True, 'testcoverage': True, 'combinesrs': False, 'combineanas': 'ATLAS-CONF-2013-037,CMS-SUS-13-012', 'reportallsrs': False, 'experimentalfeatures': False, 'file status': 1, 'decomposition status': 1, 'warnings': 'Input file ok', 'input file': '../test/testFiles/slha/lightEWinos.slha', 'database version': 'unittest220', 'smodels version': '2.2.1'}\n"
     ]
    }
   ],
   "source": [
    "print(x['OutputStatus'])"
   ]
  },
  {
   "cell_type": "code",
   "execution_count": 29,
   "id": "bdc19c8d",
   "metadata": {},
   "outputs": [
    {
     "name": "stdout",
     "output_type": "stream",
     "text": [
      "105\n",
      "{'ID': 1, 'Particles': '[[],[[q,q]]]', 'final states': ['N1', 'N1/N1~'], 'Masses (GeV)': [[68.1], [134.4, 68.1]], 'PIDs': [[1000022], [[1000024, -1000024], [1000022, -1000022]]], 'Weights (fb)': {'xsec 8.0 TeV': 38.5, 'xsec 13.0 TeV': 53.8}}\n",
      "{'ID': 2, 'Particles': '[[],[[q,c]]]', 'final states': ['N1', 'N1/N1~'], 'Masses (GeV)': [[68.1], [134.4, 68.1]], 'PIDs': [[1000022], [[1000024, -1000024], [1000022, -1000022]]], 'Weights (fb)': {'xsec 8.0 TeV': 38.5, 'xsec 13.0 TeV': 53.8}}\n",
      "{'ID': 3, 'Particles': '[[],[[q,q]]]', 'final states': ['inv', 'N1/N1~'], 'Masses (GeV)': [[135.3], [134.4, 68.1]], 'PIDs': [[1000023], [[1000024, -1000024], [1000022, -1000022]]], 'Weights (fb)': {'xsec 8.0 TeV': 64.7, 'xsec 13.0 TeV': 121.0}}\n"
     ]
    }
   ],
   "source": [
    "print(len(x['Element']))\n",
    "for sms in x['Element'][:3]:\n",
    "    print(sms)"
   ]
  },
  {
   "cell_type": "code",
   "execution_count": 30,
   "id": "be084fa1",
   "metadata": {},
   "outputs": [
    {
     "name": "stdout",
     "output_type": "stream",
     "text": [
      "5223.424\n",
      "0.0\n",
      "5223.424\n",
      "47.18918\n"
     ]
    }
   ],
   "source": [
    "print(x['Total xsec for missing topologies (fb)'])\n",
    "print(x['Total xsec for missing topologies with displaced decays (fb)'])\n",
    "print(x['Total xsec for missing topologies with prompt decays (fb)'])\n",
    "print(x['Total xsec for topologies outside the grid (fb)'])"
   ]
  },
  {
   "cell_type": "code",
   "execution_count": 31,
   "id": "ce491985",
   "metadata": {},
   "outputs": [
    {
     "name": "stdout",
     "output_type": "stream",
     "text": [
      "{'sqrts (TeV)': 13.0, 'weight (fb)': 1203.688, 'SMS': '[jet,jet,l,nu]  (MET,MET)', 'SMS IDs': [31, 36, 10, 18, 8, 9, 16, 17, 29, 30, 34, 35, 32, 37, 11, 19]}\n",
      "{'sqrts (TeV)': 13.0, 'weight (fb)': 600.2543, 'SMS': '[jet,jet,ta,nu]  (MET,MET)', 'SMS IDs': [41, 26, 24, 25, 39, 40, 42, 27]}\n"
     ]
    }
   ],
   "source": [
    "for v in x['missing topologies'][:2]:\n",
    "    print(v)"
   ]
  },
  {
   "cell_type": "code",
   "execution_count": 32,
   "id": "d4cfcb98",
   "metadata": {},
   "outputs": [
    {
     "name": "stdout",
     "output_type": "stream",
     "text": [
      "[]\n"
     ]
    }
   ],
   "source": [
    "print(x['missing topologies with displaced decays'])"
   ]
  },
  {
   "cell_type": "code",
   "execution_count": 33,
   "id": "8741a7ea",
   "metadata": {},
   "outputs": [
    {
     "name": "stdout",
     "output_type": "stream",
     "text": [
      "{'sqrts (TeV)': 13.0, 'weight (fb)': 1203.688, 'SMS': '[jet,jet,l,nu]  (MET,MET)', 'SMS IDs': [31, 36, 10, 18, 8, 9, 16, 17, 29, 30, 34, 35, 32, 37, 11, 19]}\n",
      "{'sqrts (TeV)': 13.0, 'weight (fb)': 600.2543, 'SMS': '[jet,jet,ta,nu]  (MET,MET)', 'SMS IDs': [41, 26, 24, 25, 39, 40, 42, 27]}\n"
     ]
    }
   ],
   "source": [
    "for v in x['missing topologies with prompt decays'][:2]:\n",
    "    print(v)"
   ]
  },
  {
   "cell_type": "code",
   "execution_count": 34,
   "id": "452fa08a",
   "metadata": {},
   "outputs": [
    {
     "name": "stdout",
     "output_type": "stream",
     "text": [
      "{'sqrts (TeV)': 13.0, 'weight (fb)': 47.18918, 'SMS': '[b,b,b,b]  (MET,MET)', 'SMS IDs': [62]}\n"
     ]
    }
   ],
   "source": [
    "for v in x['topologies outside the grid']:\n",
    "    print(v)"
   ]
  },
  {
   "cell_type": "code",
   "execution_count": null,
   "id": "f5e9bfac",
   "metadata": {},
   "outputs": [],
   "source": []
  }
 ],
 "metadata": {
  "kernelspec": {
   "display_name": "Python 3 (ipykernel)",
   "language": "python",
   "name": "python3"
  },
  "language_info": {
   "codemirror_mode": {
    "name": "ipython",
    "version": 3
   },
   "file_extension": ".py",
   "mimetype": "text/x-python",
   "name": "python",
   "nbconvert_exporter": "python",
   "pygments_lexer": "ipython3",
   "version": "3.10.4"
  }
 },
 "nbformat": 4,
 "nbformat_minor": 5
}
