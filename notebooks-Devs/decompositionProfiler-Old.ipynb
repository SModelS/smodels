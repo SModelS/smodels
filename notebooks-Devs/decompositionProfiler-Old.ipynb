{
 "cells": [
  {
   "cell_type": "code",
   "execution_count": 1,
   "metadata": {},
   "outputs": [],
   "source": [
    "import sys\n",
    "sys.path.append('/home/lessa/smodels')\n",
    "import networkx as nx\n",
    "import time\n",
    "from smodels.theory.exceptions import SModelSTheoryError as SModelSError\n",
    "from smodels.tools.smodelsLogging import logger\n",
    "import matplotlib.pyplot as plt\n",
    "from networkx.drawing.nx_agraph import graphviz_layout\n",
    "from smodels.theory.element import Element\n",
    "from smodels.theory.topology import TopologyList,Topology\n",
    "from smodels.theory.crossSection import XSection,XSectionInfo,XSectionList\n",
    "from smodels.particlesLoader import BSMList\n",
    "from smodels.share.models.SMparticles import SMList\n",
    "from smodels.theory.model import Model\n",
    "from smodels.theory.particle import Particle\n",
    "from smodels.tools.physicsUnits import fb, GeV\n",
    "# from smodels.theory.tree import Tree,ParticleNode\n",
    "from smodels.theory.decomposer import decompose\n",
    "from smodels.tools.smodelsLogging import logger\n",
    "# from smodels.theory.treeMatcher import TreeMatcher\n",
    "# logger.setLevel('DEBUG')\n",
    "import itertools\n",
    "%load_ext line_profiler"
   ]
  },
  {
   "cell_type": "markdown",
   "metadata": {},
   "source": [
    "### Load model"
   ]
  },
  {
   "cell_type": "code",
   "execution_count": 2,
   "metadata": {},
   "outputs": [],
   "source": [
    "slhafile = '../inputFiles/slha/lightEWinos.slha'\n",
    "# slhafile = '../inputFiles/slha/simplyGluino.slha'\n",
    "model = Model(BSMparticles=BSMList, SMparticles=SMList)\n",
    "model.updateParticles(inputFile=slhafile)\n"
   ]
  },
  {
   "cell_type": "markdown",
   "metadata": {},
   "source": [
    "### Check with large sigmacut"
   ]
  },
  {
   "cell_type": "code",
   "execution_count": 21,
   "metadata": {},
   "outputs": [
    {
     "name": "stdout",
     "output_type": "stream",
     "text": [
      "decomposer done in 5.41 s.\n",
      "5624 unique elements\n"
     ]
    }
   ],
   "source": [
    "sigmacut = 0.1*fb\n",
    "t0 = time.time()\n",
    "topDict = decompose(model, sigmacut= sigmacut, doCompress=True, doInvisible=True)\n",
    "print(\"decomposer done in %.2f s.\" % (time.time() -t0 ) )\n",
    "# nUnique = 103 # uncompressed\n",
    "print('%i unique elements' %(len(topDict.getElements())))\n",
    "# print('%i unique elements (expected)' %nUnique)"
   ]
  },
  {
   "cell_type": "code",
   "execution_count": 14,
   "metadata": {},
   "outputs": [
    {
     "name": "stdout",
     "output_type": "stream",
     "text": [
      "[[[q,q]],[[q,q]]] [[C1+/C1-, N1/N1~], [N2, N1]] 732.857\n",
      "[[[c,q]],[[q,q]]] [[C1+/C1-, N1/N1~], [N2, N1]] 732.857\n",
      "[[[q,q]],[[c,q]]] [[C1-/C1+, N1~/N1], [C1+/C1-, N1/N1~]] 493.910\n",
      "[[[q,q]],[[b,b]]] [[C1+/C1-, N1/N1~], [N2, N1]] 253.769\n",
      "[[[c,q]],[[b,b]]] [[C1+/C1-, N1/N1~], [N2, N1]] 253.769\n",
      "[[[q,q]],[[q,q]]] [[C1-, N1~], [C1+, N1]] 246.955\n",
      "[[[c,q]],[[c,q]]] [[C1-, N1~], [C1+, N1]] 246.955\n",
      "[[[q,q]],[[c,c]]] [[C1+/C1-, N1/N1~], [N2, N1]] 203.985\n",
      "[[[c,q]],[[c,c]]] [[C1+/C1-, N1/N1~], [N2, N1]] 203.985\n",
      "[[[e+,nu]],[[q,q]]] [[C1+, N1], [N2, N1]] 146.393\n",
      "[[[mu+,nu]],[[q,q]]] [[C1+, N1], [N2, N1]] 146.393\n",
      "[[[nu,ta+]],[[q,q]]] [[C1+, N1], [N2, N1]] 146.007\n",
      "[[[e-,nu]],[[q,q]]] [[C1-, N1~], [C1+, N1]] 77.223\n",
      "[[[e-,nu]],[[c,q]]] [[C1-, N1~], [C1+, N1]] 77.223\n",
      "[[[mu-,nu]],[[q,q]]] [[C1-, N1~], [C1+, N1]] 77.223\n",
      "[[[mu-,nu]],[[c,q]]] [[C1-, N1~], [C1+, N1]] 77.223\n",
      "[[[e+,nu]],[[q,q]]] [[C1+, N1], [C1-, N1~]] 77.223\n",
      "[[[e+,nu]],[[c,q]]] [[C1+, N1], [C1-, N1~]] 77.223\n",
      "[[[mu+,nu]],[[q,q]]] [[C1+, N1], [C1-, N1~]] 77.223\n",
      "[[[mu+,nu]],[[c,q]]] [[C1+, N1], [C1-, N1~]] 77.223\n",
      "[[[nu,ta-]],[[q,q]]] [[C1-, N1~], [C1+, N1]] 77.019\n",
      "[[[nu,ta-]],[[c,q]]] [[C1-, N1~], [C1+, N1]] 77.019\n",
      "[[[nu,ta+]],[[q,q]]] [[C1+, N1], [C1-, N1~]] 77.019\n",
      "[[[nu,ta+]],[[c,q]]] [[C1+, N1], [C1-, N1~]] 77.019\n",
      "[[[b,b]],[[b,t-],[q,q]]] [[gluino, N1], [gluino, C1+, N1]] 60.072\n",
      "[[[b,b]],[[b,t-],[c,q]]] [[gluino, N1], [gluino, C1+, N1]] 60.072\n",
      "[[[b,b]],[[b,t+],[q,q]]] [[gluino, N1], [gluino, C1-, N1~]] 60.072\n",
      "[[[b,b]],[[b,t+],[c,q]]] [[gluino, N1], [gluino, C1-, N1~]] 60.072\n",
      "[[[e+,nu]],[[b,b]]] [[C1+, N1], [N2, N1]] 50.692\n",
      "[[[mu+,nu]],[[b,b]]] [[C1+, N1], [N2, N1]] 50.692\n",
      "[[[nu,ta+]],[[b,b]]] [[C1+, N1], [N2, N1]] 50.558\n",
      "[[[b,b]],[[b,b]]] [[gluino, N1], [gluino, N1]] 47.189\n",
      "[[[e+,nu]],[[c,c]]] [[C1+, N1], [N2, N1]] 40.747\n",
      "[[[mu+,nu]],[[c,c]]] [[C1+, N1], [N2, N1]] 40.747\n",
      "[[[nu,ta+]],[[c,c]]] [[C1+, N1], [N2, N1]] 40.640\n",
      "[[],[[q,q]]] [[N1], [C1+, N1]] 31.289\n",
      "[[],[[c,q]]] [[N1], [C1+, N1]] 31.289\n"
     ]
    }
   ],
   "source": [
    "elList = sorted(topDict.getElements(), key = lambda el : el.weight.getMaxXsec(),reverse=True)    \n",
    "for el in elList:\n",
    "    print(str(el).replace(\"'\",\"\").replace(\" \",\"\"),el.oddParticles,'%1.3f' %el.weight.getMaxXsec().asNumber(fb))"
   ]
  },
  {
   "cell_type": "code",
   "execution_count": 5,
   "metadata": {},
   "outputs": [],
   "source": [
    "# %lprun -f Topology.addElement decompose(model, sigmacut= sigmacut,doCompress=False, doInvisible=False)"
   ]
  },
  {
   "cell_type": "code",
   "execution_count": 6,
   "metadata": {},
   "outputs": [],
   "source": [
    "# %lprun -f decompose decompose(model, sigmacut= sigmacut,doCompress=False, doInvisible=False)"
   ]
  },
  {
   "cell_type": "code",
   "execution_count": 7,
   "metadata": {},
   "outputs": [],
   "source": [
    "%lprun -f Particle.__cmp__ decompose(model, sigmacut= sigmacut,doCompress=False, doInvisible=False)"
   ]
  },
  {
   "cell_type": "code",
   "execution_count": 8,
   "metadata": {},
   "outputs": [
    {
     "name": "stderr",
     "output_type": "stream",
     "text": [
      "UsageError: Could not find module Branch.__cmp__.\n",
      "NameError: name 'Branch' is not defined\n"
     ]
    }
   ],
   "source": [
    "%lprun -f Element.__cmp__ -f Branch.__cmp__ decompose(model, sigmacut= sigmacut,doCompress=False, doInvisible=False)"
   ]
  },
  {
   "cell_type": "code",
   "execution_count": null,
   "metadata": {},
   "outputs": [],
   "source": [
    "# decomposer done in 26.51 s."
   ]
  }
 ],
 "metadata": {
  "kernelspec": {
   "display_name": "Python 3",
   "language": "python",
   "name": "python3"
  },
  "language_info": {
   "codemirror_mode": {
    "name": "ipython",
    "version": 3
   },
   "file_extension": ".py",
   "mimetype": "text/x-python",
   "name": "python",
   "nbconvert_exporter": "python",
   "pygments_lexer": "ipython3",
   "version": "3.9.7"
  }
 },
 "nbformat": 4,
 "nbformat_minor": 2
}
