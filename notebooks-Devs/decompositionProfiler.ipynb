{
 "cells": [
  {
   "cell_type": "code",
   "execution_count": 1,
   "metadata": {},
   "outputs": [],
   "source": [
    "import sys\n",
    "sys.path.append('../')\n",
    "import networkx as nx\n",
    "import time\n",
    "from smodels.theory.exceptions import SModelSTheoryError as SModelSError\n",
    "from smodels.tools.smodelsLogging import logger\n",
    "import matplotlib.pyplot as plt\n",
    "from networkx.drawing.nx_agraph import graphviz_layout\n",
    "from smodels.theory.element import Element\n",
    "from smodels.theory.topology import TopologyDict\n",
    "from smodels.theory.crossSection import XSection,XSectionInfo,XSectionList\n",
    "from smodels.particlesLoader import BSMList\n",
    "from smodels.share.models.SMparticles import SMList\n",
    "from smodels.theory.model import Model\n",
    "from smodels.tools.physicsUnits import fb, GeV\n",
    "from smodels.theory.tree import Tree,ParticleNode\n",
    "from smodels.theory.decomposer import decompose\n",
    "from smodels.tools.smodelsLogging import logger\n",
    "from smodels.theory.treeMatcher import TreeMatcher\n",
    "from smodels.theory.auxiliaryFunctions import index_bisect\n",
    "# logger.setLevel('DEBUG')\n",
    "import itertools\n",
    "%load_ext line_profiler"
   ]
  },
  {
   "cell_type": "markdown",
   "metadata": {},
   "source": [
    "### Load model"
   ]
  },
  {
   "cell_type": "code",
   "execution_count": 2,
   "metadata": {},
   "outputs": [],
   "source": [
    "slhafile = '../inputFiles/slha/lightEWinos.slha'\n",
    "# slhafile = '../inputFiles/slha/simplyGluino.slha'\n",
    "model = Model(BSMparticles=BSMList, SMparticles=SMList)\n",
    "model.updateParticles(inputFile=slhafile)\n"
   ]
  },
  {
   "cell_type": "markdown",
   "metadata": {},
   "source": [
    "### Check with large sigmacut"
   ]
  },
  {
   "cell_type": "code",
   "execution_count": 3,
   "metadata": {},
   "outputs": [
    {
     "name": "stdout",
     "output_type": "stream",
     "text": [
      "decomposer done in 1.21 s.\n",
      "228 unique elements\n"
     ]
    }
   ],
   "source": [
    "sigmacut = 5*fb\n",
    "t0 = time.time()\n",
    "topDict = decompose(model, sigmacut= sigmacut, massCompress=False, invisibleCompress=False)\n",
    "print(\"decomposer done in %.2f s.\" % (time.time() -t0 ) )\n",
    "# nUnique = 103 # uncompressed\n",
    "print('%i unique elements' %(len(topDict.getElements())))\n",
    "# print('%i unique elements (expected)' %nUnique)"
   ]
  },
  {
   "cell_type": "code",
   "execution_count": 4,
   "metadata": {},
   "outputs": [],
   "source": [
    "# %lprun -f TopologyDict.addElement decompose(model, sigmacut= sigmacut,massCompress=False, invisibleCompress=False)"
   ]
  },
  {
   "cell_type": "code",
   "execution_count": 5,
   "metadata": {},
   "outputs": [],
   "source": [
    "# %lprun -f TreeMatcher.compareTrees decompose(model, sigmacut= sigmacut,massCompress=False, invisibleCompress=False)"
   ]
  },
  {
   "cell_type": "code",
   "execution_count": 6,
   "metadata": {},
   "outputs": [],
   "source": [
    "# %lprun -f decompose decompose(model, sigmacut= sigmacut,massCompress=False, invisibleCompress=False)"
   ]
  },
  {
   "cell_type": "code",
   "execution_count": 7,
   "metadata": {},
   "outputs": [],
   "source": [
    "# %lprun -f TreeMatcher.compareSubTrees -f TreeMatcher.compareTrees -f decompose decompose(model, sigmacut= sigmacut,massCompress=False, invisibleCompress=False)"
   ]
  },
  {
   "cell_type": "code",
   "execution_count": 11,
   "metadata": {},
   "outputs": [],
   "source": [
    "%lprun -f Tree.__init__ -f Element.__init__ -f Tree.sort -f Element.sort decompose(model, sigmacut= sigmacut,massCompress=False, invisibleCompress=False)"
   ]
  },
  {
   "cell_type": "code",
   "execution_count": 9,
   "metadata": {},
   "outputs": [],
   "source": [
    "# %lprun -f Element.sort decompose(model, sigmacut= sigmacut,massCompress=False, invisibleCompress=False)"
   ]
  },
  {
   "cell_type": "code",
   "execution_count": null,
   "metadata": {},
   "outputs": [],
   "source": []
  }
 ],
 "metadata": {
  "kernelspec": {
   "display_name": "Python 3 (ipykernel)",
   "language": "python",
   "name": "python3"
  },
  "language_info": {
   "codemirror_mode": {
    "name": "ipython",
    "version": 3
   },
   "file_extension": ".py",
   "mimetype": "text/x-python",
   "name": "python",
   "nbconvert_exporter": "python",
   "pygments_lexer": "ipython3",
   "version": "3.9.7"
  }
 },
 "nbformat": 4,
 "nbformat_minor": 2
}
