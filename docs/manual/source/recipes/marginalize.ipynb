{
 "cells": [
  {
   "cell_type": "markdown",
   "metadata": {},
   "source": [
    "## Marginalize a combined result, instead of profiling it"
   ]
  },
  {
   "cell_type": "code",
   "execution_count": 1,
   "metadata": {},
   "outputs": [],
   "source": [
    "# Set up the path to SModelS installation folder\n",
    "import sys; sys.path.append( \".\" ); import smodels_paths"
   ]
  },
  {
   "cell_type": "code",
   "execution_count": 2,
   "metadata": {},
   "outputs": [],
   "source": [
    "from smodels.theory import decomposer\n",
    "from smodels.installation import installDirectory\n",
    "from smodels.matcher.theoryPrediction import theoryPredictionsFor\n",
    "from smodels.tools.physicsUnits import fb, GeV\n",
    "from smodels.experiment.databaseObj import Database\n",
    "from smodels.share.models.mssm import BSMList\n",
    "from smodels.share.models.SMparticles import SMList\n",
    "from smodels.theory.model import Model"
   ]
  },
  {
   "cell_type": "code",
   "execution_count": 3,
   "metadata": {},
   "outputs": [
    {
     "name": "stdout",
     "output_type": "stream",
     "text": [
      "loading >...................................................done.\n"
     ]
    }
   ],
   "source": [
    "# load the official database\n",
    "database = Database(\"unittest\")"
   ]
  },
  {
   "cell_type": "code",
   "execution_count": 4,
   "metadata": {},
   "outputs": [],
   "source": [
    "# however filter out the aggregated CMS-SUS-16-050 result\n",
    "expResult = database.getExpResults( analysisIDs=[\"CMS-SUS-16-050-agg\"] )[0]"
   ]
  },
  {
   "cell_type": "code",
   "execution_count": 5,
   "metadata": {},
   "outputs": [
    {
     "name": "stdout",
     "output_type": "stream",
     "text": [
      "CMS-SUS-16-050-agg: ar1,ar2,ar3,ar4,ar5,ar6,ar7,ar8,ar9,ar10,ar11,ar12,ar13,ar14,ar15,ar16,ar17,ar18,ar19,ar20,ar21,ar22,ar23,ar24,ar25,ar26,ar27,ar28,ar29,ar30,ar31,ar32,ar33,ar34,ar35,ar36,ar37,ar38,ar39,ar40,ar41,ar42,ar43,ar44,ar45,ar46,ar47,ar48,ar49,ar50,ar51,ar52,ar53,ar54,ar55,ar56(56):T1tttt,T2tt,T5tctc(3)\n"
     ]
    }
   ],
   "source": [
    "# Check: print out the experimental result\n",
    "print(expResult)"
   ]
  },
  {
   "cell_type": "code",
   "execution_count": 6,
   "metadata": {},
   "outputs": [],
   "source": [
    "# We look at a model that has gluinos -> t t LSP\n",
    "filename=\"inputFiles/slha/gluinoToTops.slha\"\n",
    "model = Model(BSMList,SMList,filename)\n",
    "model.updateParticles()"
   ]
  },
  {
   "cell_type": "code",
   "execution_count": 7,
   "metadata": {},
   "outputs": [
    {
     "name": "stdout",
     "output_type": "stream",
     "text": [
      "TopologyList:\n",
      "[2][2]\n",
      "\n",
      "[[[t+,t-]],[[t+,t-]]] (N1, N1)\n",
      "T1tttt [[[t,t]],[[t,t]]]\n",
      "T2tt [[[t]],[[t]]]\n",
      "T5tctc [[[t],[c]],[[t],[c]]]\n",
      "T1tttt [[[t,t]],[[t,t]]]\n",
      "T2tt [[[t]],[[t]]]\n",
      "T5tctc [[[t],[c]],[[t],[c]]]\n",
      "T1tttt [[[t,t]],[[t,t]]]\n",
      "T2tt [[[t]],[[t]]]\n",
      "T5tctc [[[t],[c]],[[t],[c]]]\n",
      "T1tttt [[[t,t]],[[t,t]]]\n",
      "T2tt [[[t]],[[t]]]\n",
      "T5tctc [[[t],[c]],[[t],[c]]]\n",
      "T1tttt [[[t,t]],[[t,t]]]\n",
      "T2tt [[[t]],[[t]]]\n",
      "T5tctc [[[t],[c]],[[t],[c]]]\n",
      "T1tttt [[[t,t]],[[t,t]]]\n",
      "T2tt [[[t]],[[t]]]\n",
      "T5tctc [[[t],[c]],[[t],[c]]]\n",
      "T1tttt [[[t,t]],[[t,t]]]\n",
      "T2tt [[[t]],[[t]]]\n",
      "T5tctc [[[t],[c]],[[t],[c]]]\n",
      "T1tttt [[[t,t]],[[t,t]]]\n",
      "T2tt [[[t]],[[t]]]\n",
      "T5tctc [[[t],[c]],[[t],[c]]]\n",
      "T1tttt [[[t,t]],[[t,t]]]\n",
      "T2tt [[[t]],[[t]]]\n",
      "T5tctc [[[t],[c]],[[t],[c]]]\n",
      "T1tttt [[[t,t]],[[t,t]]]\n",
      "T2tt [[[t]],[[t]]]\n",
      "T5tctc [[[t],[c]],[[t],[c]]]\n",
      "T1tttt [[[t,t]],[[t,t]]]\n",
      "T2tt [[[t]],[[t]]]\n",
      "T5tctc [[[t],[c]],[[t],[c]]]\n",
      "T1tttt [[[t,t]],[[t,t]]]\n",
      "T2tt [[[t]],[[t]]]\n",
      "T5tctc [[[t],[c]],[[t],[c]]]\n",
      "T1tttt [[[t,t]],[[t,t]]]\n",
      "T2tt [[[t]],[[t]]]\n",
      "T5tctc [[[t],[c]],[[t],[c]]]\n",
      "T1tttt [[[t,t]],[[t,t]]]\n",
      "T2tt [[[t]],[[t]]]\n",
      "T5tctc [[[t],[c]],[[t],[c]]]\n",
      "T1tttt [[[t,t]],[[t,t]]]\n",
      "T2tt [[[t]],[[t]]]\n",
      "T5tctc [[[t],[c]],[[t],[c]]]\n",
      "T1tttt [[[t,t]],[[t,t]]]\n",
      "T2tt [[[t]],[[t]]]\n",
      "T5tctc [[[t],[c]],[[t],[c]]]\n",
      "T1tttt [[[t,t]],[[t,t]]]\n",
      "T2tt [[[t]],[[t]]]\n",
      "T5tctc [[[t],[c]],[[t],[c]]]\n",
      "T1tttt [[[t,t]],[[t,t]]]\n",
      "T2tt [[[t]],[[t]]]\n",
      "T5tctc [[[t],[c]],[[t],[c]]]\n",
      "T1tttt [[[t,t]],[[t,t]]]\n",
      "T2tt [[[t]],[[t]]]\n",
      "T5tctc [[[t],[c]],[[t],[c]]]\n",
      "T1tttt [[[t,t]],[[t,t]]]\n",
      "T2tt [[[t]],[[t]]]\n",
      "T5tctc [[[t],[c]],[[t],[c]]]\n",
      "T1tttt [[[t,t]],[[t,t]]]\n",
      "T2tt [[[t]],[[t]]]\n",
      "T5tctc [[[t],[c]],[[t],[c]]]\n",
      "T1tttt [[[t,t]],[[t,t]]]\n",
      "T2tt [[[t]],[[t]]]\n",
      "T5tctc [[[t],[c]],[[t],[c]]]\n",
      "T1tttt [[[t,t]],[[t,t]]]\n",
      "T2tt [[[t]],[[t]]]\n",
      "T5tctc [[[t],[c]],[[t],[c]]]\n",
      "T1tttt [[[t,t]],[[t,t]]]\n",
      "T2tt [[[t]],[[t]]]\n",
      "T5tctc [[[t],[c]],[[t],[c]]]\n",
      "T1tttt [[[t,t]],[[t,t]]]\n",
      "T2tt [[[t]],[[t]]]\n",
      "T5tctc [[[t],[c]],[[t],[c]]]\n",
      "T1tttt [[[t,t]],[[t,t]]]\n",
      "T2tt [[[t]],[[t]]]\n",
      "T5tctc [[[t],[c]],[[t],[c]]]\n",
      "T1tttt [[[t,t]],[[t,t]]]\n",
      "T2tt [[[t]],[[t]]]\n",
      "T5tctc [[[t],[c]],[[t],[c]]]\n",
      "T1tttt [[[t,t]],[[t,t]]]\n",
      "T2tt [[[t]],[[t]]]\n",
      "T5tctc [[[t],[c]],[[t],[c]]]\n",
      "T1tttt [[[t,t]],[[t,t]]]\n",
      "T2tt [[[t]],[[t]]]\n",
      "T5tctc [[[t],[c]],[[t],[c]]]\n",
      "T1tttt [[[t,t]],[[t,t]]]\n",
      "T2tt [[[t]],[[t]]]\n",
      "T5tctc [[[t],[c]],[[t],[c]]]\n",
      "T1tttt [[[t,t]],[[t,t]]]\n",
      "T2tt [[[t]],[[t]]]\n",
      "T5tctc [[[t],[c]],[[t],[c]]]\n",
      "T1tttt [[[t,t]],[[t,t]]]\n",
      "T2tt [[[t]],[[t]]]\n",
      "T5tctc [[[t],[c]],[[t],[c]]]\n",
      "T1tttt [[[t,t]],[[t,t]]]\n",
      "T2tt [[[t]],[[t]]]\n",
      "T5tctc [[[t],[c]],[[t],[c]]]\n",
      "T1tttt [[[t,t]],[[t,t]]]\n",
      "T2tt [[[t]],[[t]]]\n",
      "T5tctc [[[t],[c]],[[t],[c]]]\n",
      "T1tttt [[[t,t]],[[t,t]]]\n",
      "T2tt [[[t]],[[t]]]\n",
      "T5tctc [[[t],[c]],[[t],[c]]]\n",
      "T1tttt [[[t,t]],[[t,t]]]\n",
      "T2tt [[[t]],[[t]]]\n",
      "T5tctc [[[t],[c]],[[t],[c]]]\n",
      "T1tttt [[[t,t]],[[t,t]]]\n",
      "T2tt [[[t]],[[t]]]\n",
      "T5tctc [[[t],[c]],[[t],[c]]]\n",
      "T1tttt [[[t,t]],[[t,t]]]\n",
      "T2tt [[[t]],[[t]]]\n",
      "T5tctc [[[t],[c]],[[t],[c]]]\n",
      "T1tttt [[[t,t]],[[t,t]]]\n",
      "T2tt [[[t]],[[t]]]\n",
      "T5tctc [[[t],[c]],[[t],[c]]]\n",
      "T1tttt [[[t,t]],[[t,t]]]\n",
      "T2tt [[[t]],[[t]]]\n",
      "T5tctc [[[t],[c]],[[t],[c]]]\n",
      "T1tttt [[[t,t]],[[t,t]]]\n",
      "T2tt [[[t]],[[t]]]\n",
      "T5tctc [[[t],[c]],[[t],[c]]]\n",
      "T1tttt [[[t,t]],[[t,t]]]\n",
      "T2tt [[[t]],[[t]]]\n",
      "T5tctc [[[t],[c]],[[t],[c]]]\n",
      "T1tttt [[[t,t]],[[t,t]]]\n",
      "T2tt [[[t]],[[t]]]\n",
      "T5tctc [[[t],[c]],[[t],[c]]]\n",
      "T1tttt [[[t,t]],[[t,t]]]\n",
      "T2tt [[[t]],[[t]]]\n",
      "T5tctc [[[t],[c]],[[t],[c]]]\n",
      "T1tttt [[[t,t]],[[t,t]]]\n",
      "T2tt [[[t]],[[t]]]\n",
      "T5tctc [[[t],[c]],[[t],[c]]]\n",
      "T1tttt [[[t,t]],[[t,t]]]\n",
      "T2tt [[[t]],[[t]]]\n",
      "T5tctc [[[t],[c]],[[t],[c]]]\n",
      "T1tttt [[[t,t]],[[t,t]]]\n",
      "T2tt [[[t]],[[t]]]\n",
      "T5tctc [[[t],[c]],[[t],[c]]]\n",
      "T1tttt [[[t,t]],[[t,t]]]\n",
      "T2tt [[[t]],[[t]]]\n",
      "T5tctc [[[t],[c]],[[t],[c]]]\n",
      "T1tttt [[[t,t]],[[t,t]]]\n",
      "T2tt [[[t]],[[t]]]\n",
      "T5tctc [[[t],[c]],[[t],[c]]]\n",
      "T1tttt [[[t,t]],[[t,t]]]\n",
      "T2tt [[[t]],[[t]]]\n",
      "T5tctc [[[t],[c]],[[t],[c]]]\n",
      "T1tttt [[[t,t]],[[t,t]]]\n",
      "T2tt [[[t]],[[t]]]\n",
      "T5tctc [[[t],[c]],[[t],[c]]]\n",
      "T1tttt [[[t,t]],[[t,t]]]\n",
      "T2tt [[[t]],[[t]]]\n",
      "T5tctc [[[t],[c]],[[t],[c]]]\n",
      "T1tttt [[[t,t]],[[t,t]]]\n",
      "T2tt [[[t]],[[t]]]\n",
      "T5tctc [[[t],[c]],[[t],[c]]]\n",
      "T1tttt [[[t,t]],[[t,t]]]\n",
      "T2tt [[[t]],[[t]]]\n",
      "T5tctc [[[t],[c]],[[t],[c]]]\n",
      "T1tttt [[[t,t]],[[t,t]]]\n",
      "T2tt [[[t]],[[t]]]\n",
      "T5tctc [[[t],[c]],[[t],[c]]]\n",
      "T1tttt [[[t,t]],[[t,t]]]\n",
      "T2tt [[[t]],[[t]]]\n",
      "T5tctc [[[t],[c]],[[t],[c]]]\n"
     ]
    }
   ],
   "source": [
    "# perform the decompoistion\n",
    "topList = decomposer.decompose(model)\n",
    "print ( topList )\n",
    "for el in topList.getElements():\n",
    "    print(el.toStr())\n",
    "for tx in expResult.getTxNames():\n",
    "    print(tx,tx.constraint)"
   ]
  },
  {
   "cell_type": "code",
   "execution_count": 8,
   "metadata": {},
   "outputs": [],
   "source": [
    "# obtain the theory predictions with marginalize=False\n",
    "predProf = theoryPredictionsFor(expResult, topList, combinedResults=True, marginalize=False ) "
   ]
  },
  {
   "cell_type": "code",
   "execution_count": 9,
   "metadata": {},
   "outputs": [
    {
     "name": "stdout",
     "output_type": "stream",
     "text": [
      "0.21582217195257858\n"
     ]
    }
   ],
   "source": [
    "# print the combined upper limit\n",
    "print(predProf[1].getUpperLimit().asNumber(fb))"
   ]
  },
  {
   "cell_type": "code",
   "execution_count": 10,
   "metadata": {},
   "outputs": [],
   "source": [
    "# obtain the theory predictions with marginalize=True\n",
    "predMarg = theoryPredictionsFor(expResult, topList, combinedResults=True, marginalize=True )"
   ]
  },
  {
   "cell_type": "code",
   "execution_count": 11,
   "metadata": {},
   "outputs": [
    {
     "name": "stdout",
     "output_type": "stream",
     "text": [
      "0.3196236894638584\n"
     ]
    }
   ],
   "source": [
    "# print the combined upper limit\n",
    "print(predMarg[1].getUpperLimit().asNumber(fb))"
   ]
  },
  {
   "cell_type": "code",
   "execution_count": 12,
   "metadata": {},
   "outputs": [],
   "source": [
    "## for how to compute likelihoods and chi2 values, see the \"compute_likelihood\" how to."
   ]
  }
 ],
 "metadata": {
  "kernelspec": {
   "display_name": "Python 3",
   "language": "python",
   "name": "python3"
  },
  "language_info": {
   "codemirror_mode": {
    "name": "ipython",
    "version": 3
   },
   "file_extension": ".py",
   "mimetype": "text/x-python",
   "name": "python",
   "nbconvert_exporter": "python",
   "pygments_lexer": "ipython3",
   "version": "3.6.3"
  }
 },
 "nbformat": 4,
 "nbformat_minor": 2
}
