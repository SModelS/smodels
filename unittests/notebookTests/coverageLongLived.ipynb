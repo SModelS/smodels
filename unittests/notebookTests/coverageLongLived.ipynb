{
 "cells": [
  {
   "cell_type": "code",
   "execution_count": 1,
   "metadata": {},
   "outputs": [],
   "source": [
    "import sys,os\n",
    "sys.path.append('../../')\n",
    "from smodels.base import runtime\n",
    "# Define your model (list of BSM particles)\n",
    "runtime.modelFile = 'smodels.share.models.mssm'\n",
    "# runtime.modelFile = 'mssmQNumbers.slha'\n",
    "import numpy as np\n",
    "from smodels.decomposition import decomposer\n",
    "from smodels.base.physicsUnits import fb, GeV, TeV\n",
    "from smodels.matching.theoryPrediction import theoryPredictionsFor\n",
    "from smodels.experiment.databaseObj import Database\n",
    "from smodels.matching.theoryPredictionsCombiner import TheoryPredictionsCombiner\n",
    "from smodels.base.smodelsLogging import setLogLevel\n",
    "from smodels.share.models.mssm import BSMList\n",
    "from smodels.share.models.SMparticles import SMList\n",
    "from smodels.base.model import Model\n",
    "from smodels.tools.coverage import Uncovered,UncoveredGroup\n",
    "setLogLevel(\"error\")\n",
    "%load_ext line_profiler\n",
    "# Set the path to the database\n",
    "database = Database(os.path.expanduser(\"../database_extra\"))"
   ]
  },
  {
   "cell_type": "markdown",
   "metadata": {},
   "source": [
    "### Load model"
   ]
  },
  {
   "cell_type": "code",
   "execution_count": 2,
   "metadata": {},
   "outputs": [],
   "source": [
    "slhafile = '../../inputFiles/slha/longLived.slha'\n",
    "model = Model(BSMparticles=BSMList, SMparticles=SMList)\n",
    "model.updateParticles(inputFile=slhafile)\n"
   ]
  },
  {
   "cell_type": "markdown",
   "metadata": {},
   "source": [
    "### Decompose"
   ]
  },
  {
   "cell_type": "code",
   "execution_count": 3,
   "metadata": {},
   "outputs": [],
   "source": [
    "# Set main options for decomposition\n",
    "sigmacut = 0.1*fb\n",
    "mingap = 5.*GeV\n",
    "\n",
    "# Decompose model\n",
    "topDict = decomposer.decompose(model, sigmacut,\n",
    "                               massCompress=True, invisibleCompress=True,\n",
    "                               minmassgap=mingap)"
   ]
  },
  {
   "cell_type": "code",
   "execution_count": 4,
   "metadata": {},
   "outputs": [
    {
     "name": "stdout",
     "output_type": "stream",
     "text": [
      "51\n",
      "2.34E-02 [pb]\n"
     ]
    }
   ],
   "source": [
    "print(len(topDict.getSMSList()))\n",
    "totWeight = None\n",
    "for el in topDict.getSMSList():\n",
    "    if totWeight is None:\n",
    "        totWeight = el.weightList.copy()\n",
    "    else:\n",
    "        totWeight += el.weightList\n",
    "print(totWeight.getMaxXsec())"
   ]
  },
  {
   "cell_type": "markdown",
   "metadata": {},
   "source": [
    "### Load the experimental results to be used."
   ]
  },
  {
   "cell_type": "code",
   "execution_count": 5,
   "metadata": {},
   "outputs": [],
   "source": [
    "listOfExpRes = database.getExpResults()"
   ]
  },
  {
   "cell_type": "markdown",
   "metadata": {},
   "source": [
    "### Compute the theory predictions"
   ]
  },
  {
   "cell_type": "code",
   "execution_count": 6,
   "metadata": {},
   "outputs": [
    {
     "name": "stdout",
     "output_type": "stream",
     "text": [
      "\n",
      " Theory Predictions and Constraints:\n",
      "\n",
      " ATLAS-SUSY-2018-12 \n",
      "r = 8.233E-01\n",
      "\n",
      " ATLAS-SUSY-2018-12 \n",
      "r = 6.374E-01\n",
      "\n",
      " CMS-SUS-16-036 \n",
      "r = 4.051E+00\n",
      "r = 4.723E-01\n"
     ]
    }
   ],
   "source": [
    "print(\"\\n Theory Predictions and Constraints:\")\n",
    "rmax = 0.\n",
    "bestResult = None\n",
    "allPredictions = []\n",
    "for expResult in listOfExpRes:\n",
    "    predictions = theoryPredictionsFor(expResult, topDict, combinedResults=False, marginalize=False)\n",
    "    if not predictions:\n",
    "        continue  # Skip if there are no constraints from this result\n",
    "    print('\\n %s ' % expResult.globalInfo.id)\n",
    "    for theoryPrediction in predictions:\n",
    "        # Compute the r-value\n",
    "        r = theoryPrediction.getRValue()\n",
    "        print(\"r = %1.3E\" % r)"
   ]
  },
  {
   "cell_type": "code",
   "execution_count": 7,
   "metadata": {},
   "outputs": [],
   "source": [
    "# import time\n",
    "# t0 = time.time()\n",
    "uncovered = Uncovered(topDict, sqrts=13.*TeV)\n",
    "# print(time.time()-t0)"
   ]
  },
  {
   "cell_type": "code",
   "execution_count": 8,
   "metadata": {},
   "outputs": [
    {
     "name": "stdout",
     "output_type": "stream",
     "text": [
      "\n",
      "Total cross-section for missing topologies (fb):  5.710E+00\n",
      "\n",
      "\n",
      "Total cross-section for missing topologies with displaced decays (fb):  5.719E-03\n",
      "\n",
      "\n",
      "Total cross-section for missing topologies with prompt decays (fb):  8.648E+00\n",
      "\n",
      "\n",
      "Total cross-section for topologies outside the grid (fb):  2.943E+00\n",
      "\n"
     ]
    }
   ],
   "source": [
    "# First sort coverage groups by label\n",
    "groups = sorted(uncovered.groups[:], key=lambda g: g.label)\n",
    "# Print uncovered cross-sections:\n",
    "for group in groups:\n",
    "    print(\"\\nTotal cross-section for %s (fb): %10.3E\\n\" % (group.description, group.getTotalXSec()))"
   ]
  },
  {
   "cell_type": "code",
   "execution_count": 9,
   "metadata": {},
   "outputs": [
    {
     "name": "stdout",
     "output_type": "stream",
     "text": [
      "17\n",
      "Element: (PV > HSCP,HSCP)\n",
      "\tcross-section (fb): 0.8032\n",
      "Element: (PV > HSCP,MET,jet,jet,ta,W)\n",
      "\tcross-section (fb): 0.1489\n",
      "Element: (PV > HSCP,MET,l,nu,nu)\n",
      "\tcross-section (fb): 0.0\n",
      "Element: (PV > HSCP,MET,ta,W)\n",
      "\tcross-section (fb): 0.1309\n",
      "Element: (PV > MET,MET)\n",
      "\tcross-section (fb): 0.1669\n",
      "Element: (PV > MET,MET,jet)\n",
      "\tcross-section (fb): 0.3509\n",
      "Element: (PV > MET,MET,jet,b,b)\n",
      "\tcross-section (fb): 0.206\n",
      "Element: (PV > MET,MET,jet,jet,jet)\n",
      "\tcross-section (fb): 1.1117\n",
      "Element: (PV > MET,MET,jet,jet,l)\n",
      "\tcross-section (fb): 0.3755\n",
      "Element: (PV > MET,MET,jet,jet,l,nu)\n",
      "\tcross-section (fb): 0.319\n",
      "Element: (PV > MET,MET,jet,jet,ta)\n",
      "\tcross-section (fb): 0.1113\n",
      "Element: (PV > MET,MET,jet,t,b,W)\n",
      "\tcross-section (fb): 0.3604\n",
      "Element: (PV > MET,MET,jet,t,t)\n",
      "\tcross-section (fb): 1.9273\n",
      "Element: (PV > MET,MET,jet,t,t,Z)\n",
      "\tcross-section (fb): 0.2103\n",
      "Element: (PV > MET,MET,l)\n",
      "\tcross-section (fb): 1.113\n",
      "Element: (PV > MET,MET,l,l)\n",
      "\tcross-section (fb): 1.3126\n",
      "Element: (PV > MET,MET,l,l,nu,nu,nu,nu)\n",
      "\tcross-section (fb): 0.0\n"
     ]
    }
   ],
   "source": [
    "missingTopos = uncovered.getGroup('missing (prompt)')\n",
    "finalStates = {}\n",
    "for iel,genEl in enumerate(missingTopos.finalStateSMS[:]):\n",
    "    elStr = str(genEl)\n",
    "    if elStr not in finalStates:\n",
    "        finalStates[elStr] = genEl.missingX\n",
    "    else:\n",
    "        finalStates[elStr] += genEl.missingX\n",
    "\n",
    "            # Print some of the missing topologies:\n",
    "print(len(finalStates))\n",
    "for fs in sorted(finalStates.keys()):\n",
    "    print('Element:', fs)\n",
    "    print('\\tcross-section (fb):', np.round(finalStates[fs],4))"
   ]
  },
  {
   "cell_type": "code",
   "execution_count": 10,
   "metadata": {},
   "outputs": [
    {
     "name": "stdout",
     "output_type": "stream",
     "text": [
      "2\n",
      "Element: (PV > HSCP,MET,l,nu,nu)\n",
      "\tcross-section (fb): 0.0057\n",
      "Element: (PV > MET,MET,l,l,nu,nu,nu,nu)\n",
      "\tcross-section (fb): 0.0\n"
     ]
    }
   ],
   "source": [
    "missingDisplaced = uncovered.getGroup('missing (displaced)')\n",
    "# Print elements with displaced decays:\n",
    "finalStates = {}\n",
    "for iel,genEl in enumerate(missingDisplaced.finalStateSMS[:]):\n",
    "    elStr = str(genEl)\n",
    "    if elStr not in finalStates:\n",
    "        finalStates[elStr] = genEl.missingX\n",
    "    else:\n",
    "        finalStates[elStr] += genEl.missingX\n",
    "\n",
    "            # Print some of the missing topologies:\n",
    "print(len(finalStates))\n",
    "for fs in sorted(finalStates.keys()):\n",
    "    print('Element:', fs)\n",
    "    print('\\tcross-section (fb):', np.round(finalStates[fs],4))"
   ]
  },
  {
   "cell_type": "code",
   "execution_count": 11,
   "metadata": {},
   "outputs": [
    {
     "name": "stdout",
     "output_type": "stream",
     "text": [
      "4\n",
      "Element: (PV > MET,MET,jet)\n",
      "\tcross-section (fb): 0.3509\n",
      "Element: (PV > MET,MET,l)\n",
      "\tcross-section (fb): 1.113\n",
      "Element: (PV > MET,MET,l,l)\n",
      "\tcross-section (fb): 1.3126\n",
      "Element: (PV > MET,MET,nu,nu)\n",
      "\tcross-section (fb): 0.1669\n"
     ]
    }
   ],
   "source": [
    "missingGrid = uncovered.getGroup('outsideGrid (all)')\n",
    "# Print elements with displaced decays:\n",
    "finalStates = {}\n",
    "for iel,genEl in enumerate(missingGrid.finalStateSMS[:]):\n",
    "    elStr = str(genEl)\n",
    "    if elStr not in finalStates:\n",
    "        finalStates[elStr] = genEl.missingX\n",
    "    else:\n",
    "        finalStates[elStr] += genEl.missingX\n",
    "\n",
    "            # Print some of the missing topologies:\n",
    "print(len(finalStates))\n",
    "for fs in sorted(finalStates.keys()):\n",
    "    print('Element:', fs)\n",
    "    print('\\tcross-section (fb):', np.round(finalStates[fs],4))"
   ]
  },
  {
   "cell_type": "code",
   "execution_count": null,
   "metadata": {},
   "outputs": [],
   "source": []
  }
 ],
 "metadata": {
  "kernelspec": {
   "display_name": "Python 3 (ipykernel)",
   "language": "python",
   "name": "python3"
  },
  "language_info": {
   "codemirror_mode": {
    "name": "ipython",
    "version": 3
   },
   "file_extension": ".py",
   "mimetype": "text/x-python",
   "name": "python",
   "nbconvert_exporter": "python",
   "pygments_lexer": "ipython3",
   "version": "3.9.7"
  }
 },
 "nbformat": 4,
 "nbformat_minor": 2
}
