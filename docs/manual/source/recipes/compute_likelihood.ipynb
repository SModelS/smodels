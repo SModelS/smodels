{
 "cells": [
  {
   "cell_type": "markdown",
   "metadata": {},
   "source": [
    "# How To: Compute likelihood and chi2"
   ]
  },
  {
   "cell_type": "code",
   "execution_count": 8,
   "metadata": {},
   "outputs": [],
   "source": [
    "# Set up the path to SModelS installation folder\n",
    "import sys; sys.path.append(\".\"); import smodels_paths"
   ]
  },
  {
   "cell_type": "code",
   "execution_count": 9,
   "metadata": {},
   "outputs": [],
   "source": [
    "from smodels.statistics.simplifiedLikelihoods import LikelihoodComputer, Data"
   ]
  },
  {
   "cell_type": "markdown",
   "metadata": {},
   "source": [
    "## How to compute the likelihood and chi2 from the number of events"
   ]
  },
  {
   "cell_type": "code",
   "execution_count": 10,
   "metadata": {},
   "outputs": [
    {
     "name": "stdout",
     "output_type": "stream",
     "text": [
      "likelihood (mu=1): 9.395e-02\n",
      "likelihood (mu=100): 2.043e-03\n",
      "chi2: 9.646e-02\n"
     ]
    }
   ],
   "source": [
    "# If the number of observed events, the number of expected background events,\n",
    "# its error and the number of signal events and its error are known, the likelihood\n",
    "# for the signal (assuming a truncated gaussian distribution for the background and signal uncertainties)\n",
    "# can be computed as:\n",
    "m=Data ( observed=5, backgrounds=4.2, covariance=0.71**2, third_moment=None, nsignal=.1 )\n",
    "comp=LikelihoodComputer ( m )\n",
    "print ('likelihood (mu=1): %1.3e' %comp.likelihood(mu=1.0) )\n",
    "print ('likelihood (mu=100): %1.3e' %comp.likelihood(mu = 100. ) )\n",
    "print ('chi2: %1.3e' %comp.chi2())"
   ]
  },
  {
   "cell_type": "markdown",
   "metadata": {},
   "source": [
    "## How to compute the likelihood and chi2 from a theory prediction"
   ]
  },
  {
   "cell_type": "code",
   "execution_count": 11,
   "metadata": {},
   "outputs": [],
   "source": [
    "# In most cases one wants to compute the likelihood and chi2 for a given theory prediction computed by SModelS.\n",
    "# Below we generate theory predictions and compute the likelihood and chi2 values for them\n",
    "# First we import those parts of smodels that are needed for this exercise\n",
    "#(We will assume the input is a SLHA file. For LHE files, use the lheDecomposer instead)\n",
    "from smodels.share.models.mssm import BSMList\n",
    "from smodels.share.models.SMparticles import SMList\n",
    "from smodels.base.model import Model\n",
    "from smodels.decomposition import decomposer\n",
    "from smodels.installation import installDirectory\n",
    "from smodels.base.physicsUnits import fb, GeV\n",
    "from smodels.matching.theoryPrediction import theoryPredictionsFor\n",
    "from smodels.experiment.databaseObj import Database"
   ]
  },
  {
   "cell_type": "code",
   "execution_count": 12,
   "metadata": {},
   "outputs": [],
   "source": [
    "# Define the SLHA input file name\n",
    "filename=\"inputFiles/slha/gluino_squarks.slha\"\n",
    "model = Model(BSMparticles = BSMList, SMparticles = SMList)\n",
    "model.updateParticles(inputFile=filename)"
   ]
  },
  {
   "cell_type": "code",
   "execution_count": 13,
   "metadata": {},
   "outputs": [],
   "source": [
    "# Load the database, do the decomposition and compute theory predictions:\n",
    "# (Look at the theory predictions HowTo to learn how to compute theory predictions)\n",
    "database = Database(\"official\")\n",
    "database.selectExpResults(analysisIDs = [ \"ATLAS-SUSY-2018-31\"] )\n",
    "topList = decomposer.decompose(model, sigmacut = 0.03 * fb, massCompress=True, invisibleCompress=True,minmassgap = 5* GeV)\n",
    "allThPredictions = theoryPredictionsFor(database, topList)"
   ]
  },
  {
   "cell_type": "code",
   "execution_count": 14,
   "metadata": {},
   "outputs": [
    {
     "name": "stdout",
     "output_type": "stream",
     "text": [
      "\n",
      "Experimental Result: ATLAS-SUSY-2018-31 (combined-type)\n",
      "Theory prediction xsec =  4.14E-06 [pb]\n",
      "(likelihood not available)\n",
      "\n",
      "Experimental Result: ATLAS-SUSY-2018-31 (upperLimit-type)\n",
      "Theory prediction xsec =  2.87E-04 [pb]\n",
      "(likelihood not available)\n"
     ]
    }
   ],
   "source": [
    "# For each theory prediction, compute the corresponding likelihood and chi2 values\n",
    "# (This is only possible for efficiency map-type results):\n",
    "for theoryPred in allThPredictions:\n",
    "    expID = theoryPred.analysisId()\n",
    "    dataType = theoryPred.dataType()\n",
    "    #Compute the likelihood and chi2:\n",
    "    theoryPred.computeStatistics()\n",
    "    print (\"\\nExperimental Result: %s (%s-type)\" %(expID,dataType)) #Result ID and type\n",
    "    print (\"Theory prediction xsec = \",theoryPred.xsection) #Signal xsection*efficiency*BR\n",
    "    if dataType == 'efficiencyMap':\n",
    "        theoryPred.computeStatistics()\n",
    "        print('L_BSM, L_SM, L_max =', theoryPred.likelihood(), theoryPred.lsm(), theoryPred.lmax() )\n",
    "\n",
    "    else:\n",
    "        print (\"(likelihood not available)\")\n"
   ]
  },
  {
   "cell_type": "code",
   "execution_count": null,
   "metadata": {},
   "outputs": [],
   "source": []
  }
 ],
 "metadata": {
  "kernelspec": {
   "display_name": "Python 3.10.6 64-bit",
   "language": "python",
   "name": "python3"
  },
  "language_info": {
   "codemirror_mode": {
    "name": "ipython",
    "version": 3
   },
   "file_extension": ".py",
   "mimetype": "text/x-python",
   "name": "python",
   "nbconvert_exporter": "python",
   "pygments_lexer": "ipython3",
   "version": "3.10.6"
  },
  "vscode": {
   "interpreter": {
    "hash": "e7370f93d1d0cde622a1f8e1c04877d8463912d04d973331ad4851f04de6915a"
   }
  }
 },
 "nbformat": 4,
 "nbformat_minor": 1
}
