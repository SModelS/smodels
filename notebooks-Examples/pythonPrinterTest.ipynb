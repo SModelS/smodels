{
 "cells": [
  {
   "cell_type": "code",
   "execution_count": 1,
   "id": "67e74468",
   "metadata": {},
   "outputs": [],
   "source": [
    "#!/usr/bin/env python3\n",
    "import sys\n",
    "import copy\n",
    "sys.path.append('../')\n",
    "\n",
    "from __future__ import print_function\n",
    "from smodels.tools import runtime\n",
    "# Define your model (list of BSM particles)\n",
    "runtime.modelFile = 'smodels.share.models.mssm'\n",
    "# runtime.modelFile = 'mssmQNumbers.slha'\n",
    "\n",
    "from smodels.theory import decomposer\n",
    "from smodels.tools.physicsUnits import fb, GeV, TeV\n",
    "from smodels.matcher.theoryPrediction import theoryPredictionsFor\n",
    "from smodels.matcher import theoryPrediction\n",
    "from smodels.experiment.databaseObj import Database, ExpResultList\n",
    "from smodels.tools import coverage\n",
    "from smodels.tools.theoryPredictionsCombiner import TheoryPredictionsCombiner\n",
    "from smodels.tools.smodelsLogging import setLogLevel\n",
    "from smodels.share.models.mssm import BSMList\n",
    "from smodels.share.models.SMparticles import SMList\n",
    "from smodels.theory.model import Model\n",
    "from smodels.tools.printers.masterPrinter import MPrinter\n",
    "from smodels.tools import ioObjects\n",
    "import time\n",
    "import os\n",
    "from collections import OrderedDict\n",
    "from configparser import ConfigParser, NoSectionError, NoOptionError\n",
    "setLogLevel(\"warning\")"
   ]
  },
  {
   "cell_type": "code",
   "execution_count": 2,
   "id": "bd2baa8c",
   "metadata": {},
   "outputs": [],
   "source": [
    "# Set the path to the database\n",
    "database = Database(os.path.expanduser('../test/database'))\n",
    "databaseVersion = database.databaseVersion"
   ]
  },
  {
   "cell_type": "code",
   "execution_count": 3,
   "id": "e3d87f9a",
   "metadata": {},
   "outputs": [],
   "source": [
    "parameterFile='../test/testPrinters_parameters.ini'\n",
    "parser = ConfigParser(inline_comment_prefixes=(';',))\n",
    "ret = parser.read(parameterFile)\n",
    "parser.set(\"printer\",\"outputType\",\"python\")\n",
    "parser.set(\"printer\",\"outputFormat\",\"current\")\n",
    "\n",
    "inputFile = '../test/testFiles/slha/lightEWinos.slha'\n",
    "outputDir = '../test/'"
   ]
  },
  {
   "cell_type": "code",
   "execution_count": 4,
   "id": "85f7abc1",
   "metadata": {},
   "outputs": [],
   "source": [
    "sigmacut = parser.getfloat(\"parameters\", \"sigmacut\") * fb\n",
    "minmassgap = parser.getfloat(\"parameters\", \"minmassgap\") * GeV\n",
    "\n",
    "masterPrinter = MPrinter()\n",
    "masterPrinter.setPrinterOptions(parser)\n",
    "masterPrinter.setOutPutFiles(os.path.join(\n",
    "    outputDir, os.path.basename(inputFile)))\n",
    "# for printer in masterPrinter.Printers.values():\n",
    "#     printer.output = 'stdout'\n"
   ]
  },
  {
   "cell_type": "code",
   "execution_count": 5,
   "id": "5132ee14",
   "metadata": {},
   "outputs": [],
   "source": [
    "listOfExpRes = database.getExpResults()\n",
    "masterPrinter.addObj(ExpResultList(listOfExpRes))\n",
    "\n",
    "inputStatus = ioObjects.FileStatus()\n",
    "if parser.getboolean(\"options\", \"checkInput\"):\n",
    "    inputStatus.checkFile(inputFile)\n",
    "\n",
    "printParameters = []\n",
    "if parser.has_section('parameters'):\n",
    "    printParameters += list(parser.items('parameters'))\n",
    "if parser.has_section('particles'):\n",
    "    printParameters += list(parser.items('particles'))\n",
    "if parser.has_section('options'):\n",
    "    printParameters += list(parser.items('options'))\n",
    "\n",
    "printParameters = OrderedDict(printParameters)\n",
    "outputStatus = ioObjects.OutputStatus(inputStatus.status, inputFile,\n",
    "                                      printParameters, databaseVersion)\n",
    "masterPrinter.addObj(outputStatus)"
   ]
  },
  {
   "cell_type": "code",
   "execution_count": 6,
   "id": "9960a9c0",
   "metadata": {},
   "outputs": [],
   "source": [
    "model = Model(BSMparticles=BSMList, SMparticles=SMList)\n",
    "promptWidth = None\n",
    "stableWidth = None\n",
    "if parser.has_option(\"particles\", \"promptWidth\"):\n",
    "    promptWidth = parser.getfloat(\"particles\", \"promptWidth\")*GeV\n",
    "if parser.has_option(\"particles\", \"stableWidth\"):\n",
    "    stableWidth = parser.getfloat(\"particles\", \"stableWidth\")*GeV\n",
    "model.updateParticles(inputFile=inputFile,\n",
    "                      promptWidth=promptWidth, stableWidth=stableWidth)"
   ]
  },
  {
   "cell_type": "code",
   "execution_count": 7,
   "id": "c48b5227",
   "metadata": {},
   "outputs": [],
   "source": [
    "sigmacut = parser.getfloat(\"parameters\", \"sigmacut\") * fb\n",
    "smstoplist = decomposer.decompose(model, sigmacut,\n",
    "                                  massCompress=parser.getboolean(\n",
    "                                      \"options\", \"doCompress\"),\n",
    "                                  invisibleCompress=parser.getboolean(\n",
    "                                      \"options\", \"doInvisible\"),\n",
    "                                  minmassgap=minmassgap)\n"
   ]
  },
  {
   "cell_type": "code",
   "execution_count": 8,
   "id": "8853f48d",
   "metadata": {},
   "outputs": [],
   "source": [
    "masterPrinter.addObj(smstoplist)"
   ]
  },
  {
   "cell_type": "code",
   "execution_count": 9,
   "id": "58054183",
   "metadata": {},
   "outputs": [],
   "source": [
    "allPredictions = []\n",
    "combineResults = False\n",
    "useBest = True\n",
    "combineResults = parser.getboolean(\"options\", \"combineSRs\")\n",
    "allSRs = parser.getboolean(\"options\", \"reportAllSRs\")\n",
    "if allSRs:  # If set print out all SRs and skip combination\n",
    "    useBest = False\n",
    "    combineResults = False\n",
    "\n",
    "for expResult in listOfExpRes:\n",
    "    theorypredictions = theoryPredictionsFor(expResult, smstoplist,\n",
    "                                             useBestDataset=useBest, combinedResults=combineResults,\n",
    "                                             marginalize=False)\n",
    "    if not theorypredictions:\n",
    "        continue\n",
    "    allPredictions += theorypredictions._theoryPredictions\n",
    "\n",
    "if parser.getboolean(\"options\", \"computeStatistics\"):\n",
    "    for theoPred in allPredictions:\n",
    "        theoPred.computeStatistics()\n",
    "\n",
    "maxcond = parser.getfloat(\"parameters\", \"maxcond\")\n",
    "theoryPredictions = theoryPrediction.TheoryPredictionList(\n",
    "    allPredictions, maxcond)\n"
   ]
  },
  {
   "cell_type": "code",
   "execution_count": 10,
   "id": "ee108d54",
   "metadata": {},
   "outputs": [],
   "source": [
    "outputStatus.updateStatus(1)\n",
    "masterPrinter.addObj(theoryPredictions)"
   ]
  },
  {
   "cell_type": "code",
   "execution_count": 11,
   "id": "87fe0f88",
   "metadata": {},
   "outputs": [],
   "source": [
    "if parser.getboolean(\"options\", \"testCoverage\"):\n",
    "    \"\"\" Testing coverage of model point, add results to the output file \"\"\"\n",
    "    if parser.has_option(\"options\", \"coverageSqrts\"):\n",
    "        sqrts = parser.getfloat(\"options\", \"coverageSqrts\")*TeV\n",
    "    else:\n",
    "        sqrts = None\n",
    "    uncovered = coverage.Uncovered(\n",
    "        smstoplist, sigmacut=sigmacut, sqrts=sqrts)\n",
    "    masterPrinter.addObj(uncovered)\n"
   ]
  },
  {
   "cell_type": "code",
   "execution_count": 12,
   "id": "f4ec1765",
   "metadata": {},
   "outputs": [],
   "source": [
    "if parser.has_option(\"options\", \"combineAnas\"):\n",
    "    \"\"\" Combine analyses \"\"\"\n",
    "\n",
    "    combineAnas = parser.get(\"options\", \"combineAnas\").replace(\" \",\"\").split(\",\")\n",
    "    if combineAnas:\n",
    "        if combineResults is True:\n",
    "            logger.warning(\"Combining analyses with signal region combination (combineSRs=True) might significantly reduce CPU performance.\")\n",
    "        combiner = TheoryPredictionsCombiner.selectResultsFrom(theoryPredictions,\n",
    "                                                               combineAnas)\n",
    "        # Only compute combination if at least one result was selected\n",
    "        if combiner is not None:\n",
    "            combiner.computeStatistics()\n",
    "            masterPrinter.addObj(combiner)\n"
   ]
  },
  {
   "cell_type": "code",
   "execution_count": 13,
   "id": "d5e7f1a1",
   "metadata": {},
   "outputs": [],
   "source": [
    "def pprint(v):\n",
    "    if isinstance(v, list):\n",
    "        for vv in v:\n",
    "            pprint(vv)\n",
    "    elif isinstance(v,dict):\n",
    "        for key,vv in v.items():\n",
    "            print(key)\n",
    "            pprint(vv)\n",
    "    else:\n",
    "        try:\n",
    "            print('%1.2e' %v)\n",
    "        except:\n",
    "            print(v)"
   ]
  },
  {
   "cell_type": "code",
   "execution_count": 14,
   "id": "e6e4a611",
   "metadata": {},
   "outputs": [],
   "source": [
    "masterCopy = copy.deepcopy(masterPrinter)\n",
    "x = masterPrinter.flush()['python']\n",
    "os.remove(masterPrinter.Printers['python'].filename)"
   ]
  },
  {
   "cell_type": "code",
   "execution_count": 15,
   "id": "2f742e32",
   "metadata": {},
   "outputs": [
    {
     "name": "stdout",
     "output_type": "stream",
     "text": [
      "CombinedRes\n",
      "ExptRes\n",
      "OutputStatus\n",
      "SMS Decomposition\n",
      "Total xsec for missing topologies (fb)\n",
      "Total xsec for missing topologies with displaced decays (fb)\n",
      "Total xsec for missing topologies with prompt decays (fb)\n",
      "Total xsec for topologies outside the grid (fb)\n",
      "missing topologies\n",
      "missing topologies with displaced decays\n",
      "missing topologies with prompt decays\n",
      "topologies outside the grid\n"
     ]
    }
   ],
   "source": [
    "sortedKeys = sorted(x.keys())\n",
    "for key in sortedKeys:\n",
    "    print(key)"
   ]
  },
  {
   "cell_type": "code",
   "execution_count": 16,
   "id": "891f8fd8",
   "metadata": {},
   "outputs": [
    {
     "name": "stdout",
     "output_type": "stream",
     "text": [
      "AnalysisID\n",
      "ATLAS-CONF-2013-037\n",
      "r\n",
      "1.09e-01\n",
      "r_expected\n",
      "1.01e-01\n",
      "likelihood\n",
      "1.90e-02\n",
      "l_max\n",
      "2.07e-02\n",
      "l_SM\n",
      "2.07e-02\n"
     ]
    }
   ],
   "source": [
    "pprint(x['CombinedRes'])"
   ]
  },
  {
   "cell_type": "code",
   "execution_count": 17,
   "id": "b4310067",
   "metadata": {},
   "outputs": [
    {
     "name": "stdout",
     "output_type": "stream",
     "text": [
      "maxcond\n",
      "0.00e+00\n",
      "theory prediction (fb)\n",
      "4.37e-02\n",
      "upper limit (fb)\n",
      "4.00e-01\n",
      "expected upper limit (fb)\n",
      "4.33e-01\n",
      "TxNames\n",
      "T1bbtt\n",
      "Mass (GeV)\n",
      "('gluino', 577.0)\n",
      "('N1', 68.1)\n",
      "AnalysisID\n",
      "ATLAS-CONF-2013-037\n",
      "DataSetID\n",
      "SRbC3\n",
      "AnalysisSqrts (TeV)\n",
      "8.00e+00\n",
      "lumi (fb-1)\n",
      "2.07e+01\n",
      "dataType\n",
      "efficiencyMap\n",
      "r\n",
      "1.09e-01\n",
      "r_expected\n",
      "1.01e-01\n",
      "Width (GeV)\n",
      "('gluino', inf)\n",
      "('N1', 0.0)\n",
      "TxNames weights (fb)\n",
      "T1bbtt\n",
      "4.37e-02\n",
      "likelihood\n",
      "1.90e-02\n",
      "l_max\n",
      "2.07e-02\n",
      "l_SM\n",
      "2.07e-02\n",
      "maxcond\n",
      "0.00e+00\n",
      "theory prediction (fb)\n",
      "1.53e+03\n",
      "upper limit (fb)\n",
      "2.33e+07\n",
      "expected upper limit (fb)\n",
      "None\n",
      "TxNames\n",
      "T1\n",
      "Mass (GeV)\n",
      "('C1+/C1-', 134.4)\n",
      "('C1+/C1-/N2', 134.99)\n",
      "('N1/N1~', 68.1)\n",
      "AnalysisID\n",
      "ATLAS-SUSY-2013-02\n",
      "DataSetID\n",
      "None\n",
      "AnalysisSqrts (TeV)\n",
      "8.00e+00\n",
      "lumi (fb-1)\n",
      "2.03e+01\n",
      "dataType\n",
      "upperLimit\n",
      "r\n",
      "6.56e-05\n",
      "r_expected\n",
      "None\n",
      "Width (GeV)\n",
      "('C1+/C1-', inf)\n",
      "('C1+/C1-/N2', inf)\n",
      "('N1/N1~', 0.0)\n",
      "TxNames weights (fb)\n",
      "T1\n",
      "1.53e+03\n"
     ]
    }
   ],
   "source": [
    "pprint(x['ExptRes'])"
   ]
  },
  {
   "cell_type": "code",
   "execution_count": 18,
   "id": "166ee244",
   "metadata": {},
   "outputs": [
    {
     "name": "stdout",
     "output_type": "stream",
     "text": [
      "sigmacut\n",
      "1.00e+01\n",
      "minmassgap\n",
      "5.00e+00\n",
      "maxcond\n",
      "2.00e-01\n",
      "ncpus\n",
      "1.00e+00\n",
      "model\n",
      "share.models.mssm\n",
      "promptwidth\n",
      "1.00e-11\n",
      "stablewidth\n",
      "1.00e-25\n",
      "checkinput\n",
      "1.00e+00\n",
      "doinvisible\n",
      "1.00e+00\n",
      "docompress\n",
      "1.00e+00\n",
      "computestatistics\n",
      "1.00e+00\n",
      "testcoverage\n",
      "1.00e+00\n",
      "combinesrs\n",
      "0.00e+00\n",
      "combineanas\n",
      "ATLAS-CONF-2013-037,CMS-SUS-13-012\n",
      "reportallsrs\n",
      "0.00e+00\n",
      "experimentalfeatures\n",
      "0.00e+00\n",
      "file status\n",
      "1.00e+00\n",
      "decomposition status\n",
      "1.00e+00\n",
      "warnings\n",
      "Input file ok\n",
      "input file\n",
      "../test/testFiles/slha/lightEWinos.slha\n",
      "database version\n",
      "unittest300-beta\n",
      "smodels version\n",
      "3.0.0-beta\n"
     ]
    }
   ],
   "source": [
    "pprint(x['OutputStatus'])"
   ]
  },
  {
   "cell_type": "code",
   "execution_count": 19,
   "id": "49176cf4",
   "metadata": {},
   "outputs": [
    {
     "name": "stdout",
     "output_type": "stream",
     "text": [
      "105\n",
      "ID\n",
      "1.00e+00\n",
      "SMS\n",
      "(PV > N1,C1+/C1-(1)), (C1+/C1-(1) > N1/N1~,q,q)\n",
      "Masses (GeV)\n",
      "('N1', 68.1)\n",
      "('C1+/C1-', 134.4)\n",
      "('N1/N1~', 68.1)\n",
      "PIDs\n",
      "('N1', 1000022)\n",
      "('C1+/C1-', [1000024, -1000024])\n",
      "('N1/N1~', [1000022, -1000022])\n",
      "Weights (fb)\n",
      "xsec 8.0 TeV\n",
      "3.85e+01\n",
      "xsec 13.0 TeV\n",
      "5.38e+01\n",
      "ID\n",
      "2.00e+00\n",
      "SMS\n",
      "(PV > N1,C1+/C1-(1)), (C1+/C1-(1) > N1/N1~,q,c)\n",
      "Masses (GeV)\n",
      "('N1', 68.1)\n",
      "('C1+/C1-', 134.4)\n",
      "('N1/N1~', 68.1)\n",
      "PIDs\n",
      "('N1', 1000022)\n",
      "('C1+/C1-', [1000024, -1000024])\n",
      "('N1/N1~', [1000022, -1000022])\n",
      "Weights (fb)\n",
      "xsec 8.0 TeV\n",
      "3.85e+01\n",
      "xsec 13.0 TeV\n",
      "5.38e+01\n",
      "ID\n",
      "3.00e+00\n",
      "SMS\n",
      "(PV > inv,C1+/C1-(1)), (C1+/C1-(1) > N1/N1~,q,q)\n",
      "Masses (GeV)\n",
      "('inv', 135.3)\n",
      "('C1+/C1-', 134.4)\n",
      "('N1/N1~', 68.1)\n",
      "PIDs\n",
      "('inv', 1000023)\n",
      "('C1+/C1-', [1000024, -1000024])\n",
      "('N1/N1~', [1000022, -1000022])\n",
      "Weights (fb)\n",
      "xsec 8.0 TeV\n",
      "6.47e+01\n",
      "xsec 13.0 TeV\n",
      "1.21e+02\n"
     ]
    }
   ],
   "source": [
    "print(len(x['SMS Decomposition']))\n",
    "pprint(x['SMS Decomposition'][:3])"
   ]
  },
  {
   "cell_type": "code",
   "execution_count": 20,
   "id": "d0942a60",
   "metadata": {},
   "outputs": [
    {
     "name": "stdout",
     "output_type": "stream",
     "text": [
      "5.22e+03\n",
      "0.00e+00\n",
      "5.22e+03\n",
      "4.72e+01\n"
     ]
    }
   ],
   "source": [
    "pprint(x['Total xsec for missing topologies (fb)'])\n",
    "pprint(x['Total xsec for missing topologies with displaced decays (fb)'])\n",
    "pprint(x['Total xsec for missing topologies with prompt decays (fb)'])\n",
    "pprint(x['Total xsec for topologies outside the grid (fb)'])"
   ]
  },
  {
   "cell_type": "code",
   "execution_count": 21,
   "id": "50ab1dc9",
   "metadata": {},
   "outputs": [
    {
     "name": "stdout",
     "output_type": "stream",
     "text": [
      "sqrts (TeV)\n",
      "1.30e+01\n",
      "weight (fb)\n",
      "1.20e+03\n",
      "SMS\n",
      "(PV > MET,MET,jet,jet,l,nu)\n",
      "SMS IDs\n",
      "3.10e+01\n",
      "3.60e+01\n",
      "1.00e+01\n",
      "1.80e+01\n",
      "8.00e+00\n",
      "9.00e+00\n",
      "1.60e+01\n",
      "1.70e+01\n",
      "2.90e+01\n",
      "3.00e+01\n",
      "3.40e+01\n",
      "3.50e+01\n",
      "3.20e+01\n",
      "3.70e+01\n",
      "1.10e+01\n",
      "1.90e+01\n",
      "sqrts (TeV)\n",
      "1.30e+01\n",
      "weight (fb)\n",
      "6.00e+02\n",
      "SMS\n",
      "(PV > MET,MET,jet,jet,ta,nu)\n",
      "SMS IDs\n",
      "4.10e+01\n",
      "2.60e+01\n",
      "2.40e+01\n",
      "2.50e+01\n",
      "3.90e+01\n",
      "4.00e+01\n",
      "4.20e+01\n",
      "2.70e+01\n"
     ]
    }
   ],
   "source": [
    "pprint(x['missing topologies'][:2])"
   ]
  },
  {
   "cell_type": "code",
   "execution_count": 22,
   "id": "72240d51",
   "metadata": {},
   "outputs": [],
   "source": [
    "pprint(x['missing topologies with displaced decays'])"
   ]
  },
  {
   "cell_type": "code",
   "execution_count": 23,
   "id": "cda26c56",
   "metadata": {},
   "outputs": [
    {
     "name": "stdout",
     "output_type": "stream",
     "text": [
      "sqrts (TeV)\n",
      "1.30e+01\n",
      "weight (fb)\n",
      "1.20e+03\n",
      "SMS\n",
      "(PV > MET,MET,jet,jet,l,nu)\n",
      "SMS IDs\n",
      "3.10e+01\n",
      "3.60e+01\n",
      "1.00e+01\n",
      "1.80e+01\n",
      "8.00e+00\n",
      "9.00e+00\n",
      "1.60e+01\n",
      "1.70e+01\n",
      "2.90e+01\n",
      "3.00e+01\n",
      "3.40e+01\n",
      "3.50e+01\n",
      "3.20e+01\n",
      "3.70e+01\n",
      "1.10e+01\n",
      "1.90e+01\n",
      "sqrts (TeV)\n",
      "1.30e+01\n",
      "weight (fb)\n",
      "6.00e+02\n",
      "SMS\n",
      "(PV > MET,MET,jet,jet,ta,nu)\n",
      "SMS IDs\n",
      "4.10e+01\n",
      "2.60e+01\n",
      "2.40e+01\n",
      "2.50e+01\n",
      "3.90e+01\n",
      "4.00e+01\n",
      "4.20e+01\n",
      "2.70e+01\n"
     ]
    }
   ],
   "source": [
    "pprint(x['missing topologies with prompt decays'][:2])"
   ]
  },
  {
   "cell_type": "code",
   "execution_count": 24,
   "id": "f60ca0ec",
   "metadata": {},
   "outputs": [
    {
     "name": "stdout",
     "output_type": "stream",
     "text": [
      "sqrts (TeV)\n",
      "1.30e+01\n",
      "weight (fb)\n",
      "4.72e+01\n",
      "SMS\n",
      "(PV > MET,MET,b,b,b,b)\n",
      "SMS IDs\n",
      "6.20e+01\n"
     ]
    }
   ],
   "source": [
    "pprint(x['topologies outside the grid'])"
   ]
  },
  {
   "cell_type": "code",
   "execution_count": 25,
   "id": "85fbe04d",
   "metadata": {},
   "outputs": [],
   "source": [
    "masterCopy.outputFormat = \"version2\"\n",
    "for printer in masterCopy.Printers.values():\n",
    "    printer.outputFormat = \"version2\"\n",
    "    \n",
    "x = masterCopy.flush()['python']\n",
    "os.remove(masterCopy.Printers['python'].filename)"
   ]
  },
  {
   "cell_type": "code",
   "execution_count": 26,
   "id": "8e6debe1",
   "metadata": {},
   "outputs": [
    {
     "name": "stdout",
     "output_type": "stream",
     "text": [
      "CombinedRes\n",
      "Element\n",
      "ExptRes\n",
      "OutputStatus\n",
      "Total xsec for missing topologies (fb)\n",
      "Total xsec for missing topologies with displaced decays (fb)\n",
      "Total xsec for missing topologies with prompt decays (fb)\n",
      "Total xsec for topologies outside the grid (fb)\n",
      "missing topologies\n",
      "missing topologies with displaced decays\n",
      "missing topologies with prompt decays\n",
      "topologies outside the grid\n"
     ]
    }
   ],
   "source": [
    "sortedKeys = sorted(x.keys())\n",
    "for key in sortedKeys:\n",
    "    print(key)"
   ]
  },
  {
   "cell_type": "code",
   "execution_count": 27,
   "id": "e0cde6fd",
   "metadata": {},
   "outputs": [
    {
     "name": "stdout",
     "output_type": "stream",
     "text": [
      "AnalysisID\n",
      "ATLAS-CONF-2013-037\n",
      "r\n",
      "1.09e-01\n",
      "r_expected\n",
      "1.01e-01\n",
      "likelihood\n",
      "1.90e-02\n",
      "l_max\n",
      "2.07e-02\n",
      "l_SM\n",
      "2.07e-02\n"
     ]
    }
   ],
   "source": [
    "pprint(x['CombinedRes'])"
   ]
  },
  {
   "cell_type": "code",
   "execution_count": 28,
   "id": "9e7b5ee6",
   "metadata": {},
   "outputs": [
    {
     "name": "stdout",
     "output_type": "stream",
     "text": [
      "maxcond\n",
      "0.00e+00\n",
      "theory prediction (fb)\n",
      "4.37e-02\n",
      "upper limit (fb)\n",
      "4.00e-01\n",
      "expected upper limit (fb)\n",
      "4.33e-01\n",
      "TxNames\n",
      "T1bbtt\n",
      "Mass (GeV)\n",
      "5.77e+02\n",
      "6.81e+01\n",
      "5.77e+02\n",
      "6.81e+01\n",
      "AnalysisID\n",
      "ATLAS-CONF-2013-037\n",
      "DataSetID\n",
      "SRbC3\n",
      "AnalysisSqrts (TeV)\n",
      "8.00e+00\n",
      "lumi (fb-1)\n",
      "2.07e+01\n",
      "dataType\n",
      "efficiencyMap\n",
      "r\n",
      "1.09e-01\n",
      "r_expected\n",
      "1.01e-01\n",
      "Width (GeV)\n",
      "prompt\n",
      "stable\n",
      "prompt\n",
      "stable\n",
      "TxNames weights (fb)\n",
      "T1bbtt\n",
      "4.37e-02\n",
      "likelihood\n",
      "1.90e-02\n",
      "l_max\n",
      "2.07e-02\n",
      "l_SM\n",
      "2.07e-02\n",
      "maxcond\n",
      "0.00e+00\n",
      "theory prediction (fb)\n",
      "1.53e+03\n",
      "upper limit (fb)\n",
      "2.33e+07\n",
      "expected upper limit (fb)\n",
      "None\n",
      "TxNames\n",
      "T1\n",
      "Mass (GeV)\n",
      "1.34e+02\n",
      "6.81e+01\n",
      "1.35e+02\n",
      "6.81e+01\n",
      "AnalysisID\n",
      "ATLAS-SUSY-2013-02\n",
      "DataSetID\n",
      "None\n",
      "AnalysisSqrts (TeV)\n",
      "8.00e+00\n",
      "lumi (fb-1)\n",
      "2.03e+01\n",
      "dataType\n",
      "upperLimit\n",
      "r\n",
      "6.56e-05\n",
      "r_expected\n",
      "None\n",
      "Width (GeV)\n",
      "prompt\n",
      "stable\n",
      "prompt\n",
      "stable\n",
      "TxNames weights (fb)\n",
      "T1\n",
      "1.53e+03\n"
     ]
    }
   ],
   "source": [
    "pprint(x['ExptRes'])"
   ]
  },
  {
   "cell_type": "code",
   "execution_count": 29,
   "id": "eee7d1e0",
   "metadata": {},
   "outputs": [
    {
     "name": "stdout",
     "output_type": "stream",
     "text": [
      "sigmacut\n",
      "1.00e+01\n",
      "minmassgap\n",
      "5.00e+00\n",
      "maxcond\n",
      "2.00e-01\n",
      "ncpus\n",
      "1.00e+00\n",
      "model\n",
      "share.models.mssm\n",
      "promptwidth\n",
      "1.00e-11\n",
      "stablewidth\n",
      "1.00e-25\n",
      "checkinput\n",
      "1.00e+00\n",
      "doinvisible\n",
      "1.00e+00\n",
      "docompress\n",
      "1.00e+00\n",
      "computestatistics\n",
      "1.00e+00\n",
      "testcoverage\n",
      "1.00e+00\n",
      "combinesrs\n",
      "0.00e+00\n",
      "combineanas\n",
      "ATLAS-CONF-2013-037,CMS-SUS-13-012\n",
      "reportallsrs\n",
      "0.00e+00\n",
      "experimentalfeatures\n",
      "0.00e+00\n",
      "file status\n",
      "1.00e+00\n",
      "decomposition status\n",
      "1.00e+00\n",
      "warnings\n",
      "Input file ok\n",
      "input file\n",
      "../test/testFiles/slha/lightEWinos.slha\n",
      "database version\n",
      "unittest300-beta\n",
      "smodels version\n",
      "3.0.0-beta\n"
     ]
    }
   ],
   "source": [
    "pprint(x['OutputStatus'])"
   ]
  },
  {
   "cell_type": "code",
   "execution_count": 30,
   "id": "25a05760",
   "metadata": {},
   "outputs": [
    {
     "name": "stdout",
     "output_type": "stream",
     "text": [
      "105\n",
      "ID\n",
      "1.00e+00\n",
      "Particles\n",
      "[[],[[q,q]]]\n",
      "final states\n",
      "N1\n",
      "N1/N1~\n",
      "Masses (GeV)\n",
      "6.81e+01\n",
      "1.34e+02\n",
      "6.81e+01\n",
      "PIDs\n",
      "1.00e+06\n",
      "1.00e+06\n",
      "-1.00e+06\n",
      "1.00e+06\n",
      "-1.00e+06\n",
      "Weights (fb)\n",
      "xsec 8.0 TeV\n",
      "3.85e+01\n",
      "xsec 13.0 TeV\n",
      "5.38e+01\n",
      "ID\n",
      "2.00e+00\n",
      "Particles\n",
      "[[],[[q,c]]]\n",
      "final states\n",
      "N1\n",
      "N1/N1~\n",
      "Masses (GeV)\n",
      "6.81e+01\n",
      "1.34e+02\n",
      "6.81e+01\n",
      "PIDs\n",
      "1.00e+06\n",
      "1.00e+06\n",
      "-1.00e+06\n",
      "1.00e+06\n",
      "-1.00e+06\n",
      "Weights (fb)\n",
      "xsec 8.0 TeV\n",
      "3.85e+01\n",
      "xsec 13.0 TeV\n",
      "5.38e+01\n",
      "ID\n",
      "3.00e+00\n",
      "Particles\n",
      "[[],[[q,q]]]\n",
      "final states\n",
      "inv\n",
      "N1/N1~\n",
      "Masses (GeV)\n",
      "1.35e+02\n",
      "1.34e+02\n",
      "6.81e+01\n",
      "PIDs\n",
      "1.00e+06\n",
      "1.00e+06\n",
      "-1.00e+06\n",
      "1.00e+06\n",
      "-1.00e+06\n",
      "Weights (fb)\n",
      "xsec 8.0 TeV\n",
      "6.47e+01\n",
      "xsec 13.0 TeV\n",
      "1.21e+02\n"
     ]
    }
   ],
   "source": [
    "print(len(x['Element']))\n",
    "pprint(x['Element'][:3])"
   ]
  },
  {
   "cell_type": "code",
   "execution_count": 31,
   "id": "02b4b384",
   "metadata": {},
   "outputs": [
    {
     "name": "stdout",
     "output_type": "stream",
     "text": [
      "5.22e+03\n",
      "0.00e+00\n",
      "5.22e+03\n",
      "4.72e+01\n"
     ]
    }
   ],
   "source": [
    "pprint(x['Total xsec for missing topologies (fb)'])\n",
    "pprint(x['Total xsec for missing topologies with displaced decays (fb)'])\n",
    "pprint(x['Total xsec for missing topologies with prompt decays (fb)'])\n",
    "pprint(x['Total xsec for topologies outside the grid (fb)'])"
   ]
  },
  {
   "cell_type": "code",
   "execution_count": 32,
   "id": "b18fdf83",
   "metadata": {},
   "outputs": [
    {
     "name": "stdout",
     "output_type": "stream",
     "text": [
      "sqrts (TeV)\n",
      "1.30e+01\n",
      "weight (fb)\n",
      "1.20e+03\n",
      "element\n",
      "[jet,jet,l,nu]  (MET,MET)\n",
      "element IDs\n",
      "3.10e+01\n",
      "3.60e+01\n",
      "1.00e+01\n",
      "1.80e+01\n",
      "8.00e+00\n",
      "9.00e+00\n",
      "1.60e+01\n",
      "1.70e+01\n",
      "2.90e+01\n",
      "3.00e+01\n",
      "3.40e+01\n",
      "3.50e+01\n",
      "3.20e+01\n",
      "3.70e+01\n",
      "1.10e+01\n",
      "1.90e+01\n",
      "sqrts (TeV)\n",
      "1.30e+01\n",
      "weight (fb)\n",
      "6.00e+02\n",
      "element\n",
      "[jet,jet,ta,nu]  (MET,MET)\n",
      "element IDs\n",
      "4.10e+01\n",
      "2.60e+01\n",
      "2.40e+01\n",
      "2.50e+01\n",
      "3.90e+01\n",
      "4.00e+01\n",
      "4.20e+01\n",
      "2.70e+01\n"
     ]
    }
   ],
   "source": [
    "pprint(x['missing topologies'][:2])"
   ]
  },
  {
   "cell_type": "code",
   "execution_count": 33,
   "id": "f8a851d9",
   "metadata": {},
   "outputs": [],
   "source": [
    "pprint(x['missing topologies with displaced decays'])"
   ]
  },
  {
   "cell_type": "code",
   "execution_count": 34,
   "id": "93ac60f6",
   "metadata": {},
   "outputs": [
    {
     "name": "stdout",
     "output_type": "stream",
     "text": [
      "sqrts (TeV)\n",
      "1.30e+01\n",
      "weight (fb)\n",
      "1.20e+03\n",
      "element\n",
      "[jet,jet,l,nu]  (MET,MET)\n",
      "element IDs\n",
      "3.10e+01\n",
      "3.60e+01\n",
      "1.00e+01\n",
      "1.80e+01\n",
      "8.00e+00\n",
      "9.00e+00\n",
      "1.60e+01\n",
      "1.70e+01\n",
      "2.90e+01\n",
      "3.00e+01\n",
      "3.40e+01\n",
      "3.50e+01\n",
      "3.20e+01\n",
      "3.70e+01\n",
      "1.10e+01\n",
      "1.90e+01\n",
      "sqrts (TeV)\n",
      "1.30e+01\n",
      "weight (fb)\n",
      "6.00e+02\n",
      "element\n",
      "[jet,jet,ta,nu]  (MET,MET)\n",
      "element IDs\n",
      "4.10e+01\n",
      "2.60e+01\n",
      "2.40e+01\n",
      "2.50e+01\n",
      "3.90e+01\n",
      "4.00e+01\n",
      "4.20e+01\n",
      "2.70e+01\n"
     ]
    }
   ],
   "source": [
    "pprint(x['missing topologies with prompt decays'][:2])"
   ]
  },
  {
   "cell_type": "code",
   "execution_count": 35,
   "id": "e725593c",
   "metadata": {},
   "outputs": [
    {
     "name": "stdout",
     "output_type": "stream",
     "text": [
      "sqrts (TeV)\n",
      "1.30e+01\n",
      "weight (fb)\n",
      "4.72e+01\n",
      "element\n",
      "[b,b,b,b]  (MET,MET)\n",
      "element IDs\n",
      "6.20e+01\n"
     ]
    }
   ],
   "source": [
    "pprint(x['topologies outside the grid'])"
   ]
  }
 ],
 "metadata": {
  "kernelspec": {
   "display_name": "Python 3",
   "language": "python",
   "name": "python3"
  },
  "language_info": {
   "codemirror_mode": {
    "name": "ipython",
    "version": 3
   },
   "file_extension": ".py",
   "mimetype": "text/x-python",
   "name": "python",
   "nbconvert_exporter": "python",
   "pygments_lexer": "ipython3",
   "version": "3.9.7"
  }
 },
 "nbformat": 4,
 "nbformat_minor": 5
}
