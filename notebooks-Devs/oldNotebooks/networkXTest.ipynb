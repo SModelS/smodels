{
 "cells": [
  {
   "cell_type": "code",
   "execution_count": 15,
   "metadata": {},
   "outputs": [],
   "source": [
    "import networkx as nx\n",
    "from smodels.theory.model import Model\n",
    "from smodels.share.models.mssm import BSMList\n",
    "from smodels.share.models.SMparticles import SMList\n",
    "import matplotlib.pyplot as plt\n",
    "from networkx.drawing.nx_agraph import write_dot, graphviz_layout\n",
    "from smodels.experiment.finalStateParticles import finalStates"
   ]
  },
  {
   "cell_type": "code",
   "execution_count": 2,
   "metadata": {},
   "outputs": [],
   "source": [
    "slhafile = 'inputFiles/slha/lightEWinos.slha'\n",
    "#Define your model\n",
    "model = Model(inputFile=slhafile, BSMparticles=BSMList, SMparticles=SMList)\n",
    "model.updateParticles()"
   ]
  },
  {
   "cell_type": "code",
   "execution_count": 3,
   "metadata": {},
   "outputs": [],
   "source": [
    "gluino = model.getParticlesWith(pdg = 1000021)[0]\n",
    "n1 = model.getParticlesWith(pdg = 1000022)[0]\n",
    "q = model.getParticlesWith(pdg = 2)[0]"
   ]
  },
  {
   "cell_type": "code",
   "execution_count": 4,
   "metadata": {},
   "outputs": [],
   "source": [
    "G = nx.DiGraph()\n",
    "G.add_node('PV')\n",
    "G.add_node('A',particle=gluino)\n",
    "G.add_node('a',particle=gluino)\n",
    "G.add_node('B_1',particle=n1)\n",
    "G.add_node('B_2',particle=q)\n",
    "G.add_node('B_3',particle=q)\n",
    "G.add_node('b_1',particle=n1)\n",
    "G.add_node('b_2',particle=q)\n",
    "G.add_node('b_3',particle=q)\n",
    "G.add_edges_from([('PV','A'),('PV','a')])\n",
    "G.add_edges_from([('A','B_1'),('A','B_2'),('A','B_3')])\n",
    "G.add_edges_from([('a','b_1'),('a','b_2'),('a','b_3')])"
   ]
  },
  {
   "cell_type": "code",
   "execution_count": 5,
   "metadata": {},
   "outputs": [
    {
     "data": {
      "image/png": "[encoded data removed]",
      "text/plain": [
       "<Figure size 432x288 with 1 Axes>"
      ]
     },
     "metadata": {},
     "output_type": "display_data"
    }
   ],
   "source": [
    "pos =graphviz_layout(G, prog='dot')\n",
    "nx.draw(G,pos,with_labels=True,arrows=True)\n",
    "plt.show()"
   ]
  },
  {
   "cell_type": "code",
   "execution_count": 66,
   "metadata": {},
   "outputs": [],
   "source": [
    "def fromGraphToBrackets(G,node):\n",
    "    dList = []\n",
    "    if list(G.successors(node)):\n",
    "        for daughter in G.successors(node):\n",
    "            if list(G.successors(daughter)):\n",
    "                dList.append(fromGraphToBrackets(G,daughter))\n",
    "            else:\n",
    "                if G.nodes[daughter]['particle'].Z2parity == 'even':\n",
    "                    dList.append(G.nodes[daughter]['particle'])\n",
    "    return dList\n",
    "\n",
    "def fromListToGraphs(bList,model,parentNode=0):\n",
    "    anyOdd = model.getParticlesWith(label='anyOdd')[0]\n",
    "    #Create graph and branches\n",
    "    G = nx.DiGraph()\n",
    "    node = parentNode\n",
    "    nodeLevel = 10**int(np.log10(max(x,1))\n",
    "    if not parentNode:\n",
    "        G.add_node(parentNode)\n",
    "        for vList in bList:\n",
    "            G.add_node(G.number_of_nodes(),particle=anyOdd)\n",
    "            subG = fromListToGraphs(vList,model,parentNode=G.number_of_nodes())\n",
    "            G = nx.compose(G,subG)\n",
    "        return G\n",
    "    elif isinstance(bList,list):\n",
    "        for vList in bList:\n",
    "            if isinstance(vList,list):\n",
    "                G.add_node(node,particle=anyOdd)\n",
    "                G.add_edge(parentNode,node)                \n",
    "                subG = fromListToGraphs(vList,model,parenteNode=node)\n",
    "                G = nx.compose(G,subG)\n",
    "            elif isinstance(vList,string):\n",
    "                ptc = model.getParticlesWith(label=vList)[0]\n",
    "                G.add_node(node+1,particle=ptc)\n",
    "                G.add_edge(parentNode,node)\n",
    "        \n",
    "    #For each branch create a sequential tree\n",
    "    for vList in bList:\n",
    "        \n",
    "            \n",
    "G.add_node('A',particle=gluino)\n"
   ]
  },
  {
   "cell_type": "code",
   "execution_count": 31,
   "metadata": {},
   "outputs": [],
   "source": [
    "def fromListToGraphs(bList,model,node=0,parentNode=0):\n",
    "    anyOdd = model.getParticlesWith(label='anyOdd')[0]\n",
    "    #Create graph and branches\n",
    "    G = nx.DiGraph()\n",
    "    G.add_node(parentNode)\n",
    "    if isinstance(bList,str):\n",
    "        ptc = model.getParticlesWith(label=bList)[0]\n",
    "        G.add_node(node,particle=ptc)\n",
    "        G.add_edge(parentNode,node)        \n",
    "        return G\n",
    "    elif isinstance(bList,list):        \n",
    "        daughterLevel = 10**int(np.log10(max(1,parentNode))) #Get node level (Add digit everytime you increase one level)\n",
    "        daughterNode = daughterLevel\n",
    "        for vList in bList:\n",
    "            G.add_node(node,particle=anyOdd)\n",
    "            G.add_edge(node,parentNode)\n",
    "            subG = fromListToGraphs(vList,model,node=,parentNode=node)\n",
    "            G = nx.compose(G,subG)\n",
    "            node += 1\n",
    "        return G"
   ]
  },
  {
   "cell_type": "code",
   "execution_count": 32,
   "metadata": {},
   "outputs": [],
   "source": [
    "bList = [['e-','mu+'],['photon']]"
   ]
  },
  {
   "cell_type": "code",
   "execution_count": 35,
   "metadata": {},
   "outputs": [
    {
     "data": {
      "image/png": "[encoded data removed]",
      "text/plain": [
       "<Figure size 432x288 with 1 Axes>"
      ]
     },
     "metadata": {},
     "output_type": "display_data"
    },
    {
     "data": {
      "image/png": "[encoded data removed]",
      "text/plain": [
       "<Figure size 432x288 with 1 Axes>"
      ]
     },
     "metadata": {},
     "output_type": "display_data"
    },
    {
     "data": {
      "image/png": "[encoded data removed]",
      "text/plain": [
       "<Figure size 432x288 with 1 Axes>"
      ]
     },
     "metadata": {},
     "output_type": "display_data"
    }
   ],
   "source": [
    "G = nx.DiGraph()\n",
    "G.add_node(0)\n",
    "G.add_node(1)\n",
    "G.add_node(2)\n",
    "G.add_edges_from([(0,1),(0,2)])\n",
    "pos =graphviz_layout(G, prog='dot')\n",
    "nx.draw(G,pos,with_labels=True,arrows=True)\n",
    "plt.show()\n",
    "\n",
    "H = nx.DiGraph()\n",
    "H.add_node(0)\n",
    "H.add_node(-1)\n",
    "H.add_edge(-1,0)\n",
    "pos =graphviz_layout(H, prog='dot')\n",
    "nx.draw(H,pos,with_labels=True,arrows=True)\n",
    "plt.show()\n",
    "\n",
    "G = nx.compose(G,H)\n",
    "pos =graphviz_layout(G, prog='dot')\n",
    "nx.draw(G,pos,with_labels=True,arrows=True)\n",
    "plt.show()"
   ]
  },
  {
   "cell_type": "code",
   "execution_count": 33,
   "metadata": {},
   "outputs": [
    {
     "data": {
      "image/png": "[encoded data removed]",
      "text/plain": [
       "<Figure size 432x288 with 1 Axes>"
      ]
     },
     "metadata": {},
     "output_type": "display_data"
    },
    {
     "data": {
      "image/png": "[encoded data removed]",
      "text/plain": [
       "<Figure size 432x288 with 1 Axes>"
      ]
     },
     "metadata": {},
     "output_type": "display_data"
    },
    {
     "data": {
      "image/png": "[encoded data removed]",
      "text/plain": [
       "<Figure size 432x288 with 1 Axes>"
      ]
     },
     "metadata": {},
     "output_type": "display_data"
    }
   ],
   "source": [
    "G = fromListToGraphs(bList,finalStates)"
   ]
  },
  {
   "cell_type": "code",
   "execution_count": null,
   "metadata": {},
   "outputs": [],
   "source": []
  },
  {
   "cell_type": "code",
   "execution_count": null,
   "metadata": {},
   "outputs": [],
   "source": []
  },
  {
   "cell_type": "code",
   "execution_count": 30,
   "metadata": {},
   "outputs": [
    {
     "data": {
      "image/png": "[encoded data removed]",
      "text/plain": [
       "<Figure size 432x288 with 1 Axes>"
      ]
     },
     "metadata": {},
     "output_type": "display_data"
    }
   ],
   "source": [
    "pos =graphviz_layout(G, prog='dot')\n",
    "nx.draw(G,pos,with_labels=True,arrows=True)\n",
    "plt.show()"
   ]
  },
  {
   "cell_type": "code",
   "execution_count": 36,
   "metadata": {},
   "outputs": [],
   "source": [
    "import numpy as np"
   ]
  },
  {
   "cell_type": "code",
   "execution_count": 45,
   "metadata": {},
   "outputs": [
    {
     "data": {
      "text/plain": [
       "1"
      ]
     },
     "execution_count": 45,
     "metadata": {},
     "output_type": "execute_result"
    }
   ],
   "source": [
    "x = 0\n",
    "10**int(np.log10(max(x,1)))"
   ]
  },
  {
   "cell_type": "code",
   "execution_count": null,
   "metadata": {},
   "outputs": [],
   "source": []
  }
 ],
 "metadata": {
  "kernelspec": {
   "display_name": "Python 3",
   "language": "python",
   "name": "python3"
  },
  "language_info": {
   "codemirror_mode": {
    "name": "ipython",
    "version": 3
   },
   "file_extension": ".py",
   "mimetype": "text/x-python",
   "name": "python",
   "nbconvert_exporter": "python",
   "pygments_lexer": "ipython3",
   "version": "3.6.3"
  }
 },
 "nbformat": 4,
 "nbformat_minor": 2
}
