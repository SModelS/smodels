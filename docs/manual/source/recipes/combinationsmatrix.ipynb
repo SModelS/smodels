{
 "cells": [
  {
   "cell_type": "markdown",
   "metadata": {},
   "source": [
    "# How To: Use a combinations matrix to keep track of combinabilities"
   ]
  },
  {
   "cell_type": "markdown",
   "metadata": {},
   "source": [
    "## Preparation"
   ]
  },
  {
   "cell_type": "code",
   "execution_count": 1,
   "metadata": {},
   "outputs": [],
   "source": [
    "# Set up the path to SModelS installation folder\n",
    "import sys; sys.path.append(\".\"); import smodels_paths"
   ]
  },
  {
   "cell_type": "code",
   "execution_count": 2,
   "metadata": {},
   "outputs": [],
   "source": [
    "# Import those parts of smodels that are needed for this exercise\n",
    "from smodels.tools.physicsUnits import GeV\n",
    "from smodels.experiment.databaseObj import Database"
   ]
  },
  {
   "cell_type": "code",
   "execution_count": 3,
   "metadata": {},
   "outputs": [],
   "source": [
    "# a combinations matrix is just a dictionary with combinable analyses as both keys and values\n",
    "combinationsmatrix = { \"CMS-SUS-21-002\": [ \"CMS-SUS-19-006\"]}"
   ]
  },
  {
   "cell_type": "code",
   "execution_count": 4,
   "metadata": {},
   "outputs": [],
   "source": [
    "## Load the official database:\n",
    "db = Database(\"official\", combinationsmatrix=combinationsmatrix)"
   ]
  },
  {
   "cell_type": "code",
   "execution_count": 20,
   "metadata": {},
   "outputs": [],
   "source": [
    "# get a few results\n",
    "cms19006 = db.getExpResults(analysisIDs=[\"CMS-SUS-19-006\"],dataTypes='upperLimit')[0]\n",
    "cms21002 = db.getExpResults(analysisIDs=[\"CMS-SUS-21-002\"],dataTypes='upperLimit')[0]\n",
    "cms20004 = db.getExpResults(analysisIDs=[\"CMS-SUS-20-004\"],dataTypes='efficiencyMap')[0]\n",
    "cms13012 = db.getExpResults(analysisIDs=[\"CMS-SUS-13-012\"],dataTypes='upperLimit')[0]\n",
    "atlas1841 = db.getExpResults(analysisIDs=[\"ATLAS-SUSY-2018-41\"],dataTypes='upperLimit')[0]"
   ]
  },
  {
   "cell_type": "markdown",
   "metadata": {},
   "source": [
    "## Check for combinability"
   ]
  },
  {
   "cell_type": "code",
   "execution_count": null,
   "metadata": {},
   "outputs": [],
   "source": [
    "# we marked CMS-SUS-21-002 to be combinable with CMS-SUS-19-006 ...\n",
    "cms19006.isCombinableWith ( cms21002 )"
   ]
  },
  {
   "cell_type": "code",
   "execution_count": 25,
   "metadata": {},
   "outputs": [
    {
     "data": {
      "text/plain": [
       "True"
      ]
     },
     "execution_count": 25,
     "metadata": {},
     "output_type": "execute_result"
    }
   ],
   "source": [
    "# combinability is Abelian\n",
    "cms21002.isCombinableWith ( cms19006 )"
   ]
  },
  {
   "cell_type": "code",
   "execution_count": 26,
   "metadata": {},
   "outputs": [
    {
     "data": {
      "text/plain": [
       "False"
      ]
     },
     "execution_count": 26,
     "metadata": {},
     "output_type": "execute_result"
    }
   ],
   "source": [
    "# we did not define CMS-SUS-20-004\n",
    "cms19006.isCombinableWith ( cms20004 )"
   ]
  },
  {
   "cell_type": "code",
   "execution_count": 27,
   "metadata": {},
   "outputs": [
    {
     "data": {
      "text/plain": [
       "True"
      ]
     },
     "execution_count": 27,
     "metadata": {},
     "output_type": "execute_result"
    }
   ],
   "source": [
    "# CMS analyses are always considered to be combinable with ATLAS\n",
    "cms19006.isCombinableWith ( atlas1841 )"
   ]
  },
  {
   "cell_type": "code",
   "execution_count": 28,
   "metadata": {},
   "outputs": [
    {
     "data": {
      "text/plain": [
       "True"
      ]
     },
     "execution_count": 28,
     "metadata": {},
     "output_type": "execute_result"
    }
   ],
   "source": [
    "# results at different sqrt(s) are always considered to be combinable\n",
    "cms19006.isCombinableWith ( cms13012 )"
   ]
  },
  {
   "cell_type": "code",
   "execution_count": 30,
   "metadata": {},
   "outputs": [
    {
     "data": {
      "text/plain": [
       "False"
      ]
     },
     "execution_count": 30,
     "metadata": {},
     "output_type": "execute_result"
    }
   ],
   "source": [
    "# an analysis cannot be combined with itself\n",
    "cms19006.isCombinableWith ( cms19006 )"
   ]
  }
 ],
 "metadata": {
  "kernelspec": {
   "display_name": "Python 3 (ipykernel)",
   "language": "python",
   "name": "python3"
  },
  "language_info": {
   "codemirror_mode": {
    "name": "ipython",
    "version": 3
   },
   "file_extension": ".py",
   "mimetype": "text/x-python",
   "name": "python",
   "nbconvert_exporter": "python",
   "pygments_lexer": "ipython3",
   "version": "3.11.2"
  }
 },
 "nbformat": 4,
 "nbformat_minor": 1
}
