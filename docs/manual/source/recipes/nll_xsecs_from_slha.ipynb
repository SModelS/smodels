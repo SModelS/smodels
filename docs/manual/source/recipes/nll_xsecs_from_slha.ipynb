{
 "cells": [
  {
   "cell_type": "markdown",
   "metadata": {},
   "source": [
    "# How To: Compute NLL cross sections for a given SLHA file"
   ]
  },
  {
   "cell_type": "code",
   "execution_count": 1,
   "metadata": {},
   "outputs": [],
   "source": [
    "# Set up the path to SModelS installation folder\n",
    "import sys; sys.path.append(\".\"); import smodels_paths"
   ]
  },
  {
   "cell_type": "code",
   "execution_count": 2,
   "metadata": {},
   "outputs": [],
   "source": [
    "# Import those parts of smodels that are needed for this exercise\n",
    "from smodels.tools import xsecComputer\n",
    "from smodels.tools.physicsUnits import TeV, fb\n",
    "from smodels.installation import installDirectory\n",
    "from smodels.tools.xsecComputer import LO, NLL"
   ]
  },
  {
   "cell_type": "code",
   "execution_count": 3,
   "metadata": {},
   "outputs": [],
   "source": [
    "# Define the SLHA file name\n",
    "filename=\"inputFiles/slha/gluino_squarks.slha\""
   ]
  },
  {
   "cell_type": "code",
   "execution_count": 4,
   "metadata": {},
   "outputs": [],
   "source": [
    "# Lets compute the NLL cross-sections for 8 TeV. The xsecComputer will first use Pythia to compute\n",
    "# the LO cross-sections and then NLLfast to compute the k-factors.\n",
    "# The output will contain only the processes contained in NLLfast (gluino and squark production)\n",
    "# For the Pythia step we have to define the number of MC events (1k)\n",
    "# (To see how to also include LO cross-sections for all processes check the LO HowTo)\n",
    "computer = xsecComputer.XSecComputer ( maxOrder=NLL, nevents = 100, pythiaVersion=6 )\n",
    "xsecsNLL=computer.compute(sqrts = 8*TeV, slhafile=filename )"
   ]
  },
  {
   "cell_type": "code",
   "execution_count": 5,
   "metadata": {},
   "outputs": [
    {
     "data": {
      "text/plain": [
       "smodels.theory.crossSection.XSectionList"
      ]
     },
     "execution_count": 5,
     "metadata": {},
     "output_type": "execute_result"
    }
   ],
   "source": [
    "# the output is a XSectionList ...\n",
    "type(xsecsNLL)"
   ]
  },
  {
   "cell_type": "code",
   "execution_count": 6,
   "metadata": {},
   "outputs": [
    {
     "name": "stdout",
     "output_type": "stream",
     "text": [
      "1.03E-01 [pb]\n",
      "(1000021, 2000002)\n",
      "label = 8 TeV (NLO+NLL) Sqrts = 8.00E+00 [TeV] QCD order = 2\n"
     ]
    }
   ],
   "source": [
    "# Each entry in the list contains the cross-section value:\n",
    "print(xsecsNLL[0].value)\n",
    "# The PDGs of the particles produced:\n",
    "print(xsecsNLL[0].pid)\n",
    "# And some additional info\n",
    "print(\"label =\",xsecsNLL[0].info.label,\"Sqrts =\",xsecsNLL[0].info.sqrts, \"QCD order =\",xsecsNLL[0].info.order)"
   ]
  },
  {
   "cell_type": "code",
   "execution_count": 7,
   "metadata": {},
   "outputs": [
    {
     "data": {
      "text/plain": [
       "True"
      ]
     },
     "execution_count": 7,
     "metadata": {},
     "output_type": "execute_result"
    }
   ],
   "source": [
    "# Finally, lets write the cross-sections back to the file \n",
    "# (will write only the cross-sections not overlapping the existing ones):\n",
    "computer.addXSecToFile(xsecsNLL,filename)"
   ]
  },
  {
   "cell_type": "code",
   "execution_count": null,
   "metadata": {},
   "outputs": [],
   "source": []
  }
 ],
 "metadata": {
  "kernelspec": {
   "display_name": "Python 3",
   "language": "python",
   "name": "python3"
  },
  "language_info": {
   "codemirror_mode": {
    "name": "ipython",
    "version": 3
   },
   "file_extension": ".py",
   "mimetype": "text/x-python",
   "name": "python",
   "nbconvert_exporter": "python",
   "pygments_lexer": "ipython3",
   "version": "3.7.3"
  }
 },
 "nbformat": 4,
 "nbformat_minor": 1
}
