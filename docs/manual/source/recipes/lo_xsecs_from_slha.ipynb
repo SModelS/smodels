{
 "cells": [
  {
   "cell_type": "markdown",
   "metadata": {},
   "source": [
    "# How To: Compute LO cross sections for a given SLHA file"
   ]
  },
  {
   "cell_type": "code",
   "execution_count": 1,
   "metadata": {},
   "outputs": [],
   "source": [
    "# Set up the path to SModelS installation folder\n",
    "import sys; sys.path.append(\".\"); import smodels_paths"
   ]
  },
  {
   "cell_type": "code",
   "execution_count": 2,
   "metadata": {},
   "outputs": [],
   "source": [
    "# Import those parts of smodels that are needed for this exercise\n",
    "from smodels.tools import xsecComputer\n",
    "from smodels.tools.physicsUnits import TeV, fb\n",
    "from smodels.installation import installDirectory\n",
    "from smodels.tools.xsecComputer import LO, NLL"
   ]
  },
  {
   "cell_type": "code",
   "execution_count": 3,
   "metadata": {},
   "outputs": [],
   "source": [
    "# Define the SLHA file name\n",
    "filename=\"inputFiles/slha/gluino_squarks.slha\""
   ]
  },
  {
   "cell_type": "code",
   "execution_count": 4,
   "metadata": {},
   "outputs": [],
   "source": [
    "# Now lets compute the leading order (LO) cross sections for 8 TeV, simulating 1000\n",
    "# events with pythia.\n",
    "computer= xsecComputer.XSecComputer ( maxOrder = LO, nevents = 1000, pythiaVersion=6 )\n",
    "xsecs=computer.compute(sqrts = 8*TeV, slhafile=filename )"
   ]
  },
  {
   "cell_type": "code",
   "execution_count": 5,
   "metadata": {},
   "outputs": [
    {
     "data": {
      "text/plain": [
       "smodels.theory.crossSection.XSectionList"
      ]
     },
     "execution_count": 5,
     "metadata": {},
     "output_type": "execute_result"
    }
   ],
   "source": [
    "# the output is a XSectionList ...\n",
    "type(xsecs)"
   ]
  },
  {
   "cell_type": "code",
   "execution_count": 6,
   "metadata": {},
   "outputs": [
    {
     "name": "stdout",
     "output_type": "stream",
     "text": [
      "8.48E-02 [pb]\n",
      "(1000023, 1000024)\n",
      "label = 8 TeV (LO) Sqrts = 8.00E+00 [TeV] QCD order = 0\n"
     ]
    }
   ],
   "source": [
    "# Each entry in the list contains the cross-section value:\n",
    "print(xsecs[0].value)\n",
    "# The PDGs of the particles produced:\n",
    "print(xsecs[0].pid)\n",
    "# And some additional info\n",
    "print(\"label =\",xsecs[0].info.label,\"Sqrts =\",xsecs[0].info.sqrts, \"QCD order =\",xsecs[0].info.order)"
   ]
  },
  {
   "cell_type": "code",
   "execution_count": 7,
   "metadata": {},
   "outputs": [
    {
     "name": "stdout",
     "output_type": "stream",
     "text": [
      "1.24E-02 [pb]\n"
     ]
    }
   ],
   "source": [
    "# It is also possible to convert everything to a dictionary, using the .getDictionary() method:\n",
    "xsecDic=xsecs.getDictionary(groupBy=\"labels\")[\"8 TeV (LO)\"]\n",
    "print (xsecDic[(1000001,1000021)] )"
   ]
  },
  {
   "cell_type": "code",
   "execution_count": 8,
   "metadata": {},
   "outputs": [
    {
     "data": {
      "image/png": "[encoded data removed]",
      "text/plain": [
       "<Figure size 432x288 with 1 Axes>"
      ]
     },
     "metadata": {
      "needs_background": "light"
     },
     "output_type": "display_data"
    }
   ],
   "source": [
    "# now lets make a simple bar chart of the first 12 cross sections, in fb\n",
    "xsecPlot = dict(list(xsecDic.items())[:12])\n",
    "from IPython import get_ipython\n",
    "%matplotlib inline\n",
    "import pylab; import numpy; pylab.bar( range(len(xsecPlot)), list ( map ( lambda x: float(x/fb), xsecPlot.values() ) ) )\n",
    "pylab.xticks( .5+ numpy.arange(len(xsecPlot)), xsecPlot.keys(), rotation=\"vertical\" ); pylab.ylabel( \"xsec [fb]\");"
   ]
  },
  {
   "cell_type": "code",
   "execution_count": 9,
   "metadata": {},
   "outputs": [
    {
     "data": {
      "text/plain": [
       "True"
      ]
     },
     "execution_count": 9,
     "metadata": {},
     "output_type": "execute_result"
    }
   ],
   "source": [
    "# Finally, lets write the cross-sections back to the file \n",
    "# (will write only the cross-sections not overlapping the existing ones):\n",
    "computer.addXSecToFile(xsecs,filename)"
   ]
  }
 ],
 "metadata": {
  "kernelspec": {
   "display_name": "Python 3",
   "language": "python",
   "name": "python3"
  },
  "language_info": {
   "codemirror_mode": {
    "name": "ipython",
    "version": 3
   },
   "file_extension": ".py",
   "mimetype": "text/x-python",
   "name": "python",
   "nbconvert_exporter": "python",
   "pygments_lexer": "ipython3",
   "version": "3.7.3"
  }
 },
 "nbformat": 4,
 "nbformat_minor": 1
}
