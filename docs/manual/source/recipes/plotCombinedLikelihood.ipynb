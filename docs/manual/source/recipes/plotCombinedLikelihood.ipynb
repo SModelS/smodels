{
 "cells": [
  {
   "cell_type": "code",
   "execution_count": 1,
   "id": "f4da9559",
   "metadata": {},
   "outputs": [],
   "source": [
    "import os,sys\n",
    "# Set up the path to SModelS installation folder\n",
    "import sys; sys.path.append(\".\"); import smodels_paths\n",
    "import numpy as np\n",
    "import matplotlib.pyplot as plt\n",
    "\n",
    "from smodels.tools.modelTester import getCombiner"
   ]
  },
  {
   "cell_type": "markdown",
   "id": "2c8cee26",
   "metadata": {},
   "source": [
    "### Define input (SLHA) file and the parameters file"
   ]
  },
  {
   "cell_type": "code",
   "execution_count": 2,
   "id": "688c2a1b",
   "metadata": {},
   "outputs": [],
   "source": [
    "slhafile = os.path.expanduser(\"./inputFiles/slha/lightEWinos.slha\")\n",
    "parfile = os.path.expanduser(\"./parameters_comb.ini\")"
   ]
  },
  {
   "cell_type": "markdown",
   "id": "a56944df",
   "metadata": {},
   "source": [
    "### Define some basic parameters for plotting the likelihoods"
   ]
  },
  {
   "cell_type": "code",
   "execution_count": 3,
   "id": "5f67c85f",
   "metadata": {},
   "outputs": [],
   "source": [
    "expected = False # whether to plot the observed or expected likelihood\n",
    "normalize = True # whether to normalize the likelihoods\n",
    "muvals = np.linspace(0.,2.,100) # Signal strength values for which to evaluate the likelihoods"
   ]
  },
  {
   "cell_type": "markdown",
   "id": "93eed94d",
   "metadata": {},
   "source": [
    "### Run SModelS and get the analysis combination"
   ]
  },
  {
   "cell_type": "code",
   "execution_count": 4,
   "id": "ca4003b6",
   "metadata": {},
   "outputs": [],
   "source": [
    "combiner = getCombiner(slhafile, parfile)"
   ]
  },
  {
   "cell_type": "markdown",
   "id": "b341caff",
   "metadata": {},
   "source": [
    "### Use the combination to evaluate the likelihoods"
   ]
  },
  {
   "cell_type": "code",
   "execution_count": 5,
   "id": "ad3fcc48",
   "metadata": {},
   "outputs": [],
   "source": [
    "llhdDict = combiner.getLlhds(muvals,expected,normalize)"
   ]
  },
  {
   "cell_type": "markdown",
   "id": "031116a3",
   "metadata": {},
   "source": [
    "### Compute L_SM, L_BSM and L_max"
   ]
  },
  {
   "cell_type": "code",
   "execution_count": 6,
   "id": "f9c65c0d",
   "metadata": {},
   "outputs": [],
   "source": [
    "muhat = combiner.muhat()\n",
    "lmax = combiner.lmax()\n",
    "lsm = combiner.lsm()\n",
    "lbsm = combiner.likelihood(mu=1.0)"
   ]
  },
  {
   "cell_type": "markdown",
   "id": "b985ee02",
   "metadata": {},
   "source": [
    "### Plot the results"
   ]
  },
  {
   "cell_type": "code",
   "execution_count": 7,
   "id": "59aa81ed",
   "metadata": {},
   "outputs": [
    {
     "data": {
      "image/png": "[encoded data removed]",
      "text/plain": [
       "<Figure size 576x288 with 1 Axes>"
      ]
     },
     "metadata": {
      "needs_background": "light"
     },
     "output_type": "display_data"
    }
   ],
   "source": [
    "fig = plt.figure(figsize=(8,4))\n",
    "ymin = 0.\n",
    "ymax = 0.\n",
    "for anaID,l in llhdDict.items():\n",
    "    if anaID == 'combined':\n",
    "        zorder = 100\n",
    "        linestyle = '--'\n",
    "    else:\n",
    "        zorder = None\n",
    "        linestyle = '-'\n",
    "        \n",
    "    plt.plot(muvals,l,label=anaID,linewidth=3,zorder=zorder,linestyle=linestyle)\n",
    "    ymin = min(ymin,min(l))\n",
    "    ymax = max(ymax,max(l))\n",
    "plt.vlines(muhat,ymin=ymin,ymax=ymax,linestyle='--',linewidth=2,\n",
    "           label=r'$\\hat{\\mu}$',color='black',alpha=0.7)\n",
    "\n",
    "\n",
    "plt.yscale('log')\n",
    "plt.ylim(1e-3,1e1)\n",
    "plt.xlabel(r'$\\mu$')\n",
    "if normalize:\n",
    "    plt.ylabel('Normalized Likelihood')\n",
    "else:\n",
    "    plt.ylabel('Likelihood')\n",
    "plt.legend(framealpha=1)\n",
    "plt.title(r'$\\hat{\\mu} = $ %1.2f, $L_{max} =$ %1.2e, $L_{SM} =$ %1.2e, $L_{BSM} =$ %1.2e' %(muhat,lmax,lsm,lbsm))\n",
    "plt.show()"
   ]
  },
  {
   "cell_type": "code",
   "execution_count": null,
   "id": "ce7f5491",
   "metadata": {},
   "outputs": [],
   "source": []
  }
 ],
 "metadata": {
  "kernelspec": {
   "display_name": "Python 3 (ipykernel)",
   "language": "python",
   "name": "python3"
  },
  "language_info": {
   "codemirror_mode": {
    "name": "ipython",
    "version": 3
   },
   "file_extension": ".py",
   "mimetype": "text/x-python",
   "name": "python",
   "nbconvert_exporter": "python",
   "pygments_lexer": "ipython3",
   "version": "3.9.7"
  }
 },
 "nbformat": 4,
 "nbformat_minor": 5
}
