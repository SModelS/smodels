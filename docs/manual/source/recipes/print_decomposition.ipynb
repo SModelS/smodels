{
 "cells": [
  {
   "cell_type": "markdown",
   "metadata": {},
   "source": [
    "# How To: Print out the theoretical decomposition"
   ]
  },
  {
   "cell_type": "code",
   "execution_count": 1,
   "metadata": {},
   "outputs": [],
   "source": [
    "# Set up the path to SModelS installation folder\n",
    "import sys; sys.path.append(\".\"); import smodels_paths"
   ]
  },
  {
   "cell_type": "code",
   "execution_count": 2,
   "metadata": {},
   "outputs": [],
   "source": [
    "# Import those parts of smodels that are needed for this exercise\n",
    "# (We will assume the input is a SLHA file. For LHE files, use the lheDecomposer instead)\n",
    "from smodels.share.models.mssm import BSMList\n",
    "from smodels.share.models.SMparticles import SMList\n",
    "from smodels.base.model import Model\n",
    "from smodels.decomposition import decomposer\n",
    "from smodels.installation import installDirectory\n",
    "from smodels.base.physicsUnits import fb, GeV"
   ]
  },
  {
   "cell_type": "code",
   "execution_count": 3,
   "metadata": {},
   "outputs": [],
   "source": [
    "# Define the SLHA file name\n",
    "filename=\"inputFiles/slha/gluino_squarks.slha\"\n",
    "model = Model(BSMparticles = BSMList, SMparticles = SMList)\n",
    "model.updateParticles(inputFile=filename)"
   ]
  },
  {
   "cell_type": "code",
   "execution_count": 4,
   "metadata": {},
   "outputs": [],
   "source": [
    "# Perform the decomposition:\n",
    "listOfTopologies = decomposer.decompose(model, sigmacut = 0.5 * fb, \n",
    "                                            massCompress=True, invisibleCompress=True,minmassgap = 5* GeV)"
   ]
  },
  {
   "cell_type": "code",
   "execution_count": 5,
   "metadata": {},
   "outputs": [
    {
     "name": "stdout",
     "output_type": "stream",
     "text": [
      "Canonical name = 110100\n",
      "Number of SMS =  1\n",
      "Canonical name = 1101101000\n",
      "Number of SMS =  1\n",
      "Canonical name = 110110101000\n",
      "Number of SMS =  2\n",
      "Canonical name = 11101001101000\n",
      "Number of SMS =  8\n",
      "Canonical name = 1101101011010000\n",
      "Number of SMS =  9\n",
      "Canonical name = 1110100110101000\n",
      "Number of SMS =  10\n",
      "Canonical name = 111010011011010000\n",
      "Number of SMS =  28\n",
      "Canonical name = 111010100110101000\n",
      "Number of SMS =  3\n",
      "Canonical name = 11011011010110100000\n",
      "Number of SMS =  6\n",
      "Canonical name = 11101001101011010000\n",
      "Number of SMS =  50\n",
      "Canonical name = 11101001101101010000\n",
      "Number of SMS =  4\n",
      "Canonical name = 11101010011011010000\n",
      "Number of SMS =  14\n",
      "Canonical name = 1110101001101011010000\n",
      "Number of SMS =  20\n",
      "Canonical name = 1110101001101101010000\n",
      "Number of SMS =  4\n",
      "Canonical name = 1110110100011011010000\n",
      "Number of SMS =  31\n",
      "Canonical name = 111010011011010110100000\n",
      "Number of SMS =  37\n",
      "Canonical name = 111011010001101011010000\n",
      "Number of SMS =  87\n",
      "Canonical name = 111011010001101101010000\n",
      "Number of SMS =  8\n",
      "Canonical name = 11101010011011010110100000\n",
      "Number of SMS =  42\n",
      "Canonical name = 11101011010001101011010000\n",
      "Number of SMS =  72\n",
      "Canonical name = 11101011010001101101010000\n",
      "Number of SMS =  42\n",
      "Canonical name = 1110110100011011010110100000\n",
      "Number of SMS =  82\n",
      "Canonical name = 111010110100011011010110100000\n",
      "Number of SMS =  276\n"
     ]
    }
   ],
   "source": [
    "# To print specific information about othe i-th topology:\n",
    "for top,smsList in listOfTopologies.items():\n",
    "    print('Canonical name = %i' %top)\n",
    "    print (\"Number of SMS = \",len(smsList))"
   ]
  },
  {
   "cell_type": "code",
   "execution_count": 6,
   "metadata": {},
   "outputs": [
    {
     "name": "stdout",
     "output_type": "stream",
     "text": [
      "SMS: (PV > N1,gluino(1)), (gluino(1) > N1,q,q)\n",
      "weight= ['1.30E+01 [TeV]:5.47E-04 [pb] (1000021, 1000022)', '8.00E+00 [TeV]:9.63E-05 [pb] (1000021, 1000022)'] \n",
      "\n",
      "SMS: (PV > N1,gluino(1)), (gluino(1) > N1,c,c)\n",
      "weight= ['1.30E+01 [TeV]:5.47E-04 [pb] (1000021, 1000022)', '8.00E+00 [TeV]:9.63E-05 [pb] (1000021, 1000022)'] \n",
      "\n"
     ]
    }
   ],
   "source": [
    "# We can also print information for each element in the topology:\n",
    "for sms in listOfTopologies[110110101000]:\n",
    "    print ('SMS:',sms)\n",
    "    print ('weight=',sms.weightList,'\\n')"
   ]
  },
  {
   "cell_type": "code",
   "execution_count": null,
   "metadata": {},
   "outputs": [],
   "source": []
  }
 ],
 "metadata": {
  "kernelspec": {
   "display_name": "Python 3 (ipykernel)",
   "language": "python",
   "name": "python3"
  },
  "language_info": {
   "codemirror_mode": {
    "name": "ipython",
    "version": 3
   },
   "file_extension": ".py",
   "mimetype": "text/x-python",
   "name": "python",
   "nbconvert_exporter": "python",
   "pygments_lexer": "ipython3",
   "version": "3.9.7"
  }
 },
 "nbformat": 4,
 "nbformat_minor": 1
}
