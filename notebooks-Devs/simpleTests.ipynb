{
 "cells": [
  {
   "cell_type": "code",
   "execution_count": 1,
   "metadata": {},
   "outputs": [],
   "source": [
    "import sys\n",
    "sys.path.append('../')\n",
    "import matplotlib.pyplot as plt\n",
    "from smodels.decomposition.theorySMS import TheorySMS\n",
    "from smodels.experiment.expSMS import ExpSMS\n",
    "from smodels.share.models.mssm import BSMList\n",
    "from smodels.share.models.SMparticles import SMList\n",
    "from smodels.experiment.defaultFinalStates import finalStates\n",
    "from smodels.base.model import Model\n",
    "from collections import OrderedDict\n",
    "from smodels.base.physicsUnits import fb, GeV\n",
    "from itertools import product\n",
    "from smodels.experiment.databaseObj import Database\n",
    "from smodels.experiment.expResultObj import ExpResult\n",
    "import copy\n",
    "import re\n",
    "from smodels.base.smodelsLogging import logger\n",
    "import plotly.graph_objects as go\n",
    "import networkx as nx\n",
    "import numpy as np\n",
    "logger.setLevel('ERROR')"
   ]
  },
  {
   "cell_type": "code",
   "execution_count": 2,
   "metadata": {},
   "outputs": [],
   "source": [
    "db = Database('official')"
   ]
  },
  {
   "cell_type": "code",
   "execution_count": 3,
   "metadata": {},
   "outputs": [
    {
     "name": "stdout",
     "output_type": "stream",
     "text": [
      "206\n"
     ]
    }
   ],
   "source": [
    "print(len(db.expSMSMap))"
   ]
  },
  {
   "cell_type": "code",
   "execution_count": 4,
   "metadata": {},
   "outputs": [],
   "source": [
    "smsDict = db.expSMSMap.smsDict"
   ]
  },
  {
   "cell_type": "code",
   "execution_count": 5,
   "metadata": {},
   "outputs": [],
   "source": [
    "cNameDict = {}\n",
    "for isms, sms in smsDict.items():\n",
    "    cName = sms.canonName\n",
    "    if cName in cNameDict:\n",
    "        cNameDict[cName].append(isms)\n",
    "    else:\n",
    "        cNameDict[cName] = [isms]\n",
    "\n"
   ]
  },
  {
   "cell_type": "code",
   "execution_count": 6,
   "metadata": {},
   "outputs": [
    {
     "name": "stdout",
     "output_type": "stream",
     "text": [
      "11101001101000 17\n",
      "111010100110101000 25\n",
      "* 8\n",
      "11101011010001101011010000 23\n",
      "111010110101000110101101010000 6\n",
      "1110110100011011010000 88\n",
      "11101101010001101101010000 16\n",
      "111010011011010000 2\n",
      "1110101001101101010000 1\n",
      "1110100110101000 4\n",
      "1110101010011010101000 8\n",
      "11101010101001101010101000 1\n",
      "110100 5\n",
      "1101101000 1\n",
      "110110101000 1\n"
     ]
    }
   ],
   "source": [
    "for cName,smsList in cNameDict.items():\n",
    "    print(cName,len(smsList))\n",
    "    continue\n",
    "    if str(cName) == '*':\n",
    "        print('\\n\\n',cName)\n",
    "        for isms in smsList:\n",
    "            print(smsDict[isms])\n",
    "    if any('HSCP' in str(smsDict[isms]) for isms in smsList):\n",
    "        print('\\n\\n',cName, 'has HSCP')\n",
    "        for isms in smsList:\n",
    "            if 'HSCP' in str(smsDict[isms]):\n",
    "                print(smsDict[isms])"
   ]
  },
  {
   "cell_type": "code",
   "execution_count": 7,
   "metadata": {},
   "outputs": [
    {
     "name": "stdout",
     "output_type": "stream",
     "text": [
      "111010100110101000 = 111010100110101000\n",
      "* = 111010100110101000\n"
     ]
    }
   ],
   "source": [
    "cName = 111010100110101000\n",
    "for c in cNameDict:\n",
    "    if c == cName:\n",
    "        print(c,'=',cName)"
   ]
  },
  {
   "cell_type": "code",
   "execution_count": 16,
   "metadata": {},
   "outputs": [],
   "source": [
    "tx = db.expResultList[7].getTxNames()[3]"
   ]
  },
  {
   "cell_type": "code",
   "execution_count": 17,
   "metadata": {},
   "outputs": [
    {
     "name": "stdout",
     "output_type": "stream",
     "text": [
      "T5GQ\n"
     ]
    }
   ],
   "source": [
    "print(tx)"
   ]
  },
  {
   "cell_type": "code",
   "execution_count": 18,
   "metadata": {},
   "outputs": [],
   "source": [
    "dd = {tx : 10}"
   ]
  },
  {
   "cell_type": "code",
   "execution_count": 19,
   "metadata": {},
   "outputs": [
    {
     "data": {
      "text/plain": [
       "8772693772162"
      ]
     },
     "execution_count": 19,
     "metadata": {},
     "output_type": "execute_result"
    }
   ],
   "source": [
    "hash(tx)"
   ]
  },
  {
   "cell_type": "code",
   "execution_count": 20,
   "metadata": {},
   "outputs": [
    {
     "name": "stdout",
     "output_type": "stream",
     "text": [
      "T5GQ 3 7 ATLAS-SUSY-2016-07: 2j_Meff_1200,2j_Meff_1600,2j_Meff_2000,2j_Meff_2100,2j_Meff_2400,2j_Meff_2800,2j_Meff_3600,3j_Meff_1300,4j_Meff_1000,4j_Meff_1400,4j_Meff_1800,4j_Meff_2200,4j_Meff_2600,4j_Meff_3000,5j_Meff_1600,5j_Meff_1700,5j_Meff_2000,5j_Meff_2600,6j_Meff_1200,6j_Meff_1800,6j_Meff_2200,6j_Meff_2600(22):T1,T2,T3GQ,T5GQ,T5WW,T5WWoff,T5ZZ,T6WW,T6WWoff,TGQ(10)\n"
     ]
    }
   ],
   "source": [
    "for iexp,exp in enumerate(db.expResultList):\n",
    "    # if len(exp.datasets) > 10:\n",
    "        # print(iexp,exp)\n",
    "        # break\n",
    "    for itx,tx in enumerate(exp.getTxNames()):\n",
    "        if tx in dd:\n",
    "            print(tx,itx,iexp,exp)"
   ]
  },
  {
   "cell_type": "code",
   "execution_count": 22,
   "metadata": {},
   "outputs": [
    {
     "name": "stdout",
     "output_type": "stream",
     "text": [
      "{3: '2', 5: 10}\n"
     ]
    }
   ],
   "source": [
    "x = {3 : '2', 5 : '7'}\n",
    "x.update({5 : 10})\n",
    "print(x)"
   ]
  },
  {
   "cell_type": "code",
   "execution_count": null,
   "metadata": {},
   "outputs": [],
   "source": []
  }
 ],
 "metadata": {
  "kernelspec": {
   "display_name": "Python 3.9.7 64-bit",
   "language": "python",
   "name": "python3"
  },
  "language_info": {
   "codemirror_mode": {
    "name": "ipython",
    "version": 3
   },
   "file_extension": ".py",
   "mimetype": "text/x-python",
   "name": "python",
   "nbconvert_exporter": "python",
   "pygments_lexer": "ipython3",
   "version": "3.9.7"
  },
  "orig_nbformat": 4,
  "vscode": {
   "interpreter": {
    "hash": "31f2aee4e71d21fbe5cf8b01ff0e069b9275f58929596ceb00d14d90e3e16cd6"
   }
  }
 },
 "nbformat": 4,
 "nbformat_minor": 2
}
