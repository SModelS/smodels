{
 "cells": [
  {
   "cell_type": "markdown",
   "metadata": {},
   "source": [
    "### Import the plot creator"
   ]
  },
  {
   "cell_type": "code",
   "execution_count": 1,
   "metadata": {},
   "outputs": [],
   "source": [
    "# Set up the path to SModelS installation folder\n",
    "import sys,os\n",
    "sys.path.append(\".\")\n",
    "import smodels_paths\n",
    "from smodels.tools.interactivePlots import makePlots\n",
    "import smodels"
   ]
  },
  {
   "cell_type": "markdown",
   "metadata": {},
   "source": [
    "### Define the input folders, the parameters file and where to store the plots"
   ]
  },
  {
   "cell_type": "code",
   "execution_count": 2,
   "metadata": {},
   "outputs": [],
   "source": [
    "smodelsOutput = 'inputFiles/scanExample/smodels-output'\n",
    "slhaFiles = 'inputFiles/scanExample/slha'\n",
    "parameters = './iplots_parameters.py'\n",
    "modelFile = './share/models/mssm.py'\n",
    "outputFolder = './'\n",
    "npoints = -1 #If negative will use all the points in the folders"
   ]
  },
  {
   "cell_type": "markdown",
   "metadata": {},
   "source": [
    "### Create plots"
   ]
  },
  {
   "cell_type": "code",
   "execution_count": 3,
   "metadata": {},
   "outputs": [
    {
     "name": "stderr",
     "output_type": "stream",
     "text": [
      "INFO in interactivePlots.loadParameters() in 66: Reading parameters from ./iplots_parameters.py ...\n",
      "INFO in interactivePlots.loadData() in 203: Reading data folders inputFiles/scanExample/smodels-output and inputFiles/scanExample/slha ...\n",
      "INFO in interactivePlots.makePlots() in 245: Making plots...\n",
      "INFO in interactivePlots.makePlots() in 287: Generation of interactive plots finished. Go to: \n",
      " .//index.html \n",
      " to see the plots.\n"
     ]
    }
   ],
   "source": [
    "plotsOutput = makePlots(smodelsOutput,slhaFiles,outputFolder,parameters,modelFile,npoints,verbosity='info', indexfile = \"plots.html\")"
   ]
  },
  {
   "cell_type": "markdown",
   "metadata": {},
   "source": [
    "### Display the output"
   ]
  },
  {
   "cell_type": "code",
   "execution_count": 4,
   "metadata": {},
   "outputs": [],
   "source": [
    "from IPython.core.display import display,HTML"
   ]
  },
  {
   "cell_type": "code",
   "execution_count": 7,
   "metadata": {},
   "outputs": [
    {
     "data": {
      "text/html": [
       "<html><head><font size=6>SModelS interactive plots: interactive plot example from a small pMSSM scan</font></head><p><strong>MT_total_xsec</strong>: Total missing cross section. <br><a href=MT_total_xsec_non-excluded.html>non-excluded</a> <a href=MT_total_xsec_excluded.html>excluded</a> <a href=MT_total_xsec_all.html>all</a> </p><p><strong>r_max</strong>: highest r-value from SModelS. <br><a href=r_max_non-excluded.html>non-excluded</a> <a href=r_max_excluded.html>excluded</a> <a href=r_max_all.html>all</a> </p><p><strong>MT_outgrid_xsec</strong>: Missing cross section outside the mass grids of the experimental results. <br><a href=MT_outgrid_xsec_non-excluded.html>non-excluded</a> <a href=MT_outgrid_xsec_excluded.html>excluded</a> <a href=MT_outgrid_xsec_all.html>all</a> </p><p><strong>MT_asym_xsec</strong>: Missing cross section in decays with asymmetric branches. <br><a href=MT_asym_xsec_non-excluded.html>non-excluded</a> <a href=MT_asym_xsec_excluded.html>excluded</a> <a href=MT_asym_xsec_all.html>all</a> </p><p><strong>MT_max</strong>: Missing topologies with the largest cross section. <br><a href=MT_max_non-excluded.html>non-excluded</a> <a href=MT_max_excluded.html>excluded</a> <a href=MT_max_all.html>all</a> </p><p><strong>MT_max_xsec</strong>: Cross section of MT_max. <br><a href=MT_max_xsec_non-excluded.html>non-excluded</a> <a href=MT_max_xsec_excluded.html>excluded</a> <a href=MT_max_xsec_all.html>all</a> </p><p><strong>Analysis</strong>: Experimental analysis from which the highest r-value comes from. <br><a href=Analysis_non-excluded.html>non-excluded</a> <a href=Analysis_excluded.html>excluded</a> <a href=Analysis_all.html>all</a> </p><p><strong>Tx</strong>: Topology/ies which give the highest r-value. <br><a href=Tx_non-excluded.html>non-excluded</a> <a href=Tx_excluded.html>excluded</a> <a href=Tx_all.html>all</a> </p><p><strong>SModelS_status</strong>: Excluded or not excluded by SModelS. <br><a href=SModelS_status_non-excluded.html>non-excluded</a> <a href=SModelS_status_excluded.html>excluded</a> <a href=SModelS_status_all.html>all</a> </p><p><strong>chi2</strong>: chi^2 value associated to the highest r-value. <br><a href=chi2_non-excluded.html>non-excluded</a> <a href=chi2_excluded.html>excluded</a> <a href=chi2_all.html>all</a> </p><p><strong>MT_long_xsec</strong>: Missing cross section in long cascade decays. <br><a href=MT_long_xsec_non-excluded.html>non-excluded</a> <a href=MT_long_xsec_excluded.html>excluded</a> <a href=MT_long_xsec_all.html>all</a> </p>"
      ],
      "text/plain": [
       "<IPython.core.display.HTML object>"
      ]
     },
     "metadata": {},
     "output_type": "display_data"
    }
   ],
   "source": [
    "#Main page (to open the plots go to the plots output folder and open them with the browser)\n",
    "mainFile = open(plotsOutput + '/plots.html','r')\n",
    "display(HTML(mainFile.read()))\n",
    "mainFile.close()"
   ]
  },
  {
   "cell_type": "code",
   "execution_count": 6,
   "metadata": {},
   "outputs": [
    {
     "data": {
      "text/plain": [
       "'/home/walten/git/smodels/docs/manual/source/recipes'"
      ]
     },
     "execution_count": 6,
     "metadata": {},
     "output_type": "execute_result"
    }
   ],
   "source": [
    "os.getcwd()"
   ]
  },
  {
   "cell_type": "code",
   "execution_count": null,
   "metadata": {},
   "outputs": [],
   "source": []
  }
 ],
 "metadata": {
  "kernelspec": {
   "display_name": "Python 3",
   "language": "python",
   "name": "python3"
  },
  "language_info": {
   "codemirror_mode": {
    "name": "ipython",
    "version": 3
   },
   "file_extension": ".py",
   "mimetype": "text/x-python",
   "name": "python",
   "nbconvert_exporter": "python",
   "pygments_lexer": "ipython3",
   "version": "3.8.6"
  }
 },
 "nbformat": 4,
 "nbformat_minor": 1
}
