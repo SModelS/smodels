{
 "cells": [
  {
   "cell_type": "code",
   "execution_count": 1,
   "id": "19b83b2a",
   "metadata": {},
   "outputs": [],
   "source": [
    "import sys,time\n",
    "sys.path.append('../')\n",
    "from smodels.theory.tree import Tree\n",
    "from smodels.theory.auxiliaryFunctions import bracketToProcessStr"
   ]
  },
  {
   "cell_type": "markdown",
   "id": "be3e668e",
   "metadata": {},
   "source": [
    "### Convert (old) bracket notation string to (new) process string"
   ]
  },
  {
   "cell_type": "code",
   "execution_count": 2,
   "id": "fb355d41",
   "metadata": {},
   "outputs": [
    {
     "name": "stdout",
     "output_type": "stream",
     "text": [
      "(PV > anyBSM(1),anyBSM(2)), (anyBSM(2) > anyBSM(3),e-,nu), (anyBSM(3) > MET,jet,jet), (anyBSM(2) > MET,L,nu)\n"
     ]
    }
   ],
   "source": [
    "stringEl = \"[ [['e-','nu'], ['jet','jet'] ], [ ['L','nu'] ] ]\"\n",
    "output = bracketToProcessStr(stringEl)\n",
    "print(output)"
   ]
  },
  {
   "cell_type": "code",
   "execution_count": 3,
   "id": "ff8cde2a",
   "metadata": {},
   "outputs": [
    {
     "name": "stdout",
     "output_type": "stream",
     "text": [
      "(PV > squark(1),squark(2)), (squark(2) > gluino(3),e-,nu), (gluino(3) > MET,jet,jet), (squark(2) > HSCP,L,nu)\n"
     ]
    }
   ],
   "source": [
    "stringEl = \"[ [['e-','nu'], ['jet','jet'] ], [ ['L','nu'] ] ]\"\n",
    "output = bracketToProcessStr(stringEl,finalState=['MET','HSCP'],intermediateState=[['squark','gluino'],['squark']])\n",
    "print(output)"
   ]
  },
  {
   "cell_type": "code",
   "execution_count": 4,
   "id": "a9a8e955",
   "metadata": {},
   "outputs": [
    {
     "name": "stdout",
     "output_type": "stream",
     "text": [
      "(PV > gluino(1),squark(2)), (gluino(2) > MET,jet,jet), (squark(2) > HSCP,L,nu)\n"
     ]
    }
   ],
   "source": [
    "stringEl = \"[ [ ['jet','jet'] ], [ ['L','nu'] ] ]\"\n",
    "output = bracketToProcessStr(stringEl,finalState=['MET','HSCP'],intermediateState=[['gluino'],['squark']])\n",
    "print(output)"
   ]
  },
  {
   "cell_type": "code",
   "execution_count": 11,
   "id": "239e7bab",
   "metadata": {},
   "outputs": [
    {
     "name": "stdout",
     "output_type": "stream",
     "text": [
      "0 0\n",
      "0 0\n",
      "0 0\n",
      "0 0\n",
      "0 0\n",
      "0 0\n",
      "0 0\n",
      "0 0\n",
      "0 0\n",
      "0 0\n"
     ]
    }
   ],
   "source": [
    "j = 0\n",
    "for i in range(10):\n",
    "    x = ++j\n",
    "    print(x,j)\n",
    "    "
   ]
  },
  {
   "cell_type": "code",
   "execution_count": 12,
   "id": "ee2e0f03",
   "metadata": {},
   "outputs": [
    {
     "name": "stdout",
     "output_type": "stream",
     "text": [
      "[[('gluino', 2)], [('squark', 5)]]\n",
      "[('MET', 1), ('HSCP', 4)]\n"
     ]
    }
   ],
   "source": [
    "branches = eval(stringEl)\n",
    "finalState=['MET','HSCP']\n",
    "intermediateState=[['gluino'],['squark']]\n",
    "\n",
    "\n",
    "\n",
    "\n",
    "fStates = []\n",
    "intStates = []\n",
    "for ibr, br in enumerate(branches):\n",
    "    if br == 'InclusiveNode':\n",
    "        intStates.append(['InclusiveNode'])\n",
    "        fStates.append(None)\n",
    "    else:\n",
    "        if finalState is None:\n",
    "            fStates.append('MET')\n",
    "        else:\n",
    "            fStates.append(finalState[ibr])\n",
    "\n",
    "        if intermediateState is None:\n",
    "            intStates.append(['anyBSM' for dec in br])\n",
    "        else:\n",
    "            intStates.append(intermediateState[ibr])\n",
    "\n",
    "primaryMothers = []\n",
    "imom = 0\n",
    "for ibr, br in enumerate(branches):\n",
    "    mom = intStates[ibr][0]\n",
    "    if mom != 'InclusiveNode':\n",
    "        mom = '%s(%i)' % (mom, imom+1)\n",
    "        imom += 1\n",
    "    else:\n",
    "        mom = '%s' % (mom)\n",
    "    primaryMothers.append(mom)\n",
    "\n",
    "stringProc = '(PV > ' + ','.join(primaryMothers) + ')'\n",
    "\n",
    "j = imom\n",
    "for ibr, br in enumerate(branches):\n",
    "    fs = fStates[ibr]\n",
    "    if not fs:\n",
    "        continue\n",
    "    brStr = ''\n",
    "    i = imom\n",
    "    for idec, dec in enumerate(br):\n",
    "        mom = intStates[ibr][idec]\n",
    "        if idec < len(br)-1:\n",
    "            daughter = intStates[ibr][idec+1]\n",
    "            j += 1\n",
    "            brStr += ', (%s(%i) > %s(%i),' % (mom, i, daughter, j) + ','.join(dec) + ')'\n",
    "        else:\n",
    "            brStr += ', (%s(%i) > %s,' % (mom, i, fs) + ','.join(dec) + ')'\n",
    "        i = j\n",
    "\n",
    "    stringProc += brStr\n",
    "\n",
    "print(intStates)\n",
    "print(fStates)\n",
    "            \n",
    "# primaryMothers = []\n",
    "# imom = 0\n",
    "# for ibr, br in enumerate(branches):\n",
    "#     mom = intStates[ibr][0]\n",
    "#     if mom != 'InclusiveNode':\n",
    "#         mom = '%s(%i)' % (mom, imom+1)\n",
    "#         imom += 1\n",
    "#     else:\n",
    "#         mom = '%s' % (mom)\n",
    "#     primaryMothers.append(mom)\n",
    "\n",
    "# stringProc = '(PV > ' + ','.join(primaryMothers) + ')'\n",
    "\n",
    "# print(stringProc)\n",
    "\n",
    "# j = imom\n",
    "# for ibr, br in enumerate(branches):\n",
    "#     fs = fStates[ibr]\n",
    "#     if not fs:\n",
    "#         continue    \n",
    "#     brStr = ''\n",
    "#     i = imom\n",
    "#     print('fs = ',fs,'j=',j,'i=',i,'br=',br)\n",
    "#     for idec, dec in enumerate(br):\n",
    "#         mom = intStates[ibr][idec]\n",
    "#         print('  mom = ',mom)\n",
    "#         if idec < len(br)-1:\n",
    "#             daughter = intStates[ibr][idec+1]\n",
    "#             j += 1\n",
    "#             print('   i = %i, j = %i' %(i,j))\n",
    "#             brStr += ', (%s(%i) > %s(%i),' % (mom, i, daughter, j) + ','.join(dec) + ')'\n",
    "#         else:\n",
    "#             brStr += ', (%s(%i) > %s,' % (mom, i, fs) + ','.join(dec) + ')'\n",
    "#         i = j\n",
    "\n",
    "#     stringProc += brStr"
   ]
  },
  {
   "cell_type": "code",
   "execution_count": null,
   "id": "9b491d2b",
   "metadata": {},
   "outputs": [],
   "source": []
  },
  {
   "cell_type": "code",
   "execution_count": null,
   "id": "58e76049",
   "metadata": {},
   "outputs": [],
   "source": []
  },
  {
   "cell_type": "code",
   "execution_count": null,
   "id": "e2dfa4be",
   "metadata": {},
   "outputs": [],
   "source": []
  },
  {
   "cell_type": "code",
   "execution_count": null,
   "id": "6d908443",
   "metadata": {},
   "outputs": [],
   "source": []
  },
  {
   "cell_type": "markdown",
   "id": "8427dbf5",
   "metadata": {},
   "source": [
    "### Convert process string to graph"
   ]
  },
  {
   "cell_type": "code",
   "execution_count": 5,
   "id": "74a12429",
   "metadata": {},
   "outputs": [
    {
     "ename": "SModelSTheoryError",
     "evalue": "'Can not create element from input (PV > gluino(1),squark(2)), (gluino(2) > MET,jet,jet), (squark(2) > HSCP,L,nu)'",
     "output_type": "error",
     "traceback": [
      "\u001b[0;31m---------------------------------------------------------------------------\u001b[0m",
      "\u001b[0;31mSModelSTheoryError\u001b[0m                        Traceback (most recent call last)",
      "\u001b[0;32m~/smodels-graphs/notebooks-Examples/../smodels/theory/tree.py\u001b[0m in \u001b[0;36m__init__\u001b[0;34m(self, info, finalState, intermediateState, model)\u001b[0m\n\u001b[1;32m    261\u001b[0m             \u001b[0;32mtry\u001b[0m\u001b[0;34m:\u001b[0m\u001b[0;34m\u001b[0m\u001b[0;34m\u001b[0m\u001b[0m\n\u001b[0;32m--> 262\u001b[0;31m                 \u001b[0mself\u001b[0m\u001b[0;34m.\u001b[0m\u001b[0mstringToTree\u001b[0m\u001b[0;34m(\u001b[0m\u001b[0minfo\u001b[0m\u001b[0;34m,\u001b[0m \u001b[0mfinalState\u001b[0m\u001b[0;34m,\u001b[0m \u001b[0mintermediateState\u001b[0m\u001b[0;34m,\u001b[0m \u001b[0mmodel\u001b[0m\u001b[0;34m)\u001b[0m\u001b[0;34m\u001b[0m\u001b[0;34m\u001b[0m\u001b[0m\n\u001b[0m\u001b[1;32m    263\u001b[0m             \u001b[0;32mexcept\u001b[0m \u001b[0;34m(\u001b[0m\u001b[0mSModelSError\u001b[0m\u001b[0;34m,\u001b[0m \u001b[0mTypeError\u001b[0m\u001b[0;34m)\u001b[0m\u001b[0;34m:\u001b[0m\u001b[0;34m\u001b[0m\u001b[0;34m\u001b[0m\u001b[0m\n",
      "\u001b[0;32m~/smodels-graphs/notebooks-Examples/../smodels/theory/tree.py\u001b[0m in \u001b[0;36mstringToTree\u001b[0;34m(self, stringElement, finalState, intermediateState, model)\u001b[0m\n\u001b[1;32m    334\u001b[0m         \u001b[0;32mif\u001b[0m \u001b[0mlen\u001b[0m\u001b[0;34m(\u001b[0m\u001b[0mset\u001b[0m\u001b[0;34m(\u001b[0m\u001b[0mlist\u001b[0m\u001b[0;34m(\u001b[0m\u001b[0mnodesDict\u001b[0m\u001b[0;34m.\u001b[0m\u001b[0mvalues\u001b[0m\u001b[0;34m(\u001b[0m\u001b[0;34m)\u001b[0m\u001b[0;34m)\u001b[0m\u001b[0;34m)\u001b[0m\u001b[0;34m)\u001b[0m \u001b[0;34m!=\u001b[0m \u001b[0mlen\u001b[0m\u001b[0;34m(\u001b[0m\u001b[0mlist\u001b[0m\u001b[0;34m(\u001b[0m\u001b[0mnodesDict\u001b[0m\u001b[0;34m.\u001b[0m\u001b[0mvalues\u001b[0m\u001b[0;34m(\u001b[0m\u001b[0;34m)\u001b[0m\u001b[0;34m)\u001b[0m\u001b[0;34m)\u001b[0m\u001b[0;34m:\u001b[0m\u001b[0;34m\u001b[0m\u001b[0;34m\u001b[0m\u001b[0m\n\u001b[0;32m--> 335\u001b[0;31m             \u001b[0;32mraise\u001b[0m \u001b[0mSModelSError\u001b[0m\u001b[0;34m(\u001b[0m\u001b[0;34m\"Input string has non unique nodes: %s\"\u001b[0m \u001b[0;34m%\u001b[0m \u001b[0mnodesDict\u001b[0m\u001b[0;34m)\u001b[0m\u001b[0;34m\u001b[0m\u001b[0;34m\u001b[0m\u001b[0m\n\u001b[0m\u001b[1;32m    336\u001b[0m \u001b[0;34m\u001b[0m\u001b[0m\n",
      "\u001b[0;31mSModelSTheoryError\u001b[0m: \"Input string has non unique nodes: {'PV': 0, 'gluino(1)': 1, 'squark(2)': 2, 'gluino(2)': 2}\"",
      "\nDuring handling of the above exception, another exception occurred:\n",
      "\u001b[0;31mSModelSTheoryError\u001b[0m                        Traceback (most recent call last)",
      "\u001b[0;32m/tmp/ipykernel_41735/768951134.py\u001b[0m in \u001b[0;36m<module>\u001b[0;34m\u001b[0m\n\u001b[1;32m      1\u001b[0m \u001b[0mprocString\u001b[0m \u001b[0;34m=\u001b[0m \u001b[0moutput\u001b[0m\u001b[0;34m\u001b[0m\u001b[0;34m\u001b[0m\u001b[0m\n\u001b[0;32m----> 2\u001b[0;31m \u001b[0mT\u001b[0m \u001b[0;34m=\u001b[0m \u001b[0mTree\u001b[0m\u001b[0;34m(\u001b[0m\u001b[0mprocString\u001b[0m\u001b[0;34m)\u001b[0m\u001b[0;34m\u001b[0m\u001b[0;34m\u001b[0m\u001b[0m\n\u001b[0m\u001b[1;32m      3\u001b[0m \u001b[0mT\u001b[0m\u001b[0;34m.\u001b[0m\u001b[0mdraw\u001b[0m\u001b[0;34m(\u001b[0m\u001b[0;34m)\u001b[0m\u001b[0;34m\u001b[0m\u001b[0;34m\u001b[0m\u001b[0m\n\u001b[1;32m      4\u001b[0m \u001b[0mprint\u001b[0m\u001b[0;34m(\u001b[0m\u001b[0mT\u001b[0m\u001b[0;34m.\u001b[0m\u001b[0mnodes\u001b[0m\u001b[0;34m)\u001b[0m\u001b[0;34m\u001b[0m\u001b[0;34m\u001b[0m\u001b[0m\n\u001b[1;32m      5\u001b[0m \u001b[0mprint\u001b[0m\u001b[0;34m(\u001b[0m\u001b[0mT\u001b[0m\u001b[0;34m.\u001b[0m\u001b[0medges\u001b[0m\u001b[0;34m)\u001b[0m\u001b[0;34m\u001b[0m\u001b[0;34m\u001b[0m\u001b[0m\n",
      "\u001b[0;32m~/smodels-graphs/notebooks-Examples/../smodels/theory/tree.py\u001b[0m in \u001b[0;36m__init__\u001b[0;34m(self, info, finalState, intermediateState, model)\u001b[0m\n\u001b[1;32m    262\u001b[0m                 \u001b[0mself\u001b[0m\u001b[0;34m.\u001b[0m\u001b[0mstringToTree\u001b[0m\u001b[0;34m(\u001b[0m\u001b[0minfo\u001b[0m\u001b[0;34m,\u001b[0m \u001b[0mfinalState\u001b[0m\u001b[0;34m,\u001b[0m \u001b[0mintermediateState\u001b[0m\u001b[0;34m,\u001b[0m \u001b[0mmodel\u001b[0m\u001b[0;34m)\u001b[0m\u001b[0;34m\u001b[0m\u001b[0;34m\u001b[0m\u001b[0m\n\u001b[1;32m    263\u001b[0m             \u001b[0;32mexcept\u001b[0m \u001b[0;34m(\u001b[0m\u001b[0mSModelSError\u001b[0m\u001b[0;34m,\u001b[0m \u001b[0mTypeError\u001b[0m\u001b[0;34m)\u001b[0m\u001b[0;34m:\u001b[0m\u001b[0;34m\u001b[0m\u001b[0;34m\u001b[0m\u001b[0m\n\u001b[0;32m--> 264\u001b[0;31m                 \u001b[0;32mraise\u001b[0m \u001b[0mSModelSError\u001b[0m\u001b[0;34m(\u001b[0m\u001b[0;34m\"Can not create element from input %s\"\u001b[0m \u001b[0;34m%\u001b[0m \u001b[0minfo\u001b[0m\u001b[0;34m)\u001b[0m\u001b[0;34m\u001b[0m\u001b[0;34m\u001b[0m\u001b[0m\n\u001b[0m\u001b[1;32m    265\u001b[0m         \u001b[0;32melif\u001b[0m \u001b[0misinstance\u001b[0m\u001b[0;34m(\u001b[0m\u001b[0minfo\u001b[0m\u001b[0;34m,\u001b[0m \u001b[0mdict\u001b[0m\u001b[0;34m)\u001b[0m\u001b[0;34m:\u001b[0m\u001b[0;34m\u001b[0m\u001b[0;34m\u001b[0m\u001b[0m\n\u001b[1;32m    266\u001b[0m             \u001b[0mnx\u001b[0m\u001b[0;34m.\u001b[0m\u001b[0mDiGraph\u001b[0m\u001b[0;34m.\u001b[0m\u001b[0m__init__\u001b[0m\u001b[0;34m(\u001b[0m\u001b[0mself\u001b[0m\u001b[0;34m,\u001b[0m \u001b[0minfo\u001b[0m\u001b[0;34m)\u001b[0m\u001b[0;34m\u001b[0m\u001b[0;34m\u001b[0m\u001b[0m\n",
      "\u001b[0;31mSModelSTheoryError\u001b[0m: 'Can not create element from input (PV > gluino(1),squark(2)), (gluino(2) > MET,jet,jet), (squark(2) > HSCP,L,nu)'"
     ]
    }
   ],
   "source": [
    "procString = output\n",
    "T = Tree(procString)\n",
    "T.draw()\n",
    "print(T.nodes)\n",
    "print(T.edges)"
   ]
  },
  {
   "cell_type": "code",
   "execution_count": null,
   "id": "b59c10f6",
   "metadata": {},
   "outputs": [],
   "source": [
    "proc = '(PV > gluino(1),squark(2)), (gluino(1) > X(3),X(4),jet), (squark(2) > HSCP,L,nu), (X(3) > nu,nu), (X(4) > MET,e-)'\n",
    "T = Tree(proc)\n",
    "T.draw()\n",
    "print(T.nodes)\n",
    "print(T.edges)"
   ]
  }
 ],
 "metadata": {
  "kernelspec": {
   "display_name": "Python 3 (ipykernel)",
   "language": "python",
   "name": "python3"
  },
  "language_info": {
   "codemirror_mode": {
    "name": "ipython",
    "version": 3
   },
   "file_extension": ".py",
   "mimetype": "text/x-python",
   "name": "python",
   "nbconvert_exporter": "python",
   "pygments_lexer": "ipython3",
   "version": "3.9.7"
  }
 },
 "nbformat": 4,
 "nbformat_minor": 5
}
