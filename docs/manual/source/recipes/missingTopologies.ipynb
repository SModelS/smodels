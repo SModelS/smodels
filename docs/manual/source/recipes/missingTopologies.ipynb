{
 "cells": [
  {
   "cell_type": "markdown",
   "metadata": {},
   "source": [
    "# How To: Find missing topologies that are not covered by the database"
   ]
  },
  {
   "cell_type": "code",
   "execution_count": 1,
   "metadata": {},
   "outputs": [],
   "source": [
    "# Set up the path to SModelS installation folder\n",
    "import sys; sys.path.append(\".\"); import smodels_paths"
   ]
  },
  {
   "cell_type": "code",
   "execution_count": 2,
   "metadata": {},
   "outputs": [],
   "source": [
    "# Import those parts of smodels that are needed for this exercise\n",
    "from smodels.base.physicsUnits import TeV, GeV, fb\n",
    "from smodels.installation import installDirectory\n",
    "from smodels.share.models.mssm import BSMList\n",
    "from smodels.share.models.SMparticles import SMList\n",
    "from smodels.base.model import Model\n",
    "from smodels.decomposition import decomposer\n",
    "from smodels.matching.theoryPrediction import theoryPredictionsFor\n",
    "from smodels.experiment.databaseObj import Database\n",
    "from smodels.tools import coverage\n",
    "from smodels.base import smodelsLogging\n",
    "smodelsLogging.setLogLevel('error')\n"
   ]
  },
  {
   "cell_type": "code",
   "execution_count": 3,
   "metadata": {},
   "outputs": [],
   "source": [
    "# Define the SLHA input file name\n",
    "filename=\"inputFiles/slha/gluino_squarks.slha\" \n",
    "model = Model(BSMparticles = BSMList, SMparticles = SMList)\n",
    "model.updateParticles(inputFile=filename)"
   ]
  },
  {
   "cell_type": "code",
   "execution_count": 4,
   "metadata": {},
   "outputs": [
    {
     "name": "stdout",
     "output_type": "stream",
     "text": [
      "32\n"
     ]
    }
   ],
   "source": [
    "# Load the database, do the decomposition and compute theory predictions:\n",
    "# (Look at the theory predictions HowTo to learn how to compute theory predictions)\n",
    "database = Database(\"official\")\n",
    "topList = decomposer.decompose(model, sigmacut = 10* fb, massCompress=True, invisibleCompress=True,minmassgap = 5* GeV)\n",
    "print(len(topList.getSMSList()))\n",
    "#(Computing theory predictions will tag the elements which have been tested)\n",
    "allThPredictions = theoryPredictionsFor(database, topList)"
   ]
  },
  {
   "cell_type": "code",
   "execution_count": 5,
   "metadata": {},
   "outputs": [],
   "source": [
    "#Find out missing topologies:\n",
    "uncovered = coverage.Uncovered(topList)\n",
    "#First sort coverage groups by label\n",
    "groups = sorted(uncovered.groups[:], key = lambda g: g.label)"
   ]
  },
  {
   "cell_type": "code",
   "execution_count": 6,
   "metadata": {},
   "outputs": [
    {
     "name": "stdout",
     "output_type": "stream",
     "text": [
      "\n",
      "Total cross-section for missing topologies (fb):  3.888E+02\n",
      "\n",
      "Total cross-section for missing topologies with displaced decays (fb):  0.000E+00\n",
      "\n",
      "Total cross-section for missing topologies with prompt decays (fb):  3.888E+02\n",
      "\n",
      "Total cross-section for topologies outside the grid (fb):  0.000E+00\n"
     ]
    }
   ],
   "source": [
    "#Print uncovered cross-sections:\n",
    "for group in groups:\n",
    "    print(\"\\nTotal cross-section for %s (fb): %10.3E\" %(group.description,group.getTotalXSec()))"
   ]
  },
  {
   "cell_type": "code",
   "execution_count": 7,
   "metadata": {},
   "outputs": [
    {
     "name": "stdout",
     "output_type": "stream",
     "text": [
      "\n",
      "missing topology: PV > (W,jet,MET), (W,jet,jet,MET)\n",
      "Contributing elements:\n",
      "\t (PV > su_L(1),gluino(2)), (su_L(1) > q,C1+(4)), (gluino(2) > q,q,C1-(7)), (C1+(4) > N1,W+), (C1-(7) > N1~,W-)\n",
      "\t (PV > su_L(1),gluino(2)), (su_L(1) > q,C1+(4)), (gluino(2) > q,q,C1+(7)), (C1+(4) > N1,W+), (C1+(7) > N1,W+)\n",
      "\t (PV > su_L(1),gluino(2)), (su_L(1) > q,C1+(4)), (gluino(2) > q,c,C1-(7)), (C1+(4) > N1,W+), (C1-(7) > N1~,W-)\n",
      "\t (PV > su_L(1),gluino(2)), (su_L(1) > q,C1+(4)), (gluino(2) > q,c,C1+(7)), (C1+(4) > N1,W+), (C1+(7) > N1,W+)\n",
      "\n",
      "missing topology: PV > (jet,MET), (W,jet,jet,MET)\n",
      "Contributing elements:\n",
      "\t (PV > su_R(1),gluino(2)), (su_R(1) > N1,q), (gluino(2) > q,q,C1-(7)), (C1-(7) > N1~,W-)\n",
      "\t (PV > su_R(1),gluino(2)), (su_R(1) > N1,q), (gluino(2) > q,q,C1+(7)), (C1+(7) > N1,W+)\n",
      "\t (PV > su_R(1),gluino(2)), (su_R(1) > N1,q), (gluino(2) > q,c,C1-(7)), (C1-(7) > N1~,W-)\n",
      "\t (PV > su_R(1),gluino(2)), (su_R(1) > N1,q), (gluino(2) > q,c,C1+(7)), (C1+(7) > N1,W+)\n",
      "\n",
      "missing topology: PV > (W,jet,MET), (W,b,t,MET)\n",
      "Contributing elements:\n",
      "\t (PV > su_L(1),gluino(2)), (su_L(1) > q,C1+(4)), (gluino(2) > t-,b,C1+(7)), (C1+(4) > N1,W+), (C1+(7) > N1,W+)\n",
      "\t (PV > su_L(1),gluino(2)), (su_L(1) > q,C1+(4)), (gluino(2) > b,t+,C1-(7)), (C1+(4) > N1,W+), (C1-(7) > N1~,W-)\n",
      "\n",
      "missing topology: PV > (higgs,jet,MET), (W,jet,jet,MET)\n",
      "Contributing elements:\n",
      "\t (PV > su_L(1),gluino(2)), (su_L(1) > q,N2(4)), (gluino(2) > q,q,C1-(7)), (N2(4) > N1,higgs), (C1-(7) > N1~,W-)\n",
      "\t (PV > su_L(1),gluino(2)), (su_L(1) > q,N2(4)), (gluino(2) > q,q,C1+(7)), (N2(4) > N1,higgs), (C1+(7) > N1,W+)\n",
      "\t (PV > su_L(1),gluino(2)), (su_L(1) > q,N2(4)), (gluino(2) > q,c,C1-(7)), (N2(4) > N1,higgs), (C1-(7) > N1~,W-)\n",
      "\t (PV > su_L(1),gluino(2)), (su_L(1) > q,N2(4)), (gluino(2) > q,c,C1+(7)), (N2(4) > N1,higgs), (C1+(7) > N1,W+)\n",
      "\n",
      "missing topology: PV > (jet,MET), (W,b,t,MET)\n",
      "Contributing elements:\n",
      "\t (PV > su_R(1),gluino(2)), (su_R(1) > N1,q), (gluino(2) > t-,b,C1+(7)), (C1+(7) > N1,W+)\n",
      "\t (PV > su_R(1),gluino(2)), (su_R(1) > N1,q), (gluino(2) > b,t+,C1-(7)), (C1-(7) > N1~,W-)\n"
     ]
    }
   ],
   "source": [
    "# Get list of topologies which are not tested by any result:\n",
    "missingTopos = uncovered.getGroup('missing (all)')\n",
    "# print information about the first few missing topologies and\n",
    "# the elements contributing to the topology: \n",
    "for genEl in missingTopos.finalStateSMS[:5]:\n",
    "    print ('\\nmissing topology:',str(genEl))\n",
    "    print ('Contributing elements:')\n",
    "    for el in genEl._contributingSMS:\n",
    "        print('\\t',el)"
   ]
  },
  {
   "cell_type": "code",
   "execution_count": 8,
   "metadata": {},
   "outputs": [],
   "source": [
    "# Get list of topologies which are not tested by any result:\n",
    "outsideGrid = uncovered.getGroup('outsideGrid (all)')\n",
    "# print information about the first few missing topologies and\n",
    "# the elements contributing to the topology: \n",
    "for genEl in outsideGrid.finalStateSMS[:5]:\n",
    "    print ('\\nmissing topology:',str(genEl))\n",
    "    print ('Contributing elements:')\n",
    "    for el in genEl._contributingSMS:\n",
    "        print('\\t',el)\n",
    "        print('\\t element mass:',el.mass)"
   ]
  },
  {
   "cell_type": "code",
   "execution_count": null,
   "metadata": {},
   "outputs": [],
   "source": []
  }
 ],
 "metadata": {
  "kernelspec": {
   "display_name": "Python 3.10.6 64-bit",
   "language": "python",
   "name": "python3"
  },
  "language_info": {
   "codemirror_mode": {
    "name": "ipython",
    "version": 3
   },
   "file_extension": ".py",
   "mimetype": "text/x-python",
   "name": "python",
   "nbconvert_exporter": "python",
   "pygments_lexer": "ipython3",
   "version": "3.12.3"
  },
  "vscode": {
   "interpreter": {
    "hash": "e7370f93d1d0cde622a1f8e1c04877d8463912d04d973331ad4851f04de6915a"
   }
  }
 },
 "nbformat": 4,
 "nbformat_minor": 1
}
