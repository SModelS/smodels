{
 "cells": [
  {
   "cell_type": "code",
   "execution_count": 1,
   "metadata": {},
   "outputs": [],
   "source": [
    "import sys\n",
    "sys.path.append('../')\n",
    "import networkx as nx\n",
    "import time\n",
    "from smodels.theory.exceptions import SModelSTheoryError as SModelSError\n",
    "from smodels.tools.smodelsLogging import logger\n",
    "import matplotlib.pyplot as plt\n",
    "from networkx.drawing.nx_agraph import graphviz_layout\n",
    "from smodels.theory.element import Element\n",
    "from smodels.theory.topology import TopologyList\n",
    "from smodels.theory.crossSection import XSection,XSectionInfo,XSectionList\n",
    "from smodels.particlesLoader import BSMList\n",
    "from smodels.share.models.SMparticles import SMList\n",
    "from smodels.theory.model import Model\n",
    "from smodels.tools.physicsUnits import fb, GeV\n",
    "from smodels.theory.tree import Tree,ParticleNode\n",
    "from smodels.theory.decomposer import cascadeDecay, addOneStepDecays\n",
    "import itertools\n",
    "%load_ext line_profiler"
   ]
  },
  {
   "cell_type": "markdown",
   "metadata": {},
   "source": [
    "### Decomposer"
   ]
  },
  {
   "cell_type": "code",
   "execution_count": 2,
   "metadata": {},
   "outputs": [],
   "source": [
    "def decompose(model, sigmacut= 0*fb, doCompress=True, doInvisible=True,\n",
    "              minmassgap= 0*GeV):\n",
    "    \"\"\"\n",
    "    Perform decomposition using the information stored in model.\n",
    "    \n",
    "    :param sigmacut: minimum sigma*BR to be generated, by default sigmacut = 0.1 fb\n",
    "    :param doCompress: turn mass compression on/off\n",
    "    :param doInvisible: turn invisible compression on/off\n",
    "    :param minmassgap: maximum value (in GeV) for considering two R-odd particles\n",
    "                       degenerate (only revelant for doCompress=True )\n",
    "    :returns: list of topologies (TopologyList object)\n",
    "\n",
    "    \"\"\"\n",
    "    t1 = time.time()\n",
    "    \n",
    "    xSectionList = model.xsections    \n",
    "    pdgList = model.getValuesFor('pdg')\n",
    "\n",
    "    if doCompress and minmassgap/GeV < 0.:\n",
    "        logger.error(\"Asked for compression without specifying minmassgap. Please set minmassgap.\")        \n",
    "        raise SModelSError()\n",
    "\n",
    "    if isinstance(sigmacut,(float,int)):\n",
    "        sigmacut = float(sigmacut) * fb\n",
    "\n",
    "    xSectionList.removeLowerOrder()\n",
    "    # Order xsections by highest xsec value to improve performance\n",
    "    xSectionList.sort()\n",
    "\n",
    "    # Generate all primary nodes (e.g. PV > X+Y)\n",
    "    # and assign the nodeWeight as the maximum cross-section\n",
    "    productionTrees = []\n",
    "    for pid in xSectionList.getPIDpairs():\n",
    "        weight = xSectionList.getXsecsFor(pid)\n",
    "        if weight < sigmacut:\n",
    "            continue\n",
    "        pv = ParticleNode(model.getParticlesWith(label='PV')[0],0,nodeWeight=weight)\n",
    "        pv.xsection = xSectionList.getXsecsFor(pid)\n",
    "        primaryMothers = [ParticleNode(model.getParticlesWith(pdg=pdg)[0],i+1) for i,pdg in enumerate(pid)]\n",
    "        productionTrees.append(Tree({pv : primaryMothers}))\n",
    "\n",
    "    # Sort production trees\n",
    "    productionTrees = sorted(productionTrees, key = lambda t: t.getTreeWeight().getMaxXsec(), reverse=True)\n",
    "    \n",
    "    \n",
    "    print('%i production trees' %len(productionTrees))\n",
    "#     return productionTrees\n",
    "    # For each production tree, produce all allowed cascade decays (above sigmacut):\n",
    "    allTrees = []\n",
    "    for tree in productionTrees:\n",
    "#         print('len=',len(allTrees))\n",
    "        allTrees += cascadeDecay(tree,sigmacut=sigmacut)\n",
    "\n",
    "    print('%i decayed trees' %len(allTrees))\n",
    "    return allTrees\n",
    "\n",
    "    # Create elements for each tree and combine equal elements\n",
    "    smsTopList = TopologyList()\n",
    "\n",
    "    for tree in allTrees:                                       \n",
    "        newElement = Element(tree)\n",
    "        newElement.weight = tree.getTreeWeight()\n",
    "        smsTopList.addElement(newElement)                                                 \n",
    "                                                    \n",
    "    smsTopList.compressElements(doCompress, doInvisible, minmassgap)\n",
    "    smsTopList._setElementIds()    \n",
    "    \n",
    "    print(\"decomposer done in %.2f s.\" % (time.time() -t1 ) )\n",
    "    \n",
    "    return smsTopList"
   ]
  },
  {
   "cell_type": "markdown",
   "metadata": {},
   "source": [
    "### Load model"
   ]
  },
  {
   "cell_type": "code",
   "execution_count": 3,
   "metadata": {},
   "outputs": [],
   "source": [
    "slhafile = '../inputFiles/slha/lightEWinos.slha'\n",
    "# slhafile = '../inputFiles/slha/simplyGluino.slha'\n",
    "model = Model(BSMparticles=BSMList, SMparticles=SMList)\n",
    "model.updateParticles(inputFile=slhafile)\n"
   ]
  },
  {
   "cell_type": "code",
   "execution_count": 4,
   "metadata": {},
   "outputs": [
    {
     "name": "stdout",
     "output_type": "stream",
     "text": [
      "43 production trees\n",
      "14647 decayed trees\n",
      "(expected = 14647 trees)\n"
     ]
    }
   ],
   "source": [
    "sigmacut = 0.1*fb\n",
    "trees = decompose(model, sigmacut= sigmacut)\n",
    "nTotal = 14647\n",
    "nUnique = 5624\n",
    "print('(expected = %i trees)' %nTotal)"
   ]
  },
  {
   "cell_type": "code",
   "execution_count": 5,
   "metadata": {},
   "outputs": [
    {
     "name": "stdout",
     "output_type": "stream",
     "text": [
      "43 production trees\n",
      "14647 decayed trees\n"
     ]
    }
   ],
   "source": [
    "%lprun -f addOneStepDecays decompose(model, sigmacut= sigmacut)"
   ]
  },
  {
   "cell_type": "code",
   "execution_count": null,
   "metadata": {},
   "outputs": [],
   "source": []
  }
 ],
 "metadata": {
  "kernelspec": {
   "display_name": "Python 3 (ipykernel)",
   "language": "python",
   "name": "python3"
  },
  "language_info": {
   "codemirror_mode": {
    "name": "ipython",
    "version": 3
   },
   "file_extension": ".py",
   "mimetype": "text/x-python",
   "name": "python",
   "nbconvert_exporter": "python",
   "pygments_lexer": "ipython3",
   "version": "3.9.7"
  }
 },
 "nbformat": 4,
 "nbformat_minor": 2
}
