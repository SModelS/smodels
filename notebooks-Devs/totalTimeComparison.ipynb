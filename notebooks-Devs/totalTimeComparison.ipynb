{
 "cells": [
  {
   "cell_type": "code",
   "execution_count": 1,
   "metadata": {},
   "outputs": [],
   "source": [
    "import sys,os\n",
    "import time\n",
    "import numpy as np\n",
    "import matplotlib as mpl\n",
    "import matplotlib.pyplot as plt\n",
    "from matplotlib.colors import LogNorm\n",
    "import seaborn as sns\n",
    "from IPython.display import display, Markdown\n",
    "from importlib import reload\n",
    "\n",
    "plt.rcParams.update({\n",
    "    \"text.usetex\": True,\n",
    "    \"font.family\": \"sans-serif\",\n",
    "    \"font.sans-serif\": [\"Helvetica\"]})\n",
    "\n",
    "plt.rcParams.update({\"savefig.dpi\" : 300}) #Figure resolution\n",
    "#Define plotting style:\n",
    "sns.set() #Set style\n",
    "sns.set_style('ticks',{'font.family':'Times New Roman', 'font.serif':'Times New Roman'})\n",
    "sns.set_context('paper', font_scale=1.8)\n",
    "cm = plt.cm.get_cmap('RdYlBu')"
   ]
  },
  {
   "cell_type": "code",
   "execution_count": 2,
   "metadata": {},
   "outputs": [],
   "source": [
    "def getPoints(slhaFile,sigmacut=1.0,\n",
    "              massCompress=True,invisibleCompress=True,\n",
    "              version=3):    \n",
    "    \n",
    "    path = sys.path[:]\n",
    "    if version == 3:\n",
    "        sys.path.append('../')\n",
    "    else:\n",
    "        sys.path.append('/home/lessa/smodels')\n",
    "    \n",
    "    from smodels.share.models.SMparticles import SMList\n",
    "    from smodels.theory.model import Model\n",
    "    from smodels.tools.physicsUnits import fb, GeV, TeV\n",
    "    from smodels.theory.decomposer import decompose\n",
    "    from smodels.particlesLoader import BSMList \n",
    "    from smodels.theory.theoryPrediction import theoryPredictionsFor\n",
    "    from smodels.experiment.databaseObj import Database\n",
    "    from smodels.tools import coverage\n",
    "    \n",
    "    \n",
    "    model = Model(BSMparticles=BSMList, SMparticles=SMList)\n",
    "    model.updateParticles(inputFile=slhafile)\n",
    "    t0 = time.time()\n",
    "    if version == 3:\n",
    "        topDict = decompose(model, sigmacut= sigmacut*fb, \n",
    "                        massCompress=massCompress, \n",
    "                        invisibleCompress=invisibleCompress)\n",
    "        nEl = len(topDict.getSMSList())        \n",
    "        \n",
    "        database = Database(os.path.expanduser('~/smodels-database'))\n",
    "        listOfExpRes = database.getExpResults()\n",
    "        for expResult in listOfExpRes:\n",
    "            predictions = theoryPredictionsFor(expResult, topDict, combinedResults=False, marginalize=False)\n",
    "        uncovered = coverage.Uncovered(topDict, sqrts=13.*TeV)\n",
    "        \n",
    "    else:\n",
    "        topDict = decompose(model, sigmacut= sigmacut*fb, \n",
    "                        doCompress=massCompress, \n",
    "                        doInvisible=invisibleCompress)\n",
    "        nEl = len(topDict.getElements())\n",
    "        \n",
    "        database = Database(os.path.expanduser('~/smodels-database-master'))\n",
    "        listOfExpRes = database.getExpResults()\n",
    "        for expResult in listOfExpRes:\n",
    "            predictions = theoryPredictionsFor(expResult, topDict, combinedResults=False, marginalize=False)\n",
    "        uncovered = coverage.Uncovered(topDict, sqrts=13.*TeV)\n",
    "        \n",
    "        \n",
    "    dt = (time.time() -t0 )\n",
    "    \n",
    "    \n",
    "    sys.path = path[:]\n",
    "    \n",
    "    return (nEl,dt)"
   ]
  },
  {
   "cell_type": "code",
   "execution_count": 3,
   "metadata": {},
   "outputs": [],
   "source": [
    "slhafile = '../inputFiles/slha/lightEWinos.slha'\n",
    "sigmacut = [30.,20.,10.,8.,7.,5.,1.]"
   ]
  },
  {
   "cell_type": "markdown",
   "metadata": {},
   "source": [
    "### Get points for version 3"
   ]
  },
  {
   "cell_type": "code",
   "execution_count": null,
   "metadata": {},
   "outputs": [],
   "source": [
    "pts = []\n",
    "for sig in sigmacut:\n",
    "    pts.append(getPoints(slhafile,sigmacut=sig))"
   ]
  },
  {
   "cell_type": "code",
   "execution_count": null,
   "metadata": {},
   "outputs": [],
   "source": [
    "# Clear modules\n",
    "for mod in list(sys.modules.keys()):\n",
    "    if 'smodels' in mod:\n",
    "        sys.modules.pop(mod)"
   ]
  },
  {
   "cell_type": "markdown",
   "metadata": {},
   "source": [
    "### Get points for version 2"
   ]
  },
  {
   "cell_type": "code",
   "execution_count": null,
   "metadata": {},
   "outputs": [],
   "source": [
    "pts0 = []\n",
    "for sig in sigmacut:\n",
    "    pts0.append(getPoints(slhafile,sigmacut=sig,version=2))"
   ]
  },
  {
   "cell_type": "code",
   "execution_count": null,
   "metadata": {},
   "outputs": [],
   "source": [
    "pts = np.array(pts)\n",
    "pts0 = np.array(pts0)"
   ]
  },
  {
   "cell_type": "code",
   "execution_count": null,
   "metadata": {},
   "outputs": [],
   "source": [
    "fig = plt.figure(figsize=(10,8))\n",
    "plt.plot(pts[:,0],pts[:,1],linewidth=3,label='version 3',linestyle='-',marker='o',markersize=10)\n",
    "plt.plot(pts0[:,0],pts0[:,1],linewidth=3,label='version 2',linestyle='-',marker='o',markersize=10)\n",
    "plt.xlabel('\\# SMS')\n",
    "plt.ylabel('Total Time (s)')\n",
    "plt.yscale('log')\n",
    "plt.legend()\n",
    "plt.grid()\n",
    "plt.show()"
   ]
  },
  {
   "cell_type": "code",
   "execution_count": null,
   "metadata": {},
   "outputs": [],
   "source": [
    "fig = plt.figure(figsize=(10,8))\n",
    "plt.plot(pts[:,0],pts[:,1]/pts0[:,1],linewidth=3,linestyle='-',marker='o',markersize=10)\n",
    "plt.xlabel('\\# SMS')\n",
    "plt.ylabel(r'$t_3/t_2$')\n",
    "# plt.yscale('log')\n",
    "plt.xscale('log')\n",
    "# plt.legend()\n",
    "plt.grid()\n",
    "plt.show()"
   ]
  },
  {
   "cell_type": "code",
   "execution_count": null,
   "metadata": {},
   "outputs": [],
   "source": []
  }
 ],
 "metadata": {
  "kernelspec": {
   "display_name": "Python 3 (ipykernel)",
   "language": "python",
   "name": "python3"
  },
  "language_info": {
   "codemirror_mode": {
    "name": "ipython",
    "version": 3
   },
   "file_extension": ".py",
   "mimetype": "text/x-python",
   "name": "python",
   "nbconvert_exporter": "python",
   "pygments_lexer": "ipython3",
   "version": "3.9.7"
  }
 },
 "nbformat": 4,
 "nbformat_minor": 2
}
