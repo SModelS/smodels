{
 "cells": [
  {
   "cell_type": "code",
   "execution_count": 1,
   "metadata": {},
   "outputs": [],
   "source": [
    "import sys\n",
    "sys.path.append('../')\n",
    "import networkx as nx\n",
    "import matplotlib.pyplot as plt\n",
    "from networkx.drawing.nx_agraph import graphviz_layout\n",
    "from smodels.theory.element import Element\n",
    "from smodels.particlesLoader import BSMList\n",
    "from smodels.share.models.SMparticles import SMList\n",
    "from smodels.theory.model import Model\n",
    "from smodels.theory.decomposer import getDecayTrees, addOneStepDecays,cascadeDecay\n",
    "from smodels.theory.tree import Tree, ParticleNode\n",
    "from smodels.tools.physicsUnits import fb, GeV\n",
    "import itertools"
   ]
  },
  {
   "cell_type": "markdown",
   "metadata": {},
   "source": [
    "#### Compute number of possible decays:"
   ]
  },
  {
   "cell_type": "code",
   "execution_count": 2,
   "metadata": {},
   "outputs": [],
   "source": [
    "def getNdecays(pdg):\n",
    "    ptc = model.getParticlesWith(pdg=pdg)\n",
    "    nDecays = 0\n",
    "    if not ptc:\n",
    "        return 0\n",
    "    ptc = ptc[0]\n",
    "    if not hasattr(ptc,'decays'):\n",
    "        return 1\n",
    "    if not ptc.decays:\n",
    "        return 1\n",
    "    if ptc.isStable():\n",
    "        return 1\n",
    "    \n",
    "    for dec in ptc.decays:\n",
    "        daughterPDG = [abs(pid) for pid in dec.ids if abs(pid) > 10000][0]\n",
    "        nDecays += getNdecays(daughterPDG)\n",
    "    \n",
    "    return nDecays\n"
   ]
  },
  {
   "cell_type": "markdown",
   "metadata": {},
   "source": [
    "### Load model"
   ]
  },
  {
   "cell_type": "code",
   "execution_count": 3,
   "metadata": {},
   "outputs": [],
   "source": [
    "slhafile = '../inputFiles/slha/lightEWinos.slha'\n",
    "model = Model(BSMparticles=BSMList, SMparticles=SMList)\n",
    "model.updateParticles(inputFile=slhafile)\n"
   ]
  },
  {
   "cell_type": "markdown",
   "metadata": {},
   "source": [
    "### Create node with primary particle"
   ]
  },
  {
   "cell_type": "code",
   "execution_count": 4,
   "metadata": {},
   "outputs": [],
   "source": [
    "pv = ParticleNode(model.getParticlesWith(label='PV')[0],0)\n",
    "pv.nodeWeight = 1.0*fb\n",
    "n1 = ParticleNode(model.getParticlesWith(pdg=1000022)[0],1)\n",
    "n2 = ParticleNode(model.getParticlesWith(pdg=1000023)[0],3)\n",
    "c2 = ParticleNode(model.getParticlesWith(pdg=1000037)[0],2)"
   ]
  },
  {
   "cell_type": "markdown",
   "metadata": {},
   "source": [
    "### Check decay trees:"
   ]
  },
  {
   "cell_type": "code",
   "execution_count": 5,
   "metadata": {},
   "outputs": [
    {
     "name": "stdout",
     "output_type": "stream",
     "text": [
      "N2 > N1,q,q BR= 0.187809422\n",
      "N2 > N1,q,q BR= 0.187809422\n",
      "N2 > N1,b,b BR= 0.180233089\n",
      "N2 > N1,q,q BR= 0.144875155\n",
      "N2 > N1,c,c BR= 0.144875155\n",
      "N2 > N1,nu,nu BR= 0.0287784537\n",
      "N2 > N1,nu,nu BR= 0.0287784537\n",
      "N2 > N1,nu,nu BR= 0.0285446189\n",
      "N2 > N1,ta+,ta- BR= 0.0219195363\n",
      "N2 > N1,e+,e- BR= 0.0210071956\n",
      "N2 > N1,mu+,mu- BR= 0.0210071956\n",
      "N2 > N1,photon BR= 0.00436171735\n",
      "N2 > C1+,q,q BR= 1.077496e-07\n",
      "N2 > C1-,q,q BR= 1.077496e-07\n",
      "N2 > C1+,c,q BR= 1.077496e-07\n",
      "N2 > C1-,q,c BR= 1.077496e-07\n",
      "N2 > C1+,nu,e- BR= 3.84522575e-08\n",
      "N2 > C1-,nu,e+ BR= 3.84522575e-08\n",
      "N2 > C1+,nu,mu- BR= 3.84522575e-08\n",
      "N2 > C1-,nu,mu+ BR= 3.84522575e-08\n"
     ]
    }
   ],
   "source": [
    "decs = getDecayTrees(n2)\n",
    "for dec in decs:\n",
    "    mom = list(dec.nodes)[0]\n",
    "    daughters = [str(n) for n in list(dec.nodes)[1:]]\n",
    "    print('%s > ' %mom + ','.join(daughters),'BR=',mom.nodeWeight)"
   ]
  },
  {
   "cell_type": "markdown",
   "metadata": {},
   "source": [
    "### Create Tree with primary mothers"
   ]
  },
  {
   "cell_type": "code",
   "execution_count": 6,
   "metadata": {},
   "outputs": [
    {
     "data": {
      "image/png": "[encoded data removed]",
      "text/plain": [
       "<Figure size 432x288 with 1 Axes>"
      ]
     },
     "metadata": {},
     "output_type": "display_data"
    }
   ],
   "source": [
    "tree = Tree({pv : [n1,c2]})\n",
    "tree.draw()"
   ]
  },
  {
   "cell_type": "markdown",
   "metadata": {},
   "source": [
    "#### Check decays step by step:"
   ]
  },
  {
   "cell_type": "code",
   "execution_count": 7,
   "metadata": {},
   "outputs": [
    {
     "name": "stdout",
     "output_type": "stream",
     "text": [
      "Step1:\n",
      "4\n",
      "nN2 = 1, nC1 = 2, nN1 = 1, nOther = 0\n",
      "\n",
      "Step2:\n",
      "30\n",
      "nN2 = 20, nC1 = 10, nN1 = 0, nOther = 0\n",
      "\n",
      "Step3:\n",
      "40\n",
      "nN2 = 40, nC1 = 0, nN1 = 0, nOther = 0\n"
     ]
    }
   ],
   "source": [
    "tree1Step = addOneStepDecays(tree)\n",
    "print('Step1:')\n",
    "print(len(tree1Step))\n",
    "# Count decays:\n",
    "nN2 = 0\n",
    "nC1 = 0\n",
    "nN1 = 0\n",
    "nOther = 0\n",
    "for t in tree1Step:\n",
    "    daughters = [str(n) for n in t.successors(c2)]\n",
    "    if 'N2'in daughters:\n",
    "        nN2 +=1\n",
    "    elif 'C1+' in daughters or 'C1-' in daughters:\n",
    "        nC1 +=1 \n",
    "    elif 'N1'in daughters:\n",
    "        nN1 +=1 \n",
    "    else:\n",
    "        nOther +=1 \n",
    "print('nN2 = %i, nC1 = %i, nN1 = %i, nOther = %i\\n' %(nN2,nC1,nN1,nOther))\n",
    "\n",
    "\n",
    "print('Step2:')\n",
    "tree2Step = []\n",
    "for t in tree1Step:\n",
    "    tree2Step += addOneStepDecays(t)\n",
    "print(len(tree2Step))\n",
    "# Count decays:\n",
    "nN2 = 0\n",
    "nC1 = 0\n",
    "nN1 = 0\n",
    "nOther = 0\n",
    "for t in tree2Step:\n",
    "    daughters = [str(n) for n in t.successors(c2)]\n",
    "    if 'N2'in daughters:\n",
    "        nN2 +=1\n",
    "    elif 'C1+' in daughters or 'C1-' in daughters:\n",
    "        nC1 +=1 \n",
    "    elif 'N1'in daughters:\n",
    "        nN1 +=1 \n",
    "    else:\n",
    "        nOther +=1 \n",
    "print('nN2 = %i, nC1 = %i, nN1 = %i, nOther = %i\\n' %(nN2,nC1,nN1,nOther))\n",
    "\n",
    "\n",
    "print('Step3:')\n",
    "tree3Step = []\n",
    "for t in tree2Step:\n",
    "    daughters = [str(n) for n in t.successors(c2)]\n",
    "#     print(daughters)\n",
    "    tree3Step += addOneStepDecays(t)\n",
    "print(len(tree3Step))\n",
    "# Count decays:\n",
    "nN2 = 0\n",
    "nC1 = 0\n",
    "nN1 = 0\n",
    "nOther = 0\n",
    "for t in tree3Step:\n",
    "    daughters = [str(n) for n in t.successors(c2)]\n",
    "    if 'N2'in daughters:\n",
    "        nN2 +=1\n",
    "    elif 'C1+' in daughters or 'C1-' in daughters:\n",
    "        nC1 +=1 \n",
    "    elif 'N1'in daughters:\n",
    "        nN1 +=1 \n",
    "    else:\n",
    "        nOther +=1 \n",
    "print('nN2 = %i, nC1 = %i, nN1 = %i, nOther = %i' %(nN2,nC1,nN1,nOther))"
   ]
  },
  {
   "cell_type": "markdown",
   "metadata": {},
   "source": [
    "### Compute full cascade decay"
   ]
  },
  {
   "cell_type": "code",
   "execution_count": 8,
   "metadata": {},
   "outputs": [
    {
     "name": "stdout",
     "output_type": "stream",
     "text": [
      "Total= 63 (expected = 63)\n",
      "nN2 = 52, nC1 = 10, nN1 = 1, nOther = 0\n",
      "nN2 = 52, nC1 = 10, nN1 = 1, nOther = 0 (expected)\n"
     ]
    }
   ],
   "source": [
    "treeList = cascadeDecay(tree)\n",
    "print('Total= %i (expected = %i)' %(len(treeList),63))\n",
    "# Count decays:\n",
    "nN2 = 0\n",
    "nC1 = 0\n",
    "nN1 = 0\n",
    "nOther = 0\n",
    "for t in treeList:\n",
    "    daughters = [str(n) for n in t.successors(c2)]\n",
    "    if 'N2'in daughters:\n",
    "        nN2 +=1\n",
    "    elif 'C1+' in daughters or 'C1-' in daughters:\n",
    "        nC1 +=1 \n",
    "    elif 'N1'in daughters:\n",
    "        nN1 +=1 \n",
    "    else:\n",
    "        nOther +=1 \n",
    "print('nN2 = %i, nC1 = %i, nN1 = %i, nOther = %i' %(nN2,nC1,nN1,nOther))\n",
    "print('nN2 = %i, nC1 = %i, nN1 = %i, nOther = %i (expected)' %(52,10,1,0))"
   ]
  },
  {
   "cell_type": "code",
   "execution_count": 9,
   "metadata": {},
   "outputs": [
    {
     "name": "stdout",
     "output_type": "stream",
     "text": [
      "Total xsec = 1.00E+00 [fb] (expected = 1.00E+00 [fb])\n"
     ]
    }
   ],
   "source": [
    "totalXsec = 0*fb\n",
    "for t in treeList:\n",
    "    totalXsec += t.getTreeWeight()\n",
    "print('Total xsec = %s (expected = %s)' %(totalXsec,1*fb))"
   ]
  },
  {
   "cell_type": "markdown",
   "metadata": {},
   "source": [
    "#### Compare with simple count from SLHA file:"
   ]
  },
  {
   "cell_type": "code",
   "execution_count": 10,
   "metadata": {},
   "outputs": [
    {
     "name": "stdout",
     "output_type": "stream",
     "text": [
      "63\n"
     ]
    }
   ],
   "source": [
    "totalDecays = 1    \n",
    "for n in tree.nodes:\n",
    "    if str(n) == 'PV':\n",
    "        continue\n",
    "    totalDecays *= getNdecays(n.particle.pdg)\n",
    "print(totalDecays)"
   ]
  },
  {
   "cell_type": "markdown",
   "metadata": {},
   "source": [
    "### Second case (2-branches)"
   ]
  },
  {
   "cell_type": "code",
   "execution_count": 11,
   "metadata": {},
   "outputs": [
    {
     "data": {
      "image/png": "[encoded data removed]",
      "text/plain": [
       "<Figure size 432x288 with 1 Axes>"
      ]
     },
     "metadata": {},
     "output_type": "display_data"
    }
   ],
   "source": [
    "slhafile = '../inputFiles/slha/lightEWinos_simple.slha'\n",
    "model = Model(BSMparticles=BSMList, SMparticles=SMList)\n",
    "model.updateParticles(inputFile=slhafile)\n",
    "\n",
    "pv = ParticleNode(model.getParticlesWith(label='PV')[0],0)\n",
    "pv.nodeWeight = 1.0*fb\n",
    "n2 = ParticleNode(model.getParticlesWith(pdg=1000023)[0],1)\n",
    "c2 = ParticleNode(model.getParticlesWith(pdg=1000037)[0],2)\n",
    "\n",
    "tree = Tree({pv : [n2,c2]})\n",
    "tree.draw()"
   ]
  },
  {
   "cell_type": "code",
   "execution_count": 12,
   "metadata": {},
   "outputs": [
    {
     "name": "stdout",
     "output_type": "stream",
     "text": [
      "18 (expected = 18)\n",
      "C2+ decays:\n",
      "\t nN2 = 0, nC1 = 12, nN1 = 6, nOther = 0\n",
      "\t nN2 = 0, nC1 = 12, nN1 = 6, nOther = 0 (expected)\n",
      "Xsec: {'N2': 0.00E+00 [fb], 'C1': 3.33E-01 [fb], 'N1': 6.67E-01 [fb]}\n",
      "\n",
      "N2 decays:\n",
      "\t nN2 = 0, nC1 = 12, nN1 = 6, nOther = 0\n",
      "\t nN2 = 0, nC1 = 12, nN1 = 6, nOther = 0 (expected)\n",
      "Xsec: {'N2': 0.00E+00 [fb], 'C1': 8.00E-01 [fb], 'N1': 2.00E-01 [fb]}\n"
     ]
    }
   ],
   "source": [
    "treeList = cascadeDecay(tree)\n",
    "nN2tot = 6\n",
    "nC2tot = 3\n",
    "print(len(treeList),'(expected = %i)' %(nC2tot*nN2tot))\n",
    "# Count decays:\n",
    "nN2 = 0\n",
    "nC1 = 0\n",
    "nN1 = 0\n",
    "nOther = 0\n",
    "xsecDict = {'N2' : 0.0*fb, 'C1' : 0.0*fb, 'N1' : 0.0*fb}\n",
    "for t in treeList:\n",
    "    daughters = [str(n) for n in t.successors(c2)]\n",
    "    if 'N2'in daughters:\n",
    "        nN2 +=1\n",
    "        xsecDict['N2'] += t.getTreeWeight()\n",
    "    elif 'C1+' in daughters or 'C1-' in daughters:\n",
    "        nC1 +=1 \n",
    "        xsecDict['C1'] += t.getTreeWeight()\n",
    "    elif 'N1'in daughters:\n",
    "        nN1 +=1 \n",
    "        xsecDict['N1'] += t.getTreeWeight()\n",
    "    else:\n",
    "        nOther +=1 \n",
    "\n",
    "        \n",
    "print('C2+ decays:')        \n",
    "print('\\t nN2 = %i, nC1 = %i, nN1 = %i, nOther = %i' %(nN2,nC1,nN1,nOther))\n",
    "print('\\t nN2 = %i, nC1 = %i, nN1 = %i, nOther = %i (expected)' %(0*nN2tot,2*nN2tot,nN2tot,0))\n",
    "print('Xsec:',xsecDict)\n",
    "      \n",
    "# Count decays:\n",
    "nN2 = 0\n",
    "nC1 = 0\n",
    "nN1 = 0\n",
    "nOther = 0\n",
    "xsecDict = {'N2' : 0.0*fb, 'C1' : 0.0*fb, 'N1' : 0.0*fb}\n",
    "for t in treeList:\n",
    "    daughters = [str(n) for n in t.successors(n2)]\n",
    "    if 'N2'in daughters:\n",
    "        nN2 +=1\n",
    "        xsecDict['N2'] += t.getTreeWeight()\n",
    "    elif 'C1+' in daughters or 'C1-' in daughters:\n",
    "        nC1 +=1 \n",
    "        xsecDict['C1'] += t.getTreeWeight()\n",
    "    elif 'N1'in daughters:\n",
    "        nN1 +=1 \n",
    "        xsecDict['N1'] += t.getTreeWeight()\n",
    "    else:\n",
    "        nOther +=1 \n",
    "        \n",
    "print('\\nN2 decays:')        \n",
    "print('\\t nN2 = %i, nC1 = %i, nN1 = %i, nOther = %i' %(nN2,nC1,nN1,nOther))     \n",
    "print('\\t nN2 = %i, nC1 = %i, nN1 = %i, nOther = %i (expected)' %(0*nC2tot,4*nC2tot,2*nC2tot,0))\n",
    "print('Xsec:',xsecDict)"
   ]
  },
  {
   "cell_type": "code",
   "execution_count": 13,
   "metadata": {},
   "outputs": [
    {
     "name": "stdout",
     "output_type": "stream",
     "text": [
      "18\n"
     ]
    }
   ],
   "source": [
    "totalDecays = 1    \n",
    "for n in tree.nodes:\n",
    "    if str(n) == 'PV':\n",
    "        continue\n",
    "    totalDecays *= getNdecays(n.particle.pdg)\n",
    "print(totalDecays)"
   ]
  },
  {
   "cell_type": "code",
   "execution_count": 14,
   "metadata": {},
   "outputs": [
    {
     "name": "stdout",
     "output_type": "stream",
     "text": [
      "Total xsec = 1.00E+00 [fb] (expected = 1.00E+00 [fb])\n"
     ]
    }
   ],
   "source": [
    "totalXsec = 0*fb\n",
    "for t in treeList:\n",
    "    totalXsec += t.getTreeWeight()\n",
    "print('Total xsec = %s (expected = %s)' %(totalXsec,1*fb))"
   ]
  },
  {
   "cell_type": "markdown",
   "metadata": {},
   "source": [
    "#### With the possibility of stable final states:"
   ]
  },
  {
   "cell_type": "code",
   "execution_count": 15,
   "metadata": {},
   "outputs": [
    {
     "data": {
      "image/png": "[encoded data removed]",
      "text/plain": [
       "<Figure size 432x288 with 1 Axes>"
      ]
     },
     "metadata": {},
     "output_type": "display_data"
    }
   ],
   "source": [
    "slhafile = '../inputFiles/slha/lightEWinos_simple.slha'\n",
    "model = Model(BSMparticles=BSMList, SMparticles=SMList)\n",
    "model.updateParticles(inputFile=slhafile, promptWidth=1e-4*GeV)\n",
    "\n",
    "pv = ParticleNode(model.getParticlesWith(label='PV')[0],0)\n",
    "pv.nodeWeight = 1.0*fb\n",
    "c1p = ParticleNode(model.getParticlesWith(pdg=1000024)[0],1)\n",
    "c1m = ParticleNode(model.getParticlesWith(pdg=-1000024)[0],2)\n",
    "\n",
    "tree = Tree({pv : [c1p,c1m]})\n",
    "tree.draw()"
   ]
  },
  {
   "cell_type": "code",
   "execution_count": 16,
   "metadata": {},
   "outputs": [
    {
     "name": "stdout",
     "output_type": "stream",
     "text": [
      "9\n",
      "9 (expected)\n"
     ]
    }
   ],
   "source": [
    "treeList = cascadeDecay(tree)\n",
    "nExpected = 2*2 + 1*2 + 2*1 +1\n",
    "print(len(treeList))\n",
    "print(nExpected,'(expected)')\n",
    "# for t in treeList:\n",
    "#     drawTree(t)"
   ]
  },
  {
   "cell_type": "markdown",
   "metadata": {},
   "source": [
    "### Stress test"
   ]
  },
  {
   "cell_type": "code",
   "execution_count": 17,
   "metadata": {},
   "outputs": [
    {
     "data": {
      "image/png": "[encoded data removed]",
      "text/plain": [
       "<Figure size 432x288 with 1 Axes>"
      ]
     },
     "metadata": {},
     "output_type": "display_data"
    }
   ],
   "source": [
    "slhafile = '../inputFiles/slha/lightEWinos.slha'\n",
    "model = Model(BSMparticles=BSMList, SMparticles=SMList)\n",
    "model.updateParticles(inputFile=slhafile)\n",
    "\n",
    "pv = ParticleNode(model.getParticlesWith(label='PV')[0],0)\n",
    "pv.nodeWeight = 3.5*fb\n",
    "n2 = ParticleNode(model.getParticlesWith(pdg=1000023)[0],1)\n",
    "c2 = ParticleNode(model.getParticlesWith(pdg=1000037)[0],2)\n",
    "\n",
    "tree = Tree({pv : [n2,c2]})\n",
    "tree.draw()"
   ]
  },
  {
   "cell_type": "code",
   "execution_count": 18,
   "metadata": {},
   "outputs": [
    {
     "name": "stdout",
     "output_type": "stream",
     "text": [
      "3276 (expected = 3276)\n"
     ]
    }
   ],
   "source": [
    "treeList = cascadeDecay(tree)\n",
    "nN2tot = 52\n",
    "nC2tot = 63\n",
    "print(len(treeList),'(expected = %i)' %(nC2tot*nN2tot))"
   ]
  },
  {
   "cell_type": "code",
   "execution_count": 19,
   "metadata": {},
   "outputs": [],
   "source": [
    "treeList = sorted(treeList, key = lambda t: t.getTreeWeight(), reverse=True)"
   ]
  },
  {
   "cell_type": "code",
   "execution_count": 20,
   "metadata": {},
   "outputs": [
    {
     "name": "stdout",
     "output_type": "stream",
     "text": [
      "Total xsec = 3.50E+00 [fb] (expected = 3.50E+00 [fb])\n"
     ]
    }
   ],
   "source": [
    "totalXsec = 0*fb\n",
    "nCut = 0\n",
    "cut = 0.07*fb\n",
    "xsecCut = 0.0*fb\n",
    "for t in treeList:\n",
    "    w = t.getTreeWeight()\n",
    "    totalXsec += w\n",
    "    if w > cut:\n",
    "        nCut += 1\n",
    "        xsecCut += w\n",
    "print('Total xsec = %s (expected = %s)' %(totalXsec,3.5*fb))"
   ]
  },
  {
   "cell_type": "code",
   "execution_count": 21,
   "metadata": {},
   "outputs": [
    {
     "name": "stdout",
     "output_type": "stream",
     "text": [
      "6 (expected = 6)\n"
     ]
    }
   ],
   "source": [
    "treeList = cascadeDecay(tree,sigmacut=cut)\n",
    "print(len(treeList),'(expected = %i)' %(nCut))"
   ]
  },
  {
   "cell_type": "code",
   "execution_count": 22,
   "metadata": {},
   "outputs": [
    {
     "name": "stdout",
     "output_type": "stream",
     "text": [
      "Total xsec = 4.38E-01 [fb] (expected = 4.38E-01 [fb])\n"
     ]
    }
   ],
   "source": [
    "totalXsec = 0*fb\n",
    "for t in treeList:\n",
    "    totalXsec += t.getTreeWeight()\n",
    "print('Total xsec = %s (expected = %s)' %(totalXsec,xsecCut))"
   ]
  },
  {
   "cell_type": "code",
   "execution_count": null,
   "metadata": {},
   "outputs": [],
   "source": []
  }
 ],
 "metadata": {
  "kernelspec": {
   "display_name": "Python 3 (ipykernel)",
   "language": "python",
   "name": "python3"
  },
  "language_info": {
   "codemirror_mode": {
    "name": "ipython",
    "version": 3
   },
   "file_extension": ".py",
   "mimetype": "text/x-python",
   "name": "python",
   "nbconvert_exporter": "python",
   "pygments_lexer": "ipython3",
   "version": "3.9.7"
  }
 },
 "nbformat": 4,
 "nbformat_minor": 2
}
