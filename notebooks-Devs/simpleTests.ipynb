{
 "cells": [
  {
   "cell_type": "code",
   "execution_count": 2,
   "metadata": {},
   "outputs": [],
   "source": [
    "import sys\n",
    "sys.path.append('../')\n",
    "import matplotlib.pyplot as plt\n",
    "from smodels.decomposition.theorySMS import TheorySMS\n",
    "from smodels.experiment.expSMS import ExpSMS\n",
    "from smodels.share.models.mssm import BSMList\n",
    "from smodels.share.models.SMparticles import SMList\n",
    "from smodels.experiment.defaultFinalStates import finalStates\n",
    "from smodels.base.model import Model\n",
    "from collections import OrderedDict\n",
    "from smodels.base.physicsUnits import fb, GeV\n",
    "from itertools import product\n",
    "from smodels.experiment.databaseObj import Database\n",
    "from smodels.experiment.expResultObj import ExpResult\n",
    "import copy\n",
    "import re\n",
    "from smodels.base.smodelsLogging import logger\n",
    "import plotly.graph_objects as go\n",
    "import networkx as nx\n",
    "import numpy as np\n",
    "logger.setLevel('ERROR')"
   ]
  },
  {
   "cell_type": "code",
   "execution_count": null,
   "metadata": {},
   "outputs": [],
   "source": [
    "db = Database('official')"
   ]
  },
  {
   "cell_type": "code",
   "execution_count": null,
   "metadata": {},
   "outputs": [],
   "source": [
    "print(len(db.expSMSMap))"
   ]
  },
  {
   "cell_type": "code",
   "execution_count": null,
   "metadata": {},
   "outputs": [],
   "source": [
    "smsDict = db.expSMSMap.smsDict"
   ]
  },
  {
   "cell_type": "code",
   "execution_count": null,
   "metadata": {},
   "outputs": [],
   "source": [
    "cNameDict = {}\n",
    "for isms, sms in smsDict.items():\n",
    "    cName = sms.canonName\n",
    "    if cName in cNameDict:\n",
    "        cNameDict[cName].append(isms)\n",
    "    else:\n",
    "        cNameDict[cName] = [isms]\n",
    "\n"
   ]
  },
  {
   "cell_type": "code",
   "execution_count": null,
   "metadata": {},
   "outputs": [],
   "source": [
    "for cName,smsList in cNameDict.items():\n",
    "    print(cName,len(smsList))\n",
    "    continue\n",
    "    if str(cName) == '*':\n",
    "        print('\\n\\n',cName)\n",
    "        for isms in smsList:\n",
    "            print(smsDict[isms])\n",
    "    if any('HSCP' in str(smsDict[isms]) for isms in smsList):\n",
    "        print('\\n\\n',cName, 'has HSCP')\n",
    "        for isms in smsList:\n",
    "            if 'HSCP' in str(smsDict[isms]):\n",
    "                print(smsDict[isms])"
   ]
  },
  {
   "cell_type": "code",
   "execution_count": null,
   "metadata": {},
   "outputs": [],
   "source": [
    "cName = 111010100110101000\n",
    "for c in cNameDict:\n",
    "    if c == cName:\n",
    "        print(c,'=',cName)"
   ]
  },
  {
   "cell_type": "code",
   "execution_count": null,
   "metadata": {},
   "outputs": [],
   "source": [
    "tx = db.expResultList[7].getTxNames()[3]"
   ]
  },
  {
   "cell_type": "code",
   "execution_count": null,
   "metadata": {},
   "outputs": [],
   "source": [
    "print(tx)"
   ]
  },
  {
   "cell_type": "code",
   "execution_count": null,
   "metadata": {},
   "outputs": [],
   "source": [
    "dd = {tx : 10}"
   ]
  },
  {
   "cell_type": "code",
   "execution_count": null,
   "metadata": {},
   "outputs": [],
   "source": [
    "hash(tx)"
   ]
  },
  {
   "cell_type": "code",
   "execution_count": null,
   "metadata": {},
   "outputs": [],
   "source": [
    "for iexp,exp in enumerate(db.expResultList):\n",
    "    # if len(exp.datasets) > 10:\n",
    "        # print(iexp,exp)\n",
    "        # break\n",
    "    for itx,tx in enumerate(exp.getTxNames()):\n",
    "        if tx in dd:\n",
    "            print(tx,itx,iexp,exp)"
   ]
  },
  {
   "cell_type": "code",
   "execution_count": null,
   "metadata": {},
   "outputs": [],
   "source": [
    "x = {3 : '2', 5 : '7'}\n",
    "x.update({5 : 10})\n",
    "print(x)"
   ]
  },
  {
   "cell_type": "code",
   "execution_count": 4,
   "metadata": {},
   "outputs": [
    {
     "name": "stdout",
     "output_type": "stream",
     "text": [
      "Database version: 3.0.0-beta\n",
      "-----------------------------\n",
      "145 experimental results: 69 CMS, 76 ATLAS, 48 @ 8 TeV, 97 @ 13 TeV\n",
      "638 datasets, 2981 txnames.\n",
      "\n"
     ]
    }
   ],
   "source": [
    "db = Database('official')\n",
    "print(db)"
   ]
  },
  {
   "cell_type": "code",
   "execution_count": 17,
   "metadata": {},
   "outputs": [
    {
     "name": "stdout",
     "output_type": "stream",
     "text": [
      "0\n"
     ]
    }
   ],
   "source": [
    "superseded = []\n",
    "for exp in sorted(db.expResultList, key = lambda exp: exp.globalInfo.id):\n",
    "     if hasattr(exp.globalInfo, \"supersededBy\" ):\n",
    "        superseded.append(exp)\n",
    "print(len(superseded))"
   ]
  },
  {
   "cell_type": "code",
   "execution_count": 18,
   "metadata": {},
   "outputs": [],
   "source": [
    "db.selectExpResults(analysisIDs=['ATLAS-CONF-2013-024'])"
   ]
  },
  {
   "cell_type": "code",
   "execution_count": 19,
   "metadata": {},
   "outputs": [
    {
     "name": "stdout",
     "output_type": "stream",
     "text": [
      "Database version: 3.0.0-beta\n",
      "-----------------------------\n",
      "1 experimental results: 0 CMS, 1 ATLAS, 1 @ 8 TeV, 0 @ 13 TeV\n",
      "3 datasets, 63 txnames.\n",
      "\n"
     ]
    }
   ],
   "source": [
    "print(db)"
   ]
  },
  {
   "cell_type": "code",
   "execution_count": 21,
   "metadata": {},
   "outputs": [
    {
     "name": "stdout",
     "output_type": "stream",
     "text": [
      "ATLAS-CONF-2013-024: SR1: MET > 200,SR2: MET > 300,SR3: MET > 350(3):T1bbbb,T1bbbt,T1bbqq,T1bbtt,T1btbt,T1btqq,T1bttt,T1qqtt,T1tttt,T2bb,T2bt,T2tt,T5bbbb,T5bbbt,T5btbt,T5tbtb,T5tbtt,T5tttt,TGQbbq,TGQbtq,TGQqtt(21)\n",
      "{'path': '/home/lessa/smodels-database/8TeV/ATLAS/ATLAS-CONF-2013-024-eff/globalInfo.txt', 'id': 'ATLAS-CONF-2013-024', 'sqrts': 8.00E+00 [TeV], 'lumi': 2.05E+01 [1/fb], 'prettyName': '0 lepton + 6 (2 b-)jets + Etmiss', 'url': 'https://atlas.web.cern.ch/Atlas/GROUPS/PHYSICS/CONFNOTES/ATLAS-CONF-2013-024/', 'contact': 'fastlim', 'comment': 'created from fastlim-1.0; superseded by ATLAS-SUSY-2013-16, fastlim maps contain more topologies for ATLAS-CONF-2013-024. Topologies included here are, T1, T1bbbb, T1bbbt, T1bbqq, T1bbtt, T1btbt, T1btqq, T1bttt, T1qqtt, T1tttt, T2, T2bb, T2bt, T2tt, T5bbbb, T5bbbt, T5btbt, T5tbtb, T5tbtt, T5tttt, TGQ, TGQbbq, TGQbtq, TGQQtt.', 'implementedBy': 'WW', 'lastUpdate': '2016/08/16', 'type': 'prompt', '_databaseParticles': Model: databaseParticles.py}\n"
     ]
    }
   ],
   "source": [
    "for exp in db.expResultList:\n",
    "    print(exp)\n",
    "    print(exp.globalInfo.__dict__)"
   ]
  },
  {
   "cell_type": "code",
   "execution_count": 6,
   "metadata": {},
   "outputs": [],
   "source": [
    "class Test(object):\n",
    "\n",
    "\n",
    "    def __init__(self):\n",
    "        self._allExpResult = []\n",
    "        self._activeResults = []\n",
    "    \n",
    "    @property\n",
    "    def expResultList(self):\n",
    "        return self._activeResults[:]\n",
    "\n",
    "    @expResultList.setter\n",
    "    def expResultList(self,value):\n",
    "        self._allExpResult = value\n",
    "        self._activeResults = self._allExpResult[:]\n",
    "\n",
    "    def filterResults(self,key):\n",
    "        filtered = [r for r in self._allExpResult  if key in str(r)]\n",
    "        self._activeResults = filtered[:]\n",
    "\n",
    "    "
   ]
  },
  {
   "cell_type": "code",
   "execution_count": 7,
   "metadata": {},
   "outputs": [],
   "source": [
    "x = Test()"
   ]
  },
  {
   "cell_type": "code",
   "execution_count": 8,
   "metadata": {},
   "outputs": [],
   "source": [
    "allres = [1,2,3,4,5,6]\n",
    "x.expResultList = allres"
   ]
  },
  {
   "cell_type": "code",
   "execution_count": 9,
   "metadata": {},
   "outputs": [
    {
     "name": "stdout",
     "output_type": "stream",
     "text": [
      "[1, 2, 3, 4, 5, 6]\n"
     ]
    }
   ],
   "source": [
    "print(x.expResultList)"
   ]
  },
  {
   "cell_type": "code",
   "execution_count": null,
   "metadata": {},
   "outputs": [],
   "source": [
    "x.filter('5')"
   ]
  }
 ],
 "metadata": {
  "kernelspec": {
   "display_name": "Python 3.10.4 64-bit",
   "language": "python",
   "name": "python3"
  },
  "language_info": {
   "codemirror_mode": {
    "name": "ipython",
    "version": 3
   },
   "file_extension": ".py",
   "mimetype": "text/x-python",
   "name": "python",
   "nbconvert_exporter": "python",
   "pygments_lexer": "ipython3",
   "version": "3.10.4"
  },
  "orig_nbformat": 4,
  "vscode": {
   "interpreter": {
    "hash": "e7370f93d1d0cde622a1f8e1c04877d8463912d04d973331ad4851f04de6915a"
   }
  }
 },
 "nbformat": 4,
 "nbformat_minor": 2
}
