{
 "cells": [
  {
   "cell_type": "code",
   "execution_count": 1,
   "id": "d0c131a1",
   "metadata": {},
   "outputs": [],
   "source": [
    "import sys\n",
    "sys.path.append('../')\n",
    "import networkx as nx\n",
    "import matplotlib.pyplot as plt\n",
    "from networkx.drawing.nx_agraph import graphviz_layout\n",
    "from smodels.theory.element import Element\n",
    "from smodels.theory.tree import Tree\n",
    "from smodels.theory.particleNode import ParticleNode\n",
    "from smodels.particlesLoader import BSMList\n",
    "from smodels.share.models.SMparticles import SMList\n",
    "from smodels.theory.model import Model\n",
    "from smodels.theory.auxiliaryFunctions import index_bisect\n",
    "from collections import OrderedDict\n",
    "from smodels.tools.physicsUnits import fb, GeV\n",
    "import timeit\n",
    "%load_ext line_profiler"
   ]
  },
  {
   "cell_type": "code",
   "execution_count": 3,
   "id": "eb1b793d",
   "metadata": {},
   "outputs": [
    {
     "data": {
      "image/png": "[encoded data removed]",
      "text/plain": [
       "<Figure size 432x288 with 1 Axes>"
      ]
     },
     "metadata": {},
     "output_type": "display_data"
    },
    {
     "name": "stdout",
     "output_type": "stream",
     "text": [
      "[PV, st_1~, st_1, N2~, t-, N2, t+, N1~, e-, e+, N1, nu, nu]\n",
      "[(PV, st_1~), (PV, st_1), (st_1~, N2~), (st_1~, t-), (st_1, N2), (st_1, t+), (N2~, N1~), (N2~, e-), (N2~, e+), (N2, N1), (N2, nu), (N2, nu)]\n"
     ]
    }
   ],
   "source": [
    "slhafile=\"../inputFiles/slha/higgsinoStop.slha\"\n",
    "model = Model(BSMList,SMList)\n",
    "model.updateParticles(inputFile=slhafile,promptWidth = 1e-12*GeV)\n",
    "elA  = Element(\"(PV > st_1~(1),st_1(2)), (st_1~(1) > N2~(3),t-), (st_1(2) > N2(4),t+), (N2~(3) > N1~,e-,e+), (N2(4) > N1,nu,nu)\"\n",
    "              ,model=model,sort=False)\n",
    "elA.drawTree()\n",
    "print(elA.tree.nodes)\n",
    "print(elA.tree.edges)"
   ]
  },
  {
   "cell_type": "code",
   "execution_count": 30,
   "id": "b010f576",
   "metadata": {},
   "outputs": [],
   "source": [
    "def sortTree(self, n=None):\n",
    "    \"\"\"\n",
    "    Sort subtree of self generated by nodeIndex n.\n",
    "    If n is None, sort the tree.\n",
    "    \n",
    "    :param n: Node index\n",
    "    \"\"\"\n",
    "    \n",
    "\n",
    "    if n is None:\n",
    "        n = self.root.node\n",
    "        \n",
    "    print('\\nSorting',self.nodesMapping[n])    \n",
    "    daughters = self.successors[n]\n",
    "    if daughters:\n",
    "        for d in daughters:\n",
    "            sortTree(self,d)\n",
    "        sorted_daughters = sortTreeList(self,daughters)\n",
    "        self.successors[n] = sorted_daughters\n",
    "    \n",
    "    else:\n",
    "        print('nothing to be done')\n",
    "    \n",
    "def sortTreeList(self,subtreeList):\n",
    "    \"\"\"\n",
    "    Sorts a list of subtrees of self generated by the nodes\n",
    "    in subtreeList.\n",
    "    \n",
    "    :param subtreeList: List of node indices\n",
    "    \n",
    "    :return: Sorted list of node indices.\n",
    "    \"\"\"\n",
    "    \n",
    "    if len(subtreeList) == 1 or len(subtreeList) == 0:\n",
    "        return subtreeList\n",
    "    \n",
    "    # First group trees by canonical name:\n",
    "    nameDict = {}\n",
    "    for nodeIndex in subtreeList:\n",
    "        cName = self.nodesMapping[nodeIndex].canonName\n",
    "        if cName not in nameDict:\n",
    "            nameDict[cName] = [nodeIndex]\n",
    "        else:\n",
    "            nameDict[cName].append(nodeIndex)\n",
    "\n",
    "    # Now sort trees with common canonical names:\n",
    "    sorted_trees = []\n",
    "    for cName in sorted(nameDict.keys()):\n",
    "        # Within equal canonincal names sort daughters by the generated subtrees\n",
    "        sorted_trees += sortCommonTreeList(self,nameDict[cName])\n",
    "    \n",
    "    return sorted_trees\n",
    "    \n",
    "def sortCommonTreeList(self,subtreeList):\n",
    "    \"\"\"\n",
    "    Sorts a list of subtrees of self generated by the nodes\n",
    "    in subtreeList. All the subtrees should have a common topology\n",
    "    (same canonical name).\n",
    "    \n",
    "    :param subtreeList: List of node indices\n",
    "    \n",
    "    :return: Sorted list of node indices.\n",
    "    \"\"\"\n",
    "\n",
    "    print('sorting treeList =',[self.nodesMapping[n] for n in subtreeList])\n",
    "    if len(subtreeList) == 1 or len(subtreeList) == 0:\n",
    "        return subtreeList\n",
    "    \n",
    "    s = subtreeList[:]\n",
    "    pivot = s[0]\n",
    "    i = 0\n",
    "    for j in range(len(s)-1):\n",
    "        if compareSubTrees(self,s[j+1],pivot) < 0:\n",
    "            s[j+1],s[i+1] = s[i+1],s[j+1]\n",
    "            i += 1\n",
    "    s[0],s[i] = s[i],s[0]\n",
    "    first_part = sortCommonTreeList(self,s[:i])\n",
    "    second_part = sortCommonTreeList(self,s[i+1:])\n",
    "    first_part.append(s[i])\n",
    "    \n",
    "    sortedList = first_part + second_part\n",
    "    print('   returning:',[self.nodesMapping[n] for n in sortedList])\n",
    "    return sortedList\n",
    "\n",
    "def compareSubTrees(self,n1,n2):\n",
    "    \n",
    "\n",
    "    root1 = self.nodesMapping[n1]\n",
    "    root2 = self.nodesMapping[n2]\n",
    "    cmp = root1.compareTo(root2)\n",
    "    if cmp != 0:\n",
    "        return cmp\n",
    "\n",
    "    # For inclusive nodes always return True (once nodes are equal)\n",
    "    if root1.isInclusive or root1.isInclusive:\n",
    "        return 0\n",
    "\n",
    "    \n",
    "    daughters1 = self.successors[n1]\n",
    "    daughters2 = self.successors[n2]\n",
    "    # If nodes are leaves, return 0\n",
    "    if len(daughters1) == len(daughters2) == 0:\n",
    "        return 0\n",
    "    \n",
    "    # Otherwise sort subTrees:\n",
    "    print('Sorting daughters1 from',self.nodesMapping[n1])\n",
    "    print('Sorting daughters2 from',self.nodesMapping[n2])\n",
    "\n",
    "    sorted_daughters1 = sortTreeList(self,daughters1)\n",
    "    sorted_daughters2 = sortTreeList(self,daughters2)\n",
    "    # Check if the daughters from n2 match the ones from n1:\n",
    "    for i1,d1 in enumerate(sorted_daughters1):\n",
    "        d2 = sorted_daughters2[i1]\n",
    "        cmp = compareSubTrees(self,d1,d2)\n",
    "        if cmp != 0:\n",
    "            return cmp\n",
    "    return 0"
   ]
  },
  {
   "cell_type": "code",
   "execution_count": 31,
   "id": "eb065d16",
   "metadata": {},
   "outputs": [],
   "source": [
    "tree = elA.tree.copyTree()"
   ]
  },
  {
   "cell_type": "code",
   "execution_count": 32,
   "id": "bac46df2",
   "metadata": {},
   "outputs": [],
   "source": [
    "# timeit.timeit('sortTree(tree)',globals={'sortTree' : sortTree, 'tree' : tree},number=10000)"
   ]
  },
  {
   "cell_type": "code",
   "execution_count": 33,
   "id": "5180f825",
   "metadata": {},
   "outputs": [
    {
     "name": "stdout",
     "output_type": "stream",
     "text": [
      "\n",
      "Sorting PV\n",
      "\n",
      "Sorting st_1~\n",
      "\n",
      "Sorting N2~\n",
      "\n",
      "Sorting N1~\n",
      "nothing to be done\n",
      "\n",
      "Sorting e-\n",
      "nothing to be done\n",
      "\n",
      "Sorting e+\n",
      "nothing to be done\n",
      "sorting treeList = [N1~, e-, e+]\n",
      "sorting treeList = []\n",
      "sorting treeList = [e-, e+]\n",
      "sorting treeList = []\n",
      "sorting treeList = [e+]\n",
      "   returning: [e-, e+]\n",
      "   returning: [N1~, e-, e+]\n",
      "\n",
      "Sorting t-\n",
      "nothing to be done\n",
      "sorting treeList = [t-]\n",
      "sorting treeList = [N2~]\n",
      "\n",
      "Sorting st_1\n",
      "\n",
      "Sorting N2\n",
      "\n",
      "Sorting N1\n",
      "nothing to be done\n",
      "\n",
      "Sorting nu\n",
      "nothing to be done\n",
      "\n",
      "Sorting nu\n",
      "nothing to be done\n",
      "sorting treeList = [N1, nu, nu]\n",
      "sorting treeList = []\n",
      "sorting treeList = [nu, nu]\n",
      "sorting treeList = []\n",
      "sorting treeList = [nu]\n",
      "   returning: [nu, nu]\n",
      "   returning: [N1, nu, nu]\n",
      "\n",
      "Sorting t+\n",
      "nothing to be done\n",
      "sorting treeList = [t+]\n",
      "sorting treeList = [N2]\n",
      "sorting treeList = [st_1~, st_1]\n",
      "Sorting daughters1 from st_1\n",
      "Sorting daughters2 from st_1~\n",
      "sorting treeList = [t+]\n",
      "sorting treeList = [N2]\n",
      "sorting treeList = [t-]\n",
      "sorting treeList = [N2~]\n",
      "sorting treeList = []\n",
      "sorting treeList = [st_1]\n",
      "   returning: [st_1~, st_1]\n"
     ]
    },
    {
     "data": {
      "image/png": "[encoded data removed]",
      "text/plain": [
       "<Figure size 432x288 with 1 Axes>"
      ]
     },
     "metadata": {},
     "output_type": "display_data"
    }
   ],
   "source": [
    "sortTree(tree)\n",
    "tree.draw()"
   ]
  },
  {
   "cell_type": "code",
   "execution_count": null,
   "id": "6905d5f3",
   "metadata": {},
   "outputs": [],
   "source": []
  },
  {
   "cell_type": "code",
   "execution_count": null,
   "id": "be91448c",
   "metadata": {},
   "outputs": [],
   "source": []
  },
  {
   "cell_type": "code",
   "execution_count": null,
   "id": "8cb1ffcb",
   "metadata": {},
   "outputs": [],
   "source": []
  },
  {
   "cell_type": "code",
   "execution_count": 9,
   "id": "82ded135",
   "metadata": {},
   "outputs": [
    {
     "ename": "RecursionError",
     "evalue": "maximum recursion depth exceeded",
     "output_type": "error",
     "traceback": [
      "\u001b[0;31m---------------------------------------------------------------------------\u001b[0m",
      "\u001b[0;31mRecursionError\u001b[0m                            Traceback (most recent call last)",
      "\u001b[0;32m<ipython-input-9-b465eb3ac02f>\u001b[0m in \u001b[0;36m<module>\u001b[0;34m\u001b[0m\n\u001b[0;32m----> 1\u001b[0;31m \u001b[0mtimeit\u001b[0m\u001b[0;34m.\u001b[0m\u001b[0mtimeit\u001b[0m\u001b[0;34m(\u001b[0m\u001b[0;34m'tree.sort()'\u001b[0m\u001b[0;34m,\u001b[0m\u001b[0mglobals\u001b[0m\u001b[0;34m=\u001b[0m\u001b[0;34m{\u001b[0m\u001b[0;34m'tree'\u001b[0m \u001b[0;34m:\u001b[0m \u001b[0mtree\u001b[0m\u001b[0;34m}\u001b[0m\u001b[0;34m,\u001b[0m \u001b[0mnumber\u001b[0m\u001b[0;34m=\u001b[0m\u001b[0;36m10000\u001b[0m\u001b[0;34m)\u001b[0m\u001b[0;34m\u001b[0m\u001b[0;34m\u001b[0m\u001b[0m\n\u001b[0m",
      "\u001b[0;32m/usr/lib/python3.9/timeit.py\u001b[0m in \u001b[0;36mtimeit\u001b[0;34m(stmt, setup, timer, number, globals)\u001b[0m\n\u001b[1;32m    231\u001b[0m            number=default_number, globals=None):\n\u001b[1;32m    232\u001b[0m     \u001b[0;34m\"\"\"Convenience function to create Timer object and call timeit method.\"\"\"\u001b[0m\u001b[0;34m\u001b[0m\u001b[0;34m\u001b[0m\u001b[0m\n\u001b[0;32m--> 233\u001b[0;31m     \u001b[0;32mreturn\u001b[0m \u001b[0mTimer\u001b[0m\u001b[0;34m(\u001b[0m\u001b[0mstmt\u001b[0m\u001b[0;34m,\u001b[0m \u001b[0msetup\u001b[0m\u001b[0;34m,\u001b[0m \u001b[0mtimer\u001b[0m\u001b[0;34m,\u001b[0m \u001b[0mglobals\u001b[0m\u001b[0;34m)\u001b[0m\u001b[0;34m.\u001b[0m\u001b[0mtimeit\u001b[0m\u001b[0;34m(\u001b[0m\u001b[0mnumber\u001b[0m\u001b[0;34m)\u001b[0m\u001b[0;34m\u001b[0m\u001b[0;34m\u001b[0m\u001b[0m\n\u001b[0m\u001b[1;32m    234\u001b[0m \u001b[0;34m\u001b[0m\u001b[0m\n\u001b[1;32m    235\u001b[0m def repeat(stmt=\"pass\", setup=\"pass\", timer=default_timer,\n",
      "\u001b[0;32m/usr/lib/python3.9/timeit.py\u001b[0m in \u001b[0;36mtimeit\u001b[0;34m(self, number)\u001b[0m\n\u001b[1;32m    175\u001b[0m         \u001b[0mgc\u001b[0m\u001b[0;34m.\u001b[0m\u001b[0mdisable\u001b[0m\u001b[0;34m(\u001b[0m\u001b[0;34m)\u001b[0m\u001b[0;34m\u001b[0m\u001b[0;34m\u001b[0m\u001b[0m\n\u001b[1;32m    176\u001b[0m         \u001b[0;32mtry\u001b[0m\u001b[0;34m:\u001b[0m\u001b[0;34m\u001b[0m\u001b[0;34m\u001b[0m\u001b[0m\n\u001b[0;32m--> 177\u001b[0;31m             \u001b[0mtiming\u001b[0m \u001b[0;34m=\u001b[0m \u001b[0mself\u001b[0m\u001b[0;34m.\u001b[0m\u001b[0minner\u001b[0m\u001b[0;34m(\u001b[0m\u001b[0mit\u001b[0m\u001b[0;34m,\u001b[0m \u001b[0mself\u001b[0m\u001b[0;34m.\u001b[0m\u001b[0mtimer\u001b[0m\u001b[0;34m)\u001b[0m\u001b[0;34m\u001b[0m\u001b[0;34m\u001b[0m\u001b[0m\n\u001b[0m\u001b[1;32m    178\u001b[0m         \u001b[0;32mfinally\u001b[0m\u001b[0;34m:\u001b[0m\u001b[0;34m\u001b[0m\u001b[0;34m\u001b[0m\u001b[0m\n\u001b[1;32m    179\u001b[0m             \u001b[0;32mif\u001b[0m \u001b[0mgcold\u001b[0m\u001b[0;34m:\u001b[0m\u001b[0;34m\u001b[0m\u001b[0;34m\u001b[0m\u001b[0m\n",
      "\u001b[0;32m<timeit-src>\u001b[0m in \u001b[0;36minner\u001b[0;34m(_it, _timer)\u001b[0m\n",
      "\u001b[0;32m~/smodels-graphs/notebooks-Devs/../smodels/theory/tree.py\u001b[0m in \u001b[0;36msort\u001b[0;34m(self)\u001b[0m\n\u001b[1;32m    747\u001b[0m         \u001b[0;32mfor\u001b[0m \u001b[0mdaughter\u001b[0m \u001b[0;32min\u001b[0m \u001b[0mself\u001b[0m\u001b[0;34m.\u001b[0m\u001b[0mnodes\u001b[0m\u001b[0;34m:\u001b[0m\u001b[0;34m\u001b[0m\u001b[0;34m\u001b[0m\u001b[0m\n\u001b[1;32m    748\u001b[0m             \u001b[0msubTree\u001b[0m \u001b[0;34m=\u001b[0m \u001b[0mself\u001b[0m\u001b[0;34m.\u001b[0m\u001b[0mgetSubTree\u001b[0m\u001b[0;34m(\u001b[0m\u001b[0msource\u001b[0m\u001b[0;34m=\u001b[0m\u001b[0mdaughter\u001b[0m\u001b[0;34m)\u001b[0m\u001b[0;34m\u001b[0m\u001b[0;34m\u001b[0m\u001b[0m\n\u001b[0;32m--> 749\u001b[0;31m             \u001b[0msubTree\u001b[0m\u001b[0;34m.\u001b[0m\u001b[0msort\u001b[0m\u001b[0;34m(\u001b[0m\u001b[0;34m)\u001b[0m\u001b[0;34m\u001b[0m\u001b[0;34m\u001b[0m\u001b[0m\n\u001b[0m\u001b[1;32m    750\u001b[0m             \u001b[0msubTrees\u001b[0m\u001b[0;34m.\u001b[0m\u001b[0mappend\u001b[0m\u001b[0;34m(\u001b[0m\u001b[0msubTree\u001b[0m\u001b[0;34m)\u001b[0m\u001b[0;34m\u001b[0m\u001b[0;34m\u001b[0m\u001b[0m\n\u001b[1;32m    751\u001b[0m             \u001b[0mself\u001b[0m\u001b[0;34m.\u001b[0m\u001b[0mremove_nodes_from\u001b[0m\u001b[0;34m(\u001b[0m\u001b[0msubTree\u001b[0m\u001b[0;34m.\u001b[0m\u001b[0msuccessors\u001b[0m\u001b[0;34m.\u001b[0m\u001b[0mkeys\u001b[0m\u001b[0;34m(\u001b[0m\u001b[0;34m)\u001b[0m\u001b[0;34m)\u001b[0m\u001b[0;34m\u001b[0m\u001b[0;34m\u001b[0m\u001b[0m\n",
      "\u001b[0;32m~/smodels-graphs/notebooks-Devs/../smodels/theory/tree.py\u001b[0m in \u001b[0;36msort\u001b[0;34m(self)\u001b[0m\n\u001b[1;32m    747\u001b[0m         \u001b[0;32mfor\u001b[0m \u001b[0mdaughter\u001b[0m \u001b[0;32min\u001b[0m \u001b[0mself\u001b[0m\u001b[0;34m.\u001b[0m\u001b[0mnodes\u001b[0m\u001b[0;34m:\u001b[0m\u001b[0;34m\u001b[0m\u001b[0;34m\u001b[0m\u001b[0m\n\u001b[1;32m    748\u001b[0m             \u001b[0msubTree\u001b[0m \u001b[0;34m=\u001b[0m \u001b[0mself\u001b[0m\u001b[0;34m.\u001b[0m\u001b[0mgetSubTree\u001b[0m\u001b[0;34m(\u001b[0m\u001b[0msource\u001b[0m\u001b[0;34m=\u001b[0m\u001b[0mdaughter\u001b[0m\u001b[0;34m)\u001b[0m\u001b[0;34m\u001b[0m\u001b[0;34m\u001b[0m\u001b[0m\n\u001b[0;32m--> 749\u001b[0;31m             \u001b[0msubTree\u001b[0m\u001b[0;34m.\u001b[0m\u001b[0msort\u001b[0m\u001b[0;34m(\u001b[0m\u001b[0;34m)\u001b[0m\u001b[0;34m\u001b[0m\u001b[0;34m\u001b[0m\u001b[0m\n\u001b[0m\u001b[1;32m    750\u001b[0m             \u001b[0msubTrees\u001b[0m\u001b[0;34m.\u001b[0m\u001b[0mappend\u001b[0m\u001b[0;34m(\u001b[0m\u001b[0msubTree\u001b[0m\u001b[0;34m)\u001b[0m\u001b[0;34m\u001b[0m\u001b[0;34m\u001b[0m\u001b[0m\n\u001b[1;32m    751\u001b[0m             \u001b[0mself\u001b[0m\u001b[0;34m.\u001b[0m\u001b[0mremove_nodes_from\u001b[0m\u001b[0;34m(\u001b[0m\u001b[0msubTree\u001b[0m\u001b[0;34m.\u001b[0m\u001b[0msuccessors\u001b[0m\u001b[0;34m.\u001b[0m\u001b[0mkeys\u001b[0m\u001b[0;34m(\u001b[0m\u001b[0;34m)\u001b[0m\u001b[0;34m)\u001b[0m\u001b[0;34m\u001b[0m\u001b[0;34m\u001b[0m\u001b[0m\n",
      "... last 2 frames repeated, from the frame below ...\n",
      "\u001b[0;32m~/smodels-graphs/notebooks-Devs/../smodels/theory/tree.py\u001b[0m in \u001b[0;36msort\u001b[0;34m(self)\u001b[0m\n\u001b[1;32m    747\u001b[0m         \u001b[0;32mfor\u001b[0m \u001b[0mdaughter\u001b[0m \u001b[0;32min\u001b[0m \u001b[0mself\u001b[0m\u001b[0;34m.\u001b[0m\u001b[0mnodes\u001b[0m\u001b[0;34m:\u001b[0m\u001b[0;34m\u001b[0m\u001b[0;34m\u001b[0m\u001b[0m\n\u001b[1;32m    748\u001b[0m             \u001b[0msubTree\u001b[0m \u001b[0;34m=\u001b[0m \u001b[0mself\u001b[0m\u001b[0;34m.\u001b[0m\u001b[0mgetSubTree\u001b[0m\u001b[0;34m(\u001b[0m\u001b[0msource\u001b[0m\u001b[0;34m=\u001b[0m\u001b[0mdaughter\u001b[0m\u001b[0;34m)\u001b[0m\u001b[0;34m\u001b[0m\u001b[0;34m\u001b[0m\u001b[0m\n\u001b[0;32m--> 749\u001b[0;31m             \u001b[0msubTree\u001b[0m\u001b[0;34m.\u001b[0m\u001b[0msort\u001b[0m\u001b[0;34m(\u001b[0m\u001b[0;34m)\u001b[0m\u001b[0;34m\u001b[0m\u001b[0;34m\u001b[0m\u001b[0m\n\u001b[0m\u001b[1;32m    750\u001b[0m             \u001b[0msubTrees\u001b[0m\u001b[0;34m.\u001b[0m\u001b[0mappend\u001b[0m\u001b[0;34m(\u001b[0m\u001b[0msubTree\u001b[0m\u001b[0;34m)\u001b[0m\u001b[0;34m\u001b[0m\u001b[0;34m\u001b[0m\u001b[0m\n\u001b[1;32m    751\u001b[0m             \u001b[0mself\u001b[0m\u001b[0;34m.\u001b[0m\u001b[0mremove_nodes_from\u001b[0m\u001b[0;34m(\u001b[0m\u001b[0msubTree\u001b[0m\u001b[0;34m.\u001b[0m\u001b[0msuccessors\u001b[0m\u001b[0;34m.\u001b[0m\u001b[0mkeys\u001b[0m\u001b[0;34m(\u001b[0m\u001b[0;34m)\u001b[0m\u001b[0;34m)\u001b[0m\u001b[0;34m\u001b[0m\u001b[0;34m\u001b[0m\u001b[0m\n",
      "\u001b[0;31mRecursionError\u001b[0m: maximum recursion depth exceeded"
     ]
    }
   ],
   "source": [
    "timeit.timeit('tree.sort()',globals={'tree' : tree}, number=10000)"
   ]
  },
  {
   "cell_type": "code",
   "execution_count": 18,
   "id": "c19165e9",
   "metadata": {},
   "outputs": [],
   "source": [
    "%lprun -f ParticleNode.compareTo -f compareSubTrees sortTree(tree)"
   ]
  },
  {
   "cell_type": "code",
   "execution_count": 19,
   "id": "7c99f8ea",
   "metadata": {},
   "outputs": [],
   "source": [
    "%lprun -f ParticleNode.compareTo -f Tree.compareTreeTo tree.sort()"
   ]
  },
  {
   "cell_type": "code",
   "execution_count": null,
   "id": "f2536145",
   "metadata": {},
   "outputs": [],
   "source": []
  }
 ],
 "metadata": {
  "kernelspec": {
   "display_name": "Python 3",
   "language": "python",
   "name": "python3"
  },
  "language_info": {
   "codemirror_mode": {
    "name": "ipython",
    "version": 3
   },
   "file_extension": ".py",
   "mimetype": "text/x-python",
   "name": "python",
   "nbconvert_exporter": "python",
   "pygments_lexer": "ipython3",
   "version": "3.9.7"
  }
 },
 "nbformat": 4,
 "nbformat_minor": 5
}
