{
 "cells": [
  {
   "cell_type": "code",
   "execution_count": 1,
   "metadata": {},
   "outputs": [],
   "source": [
    "import sys\n",
    "sys.path.append('../')\n",
    "import networkx as nx\n",
    "import matplotlib.pyplot as plt\n",
    "from networkx.drawing.nx_agraph import graphviz_layout\n",
    "from smodels.theory.element import Element\n",
    "from smodels.theory.auxiliaryFunctions import getTreeRoot, fromTreeToList"
   ]
  },
  {
   "cell_type": "code",
   "execution_count": 2,
   "metadata": {},
   "outputs": [
    {
     "data": {
      "image/png": "[encoded data removed]",
      "text/plain": [
       "<Figure size 432x288 with 1 Axes>"
      ]
     },
     "metadata": {},
     "output_type": "display_data"
    },
    {
     "data": {
      "text/plain": [
       "[[e-], [mu-, [nu, nu]]]"
      ]
     },
     "execution_count": 2,
     "metadata": {},
     "output_type": "execute_result"
    }
   ],
   "source": [
    "el = Element(info=\"[[['e-']],[['mu-'],['nu','nu']]]\")\n",
    "el.drawTree()\n",
    "fromTreeToList(el.tree)"
   ]
  },
  {
   "cell_type": "code",
   "execution_count": 35,
   "metadata": {},
   "outputs": [],
   "source": [
    "def nodeToList(T,node):\n",
    "    \n",
    "    children = list(T[node])\n",
    "    if not children:\n",
    "        return [str(T.nodes[node]['particle'])]\n",
    "    else:\n",
    "        return branchToList(T,node)\n",
    "\n",
    "def branchToList(T,node):\n",
    "\n",
    "    children = list(T[node])\n",
    "    if not children:\n",
    "        return [str(T.nodes[node]['particle'])]\n",
    "    else:\n",
    "        finalStates = []\n",
    "        subBranches = []\n",
    "        for child in children:\n",
    "            d = nodeToList(T,child)\n",
    "            if isinstance(d[0],str):\n",
    "                finalStates.append(d)\n",
    "            else:\n",
    "                subBranches.append(d)\n",
    "                \n",
    "        subBranches = sorted(subBranches)\n",
    "        branchList = []\n",
    "        for fs in finalStates+subBranches[:-1]:\n",
    "            branchList += fs\n",
    "        if subBranches:\n",
    "            branchList = [branchList + subBranches[-1]]\n",
    "        else:\n",
    "            branchList = [branchList]\n",
    "        return branchList"
   ]
  },
  {
   "cell_type": "code",
   "execution_count": 36,
   "metadata": {},
   "outputs": [],
   "source": [
    "el = Element(info=\"[[['e-']],[['mu-'],['nu','nu']]]\")"
   ]
  },
  {
   "cell_type": "code",
   "execution_count": 37,
   "metadata": {},
   "outputs": [
    {
     "data": {
      "text/plain": [
       "[[['e-', 'MET'], ['mu-', ['nu', 'nu', 'MET']]]]"
      ]
     },
     "execution_count": 37,
     "metadata": {},
     "output_type": "execute_result"
    }
   ],
   "source": [
    "branchToList(el.tree,0)"
   ]
  },
  {
   "cell_type": "code",
   "execution_count": 8,
   "metadata": {},
   "outputs": [
    {
     "name": "stdout",
     "output_type": "stream",
     "text": [
      "['a', 'b', 'c', 'D']\n"
     ]
    }
   ],
   "source": [
    "v = ['a','b',['c','D']]\n",
    "x = v[:-1] + v[-1]\n",
    "print(x)"
   ]
  },
  {
   "cell_type": "code",
   "execution_count": 7,
   "metadata": {},
   "outputs": [
    {
     "ename": "NameError",
     "evalue": "name 'stringToGraph' is not defined",
     "output_type": "error",
     "traceback": [
      "\u001b[0;31m---------------------------------------------------------------------------\u001b[0m",
      "\u001b[0;31mNameError\u001b[0m                                 Traceback (most recent call last)",
      "\u001b[0;32m<ipython-input-7-5cce533f88fa>\u001b[0m in \u001b[0;36m<module>\u001b[0;34m\u001b[0m\n\u001b[1;32m      1\u001b[0m \u001b[0melementStr\u001b[0m \u001b[0;34m=\u001b[0m \u001b[0;34m\"[[[['ta+','ta-'],'e+']],[['mu-']]]\"\u001b[0m\u001b[0;34m\u001b[0m\u001b[0;34m\u001b[0m\u001b[0m\n\u001b[0;32m----> 2\u001b[0;31m \u001b[0mg\u001b[0m \u001b[0;34m=\u001b[0m \u001b[0mstringToGraph\u001b[0m\u001b[0;34m(\u001b[0m\u001b[0melementStr\u001b[0m\u001b[0;34m)\u001b[0m\u001b[0;34m\u001b[0m\u001b[0;34m\u001b[0m\u001b[0m\n\u001b[0m\u001b[1;32m      3\u001b[0m \u001b[0mel\u001b[0m \u001b[0;34m=\u001b[0m \u001b[0mElement\u001b[0m\u001b[0;34m(\u001b[0m\u001b[0minfo\u001b[0m\u001b[0;34m=\u001b[0m\u001b[0mg\u001b[0m\u001b[0;34m)\u001b[0m\u001b[0;34m\u001b[0m\u001b[0;34m\u001b[0m\u001b[0m\n\u001b[1;32m      4\u001b[0m \u001b[0mel\u001b[0m\u001b[0;34m.\u001b[0m\u001b[0mdrawTree\u001b[0m\u001b[0;34m(\u001b[0m\u001b[0;34m)\u001b[0m\u001b[0;34m\u001b[0m\u001b[0;34m\u001b[0m\u001b[0m\n",
      "\u001b[0;31mNameError\u001b[0m: name 'stringToGraph' is not defined"
     ]
    }
   ],
   "source": [
    "elementStr = \"[[[['ta+','ta-'],'e+']],[['mu-']]]\"\n",
    "g = stringToGraph(elementStr)\n",
    "el = Element(info=g)\n",
    "el.drawTree()"
   ]
  },
  {
   "cell_type": "code",
   "execution_count": null,
   "metadata": {},
   "outputs": [],
   "source": []
  },
  {
   "cell_type": "code",
   "execution_count": null,
   "metadata": {},
   "outputs": [],
   "source": [
    "eval(\"[[*],[['*'],[ '*']]]\".replace('[*]',\"'InclusiveBranch'\"))"
   ]
  },
  {
   "cell_type": "code",
   "execution_count": 21,
   "metadata": {},
   "outputs": [],
   "source": [
    "blist = []\n",
    "A = [['A1','A2']]\n",
    "B = ['B']\n",
    "C = [['C1','C2'],['D1','D2']]"
   ]
  },
  {
   "cell_type": "code",
   "execution_count": 24,
   "metadata": {},
   "outputs": [
    {
     "data": {
      "text/plain": [
       "['A', 'B']"
      ]
     },
     "execution_count": 24,
     "metadata": {},
     "output_type": "execute_result"
    }
   ],
   "source": [
    "[]+['A']+['B']"
   ]
  },
  {
   "cell_type": "code",
   "execution_count": null,
   "metadata": {},
   "outputs": [],
   "source": []
  }
 ],
 "metadata": {
  "kernelspec": {
   "display_name": "Python 3",
   "language": "python",
   "name": "python3"
  },
  "language_info": {
   "codemirror_mode": {
    "name": "ipython",
    "version": 3
   },
   "file_extension": ".py",
   "mimetype": "text/x-python",
   "name": "python",
   "nbconvert_exporter": "python",
   "pygments_lexer": "ipython3",
   "version": "3.6.7"
  }
 },
 "nbformat": 4,
 "nbformat_minor": 2
}
