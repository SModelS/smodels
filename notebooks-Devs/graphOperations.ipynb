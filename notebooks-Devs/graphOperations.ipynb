{
 "cells": [
  {
   "cell_type": "code",
   "execution_count": 1,
   "id": "14a6596d",
   "metadata": {},
   "outputs": [],
   "source": [
    "import networkx as nx\n",
    "import itertools\n",
    "import sys\n",
    "sys.path.append('../')\n",
    "from smodels.theory.graphTools import ParticleNode,drawTree"
   ]
  },
  {
   "cell_type": "code",
   "execution_count": 2,
   "id": "d4ce0429",
   "metadata": {},
   "outputs": [
    {
     "name": "stdout",
     "output_type": "stream",
     "text": [
      "p0 0 1.0\n",
      "p1 1 1.0\n",
      "p2 2 1.0\n",
      "pA 3 1.0\n",
      "pB 4 1.0\n"
     ]
    }
   ],
   "source": [
    "pList = [ParticleNode('p%i'%i,i) for i in range(3)]\n",
    "daughters = [ParticleNode('pA'),ParticleNode('pB')]\n",
    "for p in pList:\n",
    "    print(p,p.node,p.nodeWeight)\n",
    "for p in daughters:\n",
    "    print(p,p.node,p.nodeWeight)"
   ]
  },
  {
   "cell_type": "code",
   "execution_count": null,
   "id": "6245c043",
   "metadata": {},
   "outputs": [],
   "source": []
  },
  {
   "cell_type": "code",
   "execution_count": 6,
   "id": "68dced35",
   "metadata": {},
   "outputs": [],
   "source": [
    "tree = nx.DiGraph({pList[0] : [pList[1],pList[2]]})\n",
    "\n",
    "decay = nx.DiGraph({pList[1].copy():daughters})\n",
    "mom = list(decay.nodes())[0]\n",
    "mom.nodeWeight = 0.5"
   ]
  },
  {
   "cell_type": "code",
   "execution_count": 7,
   "id": "0fb3fab5",
   "metadata": {},
   "outputs": [
    {
     "data": {
      "image/png": "[encoded data removed]",
      "text/plain": [
       "<Figure size 432x288 with 1 Axes>"
      ]
     },
     "metadata": {},
     "output_type": "display_data"
    }
   ],
   "source": [
    "drawTree(tree)"
   ]
  },
  {
   "cell_type": "code",
   "execution_count": 8,
   "id": "dec15374",
   "metadata": {},
   "outputs": [
    {
     "data": {
      "image/png": "[encoded data removed]",
      "text/plain": [
       "<Figure size 432x288 with 1 Axes>"
      ]
     },
     "metadata": {},
     "output_type": "display_data"
    }
   ],
   "source": [
    "drawTree(decay)"
   ]
  },
  {
   "cell_type": "code",
   "execution_count": 9,
   "id": "a1df39fe",
   "metadata": {},
   "outputs": [
    {
     "name": "stdout",
     "output_type": "stream",
     "text": [
      "p1 0.5\n",
      "pA 1.0\n",
      "pB 1.0\n"
     ]
    }
   ],
   "source": [
    "for n in decay.nodes():\n",
    "    print(n,n.nodeWeight)"
   ]
  },
  {
   "cell_type": "code",
   "execution_count": 12,
   "id": "3802b1cd",
   "metadata": {},
   "outputs": [
    {
     "data": {
      "image/png": "[encoded data removed]",
      "text/plain": [
       "<Figure size 432x288 with 1 Axes>"
      ]
     },
     "metadata": {},
     "output_type": "display_data"
    }
   ],
   "source": [
    "newT = nx.compose(decay,tree)\n",
    "drawTree(newT)"
   ]
  },
  {
   "cell_type": "code",
   "execution_count": 13,
   "id": "2768f85f",
   "metadata": {},
   "outputs": [
    {
     "name": "stdout",
     "output_type": "stream",
     "text": [
      "p1 0.5\n",
      "pA 1.0\n",
      "pB 1.0\n",
      "p0 1.0\n",
      "p2 1.0\n"
     ]
    }
   ],
   "source": [
    "for n in newT.nodes():\n",
    "    print(n,n.nodeWeight)"
   ]
  },
  {
   "cell_type": "code",
   "execution_count": 14,
   "id": "08d82d01",
   "metadata": {},
   "outputs": [
    {
     "name": "stdout",
     "output_type": "stream",
     "text": [
      "a 1\n",
      "a 2\n",
      "a 3\n",
      "a 5\n",
      "b 1\n",
      "b 2\n",
      "b 3\n",
      "b 5\n",
      "c 1\n",
      "c 2\n",
      "c 3\n",
      "c 5\n"
     ]
    }
   ],
   "source": [
    "x = ['a','b','c']\n",
    "y = [1,2,3,5]\n",
    "import itertools\n",
    "for a,b in itertools.product(x,y):\n",
    "    print(a,b)"
   ]
  },
  {
   "cell_type": "code",
   "execution_count": null,
   "id": "30deaf64",
   "metadata": {},
   "outputs": [],
   "source": []
  }
 ],
 "metadata": {
  "kernelspec": {
   "display_name": "Python 3 (ipykernel)",
   "language": "python",
   "name": "python3"
  },
  "language_info": {
   "codemirror_mode": {
    "name": "ipython",
    "version": 3
   },
   "file_extension": ".py",
   "mimetype": "text/x-python",
   "name": "python",
   "nbconvert_exporter": "python",
   "pygments_lexer": "ipython3",
   "version": "3.9.7"
  }
 },
 "nbformat": 4,
 "nbformat_minor": 5
}
