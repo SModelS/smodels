{
 "cells": [
  {
   "cell_type": "code",
   "execution_count": 1,
   "metadata": {},
   "outputs": [],
   "source": [
    "import sys,os\n",
    "sys.path.append(os.path.expanduser('~/smodels'))\n",
    "from smodels.tools import runtime\n",
    "# Define your model (list of BSM particles)\n",
    "runtime.modelFile = 'smodels.share.models.mssm'\n",
    "# runtime.modelFile = 'mssmQNumbers.slha'\n",
    "\n",
    "from smodels.theory import decomposer\n",
    "from smodels.tools.physicsUnits import fb, GeV, TeV\n",
    "from smodels.theory.theoryPrediction import theoryPredictionsFor\n",
    "from smodels.experiment.databaseObj import Database\n",
    "from smodels.tools.theoryPredictionsCombiner import TheoryPredictionsCombiner\n",
    "from smodels.tools.smodelsLogging import setLogLevel\n",
    "from smodels.particlesLoader import BSMList\n",
    "from smodels.share.models.SMparticles import SMList\n",
    "from smodels.theory.model import Model\n",
    "from smodels.theory.branch import Branch\n",
    "from smodels.tools.coverage import Uncovered,UncoveredGroup,GeneralElement\n",
    "from smodels.theory.auxiliaryFunctions import index_bisect\n",
    "%load_ext line_profiler\n",
    "setLogLevel(\"error\")\n",
    "\n",
    "# Set the path to the database\n",
    "database = Database(os.path.expanduser(\"~/smodels/test/database\"))"
   ]
  },
  {
   "cell_type": "markdown",
   "metadata": {},
   "source": [
    "### Load model"
   ]
  },
  {
   "cell_type": "code",
   "execution_count": 2,
   "metadata": {},
   "outputs": [],
   "source": [
    "slhafile = '../inputFiles/slha/lightEWinos.slha'\n",
    "model = Model(BSMparticles=BSMList, SMparticles=SMList)\n",
    "model.updateParticles(inputFile=slhafile)\n"
   ]
  },
  {
   "cell_type": "markdown",
   "metadata": {},
   "source": [
    "### Decompose"
   ]
  },
  {
   "cell_type": "code",
   "execution_count": 3,
   "metadata": {},
   "outputs": [],
   "source": [
    "# Set main options for decomposition\n",
    "sigmacut = 10*fb\n",
    "mingap = 5.*GeV\n",
    "\n",
    "# Decompose model\n",
    "topDict = decomposer.decompose(model, sigmacut,\n",
    "                               doCompress=True, doInvisible=True,\n",
    "                               minmassgap=mingap)"
   ]
  },
  {
   "cell_type": "code",
   "execution_count": 13,
   "metadata": {},
   "outputs": [
    {
     "name": "stdout",
     "output_type": "stream",
     "text": [
      "105\n",
      "['8.00E+00 [TeV]:3.74E+00 [pb] (None, None)', '1.30E+01 [TeV]:8.40E+00 [pb] (None, None)']\n"
     ]
    }
   ],
   "source": [
    "print(len(topDict.getElements()))\n",
    "print(topDict.getTotalWeight())"
   ]
  },
  {
   "cell_type": "markdown",
   "metadata": {},
   "source": [
    "### Load the experimental results to be used."
   ]
  },
  {
   "cell_type": "code",
   "execution_count": 5,
   "metadata": {},
   "outputs": [],
   "source": [
    "listOfExpRes = database.getExpResults()"
   ]
  },
  {
   "cell_type": "markdown",
   "metadata": {},
   "source": [
    "### Compute the theory predictions"
   ]
  },
  {
   "cell_type": "code",
   "execution_count": 6,
   "metadata": {},
   "outputs": [
    {
     "name": "stdout",
     "output_type": "stream",
     "text": [
      "\n",
      " Theory Predictions and Constraints:\n",
      "\n",
      " ATLAS-CONF-2013-037 \n",
      "r = 1.093E-01\n",
      "\n",
      " ATLAS-SUSY-2013-02 \n",
      "r = 6.560E-05\n"
     ]
    }
   ],
   "source": [
    "print(\"\\n Theory Predictions and Constraints:\")\n",
    "rmax = 0.\n",
    "bestResult = None\n",
    "allPredictions = []\n",
    "for expResult in listOfExpRes:\n",
    "    predictions = theoryPredictionsFor(expResult, topDict, combinedResults=False, marginalize=False)\n",
    "    if not predictions:\n",
    "        continue  # Skip if there are no constraints from this result\n",
    "    print('\\n %s ' % expResult.globalInfo.id)\n",
    "    for theoryPrediction in predictions:\n",
    "        # Compute the r-value\n",
    "        r = theoryPrediction.getRValue()\n",
    "        print(\"r = %1.3E\" % r)"
   ]
  },
  {
   "cell_type": "code",
   "execution_count": 7,
   "metadata": {},
   "outputs": [],
   "source": [
    "uncovered = Uncovered(topDict, sqrts=13.*TeV, sigmacut=20*fb)"
   ]
  },
  {
   "cell_type": "code",
   "execution_count": 8,
   "metadata": {},
   "outputs": [
    {
     "name": "stdout",
     "output_type": "stream",
     "text": [
      "\n",
      "Total cross-section for missing topologies (fb):  5.132E+03\n",
      "\n",
      "\n",
      "Total cross-section for missing topologies with displaced decays (fb):  0.000E+00\n",
      "\n",
      "\n",
      "Total cross-section for missing topologies with prompt decays (fb):  5.132E+03\n",
      "\n",
      "\n",
      "Total cross-section for topologies outside the grid (fb):  4.719E+01\n",
      "\n"
     ]
    }
   ],
   "source": [
    "# First sort coverage groups by label\n",
    "groups = sorted(uncovered.groups[:], key=lambda g: g.label)\n",
    "# Print uncovered cross-sections:\n",
    "for group in groups:\n",
    "    print(\"\\nTotal cross-section for %s (fb): %10.3E\\n\" % (group.description, group.getTotalXSec()))"
   ]
  },
  {
   "cell_type": "code",
   "execution_count": 9,
   "metadata": {},
   "outputs": [
    {
     "name": "stdout",
     "output_type": "stream",
     "text": [
      "Missing topologies (up to 3):\n",
      "Element: [[[jet,jet]],[[l,nu]]]  (MET,MET)\n",
      "\tcross-section (fb): 1203.688445123887\n",
      "Element: [[[jet,jet]],[[nu,ta]]]  (MET,MET)\n",
      "\tcross-section (fb): 600.2542979266833\n",
      "Element: [[[jet,jet]],[[b,b]]]  (MET,MET)\n",
      "\tcross-section (fb): 507.5376500009445\n"
     ]
    }
   ],
   "source": [
    "missingTopos = uncovered.getGroup('missing (prompt)')\n",
    "# Print some of the missing topologies:\n",
    "if missingTopos.generalElements:\n",
    "    print('Missing topologies (up to 3):')\n",
    "    for genEl in missingTopos.generalElements[:3]:\n",
    "        print('Element:', genEl)\n",
    "        print('\\tcross-section (fb):', genEl.missingX)\n",
    "else:\n",
    "    print(\"No missing topologies found\\n\")"
   ]
  },
  {
   "cell_type": "code",
   "execution_count": 10,
   "metadata": {},
   "outputs": [
    {
     "name": "stdout",
     "output_type": "stream",
     "text": [
      "\n",
      "No displaced decays\n"
     ]
    }
   ],
   "source": [
    "missingDisplaced = uncovered.getGroup('missing (displaced)')\n",
    "# Print elements with displaced decays:\n",
    "if missingDisplaced.generalElements:\n",
    "    print('\\nElements with displaced vertices (up to 2):')\n",
    "    for genEl in missingDisplaced.generalElements[:2]:\n",
    "        print('Element:', genEl)\n",
    "        print('\\tcross-section (fb):', genEl.missingX)\n",
    "else:\n",
    "    print(\"\\nNo displaced decays\")\n"
   ]
  },
  {
   "cell_type": "code",
   "execution_count": 11,
   "metadata": {},
   "outputs": [
    {
     "name": "stdout",
     "output_type": "stream",
     "text": [
      "Element: [[[jet,jet]],[[l,nu]]]  (MET,MET)\n",
      "\tcross-section (fb): 1203.688445123887\n",
      "[[[e+,nu]],[[q,q]]] 1.46E-01 [pb]\n",
      "[[C1+, N1], [N2, N1]]\n",
      "[[[mu+,nu]],[[q,q]]] 1.46E-01 [pb]\n",
      "[[C1+, N1], [N2, N1]]\n",
      "[[[e-,nu]],[[q,q]]] 8.28E-02 [pb]\n",
      "[[C1-, N1~], [N2, N1]]\n",
      "[[[mu-,nu]],[[q,q]]] 8.28E-02 [pb]\n",
      "[[C1-, N1~], [N2, N1]]\n",
      "[[[e-,nu]],[[q,q]]] 7.72E-02 [pb]\n",
      "[[C1-, N1~], [C1+, N1]]\n",
      "[[[e-,nu]],[[c,q]]] 7.72E-02 [pb]\n",
      "[[C1-, N1~], [C1+, N1]]\n",
      "[[[mu-,nu]],[[q,q]]] 7.72E-02 [pb]\n",
      "[[C1-, N1~], [C1+, N1]]\n",
      "[[[mu-,nu]],[[c,q]]] 7.72E-02 [pb]\n",
      "[[C1-, N1~], [C1+, N1]]\n",
      "[[[e+,nu]],[[q,q]]] 7.72E-02 [pb]\n",
      "[[C1+, N1], [C1-, N1~]]\n",
      "[[[e+,nu]],[[c,q]]] 7.72E-02 [pb]\n",
      "[[C1+, N1], [C1-, N1~]]\n",
      "[[[mu+,nu]],[[q,q]]] 7.72E-02 [pb]\n",
      "[[C1+, N1], [C1-, N1~]]\n",
      "[[[mu+,nu]],[[c,q]]] 7.72E-02 [pb]\n",
      "[[C1+, N1], [C1-, N1~]]\n",
      "[[[e+,nu]],[[c,c]]] 4.07E-02 [pb]\n",
      "[[C1+, N1], [N2, N1]]\n",
      "[[[mu+,nu]],[[c,c]]] 4.07E-02 [pb]\n",
      "[[C1+, N1], [N2, N1]]\n",
      "[[[e-,nu]],[[c,c]]] 2.30E-02 [pb]\n",
      "[[C1-, N1~], [N2, N1]]\n",
      "[[[mu-,nu]],[[c,c]]] 2.30E-02 [pb]\n",
      "[[C1-, N1~], [N2, N1]]\n"
     ]
    }
   ],
   "source": [
    "for genEl in missingTopos.generalElements[:1]:\n",
    "    print('Element:', genEl)\n",
    "    print('\\tcross-section (fb):', genEl.missingX)\n",
    "    for el in genEl._contributingElements:\n",
    "        print(el,el.weight.getMaxXsec())\n",
    "        print(el.oddParticles)\n"
   ]
  },
  {
   "cell_type": "code",
   "execution_count": null,
   "metadata": {},
   "outputs": [],
   "source": []
  }
 ],
 "metadata": {
  "kernelspec": {
   "display_name": "Python 3 (ipykernel)",
   "language": "python",
   "name": "python3"
  },
  "language_info": {
   "codemirror_mode": {
    "name": "ipython",
    "version": 3
   },
   "file_extension": ".py",
   "mimetype": "text/x-python",
   "name": "python",
   "nbconvert_exporter": "python",
   "pygments_lexer": "ipython3",
   "version": "3.9.7"
  }
 },
 "nbformat": 4,
 "nbformat_minor": 2
}
