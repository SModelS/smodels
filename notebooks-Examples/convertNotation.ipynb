{
 "cells": [
  {
   "cell_type": "code",
   "execution_count": 1,
   "id": "19b83b2a",
   "metadata": {},
   "outputs": [],
   "source": [
    "import sys,time\n",
    "sys.path.append('../')\n",
    "from smodels.theory.theorySMS import TheorySMS\n",
    "from smodels.experiment.expAuxiliaryFuncs import bracketToProcessStr\n",
    "from smodels.theory.model import Model\n",
    "from smodels.experiment.expSMS import ExpSMS\n",
    "from smodels.particlesLoader import BSMList\n",
    "from smodels.share.models.SMparticles import SMList\n",
    "from smodels.experiment.defaultFinalStates import finalStates"
   ]
  },
  {
   "cell_type": "markdown",
   "id": "be3e668e",
   "metadata": {},
   "source": [
    "### Convert (old) bracket notation string to (new) process string"
   ]
  },
  {
   "cell_type": "code",
   "execution_count": 2,
   "id": "fb355d41",
   "metadata": {},
   "outputs": [
    {
     "name": "stdout",
     "output_type": "stream",
     "text": [
      "(PV > anyBSM(1),anyBSM(3)),(anyBSM(1) > e-,nu,anyBSM(2)),(anyBSM(2) > jet,jet,MET),(anyBSM(3) > L,nu,MET)\n"
     ]
    }
   ],
   "source": [
    "stringEl = \"[ [['e-','nu'], ['jet','jet'] ], [ ['L','nu'] ] ]\"\n",
    "output = bracketToProcessStr(stringEl)\n",
    "print(output)"
   ]
  },
  {
   "cell_type": "code",
   "execution_count": 3,
   "id": "ff8cde2a",
   "metadata": {},
   "outputs": [
    {
     "name": "stdout",
     "output_type": "stream",
     "text": [
      "(PV > squark(1),squark(3)),(squark(1) > e-,nu,gluino(2)),(gluino(2) > jet,jet,MET),(squark(3) > L,nu,HSCP)\n"
     ]
    }
   ],
   "source": [
    "stringEl = \"[ [['e-','nu'], ['jet','jet'] ], [ ['L','nu'] ] ]\"\n",
    "output = bracketToProcessStr(stringEl,finalState=['MET','HSCP'],intermediateState=[['squark','gluino'],['squark']])\n",
    "print(output)"
   ]
  },
  {
   "cell_type": "code",
   "execution_count": 4,
   "id": "a9a8e955",
   "metadata": {},
   "outputs": [
    {
     "name": "stdout",
     "output_type": "stream",
     "text": [
      "(PV > gluino(1),anyBSM(2)),(gluino(1) > jet,jet,MET),(anyBSM(2) > L,nu,HSCP)\n"
     ]
    }
   ],
   "source": [
    "stringEl = \"[ [ ['jet','jet'] ], [ ['L','nu'] ] ]\"\n",
    "output = bracketToProcessStr(stringEl,finalState=['MET','HSCP'],intermediateState=[['gluino'],['anyBSM']])\n",
    "print(output)"
   ]
  },
  {
   "cell_type": "markdown",
   "id": "8427dbf5",
   "metadata": {},
   "source": [
    "### Convert process string to graph"
   ]
  },
  {
   "cell_type": "code",
   "execution_count": 5,
   "id": "74a12429",
   "metadata": {},
   "outputs": [
    {
     "data": {
      "image/png": "[encoded data removed]",
      "text/plain": [
       "<Figure size 432x288 with 1 Axes>"
      ]
     },
     "metadata": {},
     "output_type": "display_data"
    },
    {
     "name": "stdout",
     "output_type": "stream",
     "text": [
      "[PV, gluino, anyBSM, jet, jet, MET, L, nu, HSCP]\n",
      "[(PV, gluino), (PV, anyBSM), (gluino, jet), (gluino, jet), (gluino, MET), (anyBSM, L), (anyBSM, nu), (anyBSM, HSCP)]\n"
     ]
    }
   ],
   "source": [
    "procString = output\n",
    "# Hack to create a theory element from a string:\n",
    "expSMS = ExpSMS.from_string(output, model=finalStates)\n",
    "tree = TheorySMS()\n",
    "tree.add_nodes_from(expSMS.nodes)\n",
    "tree.add_edges_from(expSMS.edgeIndices)\n",
    "\n",
    "tree.draw()\n",
    "print(tree.nodes)\n",
    "print(tree.edges)"
   ]
  },
  {
   "cell_type": "markdown",
   "id": "9b580408",
   "metadata": {},
   "source": [
    "### Convert inclusive topology"
   ]
  },
  {
   "cell_type": "code",
   "execution_count": 6,
   "id": "9c69fc60",
   "metadata": {},
   "outputs": [
    {
     "data": {
      "text/plain": [
       "'(PV > anyBSM(1),MET),(anyBSM(1) > anySM,MET)'"
      ]
     },
     "execution_count": 6,
     "metadata": {},
     "output_type": "execute_result"
    }
   ],
   "source": [
    "stringEl = \"[[['*']],[]]\"\n",
    "bracketToProcessStr(stringEl,finalState=['MET','MET'])"
   ]
  },
  {
   "cell_type": "code",
   "execution_count": 7,
   "id": "406ce095",
   "metadata": {},
   "outputs": [
    {
     "data": {
      "text/plain": [
       "'(PV > anyBSM(1),MET),(anyBSM(1) > anySM,anySM,MET)'"
      ]
     },
     "execution_count": 7,
     "metadata": {},
     "output_type": "execute_result"
    }
   ],
   "source": [
    "stringEl = \"[[['*','*']],[]]\"\n",
    "bracketToProcessStr(stringEl,finalState=['MET','MET'])"
   ]
  },
  {
   "cell_type": "code",
   "execution_count": 8,
   "id": "e2a1e121",
   "metadata": {
    "scrolled": true
   },
   "outputs": [
    {
     "data": {
      "text/plain": [
       "'(PV > InclusiveNode(1),MET),(InclusiveNode(1) > anySM,MET)'"
      ]
     },
     "execution_count": 8,
     "metadata": {},
     "output_type": "execute_result"
    }
   ],
   "source": [
    "stringEl = \"[['*'],[]]\"\n",
    "bracketToProcessStr(stringEl,finalState=['MET','MET'])"
   ]
  },
  {
   "cell_type": "code",
   "execution_count": 9,
   "id": "8659b372",
   "metadata": {},
   "outputs": [
    {
     "data": {
      "text/plain": [
       "'(PV > anyBSM(1),InclusiveNode(2)),(anyBSM(1) > e-,e+,MET),(InclusiveNode(2) > anySM,HSCP)'"
      ]
     },
     "execution_count": 9,
     "metadata": {},
     "output_type": "execute_result"
    }
   ],
   "source": [
    "stringEl = \"[[['e-','e+']],['*']]\"\n",
    "bracketToProcessStr(stringEl,finalState=['MET','HSCP'])"
   ]
  },
  {
   "cell_type": "code",
   "execution_count": null,
   "id": "0d99f94b",
   "metadata": {},
   "outputs": [],
   "source": []
  }
 ],
 "metadata": {
  "kernelspec": {
   "display_name": "Python 3 (ipykernel)",
   "language": "python",
   "name": "python3"
  },
  "language_info": {
   "codemirror_mode": {
    "name": "ipython",
    "version": 3
   },
   "file_extension": ".py",
   "mimetype": "text/x-python",
   "name": "python",
   "nbconvert_exporter": "python",
   "pygments_lexer": "ipython3",
   "version": "3.9.7"
  }
 },
 "nbformat": 4,
 "nbformat_minor": 5
}
