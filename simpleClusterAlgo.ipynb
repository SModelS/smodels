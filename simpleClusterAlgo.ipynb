{
 "cells": [
  {
   "cell_type": "code",
   "execution_count": 14,
   "metadata": {},
   "outputs": [],
   "source": [
    "import numpy as np"
   ]
  },
  {
   "cell_type": "code",
   "execution_count": 15,
   "metadata": {},
   "outputs": [],
   "source": [
    "class SMSCluster(object):\n",
    "\n",
    "    def __init__(self,smsList = []):\n",
    "    \n",
    "        self.smsList = smsList[:]\n",
    "        self.smsAverage = np.mean(self.smsList)\n",
    "\n",
    "\n",
    "def mergeClusters(clusterList):\n",
    "\n",
    "    smsList = []\n",
    "    for cluster in clusterList:\n",
    "        smsList += cluster.smsList\n",
    "    newCluster = SMSCluster(smsList)\n",
    "\n",
    "    return newCluster\n",
    "\n",
    "def relativeDistance(clusterA,clusterB):\n",
    "\n",
    "    d = np.abs(clusterA.smsAverage-clusterB.smsAverage)/(clusterA.smsAverage+clusterB.smsAverage)\n",
    "    return d\n"
   ]
  },
  {
   "cell_type": "code",
   "execution_count": 18,
   "metadata": {},
   "outputs": [
    {
     "name": "stdout",
     "output_type": "stream",
     "text": [
      "[0.28520518]\n"
     ]
    }
   ],
   "source": [
    "maxDist = 0.2\n",
    "smsList = np.random.uniform(0.,1.0,1)\n",
    "print(smsList)"
   ]
  },
  {
   "cell_type": "code",
   "execution_count": 19,
   "metadata": {},
   "outputs": [
    {
     "ename": "ValueError",
     "evalue": "min() iterable argument is empty",
     "output_type": "error",
     "traceback": [
      "\u001b[0;31m---------------------------------------------------------------------------\u001b[0m",
      "\u001b[0;31mValueError\u001b[0m                                Traceback (most recent call last)",
      "Cell \u001b[0;32mIn[19], line 9\u001b[0m\n\u001b[1;32m      7\u001b[0m         dMatrix[iA,iB] \u001b[38;5;241m=\u001b[39m relativeDistance(clusterA,clusterB)\n\u001b[1;32m      8\u001b[0m         dMatrix[iB,iA] \u001b[38;5;241m=\u001b[39m dMatrix[iA,iB] \u001b[38;5;66;03m# the matrix is symmetric\u001b[39;00m\n\u001b[0;32m----> 9\u001b[0m minDist \u001b[38;5;241m=\u001b[39m \u001b[38;5;28;43mmin\u001b[39;49m\u001b[43m(\u001b[49m\u001b[43m[\u001b[49m\u001b[43md\u001b[49m\u001b[43m \u001b[49m\u001b[38;5;28;43;01mfor\u001b[39;49;00m\u001b[43m \u001b[49m\u001b[43md\u001b[49m\u001b[43m \u001b[49m\u001b[38;5;129;43;01min\u001b[39;49;00m\u001b[43m \u001b[49m\u001b[43mdMatrix\u001b[49m\u001b[38;5;241;43m.\u001b[39;49m\u001b[43mflatten\u001b[49m\u001b[43m(\u001b[49m\u001b[43m)\u001b[49m\u001b[43m \u001b[49m\u001b[38;5;28;43;01mif\u001b[39;49;00m\u001b[43m \u001b[49m\u001b[43md\u001b[49m\u001b[43m \u001b[49m\u001b[38;5;129;43;01mis\u001b[39;49;00m\u001b[43m \u001b[49m\u001b[38;5;129;43;01mnot\u001b[39;49;00m\u001b[43m \u001b[49m\u001b[38;5;28;43;01mNone\u001b[39;49;00m\u001b[43m \u001b[49m\u001b[43m]\u001b[49m\u001b[43m)\u001b[49m\n\u001b[1;32m     10\u001b[0m \u001b[38;5;66;03m# Merge closest cluster up to the point no more merges are possible:\u001b[39;00m\n\u001b[1;32m     11\u001b[0m \u001b[38;5;28;01mwhile\u001b[39;00m minDist \u001b[38;5;241m<\u001b[39m maxDist:\n\u001b[1;32m     12\u001b[0m     \u001b[38;5;66;03m# Get indices of first pair of clusters with minimum distance\u001b[39;00m\n",
      "\u001b[0;31mValueError\u001b[0m: min() iterable argument is empty"
     ]
    }
   ],
   "source": [
    "clusterList = [SMSCluster([sms]) for sms in sorted(smsList)]\n",
    "# Compute the distance matrix for the clusters:\n",
    "dMatrix = np.full((len(clusterList),len(clusterList)),fill_value=None)\n",
    "for iA,clusterA in enumerate(clusterList):\n",
    "    for iB,clusterB in enumerate(clusterList):\n",
    "        if iA >= iB: continue\n",
    "        dMatrix[iA,iB] = relativeDistance(clusterA,clusterB)\n",
    "        dMatrix[iB,iA] = dMatrix[iA,iB] # the matrix is symmetric\n",
    "minDist = min([d for d in dMatrix.flatten() if d is not None ], default = maxDist)\n",
    "# Merge closest cluster up to the point no more merges are possible:\n",
    "while minDist < maxDist:\n",
    "    # Get indices of first pair of clusters with minimum distance\n",
    "    mergeIndices = np.argwhere(dMatrix == minDist)[0]\n",
    "    # Merge clusters with indices in mergeIndices\n",
    "    newCluster = mergeClusters(np.take(clusterList,mergeIndices))\n",
    "    # If new cluster is valid (average is close to original clusters)\n",
    "    # keep it. Otherwise go back to original clusters, but set\n",
    "    # their distance above maxDist, so they will no longer be merged\n",
    "    if True:\n",
    "        # Update cluster list:\n",
    "        # Remove cluster with largest index\n",
    "        # and replace cluster with smallest index by new cluster\n",
    "        delete_index = max(mergeIndices)\n",
    "        replace_index = min(mergeIndices)\n",
    "        clusterList.pop(delete_index)\n",
    "        clusterList[replace_index] = newCluster \n",
    "        # Remove row and column for cluster with largest index\n",
    "        dMatrix = np.delete(dMatrix,delete_index,0)\n",
    "        dMatrix = np.delete(dMatrix,delete_index,1)\n",
    "        # Compute the distances between the new cluster and all the\n",
    "        # other ones.\n",
    "        # Recompute distances using the new cluster:\n",
    "        for iA,clusterA in enumerate(clusterList):\n",
    "            if iA >= replace_index: continue\n",
    "            dMatrix[iA,replace_index] = relativeDistance(clusterA,newCluster)\n",
    "            dMatrix[replace_index,iA] = dMatrix[iA,replace_index] # the matrix is symmetric\n",
    "    else:\n",
    "        dMatrix[mergeIndices] = 2*maxDist\n",
    "        dMatrix[np.flip(mergeIndices)] = 2*maxDist\n",
    "\n",
    "    minDist = min([d for d in dMatrix.flatten() if d is not None ], default = maxDist)\n",
    "        \n",
    "print(f'{len(clusterList)} final clusters')\n",
    "for ic,c in enumerate(clusterList):\n",
    "\n",
    "    print(f'Cluster {ic}: {c.smsList}')\n",
    "\n",
    "print('Final Matrix:',dMatrix)"
   ]
  },
  {
   "cell_type": "code",
   "execution_count": null,
   "metadata": {},
   "outputs": [],
   "source": []
  }
 ],
 "metadata": {
  "kernelspec": {
   "display_name": "Python 3",
   "language": "python",
   "name": "python3"
  },
  "language_info": {
   "codemirror_mode": {
    "name": "ipython",
    "version": 3
   },
   "file_extension": ".py",
   "mimetype": "text/x-python",
   "name": "python",
   "nbconvert_exporter": "python",
   "pygments_lexer": "ipython3",
   "version": "3.12.3"
  }
 },
 "nbformat": 4,
 "nbformat_minor": 2
}
