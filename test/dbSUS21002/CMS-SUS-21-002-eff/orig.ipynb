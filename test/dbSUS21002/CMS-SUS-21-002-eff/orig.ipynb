{
 "cells": [
  {
   "cell_type": "code",
   "execution_count": 1,
   "id": "c08e6a81",
   "metadata": {},
   "outputs": [],
   "source": [
    "import numpy\n",
    "import uproot"
   ]
  },
  {
   "cell_type": "code",
   "execution_count": 2,
   "id": "5dbfbeb3",
   "metadata": {},
   "outputs": [],
   "source": [
    "file = uproot.open(\"smodels-database/13TeV/CMS/CMS-SUS-21-002-eff/orig/AllBinAccXEff_bVeto_TChiWW.root\")"
   ]
  },
  {
   "cell_type": "code",
   "execution_count": 4,
   "id": "64629660",
   "metadata": {},
   "outputs": [
    {
     "data": {
      "text/plain": [
       "(45, 26, 9)"
      ]
     },
     "execution_count": 4,
     "metadata": {},
     "output_type": "execute_result"
    }
   ],
   "source": [
    "eff_values = file['AccXEff_bVeto'].values()\n",
    "eff_values.shape"
   ]
  },
  {
   "cell_type": "code",
   "execution_count": 5,
   "id": "92583756",
   "metadata": {},
   "outputs": [
    {
     "data": {
      "text/plain": [
       "array([8.6228501e-05, 3.3212906e-05, 1.2924748e-05, 5.2572464e-06,\n",
       "       0.0000000e+00, 0.0000000e+00, 0.0000000e+00, 0.0000000e+00,\n",
       "       0.0000000e+00], dtype=float32)"
      ]
     },
     "execution_count": 5,
     "metadata": {},
     "output_type": "execute_result"
    }
   ],
   "source": [
    "eff_values[0][0]"
   ]
  },
  {
   "cell_type": "code",
   "execution_count": 6,
   "id": "1618c667",
   "metadata": {},
   "outputs": [
    {
     "data": {
      "text/plain": [
       "array([0., 0., 0., 0., 0., 0., 0., 0., 0.], dtype=float32)"
      ]
     },
     "execution_count": 6,
     "metadata": {},
     "output_type": "execute_result"
    }
   ],
   "source": [
    "eff_values[0][1]"
   ]
  },
  {
   "cell_type": "code",
   "execution_count": 7,
   "id": "9b47f5d6",
   "metadata": {},
   "outputs": [
    {
     "data": {
      "text/plain": [
       "array([0., 0., 0., 0., 0., 0., 0., 0., 0.], dtype=float32)"
      ]
     },
     "execution_count": 7,
     "metadata": {},
     "output_type": "execute_result"
    }
   ],
   "source": [
    "eff_values[3][1]"
   ]
  },
  {
   "cell_type": "code",
   "execution_count": 11,
   "id": "0e8fc189",
   "metadata": {},
   "outputs": [
    {
     "data": {
      "text/plain": [
       "array([ 187.5,  212.5,  237.5,  262.5,  287.5,  312.5,  337.5,  362.5,\n",
       "        387.5,  412.5,  437.5,  462.5,  487.5,  512.5,  537.5,  562.5,\n",
       "        587.5,  612.5,  637.5,  662.5,  687.5,  712.5,  737.5,  762.5,\n",
       "        787.5,  812.5,  837.5,  862.5,  887.5,  912.5,  937.5,  962.5,\n",
       "        987.5, 1012.5, 1037.5, 1062.5, 1087.5, 1112.5, 1137.5, 1162.5,\n",
       "       1187.5, 1212.5, 1237.5, 1262.5, 1287.5, 1312.5])"
      ]
     },
     "execution_count": 11,
     "metadata": {},
     "output_type": "execute_result"
    }
   ],
   "source": [
    "x_values = file['AccXEff_bVeto'].axis(0).edges()\n",
    "x_values"
   ]
  },
  {
   "cell_type": "code",
   "execution_count": 12,
   "id": "d3641c87",
   "metadata": {},
   "outputs": [
    {
     "data": {
      "text/plain": [
       "array([5.000e-01, 1.500e+00, 1.250e+01, 3.750e+01, 6.250e+01, 8.750e+01,\n",
       "       1.125e+02, 1.375e+02, 1.625e+02, 1.875e+02, 2.125e+02, 2.375e+02,\n",
       "       2.625e+02, 2.875e+02, 3.125e+02, 3.375e+02, 3.625e+02, 3.875e+02,\n",
       "       4.125e+02, 4.375e+02, 4.625e+02, 4.875e+02, 5.125e+02, 5.375e+02,\n",
       "       5.625e+02, 5.875e+02, 6.125e+02])"
      ]
     },
     "execution_count": 12,
     "metadata": {},
     "output_type": "execute_result"
    }
   ],
   "source": [
    "y_values = file['AccXEff_bVeto'].axis(1).edges()\n",
    "y_values"
   ]
  },
  {
   "cell_type": "code",
   "execution_count": 13,
   "id": "d11d8ba8",
   "metadata": {},
   "outputs": [
    {
     "data": {
      "text/plain": [
       "array([ 200.,  250.,  300.,  350.,  400.,  450.,  500.,  600.,  800.,\n",
       "       1200.])"
      ]
     },
     "execution_count": 13,
     "metadata": {},
     "output_type": "execute_result"
    }
   ],
   "source": [
    "z_values = file['AccXEff_bVeto'].axis(2).edges()\n",
    "z_values"
   ]
  },
  {
   "cell_type": "code",
   "execution_count": null,
   "id": "6b7e459a",
   "metadata": {},
   "outputs": [],
   "source": []
  }
 ],
 "metadata": {
  "kernelspec": {
   "display_name": "Python 3 (ipykernel)",
   "language": "python",
   "name": "python3"
  },
  "language_info": {
   "codemirror_mode": {
    "name": "ipython",
    "version": 3
   },
   "file_extension": ".py",
   "mimetype": "text/x-python",
   "name": "python",
   "nbconvert_exporter": "python",
   "pygments_lexer": "ipython3",
   "version": "3.11.1"
  }
 },
 "nbformat": 4,
 "nbformat_minor": 5
}
