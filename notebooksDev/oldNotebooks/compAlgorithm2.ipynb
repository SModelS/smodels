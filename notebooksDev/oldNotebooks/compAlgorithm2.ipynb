{
 "cells": [
  {
   "cell_type": "code",
   "execution_count": 1,
   "metadata": {},
   "outputs": [],
   "source": [
    "from smodels.theory import branch,element,particle,model\n",
    "from smodels.experiment.databaseObj import Database\n",
    "from smodels.share.models import mssm\n",
    "from smodels.experiment.finalStateParticles import finalStates\n",
    "from smodels.particlesLoader import BSMList\n",
    "from smodels.share.models.SMparticles import SMList\n",
    "from smodels.theory.auxiliaryFunctions import index_bisect, simParticles\n",
    "import numpy as np\n",
    "import sys,time"
   ]
  },
  {
   "cell_type": "code",
   "execution_count": 2,
   "metadata": {},
   "outputs": [],
   "source": [
    "slhafile = 'inputFiles/slha/lightEWinos.slha'\n",
    "bsmModel = model.Model(inputFile=slhafile, BSMparticles=BSMList, SMparticles=SMList)\n",
    "bsmModel.updateParticles()\n",
    "\n",
    "BSMparticles = bsmModel.BSMparticles\n",
    "SMparticles = bsmModel.SMparticles\n",
    "fStates = finalStates.SMparticles"
   ]
  },
  {
   "cell_type": "code",
   "execution_count": 3,
   "metadata": {},
   "outputs": [],
   "source": [
    "allParticles = []\n",
    "for p in SMparticles+BSMparticles+fStates:\n",
    "    if any(p is pB for pB in allParticles):\n",
    "        continue\n",
    "    allParticles.append(p)\n",
    "allParticles = sorted(allParticles, key = lambda p: p.label)"
   ]
  },
  {
   "cell_type": "code",
   "execution_count": 4,
   "metadata": {},
   "outputs": [
    {
     "name": "stdout",
     "output_type": "stream",
     "text": [
      "0.2868814468383789\n"
     ]
    }
   ],
   "source": [
    "t0 = time.time()\n",
    "# allParticles = allParticles[:63]\n",
    "#Now create huge comparison matrix with all unique states, including inclusive ones:\n",
    "compMatrix = np.zeros((len(allParticles),len(allParticles)))\n",
    "for i,p1 in enumerate(allParticles):\n",
    "    for j,p2 in enumerate(allParticles):\n",
    "#         if i <= j:\n",
    "#             continue\n",
    "        compMatrix[i,j] = p1.__cmp__(p2)\n",
    "# compMatrix = compMatrix + compMatrix.T\n",
    "print(time.time()-t0)"
   ]
  },
  {
   "cell_type": "code",
   "execution_count": 5,
   "metadata": {},
   "outputs": [
    {
     "name": "stdout",
     "output_type": "stream",
     "text": [
      "0.03770923614501953\n"
     ]
    }
   ],
   "source": [
    "t0 = time.time()\n",
    "# allParticles = allParticles[:63]\n",
    "#Now create huge comparison matrix with all unique states, including inclusive ones:\n",
    "compMatrix = np.zeros((len(allParticles),len(allParticles)))\n",
    "for i,p1 in enumerate(allParticles):\n",
    "    for j,p2 in enumerate(allParticles):\n",
    "#         if i <= j:\n",
    "#             continue\n",
    "        compMatrix[i,j] = p1.__cmp__(p2)\n",
    "# compMatrix = compMatrix + compMatrix.T\n",
    "print(time.time()-t0)"
   ]
  },
  {
   "cell_type": "code",
   "execution_count": 6,
   "metadata": {},
   "outputs": [
    {
     "name": "stdout",
     "output_type": "stream",
     "text": [
      "[[ 0.  0.  0. ...  0.  0.  0.]\n",
      " [ 0.  0.  0. ... -1. -1. -1.]\n",
      " [ 0.  0.  0. ... -1. -1. -1.]\n",
      " ...\n",
      " [ 0.  1.  1. ...  0. -1. -1.]\n",
      " [ 0.  1.  1. ...  1.  0. -1.]\n",
      " [ 0.  1.  1. ...  1.  1.  0.]]\n"
     ]
    }
   ],
   "source": [
    "print(compMatrix)"
   ]
  },
  {
   "cell_type": "code",
   "execution_count": 7,
   "metadata": {},
   "outputs": [],
   "source": [
    "compDefault = np.loadtxt('default.dat')"
   ]
  },
  {
   "cell_type": "code",
   "execution_count": 8,
   "metadata": {},
   "outputs": [
    {
     "data": {
      "text/plain": [
       "(125, 125)"
      ]
     },
     "execution_count": 8,
     "metadata": {},
     "output_type": "execute_result"
    }
   ],
   "source": [
    "compDefault.shape"
   ]
  },
  {
   "cell_type": "code",
   "execution_count": 9,
   "metadata": {},
   "outputs": [],
   "source": [
    "for i in range(len(allParticles)):\n",
    "    for j in range(len(allParticles)):\n",
    "        if abs(compMatrix[i,j]) != abs(compDefault[i,j]):\n",
    "            print(i,j,allParticles[i],allParticles[j],'default=',compDefault[i,j],'here=',compMatrix[i,j])"
   ]
  },
  {
   "cell_type": "code",
   "execution_count": 13,
   "metadata": {},
   "outputs": [
    {
     "name": "stdout",
     "output_type": "stream",
     "text": [
      "True\n"
     ]
    }
   ],
   "source": [
    "print(np.array_equal(abs(compMatrix),abs(compDefault)))"
   ]
  },
  {
   "cell_type": "code",
   "execution_count": null,
   "metadata": {},
   "outputs": [],
   "source": []
  }
 ],
 "metadata": {
  "kernelspec": {
   "display_name": "Python 3",
   "language": "python",
   "name": "python3"
  },
  "language_info": {
   "codemirror_mode": {
    "name": "ipython",
    "version": 3
   },
   "file_extension": ".py",
   "mimetype": "text/x-python",
   "name": "python",
   "nbconvert_exporter": "python",
   "pygments_lexer": "ipython3",
   "version": "3.6.3"
  }
 },
 "nbformat": 4,
 "nbformat_minor": 2
}
