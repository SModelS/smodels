{
 "cells": [
  {
   "cell_type": "markdown",
   "metadata": {},
   "source": [
    "# How To: Look up the efficiency of a particular result, for a particular set of masses"
   ]
  },
  {
   "cell_type": "code",
   "execution_count": 1,
   "metadata": {},
   "outputs": [],
   "source": [
    "# Set up the path to SModelS installation folder\n",
    "import sys; sys.path.append(\".\"); import smodels_paths"
   ]
  },
  {
   "cell_type": "code",
   "execution_count": 2,
   "metadata": {},
   "outputs": [],
   "source": [
    "# Import those parts of smodels that are needed for this exercise\n",
    "from smodels.tools.physicsUnits import GeV\n",
    "from smodels.experiment.databaseObj import Database"
   ]
  },
  {
   "cell_type": "code",
   "execution_count": 3,
   "metadata": {},
   "outputs": [],
   "source": [
    "## Load the official database:\n",
    "db = Database(\"official\")"
   ]
  },
  {
   "cell_type": "markdown",
   "metadata": {},
   "source": [
    "## Look up efficiency for an Upper Limit-type result:"
   ]
  },
  {
   "cell_type": "code",
   "execution_count": 4,
   "metadata": {},
   "outputs": [
    {
     "name": "stdout",
     "output_type": "stream",
     "text": [
      "selected result: CMS-PAS-SUS-13-016:(0):T1tttt(1)\n"
     ]
    }
   ],
   "source": [
    "# Select desired result:\n",
    "resultID = [\"CMS-PAS-SUS-13-016\"]\n",
    "txname = [\"T1tttt\"]\n",
    "expResult = db.getExpResults(analysisIDs=resultID,txnames=txname,dataTypes='upperLimit')[0]\n",
    "print ('selected result:',expResult)"
   ]
  },
  {
   "cell_type": "code",
   "execution_count": 5,
   "metadata": {},
   "outputs": [
    {
     "name": "stdout",
     "output_type": "stream",
     "text": [
      "efficiency for mass\n",
      " [[5.00E+02 [GeV], 1.50E+02 [GeV]], [5.00E+02 [GeV], 1.50E+02 [GeV]]]  is:  1.0\n",
      "efficiency for mass\n",
      " [[5.00E+03 [GeV], 1.50E+02 [GeV]], [5.00E+03 [GeV], 1.50E+02 [GeV]]]  is:  0.0\n"
     ]
    }
   ],
   "source": [
    "# Define the desired mass vector (must be consistent with the txname/simplified model):\n",
    "massesA = [[500*GeV, 150*GeV],[500*GeV, 150*GeV]]\n",
    "massesB = [[5000*GeV, 150*GeV],[5000*GeV, 150*GeV]]\n",
    "# For UL-type results, the efficiency is 1, if the mass is inside the grid or zero if it is outside:\n",
    "print ('efficiency for mass\\n',massesA,' is: ',expResult.getEfficiencyFor(mass=massesA,txname=\"T1tttt\"))\n",
    "print ('efficiency for mass\\n',massesB,' is: ',expResult.getEfficiencyFor(mass=massesB,txname=\"T1tttt\"))"
   ]
  },
  {
   "cell_type": "markdown",
   "metadata": {},
   "source": [
    "## Look up efficiency for an Efficiency Map-type result:"
   ]
  },
  {
   "cell_type": "code",
   "execution_count": 6,
   "metadata": {},
   "outputs": [
    {
     "name": "stdout",
     "output_type": "stream",
     "text": [
      "selected result: CMS-PAS-SUS-13-016: sr0(1):T1tttt(1)\n"
     ]
    }
   ],
   "source": [
    "# Select desired result:\n",
    "resultID = [\"CMS-PAS-SUS-13-016\"]\n",
    "txname = [\"T1tttt\"]\n",
    "expResult = db.getExpResults(analysisIDs=resultID,txnames=txname,dataTypes='efficiencyMap')[0]\n",
    "print ('selected result:',expResult)"
   ]
  },
  {
   "cell_type": "code",
   "execution_count": 7,
   "metadata": {},
   "outputs": [
    {
     "name": "stdout",
     "output_type": "stream",
     "text": [
      "efficinecy for mass\n",
      "  [[5.00E+02 [GeV], 1.50E+02 [GeV]], [5.00E+02 [GeV], 1.50E+02 [GeV]]] \n",
      " in dataset sr0  is:  0.0010565\n"
     ]
    }
   ],
   "source": [
    "# For an efficiency map result one needs to specify the desired signal region (dataset) and mass\n",
    "masses = [[500*GeV, 150*GeV],[500*GeV, 150*GeV]]\n",
    "datasetID = 'sr0'\n",
    "print ('efficinecy for mass\\n ',masses,'\\n in dataset',datasetID,' is: ',expResult.getEfficiencyFor(mass=masses,txname=\"T1tttt\",dataset=datasetID))"
   ]
  }
 ],
 "metadata": {
  "kernelspec": {
   "display_name": "Python 3",
   "language": "python",
   "name": "python3"
  },
  "language_info": {
   "codemirror_mode": {
    "name": "ipython",
    "version": 3
   },
   "file_extension": ".py",
   "mimetype": "text/x-python",
   "name": "python",
   "nbconvert_exporter": "python",
   "pygments_lexer": "ipython3",
   "version": "3.7.3"
  }
 },
 "nbformat": 4,
 "nbformat_minor": 1
}
