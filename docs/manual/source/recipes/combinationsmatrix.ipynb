{
 "cells": [
  {
   "cell_type": "markdown",
   "metadata": {},
   "source": [
    "# How To: Use a combinations matrix to keep track of combinabilities"
   ]
  },
  {
   "cell_type": "markdown",
   "metadata": {},
   "source": [
    "## Preparations"
   ]
  },
  {
   "cell_type": "code",
   "execution_count": 1,
   "metadata": {},
   "outputs": [],
   "source": [
    "# Set up the path to SModelS installation folder\n",
    "import sys; sys.path.append(\".\"); import smodels_paths"
   ]
  },
  {
   "cell_type": "code",
   "execution_count": 2,
   "metadata": {},
   "outputs": [],
   "source": [
    "# Import those parts of smodels that are needed for this exercise\n",
    "from smodels.base.physicsUnits import GeV\n",
    "from smodels.experiment.databaseObj import Database\n",
    "from smodels.matching.theoryPrediction import theoryPredictionsFor, TheoryPredictionsCombiner\n",
    "from smodels.decomposition import decomposer\n",
    "from smodels.base.physicsUnits import fb\n",
    "from smodels.share.models.mssm import BSMList\n",
    "from smodels.share.models.SMparticles import SMList\n",
    "from smodels.base.model import Model"
   ]
  },
  {
   "cell_type": "code",
   "execution_count": 3,
   "metadata": {},
   "outputs": [],
   "source": [
    "# a combinations matrix is just a dictionary with combinable analyses as both keys and values.\n",
    "# we assume symmetricity! (if A is combinable with B, then B is combinable with A)\n",
    "# Also, CMS results are automatically assumed to be combinable with ATLAS results,\n",
    "# and 8 TeV with 13 TeV results.\n",
    "combinationsmatrix = { \"ATLAS-SUSY-2018-41\": [ \"ATLAS-SUSY-2019-08\"]} \n",
    "# also define a list of analyses we are interested in\n",
    "analyses = [ \"CMS-SUS-21-002\", \"ATLAS-SUSY-2018-41\", \"ATLAS-SUSY-2019-08\", \"CMS-SUS-20-004\"]"
   ]
  },
  {
   "cell_type": "markdown",
   "metadata": {},
   "source": [
    "here is a visualisation of the combinations matrix for the analyses under consideration:"
   ]
  },
  {
   "attachments": {
    "matrix-2.png": {
     "image/png": "[encoded data removed]"
    }
   },
   "cell_type": "markdown",
   "metadata": {},
   "source": [
    "![matrix-2.png](attachment:matrix-2.png)"
   ]
  },
  {
   "cell_type": "code",
   "execution_count": 4,
   "metadata": {},
   "outputs": [
    {
     "name": "stdout",
     "output_type": "stream",
     "text": [
      "we have selected 4 analyses\n"
     ]
    }
   ],
   "source": [
    "## Load the official database:\n",
    "db = Database(\"official\", combinationsmatrix=combinationsmatrix)\n",
    "results = db.getExpResults(analysisIDs=analyses, dataTypes = [ \"efficiencyMap\"])\n",
    "print ( f\"we have selected {len(results)} analyses\" )"
   ]
  },
  {
   "cell_type": "code",
   "execution_count": 5,
   "metadata": {},
   "outputs": [
    {
     "data": {
      "text/plain": [
       "['ATLAS-SUSY-2018-41',\n",
       " 'ATLAS-SUSY-2019-08',\n",
       " 'CMS-SUS-20-004',\n",
       " 'CMS-SUS-21-002']"
      ]
     },
     "execution_count": 5,
     "metadata": {},
     "output_type": "execute_result"
    }
   ],
   "source": [
    "[ x.globalInfo.id for x in results ]"
   ]
  },
  {
   "cell_type": "code",
   "execution_count": 6,
   "metadata": {},
   "outputs": [],
   "source": [
    "# the theory we will be using\n",
    "inputFile = \"inputFiles/slha/ew_ymi2l51r.slha\""
   ]
  },
  {
   "cell_type": "code",
   "execution_count": 7,
   "metadata": {},
   "outputs": [],
   "source": [
    "# prepare the model\n",
    "model = Model(BSMparticles=BSMList, SMparticles=SMList)\n",
    "model.updateParticles(inputFile=inputFile)\n",
    "# obtain the decomposed model\n",
    "toplist = decomposer.decompose(model,sigmacut=0.*fb)"
   ]
  },
  {
   "cell_type": "markdown",
   "metadata": {},
   "source": [
    "## run SModelS"
   ]
  },
  {
   "cell_type": "code",
   "execution_count": 8,
   "metadata": {},
   "outputs": [],
   "source": [
    "# get the predictions\n",
    "predictions = list ( theoryPredictionsFor(db, toplist, combinedResults=True ) )"
   ]
  },
  {
   "cell_type": "code",
   "execution_count": 9,
   "metadata": {},
   "outputs": [
    {
     "data": {
      "text/plain": [
       "[('ATLAS-SUSY-2018-41', 'r_exp=', 0.869),\n",
       " ('CMS-SUS-21-002', 'r_exp=', 1.158),\n",
       " ('ATLAS-SUSY-2019-08', 'r_exp=', 0.96)]"
      ]
     },
     "execution_count": 9,
     "metadata": {},
     "output_type": "execute_result"
    }
   ],
   "source": [
    "# let's have a quick look at the predictions, and the (expected) r-values\n",
    "[ (x.dataset.globalInfo.id, \"r_exp=\", round(x.getRValue(expected=True),3)) for x in predictions ]"
   ]
  },
  {
   "cell_type": "code",
   "execution_count": 10,
   "metadata": {},
   "outputs": [
    {
     "name": "stdout",
     "output_type": "stream",
     "text": [
      "can I combine ATLAS-SUSY-2018-41 with CMS-SUS-21-002? yes\n",
      "can I combine ATLAS-SUSY-2018-41 with ATLAS-SUSY-2019-08? yes\n",
      "can I combine CMS-SUS-21-002 with ATLAS-SUSY-2019-08? yes\n"
     ]
    }
   ],
   "source": [
    "for i,pr1 in enumerate(predictions[:-1]):\n",
    "    id1 = pr1.dataset.globalInfo.id\n",
    "    for pr2 in predictions[i+1:]:\n",
    "        id2 = pr2.dataset.globalInfo.id\n",
    "        combinable = pr1.dataset.isCombinableWith(pr2.dataset)\n",
    "        print ( f\"can I combine {id1} with {id2}? {'yes' if combinable else 'no'}\" )"
   ]
  },
  {
   "cell_type": "markdown",
   "metadata": {},
   "source": [
    "## combine!"
   ]
  },
  {
   "cell_type": "code",
   "execution_count": 11,
   "metadata": {},
   "outputs": [],
   "source": [
    "# given [10] from above, we are allowed to combine the three analyses listed below\n",
    "analyses = [ \"CMS-SUS-21-002\", \"ATLAS-SUSY-2018-41\", \"ATLAS-SUSY-2019-08\"]\n",
    "combiner = TheoryPredictionsCombiner.selectResultsFrom ( predictions, analyses )"
   ]
  },
  {
   "cell_type": "code",
   "execution_count": 12,
   "metadata": {},
   "outputs": [
    {
     "data": {
      "text/plain": [
       "1.674"
      ]
     },
     "execution_count": 12,
     "metadata": {},
     "output_type": "execute_result"
    }
   ],
   "source": [
    "# the combined expected r value must be above the individual expected r-values\n",
    "round(combiner.getRValue(expected=True),3)"
   ]
  },
  {
   "cell_type": "code",
   "execution_count": null,
   "metadata": {},
   "outputs": [],
   "source": []
  }
 ],
 "metadata": {
  "kernelspec": {
   "display_name": "Python 3 (ipykernel)",
   "language": "python",
   "name": "python3"
  },
  "language_info": {
   "codemirror_mode": {
    "name": "ipython",
    "version": 3
   },
   "file_extension": ".py",
   "mimetype": "text/x-python",
   "name": "python",
   "nbconvert_exporter": "python",
   "pygments_lexer": "ipython3",
   "version": "3.12.3"
  }
 },
 "nbformat": 4,
 "nbformat_minor": 1
}
