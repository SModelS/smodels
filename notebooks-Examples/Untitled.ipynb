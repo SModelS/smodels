{
 "cells": [
  {
   "cell_type": "code",
   "execution_count": 1,
   "id": "b8fd195e",
   "metadata": {},
   "outputs": [],
   "source": [
    "x = [10,10,20,30]\n",
    "x.remove(10)"
   ]
  },
  {
   "cell_type": "code",
   "execution_count": 2,
   "id": "428910e3",
   "metadata": {},
   "outputs": [
    {
     "data": {
      "text/plain": [
       "[10, 20, 30]"
      ]
     },
     "execution_count": 2,
     "metadata": {},
     "output_type": "execute_result"
    }
   ],
   "source": [
    "x"
   ]
  },
  {
   "cell_type": "code",
   "execution_count": 3,
   "id": "2d856d71",
   "metadata": {},
   "outputs": [],
   "source": [
    "x = {10 : {'a' : -1}, 20 : {'b' : -2}, 30 : {'c' : -3}}"
   ]
  },
  {
   "cell_type": "code",
   "execution_count": 4,
   "id": "b5bc33be",
   "metadata": {},
   "outputs": [
    {
     "data": {
      "text/plain": [
       "{'a': -1}"
      ]
     },
     "execution_count": 4,
     "metadata": {},
     "output_type": "execute_result"
    }
   ],
   "source": [
    "x.pop(10)"
   ]
  },
  {
   "cell_type": "code",
   "execution_count": 5,
   "id": "c6743502",
   "metadata": {},
   "outputs": [
    {
     "data": {
      "text/plain": [
       "{20: {'b': -2}, 30: {'c': -3}}"
      ]
     },
     "execution_count": 5,
     "metadata": {},
     "output_type": "execute_result"
    }
   ],
   "source": [
    "x"
   ]
  },
  {
   "cell_type": "code",
   "execution_count": null,
   "id": "2f8abf13",
   "metadata": {},
   "outputs": [],
   "source": []
  }
 ],
 "metadata": {
  "kernelspec": {
   "display_name": "Python 3",
   "language": "python",
   "name": "python3"
  },
  "language_info": {
   "codemirror_mode": {
    "name": "ipython",
    "version": 3
   },
   "file_extension": ".py",
   "mimetype": "text/x-python",
   "name": "python",
   "nbconvert_exporter": "python",
   "pygments_lexer": "ipython3",
   "version": "3.9.7"
  }
 },
 "nbformat": 4,
 "nbformat_minor": 5
}
