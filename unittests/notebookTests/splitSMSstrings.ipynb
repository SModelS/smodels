{
 "cells": [
  {
   "cell_type": "code",
   "execution_count": 1,
   "id": "499ed8ac",
   "metadata": {},
   "outputs": [],
   "source": [
    "import re\n",
    "import sys\n",
    "sys.path.append('../../')\n",
    "from smodels.experiment.expAuxiliaryFuncs import smsInStr, bracketToProcessStr"
   ]
  },
  {
   "cell_type": "code",
   "execution_count": 2,
   "id": "8e20eaf3",
   "metadata": {},
   "outputs": [],
   "source": [
    "cString = \"71.*([[['mu+','mu-']],[['l','nu']]] + [[['e+','e-']],[['l','nu']]])\"\n",
    "procStr = \"71.*({(PV > anyBSM(1),anyBSM(2)),(anyBSM(1) > mu+,mu-,MET),(anyBSM(2) > l,nu,MET)} + {(PV > anyBSM(1),anyBSM(2)),(anyBSM(1) > e+,e-,MET),(anyBSM(2) > l,nu,MET)})\"\n",
    "\n",
    "cStr2 = \"cGtr([[['mu+','mu-']],[['l','nu']]],[[['e+','e-']],[['l','nu']]])\"\n",
    "procStr2 = \"cGtr({(PV > anyBSM(1),anyBSM(2)),(anyBSM(1) > mu+,mu-,MET),(anyBSM(2) > l,nu,MET)},{(PV > anyBSM(1),anyBSM(2)),(anyBSM(1) > e+,e-,MET),(anyBSM(2) > l,nu,MET)})\"\n",
    "\n",
    "\n",
    "procStr3 = \"{(PV > anyBSM(1),anyBSM(2)),(anyBSM(1) > mu+,mu-,MET),(anyBSM(2) > l,nu,MET)}\"\n"
   ]
  },
  {
   "cell_type": "code",
   "execution_count": 3,
   "id": "d9fdec16",
   "metadata": {},
   "outputs": [
    {
     "name": "stdout",
     "output_type": "stream",
     "text": [
      "[\"[[['mu+','mu-']],[['l','nu']]]\", \"[[['e+','e-']],[['l','nu']]]\"]\n"
     ]
    }
   ],
   "source": [
    "print(smsInStr(cString))"
   ]
  },
  {
   "cell_type": "code",
   "execution_count": 4,
   "id": "c5a407ae",
   "metadata": {},
   "outputs": [
    {
     "name": "stdout",
     "output_type": "stream",
     "text": [
      "['(PV>anyBSM(1),anyBSM(2)),(anyBSM(1)>mu+,mu-,MET),(anyBSM(2)>l,nu,MET)', '(PV>anyBSM(1),anyBSM(2)),(anyBSM(1)>e+,e-,MET),(anyBSM(2)>l,nu,MET)']\n"
     ]
    }
   ],
   "source": [
    "print(smsInStr(procStr))"
   ]
  },
  {
   "cell_type": "code",
   "execution_count": 5,
   "id": "cd7b641b",
   "metadata": {},
   "outputs": [
    {
     "name": "stdout",
     "output_type": "stream",
     "text": [
      "[\"[[['mu+','mu-']],[['l','nu']]]\", \"[[['e+','e-']],[['l','nu']]]\"]\n"
     ]
    }
   ],
   "source": [
    "print(smsInStr(cStr2))"
   ]
  },
  {
   "cell_type": "code",
   "execution_count": 6,
   "id": "33c82edb",
   "metadata": {},
   "outputs": [
    {
     "name": "stdout",
     "output_type": "stream",
     "text": [
      "['(PV>anyBSM(1),anyBSM(2)),(anyBSM(1)>mu+,mu-,MET),(anyBSM(2)>l,nu,MET)', '(PV>anyBSM(1),anyBSM(2)),(anyBSM(1)>e+,e-,MET),(anyBSM(2)>l,nu,MET)']\n"
     ]
    }
   ],
   "source": [
    "print(smsInStr(procStr2))"
   ]
  },
  {
   "cell_type": "code",
   "execution_count": 7,
   "id": "a52a8b0f",
   "metadata": {},
   "outputs": [
    {
     "name": "stdout",
     "output_type": "stream",
     "text": [
      "['(PV>anyBSM(1),anyBSM(2)),(anyBSM(1)>mu+,mu-,MET),(anyBSM(2)>l,nu,MET)']\n"
     ]
    }
   ],
   "source": [
    "print(smsInStr(procStr3))"
   ]
  },
  {
   "cell_type": "code",
   "execution_count": 8,
   "id": "e9c6aec2",
   "metadata": {},
   "outputs": [
    {
     "data": {
      "text/plain": [
       "[\"[[['mu+','mu-']],[['l','nu']]]\", \"[[['e+','e+']],[['l','nu']]]\"]"
      ]
     },
     "execution_count": 8,
     "metadata": {},
     "output_type": "execute_result"
    }
   ],
   "source": [
    "cStr4 = \"cGtr([[[mu+,mu-]],[['l',nu]]],[[['e+',e+]],[['l',nu]]])\"\n",
    "smsInStr(cStr4)"
   ]
  },
  {
   "cell_type": "code",
   "execution_count": 9,
   "id": "d18c4984",
   "metadata": {},
   "outputs": [
    {
     "data": {
      "text/plain": [
       "[\"[[['jet','jet']],[['jet','jet']]]\"]"
      ]
     },
     "execution_count": 9,
     "metadata": {},
     "output_type": "execute_result"
    }
   ],
   "source": [
    "cStr5 = \"[[[jet,jet]],[[jet,jet]]]\"\n",
    "smsInStr(cStr5)"
   ]
  },
  {
   "cell_type": "code",
   "execution_count": 10,
   "id": "0460a888",
   "metadata": {},
   "outputs": [
    {
     "name": "stdout",
     "output_type": "stream",
     "text": [
      "[\"[[['*']],[]]\", \"[[['*','*']],[]]\", \"[[['*','*','*']],[]]\"]\n"
     ]
    }
   ],
   "source": [
    "cStr6 = \"[[['*']],[]]+[[['*','*']],[]]+[[['*','*','*']],[]]\"\n",
    "elements = smsInStr(cStr6)\n",
    "print(elements)"
   ]
  },
  {
   "cell_type": "code",
   "execution_count": 11,
   "id": "14da426e",
   "metadata": {},
   "outputs": [
    {
     "name": "stdout",
     "output_type": "stream",
     "text": [
      "[\"[[['jet'],['Z']],[['jet'],['W']]]\", \"[[['jet'],['higgs']],[['jet'],['W']]]\", \"[[['jet'],['Z']],[['jet'],['Z']]]\", \"[[['jet'],['higgs']],[['jet'],['higgs']]]\", \"[[['jet'],['Z']],[['jet'],['higgs']]]\"]\n"
     ]
    }
   ],
   "source": [
    "cStr7 = \"[[[jet],[Z]],[[jet],[W]]]+[[[jet],[higgs]],[[jet],[W]]]+[[[jet],[Z]],[[jet],[Z]]]+[[[jet],[higgs]],[[jet],[higgs]]]+[[[jet],[Z]],[[jet],[higgs]]]\"\n",
    "elements = smsInStr(cStr7)\n",
    "print(elements)"
   ]
  },
  {
   "cell_type": "code",
   "execution_count": 12,
   "id": "fb86f1c9",
   "metadata": {},
   "outputs": [
    {
     "name": "stdout",
     "output_type": "stream",
     "text": [
      "[\"[[['jet'],['Z']],[['jet'],['W']]]\", \"[[['jet'],['higgs']],[['jet'],['W']]]\", \"[[['jet'],['Z']],[['jet'],['Z']]]\"]\n"
     ]
    }
   ],
   "source": [
    "cStr8 = \"[[[jet],[Z]],[[jet],[W]]]+[[[jet],[higgs]],[[jet],[W]]]+[[[jet],[Z]],[[jet],[Z]]]\"\n",
    "elements = smsInStr(cStr8)\n",
    "print(elements)"
   ]
  },
  {
   "cell_type": "code",
   "execution_count": 13,
   "id": "33dff005",
   "metadata": {},
   "outputs": [
    {
     "name": "stdout",
     "output_type": "stream",
     "text": [
      "[\"[[['L+'],['L-']],[['L'],['nu']]]\", \"[[['L+'],['L-']],[['nu'],['L']]]\", \"[[['L-'],['L+']],[['L'],['nu']]]\", \"[[['L-'],['L+']],[['nu'],['L']]]\"]\n"
     ]
    }
   ],
   "source": [
    "cStr9 = \"2.*([[['L+'],['L-']],[['L'],['nu']]] + [[['L+'],['L-']],[['nu'],['L']]] + [[['L-'],['L+']],[['L'],['nu']]] + [[['L-'],['L+']],[['nu'],['L']]])\"\n",
    "elements = smsInStr(cStr9)\n",
    "print(elements)"
   ]
  }
 ],
 "metadata": {
  "kernelspec": {
   "display_name": "Python 3",
   "language": "python",
   "name": "python3"
  },
  "language_info": {
   "codemirror_mode": {
    "name": "ipython",
    "version": 3
   },
   "file_extension": ".py",
   "mimetype": "text/x-python",
   "name": "python",
   "nbconvert_exporter": "python",
   "pygments_lexer": "ipython3",
   "version": "3.9.7"
  }
 },
 "nbformat": 4,
 "nbformat_minor": 5
}
