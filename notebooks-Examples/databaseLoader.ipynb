{
 "cells": [
  {
   "cell_type": "code",
   "execution_count": 1,
   "metadata": {},
   "outputs": [],
   "source": [
    "import sys\n",
    "sys.path.append('../')\n",
    "import os\n",
    "from smodels.theory.exceptions import SModelSTheoryError as SModelSError\n",
    "from smodels.tools.smodelsLogging import logger\n",
    "from smodels.experiment.databaseObj import Database\n",
    "from smodels.experiment.txnameObj import TxName,TxNameData\n",
    "from smodels.experiment.infoObj import Info\n",
    "from smodels.experiment.defaultFinalStates import finalStates\n",
    "from smodels.particlesLoader import BSMList\n",
    "from smodels.share.models.SMparticles import SMList\n",
    "from smodels.theory.model import Model\n",
    "from smodels.tools.physicsUnits import fb, GeV\n",
    "# logger.setLevel('DEBUG')"
   ]
  },
  {
   "cell_type": "code",
   "execution_count": 2,
   "metadata": {
    "scrolled": true
   },
   "outputs": [
    {
     "name": "stdout",
     "output_type": "stream",
     "text": [
      "Database version: unittest220\n",
      "------------------------------\n",
      "15 experimental results: 8 CMS, 7 ATLAS, 7 @ 8 TeV, 8 @ 13 TeV\n",
      "124 datasets, 550 txnames.\n",
      "\n",
      "Database version: unittest220extra\n",
      "-----------------------------------\n",
      "8 experimental results: 4 CMS, 4 ATLAS, 2 @ 8 TeV, 6 @ 13 TeV\n",
      "89 datasets, 147 txnames.\n",
      "\n"
     ]
    }
   ],
   "source": [
    "for dbdir in ['../test/database','../test/database_extra']:\n",
    "    db = Database(os.path.abspath(dbdir))\n",
    "    print(db)"
   ]
  },
  {
   "cell_type": "code",
   "execution_count": 3,
   "metadata": {},
   "outputs": [
    {
     "name": "stdout",
     "output_type": "stream",
     "text": [
      "Database version: unittest200b-beta\n",
      "------------------------------------\n",
      "2 experimental results: 0 CMS, 2 ATLAS, 0 @ 8 TeV, 2 @ 13 TeV\n",
      "2 datasets, 2 txnames.\n",
      "\n",
      "Database version: unittest\n",
      "---------------------------\n",
      "1 experimental results: 1 CMS, 0 ATLAS, 0 @ 8 TeV, 1 @ 13 TeV\n",
      "1 datasets, 1 txnames.\n",
      "\n"
     ]
    }
   ],
   "source": [
    "dbList = []\n",
    "for dbdir in ['../test/database_simple', '../test/tinydb']:\n",
    "    db = Database(os.path.abspath(dbdir),force_load='txt')\n",
    "    print(db)"
   ]
  },
  {
   "cell_type": "code",
   "execution_count": 4,
   "metadata": {},
   "outputs": [
    {
     "name": "stdout",
     "output_type": "stream",
     "text": [
      "Database version: unittest220\n",
      "------------------------------\n",
      "15 experimental results: 8 CMS, 7 ATLAS, 7 @ 8 TeV, 8 @ 13 TeV\n",
      "124 datasets, 550 txnames.\n",
      "\n",
      "Database version: unittest220extra\n",
      "-----------------------------------\n",
      "8 experimental results: 4 CMS, 4 ATLAS, 2 @ 8 TeV, 6 @ 13 TeV\n",
      "89 datasets, 147 txnames.\n",
      "\n",
      "Database version: unittest200b-beta\n",
      "------------------------------------\n",
      "2 experimental results: 0 CMS, 2 ATLAS, 0 @ 8 TeV, 2 @ 13 TeV\n",
      "2 datasets, 2 txnames.\n",
      "\n",
      "Database version: unittest\n",
      "---------------------------\n",
      "1 experimental results: 1 CMS, 0 ATLAS, 0 @ 8 TeV, 1 @ 13 TeV\n",
      "1 datasets, 1 txnames.\n",
      "\n"
     ]
    }
   ],
   "source": [
    "# Make sure unpickling works:\n",
    "dbList = []\n",
    "for dbdir in ['../test/database','../test/database_extra','../test/database_simple', '../test/tinydb']:\n",
    "    db = Database(os.path.abspath(dbdir))\n",
    "    print(db)"
   ]
  },
  {
   "cell_type": "code",
   "execution_count": null,
   "metadata": {},
   "outputs": [],
   "source": []
  }
 ],
 "metadata": {
  "kernelspec": {
   "display_name": "Python 3",
   "language": "python",
   "name": "python3"
  },
  "language_info": {
   "codemirror_mode": {
    "name": "ipython",
    "version": 3
   },
   "file_extension": ".py",
   "mimetype": "text/x-python",
   "name": "python",
   "nbconvert_exporter": "python",
   "pygments_lexer": "ipython3",
   "version": "3.9.7"
  }
 },
 "nbformat": 4,
 "nbformat_minor": 2
}
