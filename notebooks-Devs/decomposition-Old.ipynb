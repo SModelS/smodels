{
 "cells": [
  {
   "cell_type": "code",
   "execution_count": 1,
   "metadata": {},
   "outputs": [],
   "source": [
    "import sys,os\n",
    "sys.path.append(os.path.expanduser('~/smodels'))\n",
    "import time\n",
    "from smodels.theory.exceptions import SModelSTheoryError as SModelSError\n",
    "from smodels.tools.smodelsLogging import logger\n",
    "import matplotlib.pyplot as plt\n",
    "from smodels.theory import element, topology\n",
    "from smodels.theory.branch import Branch, decayBranches\n",
    "from smodels.tools.physicsUnits import fb, GeV\n",
    "from smodels.tools.smodelsLogging import logger\n",
    "from smodels.tools.physicsUnits import fb,GeV,TeV\n",
    "from smodels.particlesLoader import BSMList\n",
    "from smodels.share.models.SMparticles import SMList\n",
    "from smodels.theory.model import Model\n",
    "%load_ext line_profiler"
   ]
  },
  {
   "cell_type": "markdown",
   "metadata": {},
   "source": [
    "### Decomposer"
   ]
  },
  {
   "cell_type": "code",
   "execution_count": 2,
   "metadata": {},
   "outputs": [],
   "source": [
    "def decompose(model, sigmacut= 0.1*fb, doCompress=True, doInvisible=True,\n",
    "              minmassgap= 0*GeV):\n",
    "    \"\"\"\n",
    "    Perform decomposition using the information stored in model.\n",
    "    \n",
    "    :param sigmacut: minimum sigma*BR to be generated, by default sigmacut = 0.1 fb\n",
    "    :param doCompress: turn mass compression on/off\n",
    "    :param doInvisible: turn invisible compression on/off\n",
    "    :param minmassgap: maximum value (in GeV) for considering two R-odd particles\n",
    "                       degenerate (only revelant for doCompress=True )\n",
    "    :returns: list of topologies (TopologyList object)\n",
    "\n",
    "    \"\"\"\n",
    "    t1 = time.time()\n",
    "    \n",
    "    xSectionList = model.xsections    \n",
    "    pdgList = model.getValuesFor('pdg')\n",
    "\n",
    "    if doCompress and minmassgap/GeV < 0.:\n",
    "        logger.error(\"Asked for compression without specifying minmassgap. Please set minmassgap.\")        \n",
    "        raise SModelSError()\n",
    "\n",
    "    if isinstance(sigmacut,(float,int)):\n",
    "        sigmacut = sigmacut*fb\n",
    "    sigmacut = sigmacut.asNumber(fb)\n",
    "\n",
    "    xSectionList.removeLowerOrder()\n",
    "    # Order xsections by PDGs to improve performance\n",
    "    xSectionList.order()\n",
    "\n",
    "    # Get maximum cross sections (weights) for single particles (irrespective\n",
    "    # of sqrtS)\n",
    "    maxWeight = {}\n",
    "    for pid in xSectionList.getPIDs():\n",
    "        maxWeight[pid] = xSectionList.getXsecsFor(pid).getMaxXsec().asNumber(fb)\n",
    "\n",
    "    # Generate dictionary, where keys are the PIDs and values \n",
    "    # are the list of cross sections for the PID pair (for performance)\n",
    "    xSectionListDict = {}    \n",
    "    for pids in xSectionList.getPIDpairs():\n",
    "        xSectionListDict[pids] = xSectionList.getXsecsFor(pids)\n",
    "\n",
    "    # Create 1-particle branches with all possible mothers    \n",
    "    branchList = []\n",
    "    for pid in maxWeight:\n",
    "        branchList.append(Branch())\n",
    "        bsmParticle = model.getParticlesWith(pdg=pid)\n",
    "        if not bsmParticle:\n",
    "            raise SModelSError(\"Particle for pdg %i has not been defined.\")\n",
    "        if len(bsmParticle) != 1:\n",
    "            raise SModelSError(\"Particle with pdg %i has multiple definitions.\")\n",
    "        branchList[-1].oddParticles = [bsmParticle[0]]\n",
    "        if not pid in pdgList:\n",
    "            logger.error(\"PDG %i has not been defined\" %int(pid))\n",
    "        branchList[-1].maxWeight = maxWeight[pid]  \n",
    "#     print('Primary mothers = %i' %len(branchList))\n",
    "        \n",
    "    # Generate final branches (after all R-odd particles have decayed)\n",
    "    finalBranchList = decayBranches(branchList, sigmacut)\n",
    "    \n",
    "#     print('Final branch list = %i' %len(finalBranchList))\n",
    "    \n",
    "    # Generate dictionary, where keys are the PIDs and values are the list of branches for the PID (for performance)\n",
    "    branchListDict = {}\n",
    "    for branch in finalBranchList:\n",
    "        if branch.oddParticles[0].pdg in branchListDict:\n",
    "            branchListDict[branch.oddParticles[0].pdg].append(branch)\n",
    "        else:\n",
    "            branchListDict[branch.oddParticles[0].pdg] = [branch]\n",
    "\n",
    "    for pid in xSectionList.getPIDs():\n",
    "        if not pid in branchListDict:\n",
    "            branchListDict[pid] = []\n",
    "\n",
    "    #Sort the branch lists by max weight to improve performance:\n",
    "    for pid in branchListDict:\n",
    "        branchListDict[pid] = sorted(branchListDict[pid], \n",
    "                                     key=lambda br: br.maxWeight, reverse=True)        \n",
    "\n",
    "    smsTopList = topology.TopologyList()\n",
    "\n",
    "    nEltot = 0\n",
    "    # Combine pairs of branches into elements according to production\n",
    "    # cross section list\n",
    "    for pids in xSectionList.getPIDpairs():\n",
    "        weightList = xSectionListDict[pids]\n",
    "        maxxsec = weightList.getMaxXsec().asNumber(fb)\n",
    "        if maxxsec == 0.: ## protection\n",
    "            continue\n",
    "        minBR = sigmacut/maxxsec\n",
    "        if minBR > 1.:\n",
    "            continue\n",
    "        for branch1 in branchListDict[pids[0]]:\n",
    "            BR1 =  branch1.maxWeight/maxWeight[pids[0]]  #Branching ratio for first branch            \n",
    "            if BR1 < minBR:\n",
    "                break #Stop loop if BR1 is already too low\n",
    "            for branch2 in branchListDict[pids[1]]:\n",
    "                BR2 =  branch2.maxWeight/maxWeight[pids[1]]  #Branching ratio for second branch                \n",
    "                if BR2 < minBR:\n",
    "                    break #Stop loop if BR2 is already too low        \n",
    "                                     \n",
    "                finalBR = BR1*BR2\n",
    "                if finalBR < minBR:\n",
    "                    continue # Skip elements with xsec below sigmacut\n",
    "                                       \n",
    "                nEltot += 1\n",
    "                newElement = element.Element([branch1, branch2])\n",
    "                newElement.weight = weightList*finalBR\n",
    "                newElement.sortBranches()  #Make sure elements are sorted BEFORE adding them              \n",
    "                smsTopList.addElement(newElement)                                                 \n",
    "\n",
    "#     print('total number of elements = %i' %nEltot)\n",
    "    smsTopList.compressElements(doCompress, doInvisible, minmassgap)\n",
    "    smsTopList._setElementIds()       \n",
    "#     print('total number of unique elements = %i' %len(smsTopList.getElements()))\n",
    "            \n",
    "#     print(\"decomposer done in %.2f s.\" % (time.time() -t1 ) )\n",
    "  \n",
    "    return smsTopList"
   ]
  },
  {
   "cell_type": "markdown",
   "metadata": {},
   "source": [
    "### Load model"
   ]
  },
  {
   "cell_type": "code",
   "execution_count": 3,
   "metadata": {},
   "outputs": [],
   "source": [
    "slhafile = '../inputFiles/slha/lightEWinos.slha'\n",
    "# slhafile = '../inputFiles/slha/simplyGluino.slha'\n",
    "model = Model(BSMparticles=BSMList, SMparticles=SMList)\n",
    "model.updateParticles(inputFile=slhafile)\n"
   ]
  },
  {
   "cell_type": "markdown",
   "metadata": {},
   "source": [
    "### Check with large sigmacut"
   ]
  },
  {
   "cell_type": "code",
   "execution_count": 4,
   "metadata": {},
   "outputs": [
    {
     "name": "stdout",
     "output_type": "stream",
     "text": [
      "decomposer done in 0.07 s.\n",
      "103 unique elements\n"
     ]
    }
   ],
   "source": [
    "sigmacut = 10*fb\n",
    "t0 = time.time()\n",
    "topList = decompose(model, sigmacut= sigmacut, doCompress=False, doInvisible=False)\n",
    "print(\"decomposer done in %.2f s.\" % (time.time() -t0 ) )\n",
    "print('%i unique elements' %(len(topList.getElements())))"
   ]
  },
  {
   "cell_type": "code",
   "execution_count": 5,
   "metadata": {},
   "outputs": [
    {
     "name": "stdout",
     "output_type": "stream",
     "text": [
      "[][2] 2 1.08E-01 [pb]\n",
      "[2][2] 58 6.13E+00 [pb]\n",
      "[2][1,1] 1 3.19E-02 [pb]\n",
      "[2][2,2] 7 4.91E-01 [pb]\n",
      "[1,1][2,2] 4 8.11E-02 [pb]\n",
      "[2,2][2,2] 27 1.24E+00 [pb]\n",
      "[2][1,1,2] 4 8.54E-02 [pb]\n",
      "[[2, 107.528], [58, 6126.453], [1, 31.861], [7, 490.94], [4, 81.12], [27, 1237.813], [4, 85.382]]\n"
     ]
    }
   ],
   "source": [
    "topSummary = []\n",
    "for top in topList:\n",
    "    total = 0.0*fb\n",
    "    for el in top.getElements():\n",
    "        total += el.weight.getMaxXsec()\n",
    "    print(top,len(top.getElements()),total)        \n",
    "    topSummary.append([len(top.getElements()),round(total.asNumber(fb),3)])\n",
    "print(topSummary)"
   ]
  },
  {
   "cell_type": "markdown",
   "metadata": {},
   "source": [
    "### Check with small sigmacut"
   ]
  },
  {
   "cell_type": "code",
   "execution_count": 6,
   "metadata": {},
   "outputs": [
    {
     "name": "stdout",
     "output_type": "stream",
     "text": [
      "decomposer done in 2.65 s.\n",
      "5435 unique elements\n"
     ]
    }
   ],
   "source": [
    "sigmacut = 0.1*fb\n",
    "t0 = time.time()\n",
    "topList = decompose(model, sigmacut= sigmacut, doCompress=False, doInvisible=False)\n",
    "print(\"decomposer done in %.2f s.\" % (time.time() -t0 ) )\n",
    "print('%i unique elements' %(len(topList.getElements())))"
   ]
  },
  {
   "cell_type": "code",
   "execution_count": 7,
   "metadata": {},
   "outputs": [],
   "source": [
    "topSummary = []\n",
    "for top in topList:\n",
    "    total = 0.0*fb\n",
    "    for el in top.getElements():\n",
    "        total += el.weight.getMaxXsec()\n",
    "#     print(top,len(top.getElements()),total)        \n",
    "    topSummary.append([len(top.getElements()),round(total.asNumber(fb),3)])"
   ]
  },
  {
   "cell_type": "code",
   "execution_count": 8,
   "metadata": {},
   "outputs": [
    {
     "name": "stdout",
     "output_type": "stream",
     "text": [
      "[[1, 3.883], [2, 1.003], [3, 1.094], [4, 0.892], [4, 2.616], [6, 2.853], [8, 3.643], [10, 3.376], [10, 14.988], [11, 10.526], [13, 13.994], [14, 11.171], [15, 164.364], [16, 78.045], [17, 30.516], [25, 12.91], [28, 19.106], [49, 42.873], [56, 25.215], [62, 48.534], [78, 51.703], [87, 150.926], [90, 6350.441], [102, 154.363], [104, 94.307], [104, 153.527], [107, 404.754], [113, 403.824], [126, 47.333], [132, 1078.776], [144, 267.975], [183, 106.275], [295, 166.074], [304, 377.261], [411, 157.421], [504, 2817.347], [648, 455.245], [747, 2086.069], [802, 1330.765]]\n"
     ]
    }
   ],
   "source": [
    "print(sorted(topSummary))"
   ]
  },
  {
   "cell_type": "markdown",
   "metadata": {},
   "source": [
    "### Check with invisible compression"
   ]
  },
  {
   "cell_type": "code",
   "execution_count": 9,
   "metadata": {},
   "outputs": [
    {
     "name": "stdout",
     "output_type": "stream",
     "text": [
      "decomposer done in 0.48 s.\n",
      "917 unique elements\n"
     ]
    }
   ],
   "source": [
    "sigmacut = 1*fb\n",
    "t0 = time.time()\n",
    "topList = decompose(model, sigmacut= sigmacut, doCompress=False, doInvisible=True)\n",
    "print(\"decomposer done in %.2f s.\" % (time.time() -t0 ) )\n",
    "print('%i unique elements' %(len(topList.getElements())))"
   ]
  },
  {
   "cell_type": "markdown",
   "metadata": {},
   "source": [
    "### Check with mass compression"
   ]
  },
  {
   "cell_type": "code",
   "execution_count": 10,
   "metadata": {},
   "outputs": [
    {
     "name": "stdout",
     "output_type": "stream",
     "text": [
      "decomposer done in 0.34 s.\n",
      "899 unique elements\n"
     ]
    }
   ],
   "source": [
    "sigmacut = 1*fb\n",
    "t0 = time.time()\n",
    "topDict = decompose(model, sigmacut= sigmacut, doCompress=True, doInvisible=False)\n",
    "print(\"decomposer done in %.2f s.\" % (time.time() -t0 ) )\n",
    "print('%i unique elements' %(len(topDict.getElements())))"
   ]
  },
  {
   "cell_type": "markdown",
   "metadata": {},
   "source": [
    "#### Test compressed model"
   ]
  },
  {
   "cell_type": "code",
   "execution_count": 11,
   "metadata": {},
   "outputs": [],
   "source": [
    "slhafile=\"../inputFiles/slha/higgsinoStop.slha\"\n",
    "model = Model(BSMList,SMList)\n",
    "model.updateParticles(inputFile=slhafile,promptWidth = 1e-12*GeV)"
   ]
  },
  {
   "cell_type": "code",
   "execution_count": 12,
   "metadata": {},
   "outputs": [
    {
     "name": "stdout",
     "output_type": "stream",
     "text": [
      "decomposer done in 0.24 s.\n",
      "489 unique elements\n"
     ]
    }
   ],
   "source": [
    "sigmacut = 1*fb\n",
    "t0 = time.time()\n",
    "topList = decompose(model, sigmacut= sigmacut, doCompress=True, doInvisible=False, minmassgap=5*GeV)\n",
    "print(\"decomposer done in %.2f s.\" % (time.time() -t0 ) )\n",
    "print('%i unique elements' %(len(topList.getElements())))"
   ]
  },
  {
   "cell_type": "code",
   "execution_count": 13,
   "metadata": {},
   "outputs": [
    {
     "name": "stdout",
     "output_type": "stream",
     "text": [
      "[][] 1 4.69E+01 [pb]\n",
      "[][1] 1 1.04E+00 [pb]\n",
      "[][2] 14 6.84E+01 [pb]\n",
      "[1][1] 4 8.89E+00 [pb]\n",
      "[1][2] 8 6.95E-01 [pb]\n",
      "[2][2] 72 4.24E+01 [pb]\n",
      "[][2,2] 36 4.39E-01 [pb]\n",
      "[1][1,1] 4 1.19E-01 [pb]\n",
      "[1][1,2] 34 8.11E+00 [pb]\n",
      "[2][2,2] 116 7.92E-01 [pb]\n",
      "[1,1][1,2] 16 1.11E-01 [pb]\n",
      "[1,2][1,2] 111 8.12E+00 [pb]\n",
      "[1][1,2,2] 8 2.38E-02 [pb]\n",
      "[1,1][1,1,1] 16 4.79E-02 [pb]\n",
      "[1,2][1,2,2] 16 4.15E-02 [pb]\n",
      "[1,1,1][1,1,2] 8 1.11E-02 [pb]\n",
      "[1,1][1,1,1,2] 8 1.11E-02 [pb]\n",
      "[1,1,2][1,1,1,2] 16 1.94E-02 [pb]\n"
     ]
    }
   ],
   "source": [
    "topSummary = []\n",
    "for top in topList:\n",
    "    total = 0.0*fb\n",
    "    for el in top.getElements():\n",
    "        total += el.weight.getMaxXsec()\n",
    "    print(top,len(top.getElements()),total)        \n",
    "    topSummary.append([len(top.getElements()),round(total.asNumber(fb),3)])\n",
    "# print(topSummary)"
   ]
  },
  {
   "cell_type": "code",
   "execution_count": 14,
   "metadata": {},
   "outputs": [
    {
     "name": "stdout",
     "output_type": "stream",
     "text": [
      "[1, 1043.828]\n",
      "[1, 46932.601]\n",
      "[4, 119.091]\n",
      "[4, 8885.261]\n",
      "[8, 11.09]\n",
      "[8, 11.09]\n",
      "[8, 23.764]\n",
      "[8, 694.931]\n",
      "[14, 68354.626]\n",
      "[16, 19.359]\n",
      "[16, 41.485]\n",
      "[16, 47.891]\n",
      "[16, 111.128]\n",
      "[34, 8107.982]\n",
      "[36, 438.84]\n",
      "[72, 42401.477]\n",
      "[111, 8119.626]\n",
      "[116, 792.104]\n"
     ]
    }
   ],
   "source": [
    "for t in sorted(topSummary):\n",
    "    print(t)"
   ]
  },
  {
   "cell_type": "code",
   "execution_count": 17,
   "metadata": {},
   "outputs": [
    {
     "name": "stdout",
     "output_type": "stream",
     "text": [
      "[[[b],[nu,ta-]],[[t+],[ta+,ta-]]] 1.2901634803299\n",
      "[[[b],[nu,ta+]],[[t-],[ta+,ta-]]] 1.2901634803299\n",
      "[[[t-],[ta+,ta-]],[[t+],[c,c]]] 1.7676145286627494\n",
      "[[[t-],[c,c]],[[t+],[ta+,ta-]]] 1.7676145286627494\n",
      "[[[b],[nu,ta-]],[[t+],[e+,e-]]] 2.40126193591655\n",
      "[[[b],[nu,ta-]],[[t+],[mu+,mu-]]] 2.40126193591655\n",
      "[[[b],[nu,ta+]],[[t-],[e+,e-]]] 2.40126193591655\n",
      "[[[b],[nu,ta+]],[[t-],[mu+,mu-]]] 2.40126193591655\n",
      "[[[t-],[ta+,ta-]],[[t+],[nu,nu]]] 3.1498300197262843\n",
      "[[[t-],[nu,nu]],[[t+],[ta+,ta-]]] 3.1498300197262843\n",
      "[[[t-],[e+,e-]],[[t+],[c,c]]] 3.2898974042929794\n",
      "[[[t-],[mu+,mu-]],[[t+],[c,c]]] 3.2898974042929794\n",
      "[[[t-],[c,c]],[[t+],[e+,e-]]] 3.2898974042929794\n",
      "[[[t-],[c,c]],[[t+],[mu+,mu-]]] 3.2898974042929794\n",
      "[[[b],[e-,nu]],[[t+],[ta+,ta-]]] 4.249571676782917\n",
      "[[[b],[mu-,nu]],[[t+],[ta+,ta-]]] 4.249571676782917\n",
      "[[[b],[e+,nu]],[[t-],[ta+,ta-]]] 4.249571676782917\n",
      "[[[b],[mu+,nu]],[[t-],[ta+,ta-]]] 4.249571676782917\n",
      "[[[t-],[e+,e-]],[[t+],[nu,nu]]] 5.862487232270726\n",
      "[[[t-],[mu+,mu-]],[[t+],[nu,nu]]] 5.862487232270726\n",
      "[[[t-],[nu,nu]],[[t+],[e+,e-]]] 5.862487232270726\n",
      "[[[t-],[nu,nu]],[[t+],[mu+,mu-]]] 5.862487232270726\n",
      "[[[b],[nu,ta-]],[[b],[nu,ta+]]] 5.897818959174976\n",
      "[[[t-],[ta+,ta-]],[[t+],[q,q]]] 6.35208928225893\n",
      "[[[t-],[q,q]],[[t+],[ta+,ta-]]] 6.35208928225893\n",
      "[[[b],[e-,nu]],[[t+],[e+,e-]]] 7.909334644008526\n",
      "[[[b],[e-,nu]],[[t+],[mu+,mu-]]] 7.909334644008526\n",
      "[[[b],[mu-,nu]],[[t+],[e+,e-]]] 7.909334644008526\n",
      "[[[b],[mu-,nu]],[[t+],[mu+,mu-]]] 7.909334644008526\n",
      "[[[b],[e+,nu]],[[t-],[e+,e-]]] 7.909334644008526\n",
      "[[[b],[e+,nu]],[[t-],[mu+,mu-]]] 7.909334644008526\n",
      "[[[b],[mu+,nu]],[[t-],[e+,e-]]] 7.909334644008526\n",
      "[[[b],[mu+,nu]],[[t-],[mu+,mu-]]] 7.909334644008526\n",
      "[[[b],[nu,ta-]],[[t+],[c,c]]] 8.080425960432994\n",
      "[[[b],[nu,ta+]],[[t-],[c,c]]] 8.080425960432994\n",
      "[[[t-],[c,c]],[[t+],[c,c]]] 11.070750756169886\n",
      "[[[t-],[e+,e-]],[[t+],[q,q]]] 11.822556164069677\n",
      "[[[t-],[mu+,mu-]],[[t+],[q,q]]] 11.822556164069677\n",
      "[[[t-],[q,q]],[[t+],[e+,e-]]] 11.822556164069677\n",
      "[[[t-],[q,q]],[[t+],[mu+,mu-]]] 11.822556164069677\n",
      "[[[b],[q,q]],[[t-],[ta+,ta-]]] 12.748658642323338\n",
      "[[[b],[q,q]],[[t+],[ta+,ta-]]] 12.748658642323338\n",
      "[[[b],[c,q]],[[t-],[ta+,ta-]]] 12.748658642323338\n",
      "[[[b],[c,q]],[[t+],[ta+,ta-]]] 12.748658642323338\n",
      "[[[b],[nu,ta-]],[[t+],[nu,nu]]] 14.3990490288641\n",
      "[[[b],[nu,ta+]],[[t-],[nu,nu]]] 14.3990490288641\n",
      "[[[b],[e-,nu]],[[b],[nu,ta+]]] 19.426378738680874\n",
      "[[[b],[mu-,nu]],[[b],[nu,ta+]]] 19.426378738680874\n",
      "[[[b],[nu,ta-]],[[b],[e+,nu]]] 19.426378738680874\n",
      "[[[b],[nu,ta-]],[[b],[mu+,nu]]] 19.426378738680874\n",
      "[[[t-],[nu,nu]],[[t+],[c,c]]] 19.727707883840633\n",
      "[[[t-],[c,c]],[[t+],[nu,nu]]] 19.727707883840633\n",
      "[[[b],[q,q]],[[t-],[e+,e-]]] 23.727898982210196\n",
      "[[[b],[q,q]],[[t-],[mu+,mu-]]] 23.727898982210196\n",
      "[[[b],[q,q]],[[t+],[e+,e-]]] 23.727898982210196\n",
      "[[[b],[q,q]],[[t+],[mu+,mu-]]] 23.727898982210196\n",
      "[[[b],[c,q]],[[t-],[e+,e-]]] 23.727898982210196\n",
      "[[[b],[c,q]],[[t-],[mu+,mu-]]] 23.727898982210196\n",
      "[[[b],[c,q]],[[t+],[e+,e-]]] 23.727898982210196\n",
      "[[[b],[c,q]],[[t+],[mu+,mu-]]] 23.727898982210196\n",
      "[[[b],[e-,nu]],[[t+],[c,c]]] 26.61550247028927\n",
      "[[[b],[mu-,nu]],[[t+],[c,c]]] 26.61550247028927\n",
      "[[[b],[e+,nu]],[[t-],[c,c]]] 26.61550247028927\n",
      "[[[b],[mu+,nu]],[[t-],[c,c]]] 26.61550247028927\n",
      "[[[b],[nu,ta-]],[[t+],[q,q]]] 29.037771701381082\n",
      "[[[b],[nu,ta+]],[[t-],[q,q]]] 29.037771701381082\n",
      "[[[t-],[nu,nu]],[[t+],[nu,nu]]] 35.15411618613589\n",
      "[[[t-],[q,q]],[[t+],[c,c]]] 39.78378548292854\n",
      "[[[t-],[c,c]],[[t+],[q,q]]] 39.78378548292854\n",
      "[[[b],[e-,nu]],[[t+],[nu,nu]]] 47.42793596205573\n",
      "[[[b],[mu-,nu]],[[t+],[nu,nu]]] 47.42793596205573\n",
      "[[[b],[e+,nu]],[[t-],[nu,nu]]] 47.42793596205573\n",
      "[[[b],[mu+,nu]],[[t-],[nu,nu]]] 47.42793596205573\n",
      "[[[b],[nu,ta-]],[[b],[q,q]]] 58.27887844532563\n",
      "[[[b],[nu,ta-]],[[b],[c,q]]] 58.27887844532563\n",
      "[[[b],[nu,ta+]],[[b],[q,q]]] 58.27887844532563\n",
      "[[[b],[nu,ta+]],[[b],[c,q]]] 58.27887844532563\n",
      "[[[b],[e-,nu]],[[b],[e+,nu]]] 63.9870761566176\n",
      "[[[b],[e-,nu]],[[b],[mu+,nu]]] 63.9870761566176\n",
      "[[[b],[mu-,nu]],[[b],[e+,nu]]] 63.9870761566176\n",
      "[[[b],[mu-,nu]],[[b],[mu+,nu]]] 63.9870761566176\n",
      "[[[t-],[nu,nu]],[[t+],[q,q]]] 70.89337623134456\n",
      "[[[t-],[q,q]],[[t+],[nu,nu]]] 70.89337623134456\n",
      "[[[b],[q,q]],[[t-],[c,c]]] 79.8461542468918\n",
      "[[[b],[q,q]],[[t+],[c,c]]] 79.8461542468918\n",
      "[[[b],[c,q]],[[t-],[c,c]]] 79.8461542468918\n",
      "[[[b],[c,q]],[[t+],[c,c]]] 79.8461542468918\n",
      "[[[b],[e-,nu]],[[t+],[q,q]]] 95.64531476857813\n",
      "[[[b],[mu-,nu]],[[t+],[q,q]]] 95.64531476857813\n",
      "[[[b],[e+,nu]],[[t-],[q,q]]] 95.64531476857813\n",
      "[[[b],[mu+,nu]],[[t-],[q,q]]] 95.64531476857813\n",
      "[[[b],[q,q]],[[t-],[nu,nu]]] 142.28317855976402\n",
      "[[[b],[q,q]],[[t+],[nu,nu]]] 142.28317855976402\n",
      "[[[b],[c,q]],[[t-],[nu,nu]]] 142.28317855976402\n",
      "[[[b],[c,q]],[[t+],[nu,nu]]] 142.28317855976402\n",
      "[[[t-],[q,q]],[[t+],[q,q]]] 142.96677996021072\n",
      "[[[b],[e-,nu]],[[b],[q,q]]] 191.96037941843045\n",
      "[[[b],[e-,nu]],[[b],[c,q]]] 191.96037941843045\n",
      "[[[b],[mu-,nu]],[[b],[q,q]]] 191.96037941843045\n",
      "[[[b],[mu-,nu]],[[b],[c,q]]] 191.96037941843045\n",
      "[[[b],[e+,nu]],[[b],[q,q]]] 191.96037941843045\n",
      "[[[b],[e+,nu]],[[b],[c,q]]] 191.96037941843045\n",
      "[[[b],[mu+,nu]],[[b],[q,q]]] 191.96037941843045\n",
      "[[[b],[mu+,nu]],[[b],[c,q]]] 191.96037941843045\n",
      "[[[b],[q,q]],[[t-],[q,q]]] 286.9346751777257\n",
      "[[[b],[q,q]],[[t+],[q,q]]] 286.9346751777257\n",
      "[[[b],[c,q]],[[t-],[q,q]]] 286.9346751777257\n",
      "[[[b],[c,q]],[[t+],[q,q]]] 286.9346751777257\n",
      "[[[b],[q,q]],[[b],[q,q]]] 575.8785911122905\n",
      "[[[b],[c,q]],[[b],[c,q]]] 575.8785911122905\n",
      "[[[b],[q,q]],[[b],[c,q]]] 1151.757182224581\n"
     ]
    }
   ],
   "source": [
    "top = [t for t in topList if str(t) == \"[1,2][1,2]\"][0]\n",
    "for el in sorted(top.getElements(), key = lambda el: el.weight.getMaxXsec()):\n",
    "    print(el,el.weight.getMaxXsec().asNumber(fb))"
   ]
  },
  {
   "cell_type": "markdown",
   "metadata": {},
   "source": [
    "### Test mass AND invisible compression"
   ]
  },
  {
   "cell_type": "code",
   "execution_count": 14,
   "metadata": {},
   "outputs": [
    {
     "name": "stdout",
     "output_type": "stream",
     "text": [
      "decomposer done in 1.91 s.\n",
      "1452 unique elements\n"
     ]
    }
   ],
   "source": [
    "sigmacut = 0.1*fb\n",
    "t0 = time.time()\n",
    "topList = decompose(model, sigmacut= sigmacut, doCompress=True, doInvisible=True, minmassgap=5*GeV)\n",
    "print(\"decomposer done in %.2f s.\" % (time.time() -t0 ) )\n",
    "print('%i unique elements' %(len(topList.getElements())))"
   ]
  },
  {
   "cell_type": "code",
   "execution_count": 15,
   "metadata": {},
   "outputs": [
    {
     "name": "stdout",
     "output_type": "stream",
     "text": [
      "[[2, 56785.133], [9, 1055.527], [22, 74853.168], [9, 10118.398], [29, 702.603], [72, 42401.477], [2, 0.923], [44, 443.058], [6, 126.609], [54, 9124.952], [48, 10.39], [284, 879.227], [17, 5.406], [22, 114.309], [120, 8125.92], [4, 1.076], [72, 48.575], [56, 99.821], [16, 2.469], [240, 119.334], [64, 31.64], [16, 1.667], [4, 0.684], [64, 31.64], [176, 59.448]]\n"
     ]
    }
   ],
   "source": [
    "topSummary = []\n",
    "for top in topList:\n",
    "    total = 0.0*fb\n",
    "    for el in top.getElements():\n",
    "        total += el.weight.getMaxXsec()\n",
    "#     print(top,len(top.getElements()),total)        \n",
    "    topSummary.append([len(top.getElements()),round(total.asNumber(fb),3)])\n",
    "print(topSummary)"
   ]
  },
  {
   "cell_type": "code",
   "execution_count": null,
   "metadata": {},
   "outputs": [],
   "source": []
  }
 ],
 "metadata": {
  "kernelspec": {
   "display_name": "Python 3 (ipykernel)",
   "language": "python",
   "name": "python3"
  },
  "language_info": {
   "codemirror_mode": {
    "name": "ipython",
    "version": 3
   },
   "file_extension": ".py",
   "mimetype": "text/x-python",
   "name": "python",
   "nbconvert_exporter": "python",
   "pygments_lexer": "ipython3",
   "version": "3.9.7"
  }
 },
 "nbformat": 4,
 "nbformat_minor": 2
}
