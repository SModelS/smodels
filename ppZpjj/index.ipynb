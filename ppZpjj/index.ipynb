{
 "cells": [
  {
   "cell_type": "code",
   "execution_count": 3,
   "metadata": {
    "tags": []
   },
   "outputs": [],
   "source": [
    "###### smodels esta registrado en el paquete index de python\n",
    "#!pip install smodels==2.3\n"
   ]
  },
  {
   "cell_type": "code",
   "execution_count": 4,
   "metadata": {
    "tags": []
   },
   "outputs": [
    {
     "name": "stdout",
     "output_type": "stream",
     "text": [
      "usage: runSModelS.py [-h] -f FILENAME [-p PARAMETERFILE] [-o OUTPUTDIR] [-d]\n",
      "                     [-t] [-C] [-V] [-c] [-v VERBOSE] [-T TIMEOUT]\n",
      "\n",
      "Run SModelS over SLHA/LHE input files.\n",
      "\n",
      "options:\n",
      "  -h, --help            show this help message and exit\n",
      "  -f FILENAME, --filename FILENAME\n",
      "                        name of SLHA or LHE input file or a directory path\n",
      "                        (required argument). If a directory is given, loop\n",
      "                        over all files in the directory\n",
      "  -p PARAMETERFILE, --parameterFile PARAMETERFILE\n",
      "                        name of parameter file, where most options are defined\n",
      "                        (optional argument). If not set, use all parameters\n",
      "                        from smodels/etc/parameters_default.ini\n",
      "  -o OUTPUTDIR, --outputDir OUTPUTDIR\n",
      "                        name of output directory (optional argument). The\n",
      "                        default folder is: ./results/\n",
      "  -d, --development     if set, SModelS will run in development mode and exit\n",
      "                        if any errors are found.\n",
      "  -t, --force_txt       force loading the text database\n",
      "  -C, --colors          colored output\n",
      "  -V, --version         show program's version number and exit\n",
      "  -c, --run-crashreport\n",
      "                        parse crash report file and use its contents for a\n",
      "                        SModelS run. Supply the crash file simply via '--\n",
      "                        filename myfile.crash'\n",
      "  -v VERBOSE, --verbose VERBOSE\n",
      "                        sets the verbosity level (debug, info, warning,\n",
      "                        error). Default value is info.\n",
      "  -T TIMEOUT, --timeout TIMEOUT\n",
      "                        define a limit on the running time (in secs).If not\n",
      "                        set, run without a time limit. If a directory is given\n",
      "                        as input, the timeout will be applied for each\n",
      "                        individual file.\n"
     ]
    }
   ],
   "source": [
    "### Check installation:\n",
    "!runSModelS.py --help"
   ]
  },
  {
   "cell_type": "code",
   "execution_count": 6,
   "metadata": {
    "tags": []
   },
   "outputs": [],
   "source": [
    "from smodels.experiment.databaseObj import Database"
   ]
  }
 ],
 "metadata": {
  "kernelspec": {
   "display_name": "Python 3 (ipykernel)",
   "language": "python",
   "name": "python3"
  },
  "language_info": {
   "codemirror_mode": {
    "name": "ipython",
    "version": 3
   },
   "file_extension": ".py",
   "mimetype": "text/x-python",
   "name": "python",
   "nbconvert_exporter": "python",
   "pygments_lexer": "ipython3",
   "version": "3.10.6"
  }
 },
 "nbformat": 4,
 "nbformat_minor": 4
}
