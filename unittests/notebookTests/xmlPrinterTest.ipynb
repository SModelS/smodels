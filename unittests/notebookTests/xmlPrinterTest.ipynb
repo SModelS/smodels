{
 "cells": [
  {
   "cell_type": "code",
   "execution_count": 1,
   "id": "67e74468",
   "metadata": {},
   "outputs": [],
   "source": [
    "#!/usr/bin/env python3\n",
    "import sys\n",
    "import copy\n",
    "sys.path.append('../../')\n",
    "\n",
    "from __future__ import print_function\n",
    "from smodels.base import runtime\n",
    "# Define your model (list of BSM particles)\n",
    "runtime.modelFile = 'smodels.share.models.mssm'\n",
    "# runtime.modelFile = 'mssmQNumbers.slha'\n",
    "\n",
    "from smodels.decomposition import decomposer\n",
    "from smodels.base.physicsUnits import fb, GeV, TeV\n",
    "from smodels.matching.theoryPrediction import theoryPredictionsFor\n",
    "from smodels.matching import theoryPrediction\n",
    "from smodels.experiment.databaseObj import Database\n",
    "from smodels.tools import coverage\n",
    "from smodels.matching.theoryPredictionsCombiner import TheoryPredictionsCombiner\n",
    "from smodels.base.smodelsLogging import setLogLevel, logger\n",
    "from smodels.share.models.mssm import BSMList\n",
    "from smodels.share.models.SMparticles import SMList\n",
    "from smodels.base.model import Model\n",
    "from smodels.tools.printers.masterPrinter import MPrinter\n",
    "from smodels.tools import ioObjects\n",
    "import os\n",
    "from collections import OrderedDict\n",
    "from configparser import ConfigParser, NoSectionError, NoOptionError\n",
    "setLogLevel(\"warning\")"
   ]
  },
  {
   "cell_type": "code",
   "execution_count": 2,
   "id": "bd2baa8c",
   "metadata": {},
   "outputs": [],
   "source": [
    "# Set the path to the database\n",
    "database = Database('unittest')\n",
    "databaseVersion = database.databaseVersion"
   ]
  },
  {
   "cell_type": "code",
   "execution_count": 3,
   "id": "e3d87f9a",
   "metadata": {},
   "outputs": [],
   "source": [
    "parameterFile='../testPrinters_parameters.ini'\n",
    "parser = ConfigParser(inline_comment_prefixes=(';',))\n",
    "ret = parser.read(parameterFile)\n",
    "parser.set(\"printer\",\"outputType\",\"xml\")\n",
    "parser.set(\"printer\",\"outputFormat\",\"current\")\n",
    "\n",
    "inputFile = '../testFiles/slha/lightEWinos.slha'\n",
    "outputDir = '../'"
   ]
  },
  {
   "cell_type": "code",
   "execution_count": 4,
   "id": "85f7abc1",
   "metadata": {},
   "outputs": [],
   "source": [
    "sigmacut = parser.getfloat(\"parameters\", \"sigmacut\") * fb\n",
    "minmassgap = parser.getfloat(\"parameters\", \"minmassgap\") * GeV\n",
    "\n",
    "masterPrinter = MPrinter()\n",
    "masterPrinter.setPrinterOptions(parser)\n",
    "masterPrinter.setOutPutFiles(os.path.join(\n",
    "    outputDir, os.path.basename(inputFile)))\n",
    "# for printer in masterPrinter.Printers.values():\n",
    "#     printer.output = 'stdout'\n"
   ]
  },
  {
   "cell_type": "code",
   "execution_count": 5,
   "id": "5132ee14",
   "metadata": {},
   "outputs": [],
   "source": [
    "masterPrinter.addObj(database)\n",
    "\n",
    "inputStatus = ioObjects.FileStatus()\n",
    "if parser.getboolean(\"options\", \"checkInput\"):\n",
    "    inputStatus.checkFile(inputFile)\n",
    "\n",
    "printParameters = []\n",
    "if parser.has_section('parameters'):\n",
    "    printParameters += list(parser.items('parameters'))\n",
    "if parser.has_section('particles'):\n",
    "    printParameters += list(parser.items('particles'))\n",
    "if parser.has_section('options'):\n",
    "    printParameters += list(parser.items('options'))\n",
    "\n",
    "printParameters = OrderedDict(printParameters)\n",
    "outputStatus = ioObjects.OutputStatus(inputStatus.status, inputFile,\n",
    "                                      printParameters, databaseVersion)\n",
    "masterPrinter.addObj(outputStatus)"
   ]
  },
  {
   "cell_type": "code",
   "execution_count": 6,
   "id": "9960a9c0",
   "metadata": {},
   "outputs": [],
   "source": [
    "model = Model(BSMparticles=BSMList, SMparticles=SMList)\n",
    "promptWidth = None\n",
    "stableWidth = None\n",
    "if parser.has_option(\"particles\", \"promptWidth\"):\n",
    "    promptWidth = parser.getfloat(\"particles\", \"promptWidth\")*GeV\n",
    "if parser.has_option(\"particles\", \"stableWidth\"):\n",
    "    stableWidth = parser.getfloat(\"particles\", \"stableWidth\")*GeV\n",
    "model.updateParticles(inputFile=inputFile,\n",
    "                      promptWidth=promptWidth, stableWidth=stableWidth)"
   ]
  },
  {
   "cell_type": "code",
   "execution_count": 7,
   "id": "c48b5227",
   "metadata": {},
   "outputs": [],
   "source": [
    "sigmacut = parser.getfloat(\"parameters\", \"sigmacut\") * fb\n",
    "smstoplist = decomposer.decompose(model, sigmacut,\n",
    "                                  massCompress=parser.getboolean(\n",
    "                                      \"options\", \"doCompress\"),\n",
    "                                  invisibleCompress=parser.getboolean(\n",
    "                                      \"options\", \"doInvisible\"),\n",
    "                                  minmassgap=minmassgap)\n"
   ]
  },
  {
   "cell_type": "code",
   "execution_count": 8,
   "id": "8853f48d",
   "metadata": {},
   "outputs": [],
   "source": [
    "masterPrinter.addObj(smstoplist)"
   ]
  },
  {
   "cell_type": "code",
   "execution_count": 9,
   "id": "58054183",
   "metadata": {},
   "outputs": [],
   "source": [
    "allPredictions = []\n",
    "combineResults = False\n",
    "useBest = True\n",
    "combineResults = parser.getboolean(\"options\", \"combineSRs\")\n",
    "allSRs = parser.getboolean(\"options\", \"reportAllSRs\")\n",
    "if allSRs:  # If set print out all SRs and skip combination\n",
    "    useBest = False\n",
    "    combineResults = False\n",
    "\n",
    "allPredictions = theoryPredictionsFor(database,smstoplist,\n",
    "                                             useBestDataset=useBest, combinedResults=combineResults)\n",
    "\n",
    "if parser.getboolean(\"options\", \"computeStatistics\"):\n",
    "    for theoPred in allPredictions:\n",
    "        theoPred.computeStatistics()\n",
    "\n",
    "maxcond = parser.getfloat(\"parameters\", \"maxcond\")\n",
    "theoryPredictions = theoryPrediction.TheoryPredictionList(\n",
    "    allPredictions, maxcond)\n"
   ]
  },
  {
   "cell_type": "code",
   "execution_count": 10,
   "id": "ee108d54",
   "metadata": {},
   "outputs": [],
   "source": [
    "outputStatus.updateStatus(1)\n",
    "masterPrinter.addObj(theoryPredictions)"
   ]
  },
  {
   "cell_type": "code",
   "execution_count": 11,
   "id": "87fe0f88",
   "metadata": {},
   "outputs": [],
   "source": [
    "if parser.getboolean(\"options\", \"testCoverage\"):\n",
    "    \"\"\" Testing coverage of model point, add results to the output file \"\"\"\n",
    "    if parser.has_option(\"options\", \"coverageSqrts\"):\n",
    "        sqrts = parser.getfloat(\"options\", \"coverageSqrts\")*TeV\n",
    "    else:\n",
    "        sqrts = None\n",
    "    uncovered = coverage.Uncovered(\n",
    "        smstoplist, sigmacut=sigmacut, sqrts=sqrts)\n",
    "    masterPrinter.addObj(uncovered)\n"
   ]
  },
  {
   "cell_type": "code",
   "execution_count": 12,
   "id": "f4ec1765",
   "metadata": {},
   "outputs": [],
   "source": [
    "if parser.has_option(\"options\", \"combineAnas\"):\n",
    "    \"\"\" Combine analyses \"\"\"\n",
    "\n",
    "    combineAnas = parser.get(\"options\", \"combineAnas\").replace(\" \",\"\").split(\",\")\n",
    "    if combineAnas:\n",
    "        if combineResults is True:\n",
    "            logger.warning(\"Combining analyses with signal region combination (combineSRs=True) might significantly reduce CPU performance.\")\n",
    "        combiner = TheoryPredictionsCombiner.selectResultsFrom(theoryPredictions,\n",
    "                                                               combineAnas)\n",
    "        # Only compute combination if at least one result was selected\n",
    "        if combiner is not None:\n",
    "            combiner.computeStatistics()\n",
    "            masterPrinter.addObj(combiner)\n"
   ]
  },
  {
   "cell_type": "code",
   "execution_count": 13,
   "id": "8e7344f4",
   "metadata": {},
   "outputs": [],
   "source": [
    "def pprint(root,tag=None,depth=None):\n",
    "    if tag is not None:\n",
    "        entry = root.find(tag)\n",
    "    else:\n",
    "        entry = root\n",
    "    print(entry.tag)\n",
    "    if not len(entry):\n",
    "        try:\n",
    "            print('%1.2e'%float(entry.text))\n",
    "        except (ValueError,TypeError):\n",
    "            print('%s'%(entry.text))\n",
    "    else:\n",
    "        if depth is not None:\n",
    "            xlist = entry[:depth]\n",
    "        else:\n",
    "            xlist = entry[:]\n",
    "        for x in xlist:\n",
    "            pprint(x,depth=depth)"
   ]
  },
  {
   "cell_type": "code",
   "execution_count": 14,
   "id": "e6e4a611",
   "metadata": {},
   "outputs": [],
   "source": [
    "masterCopy = copy.deepcopy(masterPrinter)\n",
    "x = masterPrinter.flush()['xml']\n",
    "os.remove(masterPrinter.Printers['xml'].filename)"
   ]
  },
  {
   "cell_type": "code",
   "execution_count": 15,
   "id": "f5e9bfac",
   "metadata": {},
   "outputs": [
    {
     "name": "stdout",
     "output_type": "stream",
     "text": [
      "['CombinedRes_List', 'ExptRes_List', 'OutputStatus', 'SMS_Decomposition_List', 'Total_xsec_for_missing_topologies_fb', 'Total_xsec_for_missing_topologies_with_displaced_decays_fb', 'Total_xsec_for_missing_topologies_with_prompt_decays_fb', 'Total_xsec_for_topologies_outside_the_grid_fb', 'missing_topologies_List', 'missing_topologies_with_displaced_decays_List', 'missing_topologies_with_prompt_decays_List', 'topologies_outside_the_grid_List']\n"
     ]
    }
   ],
   "source": [
    "sortedTags = sorted([el.tag for el in x])\n",
    "print(sortedTags)"
   ]
  },
  {
   "cell_type": "code",
   "execution_count": 16,
   "id": "ba7b8e2a",
   "metadata": {},
   "outputs": [
    {
     "name": "stdout",
     "output_type": "stream",
     "text": [
      "CombinedRes_List\n",
      "CombinedRes\n",
      "AnalysisID\n",
      "ATLAS-CONF-2013-037\n",
      "l_SM\n",
      "2.07e-02\n",
      "l_max\n",
      "2.07e-02\n",
      "likelihood\n",
      "1.90e-02\n",
      "r\n",
      "1.09e-01\n",
      "r_expected\n",
      "1.01e-01\n"
     ]
    }
   ],
   "source": [
    "pprint(x,'CombinedRes_List')"
   ]
  },
  {
   "cell_type": "code",
   "execution_count": 17,
   "id": "c4c1dd0c",
   "metadata": {},
   "outputs": [
    {
     "name": "stdout",
     "output_type": "stream",
     "text": [
      "ExptRes_List\n",
      "ExptRes\n",
      "AnalysisID\n",
      "ATLAS-CONF-2013-037\n",
      "AnalysisSqrts_TeV\n",
      "8.00e+00\n",
      "DataSetID\n",
      "SRbC3\n",
      "ExptRes\n",
      "AnalysisID\n",
      "ATLAS-SUSY-2013-02\n",
      "AnalysisSqrts_TeV\n",
      "8.00e+00\n",
      "DataSetID\n",
      "None\n"
     ]
    }
   ],
   "source": [
    "pprint(x,'ExptRes_List',depth=3)"
   ]
  },
  {
   "cell_type": "code",
   "execution_count": 18,
   "id": "2c4a4c81",
   "metadata": {},
   "outputs": [
    {
     "name": "stdout",
     "output_type": "stream",
     "text": [
      "OutputStatus\n",
      "checkinput\n",
      "True\n",
      "combineanas\n",
      "ATLAS-CONF-2013-037,CMS-SUS-13-012\n",
      "combinesrs\n",
      "False\n",
      "computestatistics\n",
      "True\n",
      "database_version\n",
      "unittest300-beta\n",
      "decomposition_status\n",
      "1.00e+00\n",
      "docompress\n",
      "True\n",
      "doinvisible\n",
      "True\n",
      "experimentalfeatures\n",
      "False\n",
      "file_status\n",
      "1.00e+00\n",
      "input_file\n",
      "../testFiles/slha/lightEWinos.slha\n",
      "maxcond\n",
      "2.00e-01\n",
      "minmassgap\n",
      "5.00e+00\n",
      "model\n",
      "share.models.mssm\n",
      "ncpus\n",
      "1.00e+00\n",
      "promptwidth\n",
      "1.00e-11\n",
      "reportallsrs\n",
      "False\n",
      "sigmacut\n",
      "1.00e+01\n",
      "smodels_version\n",
      "3.0.0-beta\n",
      "stablewidth\n",
      "1.00e-25\n",
      "testcoverage\n",
      "True\n",
      "warnings\n",
      "Input file ok\n"
     ]
    }
   ],
   "source": [
    "pprint(x,'OutputStatus')"
   ]
  },
  {
   "cell_type": "code",
   "execution_count": 19,
   "id": "1fd7cd99",
   "metadata": {},
   "outputs": [
    {
     "name": "stdout",
     "output_type": "stream",
     "text": [
      "SMS_Decomposition_List\n",
      "SMS_Decomposition\n",
      "ID\n",
      "1.00e+00\n",
      "Masses_GeV_List\n",
      "Masses_GeV\n",
      "('N1', 68.1)\n",
      "Masses_GeV\n",
      "('C1+/C1-', 134.4)\n",
      "SMS_Decomposition\n",
      "ID\n",
      "2.00e+00\n",
      "Masses_GeV_List\n",
      "Masses_GeV\n",
      "('N1', 68.1)\n",
      "Masses_GeV\n",
      "('C1+/C1-', 134.4)\n"
     ]
    }
   ],
   "source": [
    "pprint(x,'SMS_Decomposition_List',depth=2)"
   ]
  },
  {
   "cell_type": "code",
   "execution_count": 20,
   "id": "b4ba7290",
   "metadata": {},
   "outputs": [
    {
     "name": "stdout",
     "output_type": "stream",
     "text": [
      "Total_xsec_for_missing_topologies_fb\n",
      "5.22e+03\n",
      "Total_xsec_for_missing_topologies_with_displaced_decays_fb\n",
      "0.00e+00\n",
      "Total_xsec_for_missing_topologies_with_prompt_decays_fb\n",
      "5.22e+03\n",
      "Total_xsec_for_topologies_outside_the_grid_fb\n",
      "4.72e+01\n"
     ]
    }
   ],
   "source": [
    "keys = ['Total_xsec_for_missing_topologies_fb', \n",
    "        'Total_xsec_for_missing_topologies_with_displaced_decays_fb', \n",
    "        'Total_xsec_for_missing_topologies_with_prompt_decays_fb', \n",
    "        'Total_xsec_for_topologies_outside_the_grid_fb']\n",
    "for k in keys:\n",
    "    pprint(x,k)"
   ]
  },
  {
   "cell_type": "code",
   "execution_count": 21,
   "id": "91edcc96",
   "metadata": {},
   "outputs": [
    {
     "name": "stdout",
     "output_type": "stream",
     "text": [
      "missing_topologies_List\n",
      "missing_topologies\n",
      "SMS\n",
      "PV > (jet,jet,MET), (nu,l,MET)\n",
      "SMS_IDs_List\n",
      "SMS_IDs\n",
      "3.10e+01\n",
      "SMS_IDs\n",
      "3.60e+01\n",
      "missing_topologies\n",
      "SMS\n",
      "PV > (jet,jet,MET), (nu,ta,MET)\n",
      "SMS_IDs_List\n",
      "SMS_IDs\n",
      "4.10e+01\n",
      "SMS_IDs\n",
      "2.60e+01\n"
     ]
    }
   ],
   "source": [
    "pprint(x,'missing_topologies_List',depth=2)"
   ]
  },
  {
   "cell_type": "code",
   "execution_count": 22,
   "id": "d5d37033",
   "metadata": {},
   "outputs": [
    {
     "name": "stdout",
     "output_type": "stream",
     "text": [
      "missing_topologies_with_displaced_decays_List\n",
      "None\n"
     ]
    }
   ],
   "source": [
    "pprint(x,'missing_topologies_with_displaced_decays_List')"
   ]
  },
  {
   "cell_type": "code",
   "execution_count": 23,
   "id": "ecfb6543",
   "metadata": {},
   "outputs": [
    {
     "name": "stdout",
     "output_type": "stream",
     "text": [
      "missing_topologies_with_prompt_decays_List\n",
      "missing_topologies_with_prompt_decays\n",
      "SMS\n",
      "PV > (jet,jet,MET), (nu,l,MET)\n",
      "SMS_IDs_List\n",
      "SMS_IDs\n",
      "3.10e+01\n",
      "SMS_IDs\n",
      "3.60e+01\n",
      "missing_topologies_with_prompt_decays\n",
      "SMS\n",
      "PV > (jet,jet,MET), (nu,ta,MET)\n",
      "SMS_IDs_List\n",
      "SMS_IDs\n",
      "4.10e+01\n",
      "SMS_IDs\n",
      "2.60e+01\n"
     ]
    }
   ],
   "source": [
    "pprint(x,'missing_topologies_with_prompt_decays_List',depth=2)"
   ]
  },
  {
   "cell_type": "code",
   "execution_count": 24,
   "id": "b93b76b0",
   "metadata": {},
   "outputs": [
    {
     "name": "stdout",
     "output_type": "stream",
     "text": [
      "topologies_outside_the_grid_List\n",
      "topologies_outside_the_grid\n",
      "SMS\n",
      "PV > (b,b,MET), (b,b,MET)\n",
      "SMS_IDs_List\n",
      "SMS_IDs\n",
      "6.20e+01\n"
     ]
    }
   ],
   "source": [
    "pprint(x,'topologies_outside_the_grid_List',depth=2)"
   ]
  },
  {
   "cell_type": "code",
   "execution_count": 25,
   "id": "1fcbe647",
   "metadata": {},
   "outputs": [],
   "source": [
    "masterCopy.outputFormat = \"version2\"\n",
    "for printer in masterCopy.Printers.values():\n",
    "    printer.outputFormat = \"version2\"\n",
    "    \n",
    "x = masterCopy.flush()['xml']\n",
    "os.remove(masterPrinter.Printers['xml'].filename)"
   ]
  },
  {
   "cell_type": "code",
   "execution_count": 26,
   "id": "c93b1b06",
   "metadata": {},
   "outputs": [
    {
     "name": "stdout",
     "output_type": "stream",
     "text": [
      "['CombinedRes_List', 'Element_List', 'ExptRes_List', 'OutputStatus', 'Total_xsec_for_missing_topologies_fb', 'Total_xsec_for_missing_topologies_with_displaced_decays_fb', 'Total_xsec_for_missing_topologies_with_prompt_decays_fb', 'Total_xsec_for_topologies_outside_the_grid_fb', 'missing_topologies_List', 'missing_topologies_with_displaced_decays_List', 'missing_topologies_with_prompt_decays_List', 'topologies_outside_the_grid_List']\n"
     ]
    }
   ],
   "source": [
    "sortedTags = sorted([el.tag for el in x])\n",
    "print(sortedTags)"
   ]
  },
  {
   "cell_type": "code",
   "execution_count": 27,
   "id": "af4ba325",
   "metadata": {},
   "outputs": [
    {
     "name": "stdout",
     "output_type": "stream",
     "text": [
      "CombinedRes_List\n",
      "CombinedRes\n",
      "AnalysisID\n",
      "ATLAS-CONF-2013-037\n",
      "l_SM\n",
      "2.07e-02\n",
      "l_max\n",
      "2.07e-02\n",
      "likelihood\n",
      "1.90e-02\n",
      "r\n",
      "1.09e-01\n",
      "r_expected\n",
      "1.01e-01\n"
     ]
    }
   ],
   "source": [
    "pprint(x,'CombinedRes_List')"
   ]
  },
  {
   "cell_type": "code",
   "execution_count": 28,
   "id": "8eae730a",
   "metadata": {},
   "outputs": [
    {
     "name": "stdout",
     "output_type": "stream",
     "text": [
      "ExptRes_List\n",
      "ExptRes\n",
      "AnalysisID\n",
      "ATLAS-CONF-2013-037\n",
      "AnalysisSqrts_TeV\n",
      "8.00e+00\n",
      "DataSetID\n",
      "SRbC3\n",
      "ExptRes\n",
      "AnalysisID\n",
      "ATLAS-SUSY-2013-02\n",
      "AnalysisSqrts_TeV\n",
      "8.00e+00\n",
      "DataSetID\n",
      "None\n"
     ]
    }
   ],
   "source": [
    "pprint(x,'ExptRes_List',depth=3)"
   ]
  },
  {
   "cell_type": "code",
   "execution_count": 29,
   "id": "7ecac4a6",
   "metadata": {},
   "outputs": [
    {
     "name": "stdout",
     "output_type": "stream",
     "text": [
      "OutputStatus\n",
      "checkinput\n",
      "True\n",
      "combineanas\n",
      "ATLAS-CONF-2013-037,CMS-SUS-13-012\n",
      "combinesrs\n",
      "False\n",
      "computestatistics\n",
      "True\n",
      "database_version\n",
      "unittest300-beta\n",
      "decomposition_status\n",
      "1.00e+00\n",
      "docompress\n",
      "True\n",
      "doinvisible\n",
      "True\n",
      "experimentalfeatures\n",
      "False\n",
      "file_status\n",
      "1.00e+00\n",
      "input_file\n",
      "../testFiles/slha/lightEWinos.slha\n",
      "maxcond\n",
      "2.00e-01\n",
      "minmassgap\n",
      "5.00e+00\n",
      "model\n",
      "share.models.mssm\n",
      "ncpus\n",
      "1.00e+00\n",
      "promptwidth\n",
      "1.00e-11\n",
      "reportallsrs\n",
      "False\n",
      "sigmacut\n",
      "1.00e+01\n",
      "smodels_version\n",
      "3.0.0-beta\n",
      "stablewidth\n",
      "1.00e-25\n",
      "testcoverage\n",
      "True\n",
      "warnings\n",
      "Input file ok\n"
     ]
    }
   ],
   "source": [
    "pprint(x,'OutputStatus')"
   ]
  },
  {
   "cell_type": "code",
   "execution_count": 30,
   "id": "f0460520",
   "metadata": {},
   "outputs": [
    {
     "name": "stdout",
     "output_type": "stream",
     "text": [
      "Element_List\n",
      "Element\n",
      "ID\n",
      "1.00e+00\n",
      "Masses_GeV_List\n",
      "Masses_GeV_List\n",
      "Masses_GeV\n",
      "6.81e+01\n",
      "Masses_GeV_List\n",
      "Masses_GeV\n",
      "1.34e+02\n",
      "Masses_GeV\n",
      "6.81e+01\n",
      "Element\n",
      "ID\n",
      "2.00e+00\n",
      "Masses_GeV_List\n",
      "Masses_GeV_List\n",
      "Masses_GeV\n",
      "6.81e+01\n",
      "Masses_GeV_List\n",
      "Masses_GeV\n",
      "1.34e+02\n",
      "Masses_GeV\n",
      "6.81e+01\n"
     ]
    }
   ],
   "source": [
    "pprint(x,'Element_List',depth=2)"
   ]
  },
  {
   "cell_type": "code",
   "execution_count": 31,
   "id": "505b6744",
   "metadata": {},
   "outputs": [
    {
     "name": "stdout",
     "output_type": "stream",
     "text": [
      "Total_xsec_for_missing_topologies_fb\n",
      "5.22e+03\n",
      "Total_xsec_for_missing_topologies_with_displaced_decays_fb\n",
      "0.00e+00\n",
      "Total_xsec_for_missing_topologies_with_prompt_decays_fb\n",
      "5.22e+03\n",
      "Total_xsec_for_topologies_outside_the_grid_fb\n",
      "4.72e+01\n"
     ]
    }
   ],
   "source": [
    "keys = ['Total_xsec_for_missing_topologies_fb', \n",
    "        'Total_xsec_for_missing_topologies_with_displaced_decays_fb', \n",
    "        'Total_xsec_for_missing_topologies_with_prompt_decays_fb', \n",
    "        'Total_xsec_for_topologies_outside_the_grid_fb']\n",
    "for k in keys:\n",
    "    pprint(x,k)"
   ]
  },
  {
   "cell_type": "code",
   "execution_count": 32,
   "id": "da5599fd",
   "metadata": {},
   "outputs": [
    {
     "name": "stdout",
     "output_type": "stream",
     "text": [
      "missing_topologies_List\n",
      "missing_topologies\n",
      "element\n",
      "[[[jet,jet]],[[l,nu]]] (MET,MET)\n",
      "element_IDs_List\n",
      "element_IDs\n",
      "3.10e+01\n",
      "element_IDs\n",
      "3.60e+01\n",
      "missing_topologies\n",
      "element\n",
      "[[[jet,jet]],[[ta,nu]]] (MET,MET)\n",
      "element_IDs_List\n",
      "element_IDs\n",
      "4.10e+01\n",
      "element_IDs\n",
      "2.60e+01\n"
     ]
    }
   ],
   "source": [
    "pprint(x,'missing_topologies_List',depth=2)"
   ]
  },
  {
   "cell_type": "code",
   "execution_count": 33,
   "id": "231a6c77",
   "metadata": {},
   "outputs": [
    {
     "name": "stdout",
     "output_type": "stream",
     "text": [
      "missing_topologies_with_displaced_decays_List\n",
      "None\n"
     ]
    }
   ],
   "source": [
    "pprint(x,'missing_topologies_with_displaced_decays_List')"
   ]
  },
  {
   "cell_type": "code",
   "execution_count": 34,
   "id": "9219aa55",
   "metadata": {},
   "outputs": [
    {
     "name": "stdout",
     "output_type": "stream",
     "text": [
      "missing_topologies_with_prompt_decays_List\n",
      "missing_topologies_with_prompt_decays\n",
      "element\n",
      "[[[jet,jet]],[[l,nu]]] (MET,MET)\n",
      "element_IDs_List\n",
      "element_IDs\n",
      "3.10e+01\n",
      "element_IDs\n",
      "3.60e+01\n",
      "missing_topologies_with_prompt_decays\n",
      "element\n",
      "[[[jet,jet]],[[ta,nu]]] (MET,MET)\n",
      "element_IDs_List\n",
      "element_IDs\n",
      "4.10e+01\n",
      "element_IDs\n",
      "2.60e+01\n"
     ]
    }
   ],
   "source": [
    "pprint(x,'missing_topologies_with_prompt_decays_List',depth=2)"
   ]
  },
  {
   "cell_type": "code",
   "execution_count": 35,
   "id": "54341b0e",
   "metadata": {},
   "outputs": [
    {
     "name": "stdout",
     "output_type": "stream",
     "text": [
      "topologies_outside_the_grid_List\n",
      "topologies_outside_the_grid\n",
      "element\n",
      "[[[b,b]],[[b,b]]] (MET,MET)\n",
      "element_IDs_List\n",
      "element_IDs\n",
      "6.20e+01\n"
     ]
    }
   ],
   "source": [
    "pprint(x,'topologies_outside_the_grid_List',depth=2)"
   ]
  }
 ],
 "metadata": {
  "kernelspec": {
   "display_name": "Python 3.10.6 64-bit",
   "language": "python",
   "name": "python3"
  },
  "language_info": {
   "codemirror_mode": {
    "name": "ipython",
    "version": 3
   },
   "file_extension": ".py",
   "mimetype": "text/x-python",
   "name": "python",
   "nbconvert_exporter": "python",
   "pygments_lexer": "ipython3",
   "version": "3.10.6"
  },
  "vscode": {
   "interpreter": {
    "hash": "e7370f93d1d0cde622a1f8e1c04877d8463912d04d973331ad4851f04de6915a"
   }
  }
 },
 "nbformat": 4,
 "nbformat_minor": 5
}
