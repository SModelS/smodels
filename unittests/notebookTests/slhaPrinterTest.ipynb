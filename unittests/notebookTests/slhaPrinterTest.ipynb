{
 "cells": [
  {
   "cell_type": "code",
   "execution_count": 1,
   "id": "67e74468",
   "metadata": {},
   "outputs": [],
   "source": [
    "#!/usr/bin/env python3\n",
    "import sys\n",
    "import copy\n",
    "sys.path.append('../../')\n",
    "\n",
    "from __future__ import print_function\n",
    "from smodels.base import runtime\n",
    "# Define your model (list of BSM particles)\n",
    "runtime.modelFile = 'smodels.share.models.mssm'\n",
    "# runtime.modelFile = 'mssmQNumbers.slha'\n",
    "\n",
    "from smodels.decomposition import decomposer\n",
    "from smodels.base.physicsUnits import fb, GeV, TeV\n",
    "from smodels.matching.theoryPrediction import theoryPredictionsFor,TheoryPredictionsCombiner\n",
    "from smodels.matching import theoryPrediction\n",
    "from smodels.experiment.databaseObj import Database\n",
    "from smodels.tools import coverage\n",
    "from smodels.base.smodelsLogging import setLogLevel\n",
    "from smodels.share.models.mssm import BSMList\n",
    "from smodels.share.models.SMparticles import SMList\n",
    "from smodels.base.model import Model\n",
    "from smodels.tools.printers.masterPrinter import MPrinter\n",
    "from smodels.tools import ioObjects\n",
    "import time\n",
    "import os\n",
    "from collections import OrderedDict\n",
    "from configparser import ConfigParser, NoSectionError, NoOptionError\n",
    "setLogLevel(\"error\")"
   ]
  },
  {
   "cell_type": "code",
   "execution_count": 2,
   "id": "bd2baa8c",
   "metadata": {},
   "outputs": [],
   "source": [
    "# Set the path to the database\n",
    "database = Database('unittest')\n",
    "databaseVersion = database.databaseVersion"
   ]
  },
  {
   "cell_type": "code",
   "execution_count": 3,
   "id": "e3d87f9a",
   "metadata": {},
   "outputs": [],
   "source": [
    "parameterFile='../testPrinters_parameters.ini'\n",
    "parser = ConfigParser(inline_comment_prefixes=(';',))\n",
    "ret = parser.read(parameterFile)\n",
    "parser.set(\"printer\",\"outputType\",\"slha\")\n",
    "parser.set(\"printer\",\"outputFormat\",\"current\")\n",
    "\n",
    "inputFile = '../testFiles/slha/lightEWinos.slha'\n",
    "outputDir = '../'"
   ]
  },
  {
   "cell_type": "code",
   "execution_count": 4,
   "id": "85f7abc1",
   "metadata": {},
   "outputs": [],
   "source": [
    "parser.set(\"parameters\", \"sigmacut\", \"1.0\")\n",
    "sigmacut = parser.getfloat(\"parameters\", \"sigmacut\") * fb\n",
    "minmassgap = parser.getfloat(\"parameters\", \"minmassgap\") * GeV\n",
    "\n",
    "masterPrinter = MPrinter()\n",
    "masterPrinter.setPrinterOptions(parser)\n",
    "masterPrinter.setOutPutFiles(os.path.join(\n",
    "    outputDir, os.path.basename(inputFile)))\n",
    "for printer in masterPrinter.Printers.values():\n",
    "    printer.output = 'stdout'\n"
   ]
  },
  {
   "cell_type": "code",
   "execution_count": 5,
   "id": "5132ee14",
   "metadata": {},
   "outputs": [],
   "source": [
    "masterPrinter.addObj(database)\n",
    "\n",
    "inputStatus = ioObjects.FileStatus()\n",
    "if parser.getboolean(\"options\", \"checkInput\"):\n",
    "    inputStatus.checkFile(inputFile)\n",
    "\n",
    "printParameters = []\n",
    "if parser.has_section('parameters'):\n",
    "    printParameters += list(parser.items('parameters'))\n",
    "if parser.has_section('particles'):\n",
    "    printParameters += list(parser.items('particles'))\n",
    "if parser.has_section('options'):\n",
    "    printParameters += list(parser.items('options'))\n",
    "\n",
    "printParameters = OrderedDict(printParameters)\n",
    "outputStatus = ioObjects.OutputStatus(inputStatus.status, inputFile,\n",
    "                                      printParameters, databaseVersion)\n",
    "masterPrinter.addObj(outputStatus)"
   ]
  },
  {
   "cell_type": "code",
   "execution_count": 6,
   "id": "9960a9c0",
   "metadata": {},
   "outputs": [],
   "source": [
    "model = Model(BSMparticles=BSMList, SMparticles=SMList)\n",
    "promptWidth = None\n",
    "stableWidth = None\n",
    "if parser.has_option(\"particles\", \"promptWidth\"):\n",
    "    promptWidth = parser.getfloat(\"particles\", \"promptWidth\")*GeV\n",
    "if parser.has_option(\"particles\", \"stableWidth\"):\n",
    "    stableWidth = parser.getfloat(\"particles\", \"stableWidth\")*GeV\n",
    "model.updateParticles(inputFile=inputFile,\n",
    "                      promptWidth=promptWidth, stableWidth=stableWidth)"
   ]
  },
  {
   "cell_type": "code",
   "execution_count": 7,
   "id": "c48b5227",
   "metadata": {},
   "outputs": [],
   "source": [
    "smstoplist = decomposer.decompose(model, sigmacut,\n",
    "                                  massCompress=parser.getboolean(\n",
    "                                      \"options\", \"doCompress\"),\n",
    "                                  invisibleCompress=parser.getboolean(\n",
    "                                      \"options\", \"doInvisible\"),\n",
    "                                  minmassgap=minmassgap)\n"
   ]
  },
  {
   "cell_type": "code",
   "execution_count": 8,
   "id": "8853f48d",
   "metadata": {},
   "outputs": [],
   "source": [
    "masterPrinter.addObj(smstoplist)"
   ]
  },
  {
   "cell_type": "code",
   "execution_count": 9,
   "id": "58054183",
   "metadata": {},
   "outputs": [],
   "source": [
    "allPredictions = []\n",
    "combineResults = False\n",
    "useBest = True\n",
    "combineResults = parser.getboolean(\"options\", \"combineSRs\")\n",
    "allSRs = parser.getboolean(\"options\", \"reportAllSRs\")\n",
    "if allSRs:  # If set print out all SRs and skip combination\n",
    "    useBest = False\n",
    "    combineResults = False\n",
    "\n",
    "allPredictions = theoryPredictionsFor(database,smstoplist,\n",
    "                                             useBestDataset=useBest, combinedResults=combineResults)\n",
    "\n",
    "if parser.getboolean(\"options\", \"computeStatistics\"):\n",
    "    for theoPred in allPredictions:\n",
    "        theoPred.computeStatistics()\n",
    "\n",
    "maxcond = parser.getfloat(\"parameters\", \"maxcond\")\n",
    "theoryPredictions = theoryPrediction.TheoryPredictionList(\n",
    "    allPredictions, maxcond)\n"
   ]
  },
  {
   "cell_type": "code",
   "execution_count": 10,
   "id": "ee108d54",
   "metadata": {},
   "outputs": [],
   "source": [
    "outputStatus.updateStatus(1)\n",
    "masterPrinter.addObj(theoryPredictions)"
   ]
  },
  {
   "cell_type": "code",
   "execution_count": 11,
   "id": "87fe0f88",
   "metadata": {},
   "outputs": [],
   "source": [
    "if parser.getboolean(\"options\", \"testCoverage\"):\n",
    "    \"\"\" Testing coverage of model point, add results to the output file \"\"\"\n",
    "    if parser.has_option(\"options\", \"coverageSqrts\"):\n",
    "        sqrts = parser.getfloat(\"options\", \"coverageSqrts\")*TeV\n",
    "    else:\n",
    "        sqrts = None\n",
    "    uncovered = coverage.Uncovered(\n",
    "        smstoplist, sigmacut=sigmacut, sqrts=sqrts)\n",
    "    masterPrinter.addObj(uncovered)\n"
   ]
  },
  {
   "cell_type": "code",
   "execution_count": 12,
   "id": "f4ec1765",
   "metadata": {},
   "outputs": [],
   "source": [
    "if parser.has_option(\"options\", \"combineAnas\"):\n",
    "    \"\"\" Combine analyses \"\"\"\n",
    "\n",
    "    combineAnas = parser.get(\"options\", \"combineAnas\").replace(\" \",\"\").split(\",\")\n",
    "    if combineAnas:\n",
    "        if combineResults is True:\n",
    "            logger.warning(\"Combining analyses with signal region combination (combineSRs=True) might significantly reduce CPU performance.\")\n",
    "        combiner = TheoryPredictionsCombiner.selectResultsFrom(theoryPredictions,\n",
    "                                                               combineAnas)\n",
    "        # Only compute combination if at least one result was selected\n",
    "        if combiner is not None:\n",
    "            combiner.computeStatistics()\n",
    "            masterPrinter.addObj(combiner)\n"
   ]
  },
  {
   "cell_type": "code",
   "execution_count": 13,
   "id": "e6e4a611",
   "metadata": {},
   "outputs": [
    {
     "name": "stdout",
     "output_type": "stream",
     "text": [
      "BLOCK SModelS_Settings\n",
      " 0 v3.0.0-beta               #SModelS version\n",
      " 1 unittest300-beta          #database version\n",
      " 2 0.2                       #maximum condition violation\n",
      " 3 1                         #compression (0 off, 1 on)\n",
      " 4 5.                        #minimum mass gap for mass compression [GeV]\n",
      " 5 1.0                       #sigmacut [fb]\n",
      " 6 0                         #signal region combination (0 off, 1 on)\n",
      " 7 1                         #analyses combination (0 off, 1 on)\n",
      " 8 1e-11                     #prompt width [GeV] \n",
      " 9 1e-25                     #stable width [GeV] \n",
      "\n",
      "BLOCK SModelS_Exclusion\n",
      " 0 0 0                              #output status (-1 not tested, 0 not excluded, 1 excluded)\n",
      " 1 0 TChiWZoff                      #txname \n",
      " 1 1 6.46E-01                       #r value\n",
      " 1 2 N/A                            #expected r value\n",
      " 1 3 0.00                           #condition violation\n",
      " 1 4 ATLAS-SUSY-2013-12             #analysis\n",
      " 1 5 (UL)                           #signal region \n",
      " 1 6 N/A                            #Likelihood\n",
      " 1 7 N/A                            #L_max\n",
      " 1 8 N/A                            #L_SM\n",
      "\n",
      " 2 0 T1bbtt, T1tttt                 #txname \n",
      " 2 1 1.14E-01                       #r value\n",
      " 2 2 1.06E-01                       #expected r value\n",
      " 2 3 0.00                           #condition violation\n",
      " 2 4 ATLAS-CONF-2013-037            #analysis\n",
      " 2 5 SRbC3                          #signal region \n",
      " 2 6 1.89E-02                       #Likelihood\n",
      " 2 7 2.07E-02                       #L_max\n",
      " 2 8 2.07E-02                       #L_SM\n",
      "\n",
      " 3 0 T1tttt                         #txname \n",
      " 3 1 5.05E-03                       #r value\n",
      " 3 2 7.14E-03                       #expected r value\n",
      " 3 3 0.00                           #condition violation\n",
      " 3 4 CMS-SUS-13-012                 #analysis\n",
      " 3 5 8NJetinf_1000HT1250_200MHTinf  #signal region \n",
      " 3 6 2.08E-02                       #Likelihood\n",
      " 3 7 2.65E-02                       #L_max\n",
      " 3 8 2.06E-02                       #L_SM\n",
      "\n",
      " 4 0 T1                             #txname \n",
      " 4 1 6.56E-05                       #r value\n",
      " 4 2 N/A                            #expected r value\n",
      " 4 3 0.00                           #condition violation\n",
      " 4 4 ATLAS-SUSY-2013-02             #analysis\n",
      " 4 5 (UL)                           #signal region \n",
      " 4 6 N/A                            #Likelihood\n",
      " 4 7 N/A                            #L_max\n",
      " 4 8 N/A                            #L_SM\n",
      "\n",
      "BLOCK SModelS_CombinedAnas\n",
      " 1 1 1.21E-01                       #r value\n",
      " 1 2 1.11E-01                       #expected r value\n",
      " 1 3 3.94E-04                       #Likelihood\n",
      " 1 4 4.26E-04                       #L_max\n",
      " 1 5 4.26E-04                       #L_SM\n",
      " 1 6 ATLAS-CONF-2013-037,CMS-SUS-13-012 #IDs of combined analyses\n",
      "\n",
      "\n",
      "BLOCK SModelS_Coverage\n",
      " 0 0 missing (all)                       # missing topologies\n",
      " 0 1 1.05E+04                            # Total cross-section (fb)\n",
      " 1 0 missing (displaced)                 # missing topologies with displaced decays\n",
      " 1 1 0.00E+00                            # Total cross-section (fb)\n",
      " 2 0 missing (prompt)                    # missing topologies with prompt decays\n",
      " 2 1 1.05E+04                            # Total cross-section (fb)\n",
      " 3 0 outsideGrid (all)                   # topologies outside the grid\n",
      " 3 1 8.05E+01                            # Total cross-section (fb)\n"
     ]
    }
   ],
   "source": [
    "x = masterPrinter.flush()"
   ]
  }
 ],
 "metadata": {
  "kernelspec": {
   "display_name": "Python 3 (ipykernel)",
   "language": "python",
   "name": "python3"
  },
  "language_info": {
   "codemirror_mode": {
    "name": "ipython",
    "version": 3
   },
   "file_extension": ".py",
   "mimetype": "text/x-python",
   "name": "python",
   "nbconvert_exporter": "python",
   "pygments_lexer": "ipython3",
   "version": "3.10.6"
  },
  "vscode": {
   "interpreter": {
    "hash": "e7370f93d1d0cde622a1f8e1c04877d8463912d04d973331ad4851f04de6915a"
   }
  }
 },
 "nbformat": 4,
 "nbformat_minor": 5
}
