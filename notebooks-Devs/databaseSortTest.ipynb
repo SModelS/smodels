{
 "cells": [
  {
   "cell_type": "code",
   "execution_count": 1,
   "metadata": {},
   "outputs": [],
   "source": [
    "import sys\n",
    "sys.path.append('../')\n",
    "import matplotlib.pyplot as plt\n",
    "from smodels.decomposition.theorySMS import TheorySMS\n",
    "from smodels.experiment.expSMS import ExpSMS\n",
    "from smodels.share.models.mssm import BSMList\n",
    "from smodels.share.models.SMparticles import SMList\n",
    "from smodels.experiment.defaultFinalStates import finalStates\n",
    "from smodels.base.model import Model\n",
    "from collections import OrderedDict\n",
    "from smodels.base.physicsUnits import fb, GeV\n",
    "from itertools import product\n",
    "from smodels.experiment.databaseObj import Database\n",
    "import copy\n",
    "import re\n",
    "from smodels.base.smodelsLogging import logger\n",
    "import plotly.graph_objects as go\n",
    "\n",
    "logger.setLevel('ERROR')"
   ]
  },
  {
   "cell_type": "code",
   "execution_count": 2,
   "metadata": {},
   "outputs": [],
   "source": [
    "def convertAxesStr(inStr):\n",
    "    entryDict = {}\n",
    "    # First find the outermost enclosing brackets:\n",
    "    iLeft = inStr.find('[')\n",
    "    iRight = inStr.rfind(']')+1\n",
    "    newStr = inStr[iLeft:iRight]\n",
    "    # Remove blank spaces:\n",
    "    newStr = newStr.replace(\" \",\"\")\n",
    "    iel = 0\n",
    "    # Loop over the string and replace entries by\n",
    "    # \"Xi\" strings\n",
    "    for x in re.split(r',\\s*(?![^()]*\\))', newStr):\n",
    "        x = x.replace('[','').replace(']','')\n",
    "        x = x.strip()\n",
    "        if not x in entryDict:\n",
    "            entryDict[x] = \"'X%i'\" %iel\n",
    "            iel += 1\n",
    "        xNew = entryDict[x]\n",
    "        # print('x=',x,'xNew=',xNew)\n",
    "        # print('before=',newStr)\n",
    "        newStr = newStr.replace(x,xNew,1)\n",
    "        # print('after=',newStr)\n",
    "    # Add the original enclosing strings \n",
    "    # (for cases where the string ends in ]]*2)\n",
    "    newStr = inStr[:iLeft]+newStr+inStr[iRight:]\n",
    "    # print('final=',newStr)\n",
    "    # Evaluate the string with the entries replaces\n",
    "    # by Xi strings:\n",
    "    axes = eval(newStr)\n",
    "    \n",
    "    return axes\n",
    "\n",
    "def getAxesSMS(txAxes):\n",
    "    \"\"\"\n",
    "    Generates a dummy SMS with nodes holding axis labels.\n",
    "    \"\"\"\n",
    "    axesSMS = []\n",
    "    if isinstance(txAxes,str):\n",
    "        txAxes = [txAxes]\n",
    "    for txAx in txAxes:\n",
    "        axis = convertAxesStr(txAx)\n",
    "        axisStr = str([[['anySM'] for ptc in br[:-1]] for br in axis])\n",
    "        finalStates = [str(br[-1]) for br in axis]\n",
    "        intermediateStates = [[str(ptc) for ptc in br[:-1]] for br in axis]\n",
    "        axSMS = ExpSMS.from_string(axisStr,finalState=finalStates,\n",
    "                                intermediateState=intermediateStates)\n",
    "        axesSMS.append(axSMS)\n",
    "    \n",
    "    return axesSMS\n",
    "\n",
    "def symmetricAxes(txAxes):\n",
    "\n",
    "    if isinstance(txAxes,str):\n",
    "        txAxes = [txAxes]\n",
    "    for txAx in txAxes:\n",
    "        axis = convertAxesStr(txAx)\n",
    "        if len(axis) != 2:\n",
    "            # print('Found %i branches!' %(len(axis)))\n",
    "            return False\n",
    "        if axis[0] != axis[1]:\n",
    "            # print('Non-symmetric axis:\\n %s != %s' %(axis[0],axis[1]))\n",
    "            return False\n",
    "\n",
    "    return True\n"
   ]
  },
  {
   "cell_type": "markdown",
   "metadata": {},
   "source": [
    "### Get database"
   ]
  },
  {
   "cell_type": "code",
   "execution_count": 3,
   "metadata": {
    "scrolled": true
   },
   "outputs": [],
   "source": [
    "db = Database('official')"
   ]
  },
  {
   "cell_type": "code",
   "execution_count": 4,
   "metadata": {},
   "outputs": [
    {
     "ename": "AttributeError",
     "evalue": "'Database' object has no attribute 'getExpResults'",
     "output_type": "error",
     "traceback": [
      "\u001b[0;31m---------------------------------------------------------------------------\u001b[0m",
      "\u001b[0;31mAttributeError\u001b[0m                            Traceback (most recent call last)",
      "\u001b[1;32m/home/lessa/smodels-graphs/notebooks-Devs/databaseSortTest.ipynb Cell 5\u001b[0m in \u001b[0;36m<cell line: 4>\u001b[0;34m()\u001b[0m\n\u001b[1;32m      <a href='vscode-notebook-cell:/home/lessa/smodels-graphs/notebooks-Devs/databaseSortTest.ipynb#W4sZmlsZQ%3D%3D?line=1'>2</a>\u001b[0m uniqueSMSDict \u001b[39m=\u001b[39m {}\n\u001b[1;32m      <a href='vscode-notebook-cell:/home/lessa/smodels-graphs/notebooks-Devs/databaseSortTest.ipynb#W4sZmlsZQ%3D%3D?line=2'>3</a>\u001b[0m allSMS \u001b[39m=\u001b[39m []\n\u001b[0;32m----> <a href='vscode-notebook-cell:/home/lessa/smodels-graphs/notebooks-Devs/databaseSortTest.ipynb#W4sZmlsZQ%3D%3D?line=3'>4</a>\u001b[0m \u001b[39mfor\u001b[39;00m iexp,exp \u001b[39min\u001b[39;00m \u001b[39menumerate\u001b[39m(db\u001b[39m.\u001b[39;49mgetExpResults()):\n\u001b[1;32m      <a href='vscode-notebook-cell:/home/lessa/smodels-graphs/notebooks-Devs/databaseSortTest.ipynb#W4sZmlsZQ%3D%3D?line=4'>5</a>\u001b[0m     expID \u001b[39m=\u001b[39m exp\u001b[39m.\u001b[39mglobalInfo\u001b[39m.\u001b[39mid\n\u001b[1;32m      <a href='vscode-notebook-cell:/home/lessa/smodels-graphs/notebooks-Devs/databaseSortTest.ipynb#W4sZmlsZQ%3D%3D?line=5'>6</a>\u001b[0m     \u001b[39mfor\u001b[39;00m ids,dataset \u001b[39min\u001b[39;00m \u001b[39menumerate\u001b[39m(exp\u001b[39m.\u001b[39mdatasets):\n",
      "\u001b[0;31mAttributeError\u001b[0m: 'Database' object has no attribute 'getExpResults'"
     ]
    }
   ],
   "source": [
    "databaseSMSDict = {}\n",
    "uniqueSMSDict = {}\n",
    "allSMS = []\n",
    "for iexp,exp in enumerate(db.expResultList):\n",
    "    expID = exp.globalInfo.id\n",
    "    for ids,dataset in enumerate(exp.datasets):\n",
    "        dsID = dataset.dataInfo.dataId\n",
    "        for itx,tx in enumerate(dataset.txnameList):\n",
    "            txID = str(tx)\n",
    "            tx.sortSMSMap()\n",
    "            for sms,smsLabel in tx.smsMap.items():\n",
    "                allSMS.append(sms)\n",
    "                smsMatch = None\n",
    "                for sms1 in databaseSMSDict:\n",
    "                    if sms.identicalTo(sms1):\n",
    "                        smsMatch = sms1\n",
    "                        break\n",
    "                                \n",
    "                # Update dictionary\n",
    "                if smsMatch is None:\n",
    "                    databaseSMSDict[sms] = {iexp : {ids : {itx : smsLabel}}}\n",
    "                    uniqueSMSDict[sms] = {expID : {dsID : {txID : smsLabel}}}\n",
    "                else:\n",
    "                    useDict = databaseSMSDict[smsMatch]\n",
    "                    entry = [iexp,ids,itx]\n",
    "                    for key in entry:\n",
    "                        if useDict.get(key) is None:\n",
    "                            useDict.update({key : {}})\n",
    "                        useDict = useDict.get(key)\n",
    "                    useDict[itx] = smsLabel\n",
    "\n",
    "                    if not expID in uniqueSMSDict[smsMatch]:\n",
    "                        uniqueSMSDict[smsMatch].update({expID : {}})\n",
    "                    if not dsID in  uniqueSMSDict[smsMatch][expID]:\n",
    "                        uniqueSMSDict[smsMatch][expID].update({dsID : {}})\n",
    "                    uniqueSMSDict[smsMatch][expID][dsID] = {txID : smsLabel}\n",
    "                    "
   ]
  },
  {
   "cell_type": "code",
   "execution_count": null,
   "metadata": {},
   "outputs": [],
   "source": [
    "len(uniqueSMSDict),len(allSMS)"
   ]
  },
  {
   "cell_type": "code",
   "execution_count": null,
   "metadata": {},
   "outputs": [],
   "source": [
    "len(databaseSMSDict)"
   ]
  },
  {
   "cell_type": "code",
   "execution_count": null,
   "metadata": {},
   "outputs": [],
   "source": [
    "for sms in list(uniqueSMSDict.keys())[:3]:\n",
    "    print(sms)\n",
    "    anaList = list(uniqueSMSDict[sms].keys())\n",
    "    txList = set([])\n",
    "    for anaID in uniqueSMSDict[sms]:\n",
    "        for dataID in uniqueSMSDict[sms][anaID]:\n",
    "            for txID in uniqueSMSDict[sms][anaID][dataID]:\n",
    "                txList.add(txID)\n",
    "    print('\\t %i analyses, %i txnames' %(len(anaList),len(txList)))\n",
    "    print('\\t Txnames = ',txList)\n",
    "    print('\\t Analyses = ',anaList)\n",
    "    print('\\n')"
   ]
  }
 ],
 "metadata": {
  "kernelspec": {
   "display_name": "Python 3.10.4 64-bit",
   "language": "python",
   "name": "python3"
  },
  "language_info": {
   "codemirror_mode": {
    "name": "ipython",
    "version": 3
   },
   "file_extension": ".py",
   "mimetype": "text/x-python",
   "name": "python",
   "nbconvert_exporter": "python",
   "pygments_lexer": "ipython3",
   "version": "3.10.4"
  },
  "vscode": {
   "interpreter": {
    "hash": "e7370f93d1d0cde622a1f8e1c04877d8463912d04d973331ad4851f04de6915a"
   }
  }
 },
 "nbformat": 4,
 "nbformat_minor": 2
}
