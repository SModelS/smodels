{
 "cells": [
  {
   "cell_type": "code",
   "execution_count": 1,
   "metadata": {},
   "outputs": [],
   "source": [
    "import sys,os,copy,glob\n",
    "import numpy as np\n",
    "import matplotlib.pyplot as plt\n",
    "import seaborn as sns\n",
    "from scipy import stats,integrate,optimize,special\n",
    "sns.set_style('ticks',{'font.family':'Times New Roman', 'font.serif':'Times New Roman'})\n",
    "sns.set_context('paper', font_scale=2.0)\n",
    "sns.set_palette(sns.color_palette(\"Paired\"))"
   ]
  },
  {
   "cell_type": "markdown",
   "metadata": {},
   "source": [
    "### Define number of observed, expected and observed events for separate data taking periods"
   ]
  },
  {
   "cell_type": "code",
   "execution_count": 2,
   "metadata": {},
   "outputs": [],
   "source": [
    "#nlay6p (numbers refer to the 2017, 2018A and 2018B periods)\n",
    "nobsList = np.array([6,2,1])\n",
    "nExpList = np.array([6.7,1.8,5.7])\n",
    "nExpErrList = np.array([np.sqrt(1.1**2 + 0.7**2),np.sqrt(0.6**2+0.2**2),np.sqrt(1.2**2+0.6**2)])\n",
    "lumiList = np.array([41.5,21.1,38.6]) #keep the ratio of signals fixed according to the lumi\n",
    "effList = np.array([(2*11.147e-3+4.5*12.4e-3)/(2+4.5), (2*8e-3+4.5*8.75e-3)/(2+4.5), \n",
    "                    (2*6.37e-3+4.5*7.46e-3)/(2+4.5)])"
   ]
  },
  {
   "cell_type": "markdown",
   "metadata": {},
   "source": [
    "### Compute exact  likelihood"
   ]
  },
  {
   "cell_type": "code",
   "execution_count": 3,
   "metadata": {},
   "outputs": [],
   "source": [
    "def likelihood(mu,nsig,nExp,nExpErr,nobs):\n",
    "    \"\"\"Marginalized likelihood for mu\"\"\"\n",
    "    \n",
    "    def integrand(nbg):\n",
    "        nTot = nbg + mu*nsig\n",
    "        nErr = nExpErr\n",
    "        p = stats.poisson.pmf(k=int(nobs),mu=nTot)*stats.norm.pdf(x=nbg,loc=nExp,scale=nErr)\n",
    "        return p\n",
    "        \n",
    "    #Marginalize over the background uncertainty\n",
    "    result = integrate.quad(integrand, 0, max(2*(nobs-nExp),nExp+5*nExpErr))\n",
    "    \n",
    "    return result[0]\n",
    "\n",
    "def p(mu,nsig,nExp,nExpErr,nobs):\n",
    "    \"\"\"Integral of the likelihood from zero to mu\"\"\"\n",
    "    \n",
    "    result = integrate.quad(likelihood, 0, mu,args=(nsig,nExp,nExpErr,nobs,))\n",
    "    return result[0]\n",
    "\n",
    "def likelihoodTot(mu,nsigList,nExpList,nExpErrList,nobsList):\n",
    "    \"\"\"Compute the total likeghood as product of each individual (marginalized) likelihood\"\"\"\n",
    "    \n",
    "    ltot = 1.0\n",
    "    for i,nsig in enumerate(nsigList):\n",
    "        nExp = nExpList[i]\n",
    "        nExpErr = nExpErrList[i]\n",
    "        nobs = int(nobsList[i])\n",
    "        ltot *= likelihood(mu,nsig,nExp,nExpErr,nobs)\n",
    "    return ltot\n",
    "\n",
    "def pTot(mu,nsigList,nExpList,nExpErrList,nobsList):\n",
    "    \"\"\"Integral of the likelihood from zero to mu\"\"\"\n",
    "    \n",
    "    result = integrate.quad(likelihoodTot, 0, mu,args=(nsigList,nExpList,nExpErrList,nobsList,))\n",
    "    return result[0]"
   ]
  },
  {
   "cell_type": "markdown",
   "metadata": {},
   "source": [
    "### Compute observed and expected upper limits for each data taking period"
   ]
  },
  {
   "cell_type": "code",
   "execution_count": 4,
   "metadata": {},
   "outputs": [
    {
     "name": "stdout",
     "output_type": "stream",
     "text": [
      "Nsig < 16.56, Nsig (expected) < 16.56\n",
      "Nsig < 24.31, Nsig (expected) < 19.02\n",
      "Nsig < 9.28, Nsig (expected) < 16.90\n"
     ]
    }
   ],
   "source": [
    "for i,nobs in enumerate(nobsList):\n",
    "    lumi = lumiList[i]\n",
    "    nsig = 1\n",
    "    nExp = nExpList[i]\n",
    "    nExpErr = nExpErrList[i]\n",
    "    norm = p(20.0,nsig,nExp,nExpErr,nobs)\n",
    "    ULobs = optimize.brentq(lambda x: p(x,nsig,nExp,nExpErr,nobs)/norm - 0.95,\n",
    "                        0,20.0)\n",
    "\n",
    "    normExp = p(20.0,nsig,nExp,nExpErr,nExp)\n",
    "    ULexp = optimize.brentq(lambda x: p(x,nsig,nExp,nExpErr,int(nExp))/normExp - 0.95,\n",
    "                        0,20.0)\n",
    "    \n",
    "    #In this case ULobs, ULexp refer to the total number of events in each period,\n",
    "    #rescale by the corresponding limit for the full lumi (for later comparison):\n",
    "    print(r'Nsig < %1.2f, Nsig (expected) < %1.2f' %(ULobs*sum(lumiList)/lumi,ULexp*sum(lumiList)/lumi)) "
   ]
  },
  {
   "cell_type": "markdown",
   "metadata": {},
   "source": [
    "### Compute observed and expected upper limits using the combined likelihood"
   ]
  },
  {
   "cell_type": "code",
   "execution_count": 5,
   "metadata": {},
   "outputs": [],
   "source": [
    "nsigList = effList*lumiList\n",
    "\n",
    "norm = pTot(30.0,nsigList,nExpList,nExpErrList,nobsList)\n",
    "ULobs = optimize.brentq(lambda x: pTot(x,nsigList,nExpList,nExpErrList,nobsList)/norm - 0.95,\n",
    "                        0,30.0)\n",
    "\n",
    "normExp = pTot(30.0,nsigList,nExpList,nExpErrList,nExpList)\n",
    "ULexp = optimize.brentq(lambda x: pTot(x,nsigList,nExpList,nExpErrList,nExpList)/normExp - 0.95,\n",
    "                        0,30.0)"
   ]
  },
  {
   "cell_type": "code",
   "execution_count": 6,
   "metadata": {},
   "outputs": [
    {
     "name": "stdout",
     "output_type": "stream",
     "text": [
      "Nsig < 6.85, Nsig (expected) < 8.12\n"
     ]
    }
   ],
   "source": [
    "#In this case ULobs, ULexp refer to the total production cross-section\n",
    "#Compute the limit on the total number of signal events (summed over the 3 periods):\n",
    "print(r'Nsig < %1.2f, Nsig (expected) < %1.2f'\n",
    "     %(ULobs*sum(nsigList),ULexp*sum(nsigList)))"
   ]
  },
  {
   "cell_type": "markdown",
   "metadata": {},
   "source": [
    "### Compute limit for combined data"
   ]
  },
  {
   "cell_type": "code",
   "execution_count": 7,
   "metadata": {},
   "outputs": [],
   "source": [
    "#nlay6p:\n",
    "nobs = nobsList.sum()\n",
    "nExp = nExpList.sum()\n",
    "nExpErr = np.sqrt(sum(nExpErrList**2))\n",
    "nsig = 1 #keep at 1 to get result in number of events"
   ]
  },
  {
   "cell_type": "code",
   "execution_count": 8,
   "metadata": {},
   "outputs": [],
   "source": [
    "norm = p(30.0,nsig,nExp,nExpErr,nobs)\n",
    "ULobs = optimize.brentq(lambda x: p(x,nsig,nExp,nExpErr,nobs)/norm - 0.95,\n",
    "                        0,30.0)\n",
    "\n",
    "normExp = p(30.0,nsig,nExp,nExpErr,nExp)\n",
    "ULexp = optimize.brentq(lambda x: p(x,nsig,nExp,nExpErr,nExp)/normExp - 0.95,\n",
    "                        0,30.0)"
   ]
  },
  {
   "cell_type": "code",
   "execution_count": 9,
   "metadata": {},
   "outputs": [
    {
     "name": "stdout",
     "output_type": "stream",
     "text": [
      "Nsig < 6.36, Nsig (expected) < 9.83\n"
     ]
    }
   ],
   "source": [
    "#In this case ULobs, ULexp refer to the total number of events\n",
    "#for the combined data:\n",
    "print(r'Nsig < %1.2f, Nsig (expected) < %1.2f'\n",
    "     %(ULobs,ULexp))"
   ]
  },
  {
   "cell_type": "code",
   "execution_count": null,
   "metadata": {},
   "outputs": [],
   "source": []
  }
 ],
 "metadata": {
  "kernelspec": {
   "display_name": "Python 3",
   "language": "python",
   "name": "python3"
  },
  "language_info": {
   "codemirror_mode": {
    "name": "ipython",
    "version": 3
   },
   "file_extension": ".py",
   "mimetype": "text/x-python",
   "name": "python",
   "nbconvert_exporter": "python",
   "pygments_lexer": "ipython3",
   "version": "3.8.6"
  }
 },
 "nbformat": 4,
 "nbformat_minor": 4
}
