{
 "cells": [
  {
   "cell_type": "code",
   "execution_count": 1,
   "metadata": {},
   "outputs": [],
   "source": [
    "import numpy as np\n",
    "import glob\n",
    "from io import StringIO"
   ]
  },
  {
   "cell_type": "markdown",
   "metadata": {},
   "source": [
    "### Compute effective efficiency"
   ]
  },
  {
   "cell_type": "code",
   "execution_count": 2,
   "metadata": {},
   "outputs": [],
   "source": [
    "SRs = [\"nlay4\",\"nlay5\",\"nlay6p\"]\n",
    "dataPeriods = [\"2017\",\"2018A\",\"2018B\"]\n",
    "lumis = {\"2017\": 41.5, \"2018A\" : 21.1, \"2018B\" : 38.6}"
   ]
  },
  {
   "cell_type": "code",
   "execution_count": 3,
   "metadata": {},
   "outputs": [],
   "source": [
    "#epsilon_eff = (L2017*epsilon2017 + L2018A*epsilon2018A + L2018B*epsilon2018B)/(L2017+L2018A+L2017B)\n",
    "txname = 'TDTM1F'\n",
    "for sr in SRs:\n",
    "    effTotal = None\n",
    "    for dp in dataPeriods:\n",
    "        eff = np.genfromtxt(\"%s_SR_%s_%s.csv\" %(txname,dp,sr),delimiter=',',names=True)\n",
    "        colLabel = [v for i,v in enumerate(eff.dtype.names) if 'lay' in v][0]\n",
    "        eff[colLabel] = (lumis[dp]/sum(lumis.values()))*eff[colLabel] #reweight by luminosity\n",
    "        if effTotal is None:\n",
    "            effTotal = eff\n",
    "        else:\n",
    "            effTotal[colLabel] += eff[colLabel]\n",
    "    header = ','.join(effTotal.dtype.names)\n",
    "    np.savetxt('TDTM1F_SR_%s_combined.csv' %sr,effTotal,header=header,delimiter=',',fmt='%1.5e')"
   ]
  },
  {
   "cell_type": "code",
   "execution_count": 4,
   "metadata": {},
   "outputs": [],
   "source": [
    "#epsilon_eff = (L2017*epsilon2017 + L2018A*epsilon2018A + L2018B*epsilon2018B)/(L2017+L2018A+L2017B)\n",
    "txname = 'TDTM2F'\n",
    "for sr in SRs:\n",
    "    effTotal = None\n",
    "    for dp in dataPeriods:\n",
    "        eff = np.genfromtxt(\"%s_SR_%s_%s.csv\" %(txname,dp,sr),delimiter=',',names=True)\n",
    "        colLabel = [v for i,v in enumerate(eff.dtype.names) if 'lay' in v][0]\n",
    "        eff[colLabel] = (lumis[dp]/sum(lumis.values()))*eff[colLabel] #reweight by luminosity\n",
    "        if effTotal is None:\n",
    "            effTotal = eff\n",
    "        else:\n",
    "            effTotal[colLabel] += eff[colLabel]\n",
    "    header = ','.join(effTotal.dtype.names)\n",
    "    np.savetxt('TDTM2F_SR_%s_combined.csv' %sr,effTotal,header=header,delimiter=',',fmt='%1.5e')"
   ]
  },
  {
   "cell_type": "code",
   "execution_count": null,
   "metadata": {},
   "outputs": [],
   "source": []
  }
 ],
 "metadata": {
  "kernelspec": {
   "display_name": "Python 3",
   "language": "python",
   "name": "python3"
  },
  "language_info": {
   "codemirror_mode": {
    "name": "ipython",
    "version": 3
   },
   "file_extension": ".py",
   "mimetype": "text/x-python",
   "name": "python",
   "nbconvert_exporter": "python",
   "pygments_lexer": "ipython3",
   "version": "3.8.6"
  }
 },
 "nbformat": 4,
 "nbformat_minor": 4
}
