{
 "cells": [
  {
   "cell_type": "markdown",
   "metadata": {},
   "source": [
    "### Import the plot creator"
   ]
  },
  {
   "cell_type": "code",
   "execution_count": 1,
   "metadata": {},
   "outputs": [],
   "source": [
    "# Set up the path to SModelS installation folder\n",
    "import sys,os\n",
    "sys.path.append(\".\")\n",
    "\n",
    "import smodels_paths\n",
    "from smodels.tools.interactivePlots import Plotter\n",
    "from smodels.installation import installDirectory"
   ]
  },
  {
   "cell_type": "markdown",
   "metadata": {},
   "source": [
    "### Define the input folders, the parameters file and where to store the plots"
   ]
  },
  {
   "cell_type": "code",
   "execution_count": 2,
   "metadata": {},
   "outputs": [],
   "source": [
    "smodelsOutput = './inputFiles/scanExample/smodels-output.tar.gz'\n",
    "slhaFiles = './inputFiles/scanExample/slhas.tar.gz'\n",
    "parameters = './iplots_parameters.py'\n",
    "indexfile = 'main.html'\n",
    "modelfile=f'{installDirectory()}/smodels/share/models/mssm.py'\n",
    "outputFolder = './'\n",
    "npoints = -1 #If negative will use all the points in the folders"
   ]
  },
  {
   "cell_type": "markdown",
   "metadata": {},
   "source": [
    "### Create plots"
   ]
  },
  {
   "cell_type": "code",
   "execution_count": 3,
   "metadata": {},
   "outputs": [],
   "source": [
    "plotter = Plotter(smodelsOutput,slhaFiles,parameters,modelfile)\n",
    "loadData = plotter.loadData(npoints)\n",
    "plotter.plot(outputFolder,indexfile)"
   ]
  },
  {
   "cell_type": "markdown",
   "metadata": {},
   "source": [
    "### Display the output"
   ]
  },
  {
   "cell_type": "code",
   "execution_count": 4,
   "metadata": {},
   "outputs": [
    {
     "data": {
      "text/html": [
       "<html><head><font size=6>SModelS interactive plots: interactive plot example from a small pMSSM scan</font></head><p><strong>Analysis</strong>: Experimental analysis that the highest r-value comes from. <br><a href=Analysis_excluded.html>excluded</a> <a href=Analysis_non-excluded.html>non-excluded</a> <a href=Analysis_all.html>all</a> </p><p><strong>r<sub>max</sub></strong>: highest r-value from SModelS. <br><a href=r_max_excluded.html>excluded</a> <a href=r_max_non-excluded.html>non-excluded</a> <a href=r_max_all.html>all</a> </p>"
      ],
      "text/plain": [
       "<IPython.core.display.HTML object>"
      ]
     },
     "metadata": {},
     "output_type": "display_data"
    }
   ],
   "source": [
    "plotter.display()"
   ]
  }
 ],
 "metadata": {
  "kernelspec": {
   "display_name": "Python 3 (ipykernel)",
   "language": "python",
   "name": "python3"
  },
  "language_info": {
   "codemirror_mode": {
    "name": "ipython",
    "version": 3
   },
   "file_extension": ".py",
   "mimetype": "text/x-python",
   "name": "python",
   "nbconvert_exporter": "python",
   "pygments_lexer": "ipython3",
   "version": "3.9.7"
  }
 },
 "nbformat": 4,
 "nbformat_minor": 4
}
