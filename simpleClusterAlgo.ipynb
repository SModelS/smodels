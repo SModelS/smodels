{
 "cells": [
  {
   "cell_type": "code",
   "execution_count": 55,
   "metadata": {},
   "outputs": [],
   "source": [
    "import numpy as np"
   ]
  },
  {
   "cell_type": "code",
   "execution_count": 56,
   "metadata": {},
   "outputs": [],
   "source": [
    "class SMSCluster(object):\n",
    "\n",
    "    def __init__(self,smsList = []):\n",
    "    \n",
    "        self.smsList = smsList[:]\n",
    "        self.smsAverage = np.mean(self.smsList)\n",
    "\n",
    "\n",
    "def mergeClusters(clusterList):\n",
    "\n",
    "    smsList = []\n",
    "    for cluster in clusterList:\n",
    "        smsList += cluster.smsList\n",
    "    newCluster = SMSCluster(smsList)\n",
    "\n",
    "    return newCluster\n",
    "\n",
    "def relativeDistance(clusterA,clusterB):\n",
    "\n",
    "    d = np.abs(clusterA.smsAverage-clusterB.smsAverage)/(clusterA.smsAverage+clusterB.smsAverage)\n",
    "    return d\n"
   ]
  },
  {
   "cell_type": "code",
   "execution_count": 57,
   "metadata": {},
   "outputs": [
    {
     "name": "stdout",
     "output_type": "stream",
     "text": [
      "[0.19446416 0.85894084 0.47640477 0.24452337 0.56653395]\n"
     ]
    }
   ],
   "source": [
    "maxDist = 0.2\n",
    "smsList = np.random.uniform(0.,1.0,5)\n",
    "print(smsList)"
   ]
  },
  {
   "cell_type": "code",
   "execution_count": 58,
   "metadata": {},
   "outputs": [
    {
     "name": "stdout",
     "output_type": "stream",
     "text": [
      "3 final clusters\n",
      "Cluster 0: [0.1944641648147183, 0.24452336765072702]\n",
      "Cluster 1: [0.4764047685103777, 0.5665339467918725]\n",
      "Cluster 2: [0.8589408433031079]\n",
      "Final Matrix: [[0.         0.45675357 0.63078937]\n",
      " [0.45675357 0.         0.28646971]\n",
      " [0.63078937 0.28646971 0.        ]]\n"
     ]
    }
   ],
   "source": [
    "clusterList = [SMSCluster([sms]) for sms in sorted(smsList)]\n",
    "# Compute the distance matrix for the clusters:\n",
    "dMatrix = np.full((len(clusterList),len(clusterList)),fill_value=0.0)\n",
    "for iA,clusterA in enumerate(clusterList):\n",
    "    for iB,clusterB in enumerate(clusterList):\n",
    "        if iA >= iB: continue\n",
    "        dMatrix[iA,iB] = relativeDistance(clusterA,clusterB)\n",
    "        dMatrix[iB,iA] = dMatrix[iA,iB] # the matrix is symmetric\n",
    "minDist = min([d for d in dMatrix.flatten() if d > 0.])\n",
    "# Merge closest cluster up to the point no more merges are possible:\n",
    "while minDist < maxDist:\n",
    "    # Get indices of first pair of clusters with minimum distance\n",
    "    mergeIndices = np.argwhere(dMatrix == minDist)[0]\n",
    "    # Merge clusters with indices in mergeIndices\n",
    "    newCluster = mergeClusters(np.take(clusterList,mergeIndices))\n",
    "    # If new cluster is valid (average is close to original clusters)\n",
    "    # keep it. Otherwise go back to original clusters, but set\n",
    "    # their distance above maxDist, so they will no longer be merged\n",
    "    if True:\n",
    "        # Update cluster list:\n",
    "        # Remove cluster with largest index\n",
    "        # and replace cluster with smallest index by new cluster\n",
    "        delete_index = max(mergeIndices)\n",
    "        replace_index = min(mergeIndices)\n",
    "        clusterList.pop(delete_index)\n",
    "        clusterList[replace_index] = newCluster \n",
    "        # Remove row and column for cluster with largest index\n",
    "        dMatrix = np.delete(dMatrix,delete_index,0)\n",
    "        dMatrix = np.delete(dMatrix,delete_index,1)\n",
    "        # Compute the distances between the new cluster and all the\n",
    "        # other ones.\n",
    "        # Recompute distances using the new cluster:\n",
    "        for iA,clusterA in enumerate(clusterList):\n",
    "            if iA >= replace_index: continue\n",
    "            dMatrix[iA,replace_index] = relativeDistance(clusterA,newCluster)\n",
    "            dMatrix[replace_index,iA] = dMatrix[iA,replace_index] # the matrix is symmetric\n",
    "    else:\n",
    "        dMatrix[mergeIndices] = 2*maxDist\n",
    "        dMatrix[np.flip(mergeIndices)] = 2*maxDist\n",
    "\n",
    "    minDist = min([d for d in dMatrix.flatten() if d > 0.])\n",
    "        \n",
    "print(f'{len(clusterList)} final clusters')\n",
    "for ic,c in enumerate(clusterList):\n",
    "\n",
    "    print(f'Cluster {ic}: {c.smsList}')\n",
    "\n",
    "print('Final Matrix:',dMatrix)"
   ]
  }
 ],
 "metadata": {
  "kernelspec": {
   "display_name": "Python 3",
   "language": "python",
   "name": "python3"
  },
  "language_info": {
   "codemirror_mode": {
    "name": "ipython",
    "version": 3
   },
   "file_extension": ".py",
   "mimetype": "text/x-python",
   "name": "python",
   "nbconvert_exporter": "python",
   "pygments_lexer": "ipython3",
   "version": "3.12.3"
  }
 },
 "nbformat": 4,
 "nbformat_minor": 2
}
