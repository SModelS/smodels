{
 "cells": [
  {
   "cell_type": "code",
   "execution_count": 1,
   "metadata": {},
   "outputs": [],
   "source": [
    "from smodels.theory import branch,element,particle,model\n",
    "from smodels.experiment.databaseObj import Database\n",
    "from smodels.share.models import mssm\n",
    "from smodels.experiment.finalStateParticles import finalStates\n",
    "from smodels.particlesLoader import BSMList\n",
    "from smodels.share.models.SMparticles import SMList\n",
    "from smodels.theory.auxiliaryFunctions import index_bisect, simParticles\n",
    "import numpy as np\n",
    "import sys,time"
   ]
  },
  {
   "cell_type": "code",
   "execution_count": 2,
   "metadata": {},
   "outputs": [],
   "source": [
    "slhafile = 'inputFiles/slha/lightEWinos.slha'\n",
    "bsmModel = model.Model(inputFile=slhafile, BSMparticles=BSMList, SMparticles=SMList)\n",
    "bsmModel.updateParticles()\n",
    "\n",
    "BSMparticles = bsmModel.BSMparticles\n",
    "SMparticles = bsmModel.SMparticles\n",
    "fStates = finalStates.SMparticles"
   ]
  },
  {
   "cell_type": "code",
   "execution_count": 3,
   "metadata": {},
   "outputs": [],
   "source": [
    "allParticles = []\n",
    "for p in SMparticles+BSMparticles+fStates:\n",
    "    if any(p is pB for pB in allParticles):\n",
    "        continue\n",
    "    allParticles.append(p)\n",
    "allParticles = sorted(allParticles, key = lambda p: p.label)"
   ]
  },
  {
   "cell_type": "code",
   "execution_count": 4,
   "metadata": {},
   "outputs": [
    {
     "name": "stdout",
     "output_type": "stream",
     "text": [
      "W- 140057346708312 [140057346708312] []\n",
      "W+ 140057346688000 [140057346688000] []\n",
      "-1\n",
      "1\n",
      "False\n",
      "140057346708312 140057346688000\n",
      "[140057346708312]\n",
      "[140057346688000]\n"
     ]
    }
   ],
   "source": [
    "Wm = allParticles[33]\n",
    "Wp = allParticles[32]\n",
    "print(Wm,id(Wm),Wm._equals,Wm._differs)\n",
    "print(Wp,id(Wp),Wp._equals,Wp._differs)\n",
    "print(Wm.cmpProperties(Wp))\n",
    "print(Wm.__cmp__(Wp))\n",
    "print(Wm == Wp)\n",
    "print(id(Wm),id(Wp))\n",
    "print(Wm._equals)\n",
    "print(Wm._differs)"
   ]
  },
  {
   "cell_type": "code",
   "execution_count": 5,
   "metadata": {},
   "outputs": [
    {
     "name": "stdout",
     "output_type": "stream",
     "text": [
      "[140057346708312, 10]\n"
     ]
    }
   ],
   "source": [
    "Wm._equals.append(10)\n",
    "print(Wm._equals)"
   ]
  },
  {
   "cell_type": "code",
   "execution_count": 6,
   "metadata": {},
   "outputs": [
    {
     "name": "stdout",
     "output_type": "stream",
     "text": [
      "W- 140057346449304\n",
      "[140057346449304] []\n"
     ]
    }
   ],
   "source": [
    "x = Wp.chargeConjugate()\n",
    "print(x,id(x))\n",
    "print(x._equals,x._differs)"
   ]
  },
  {
   "cell_type": "code",
   "execution_count": 7,
   "metadata": {},
   "outputs": [
    {
     "name": "stdout",
     "output_type": "stream",
     "text": [
      "<class 'smodels.theory.particle.Particle'>\n"
     ]
    }
   ],
   "source": [
    "print(type(Wp))"
   ]
  },
  {
   "cell_type": "code",
   "execution_count": 8,
   "metadata": {},
   "outputs": [],
   "source": [
    "x.label = x.label[:-1]"
   ]
  },
  {
   "cell_type": "code",
   "execution_count": 9,
   "metadata": {},
   "outputs": [
    {
     "name": "stdout",
     "output_type": "stream",
     "text": [
      "W\n"
     ]
    }
   ],
   "source": [
    "print(x.label[:-1])"
   ]
  },
  {
   "cell_type": "code",
   "execution_count": null,
   "metadata": {},
   "outputs": [],
   "source": []
  }
 ],
 "metadata": {
  "kernelspec": {
   "display_name": "Python 3",
   "language": "python",
   "name": "python3"
  },
  "language_info": {
   "codemirror_mode": {
    "name": "ipython",
    "version": 3
   },
   "file_extension": ".py",
   "mimetype": "text/x-python",
   "name": "python",
   "nbconvert_exporter": "python",
   "pygments_lexer": "ipython3",
   "version": "3.6.3"
  }
 },
 "nbformat": 4,
 "nbformat_minor": 2
}
