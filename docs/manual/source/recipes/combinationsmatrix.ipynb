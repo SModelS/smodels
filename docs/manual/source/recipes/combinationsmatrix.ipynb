{
 "cells": [
  {
   "cell_type": "markdown",
   "metadata": {},
   "source": [
    "# How To: Use a combinations matrix to keep track of combinabilities"
   ]
  },
  {
   "cell_type": "markdown",
   "metadata": {},
   "source": [
    "## Preparations"
   ]
  },
  {
   "cell_type": "code",
   "execution_count": 1,
   "metadata": {},
   "outputs": [],
   "source": [
    "# Set up the path to SModelS installation folder\n",
    "import sys; sys.path.append(\".\"); import smodels_paths"
   ]
  },
  {
   "cell_type": "code",
   "execution_count": 2,
   "metadata": {},
   "outputs": [],
   "source": [
    "# Import those parts of smodels that are needed for this exercise\n",
    "from smodels.tools.physicsUnits import GeV\n",
    "from smodels.experiment.databaseObj import Database\n",
    "from smodels.theory.theoryPrediction import theoryPredictionsFor, TheoryPredictionsCombiner\n",
    "from smodels.theory import decomposer\n",
    "from smodels.particlesLoader import BSMList\n",
    "from smodels.share.models.SMparticles import SMList\n",
    "from smodels.theory.model import Model"
   ]
  },
  {
   "cell_type": "code",
   "execution_count": 15,
   "metadata": {},
   "outputs": [],
   "source": [
    "# a combinations matrix is just a dictionary with combinable analyses as both keys and values.\n",
    "# we assume \"commutativity\"! (if A is combinable with B, then B is combinable with A)\n",
    "combinationsmatrix = { \"CMS-SUS-21-002\": [ \"CMS-SUS-19-006-agg\", \"CMS-EXO-19-006\"]} \n",
    "# also define a list of analyses we are interested in\n",
    "analyses = [ \"CMS-SUS-21-002\", \"CMS-SUS-19-006-agg\", \"CMS-SUS-20-004\"]"
   ]
  },
  {
   "attachments": {},
   "cell_type": "markdown",
   "metadata": {},
   "source": [
    "here is a visualisation of the combinations matrix (dropping the -agg suffix):"
   ]
  },
  {
   "attachments": {
    "matrix.png": {
     "image/png": "[encoded data removed]"
    }
   },
   "cell_type": "markdown",
   "metadata": {},
   "source": [
    "![matrix.png](attachment:matrix.png)"
   ]
  },
  {
   "cell_type": "code",
   "execution_count": 13,
   "metadata": {},
   "outputs": [
    {
     "name": "stdout",
     "output_type": "stream",
     "text": [
      "we have selected 3 results\n"
     ]
    }
   ],
   "source": [
    "## Load the official database:\n",
    "db = Database(\"https://smodels.github.io/database/official230\", combinationsmatrix=combinationsmatrix)\n",
    "results = db.getExpResults(analysisIDs=analyses, dataTypes = [ \"efficiencyMap\"])\n",
    "print ( f\"we have selected {len(results)} results\" )"
   ]
  },
  {
   "cell_type": "code",
   "execution_count": 5,
   "metadata": {},
   "outputs": [],
   "source": [
    "# the theory we will be using\n",
    "inputFile = \"inputFiles/slha/gluino_squarks.slha\""
   ]
  },
  {
   "cell_type": "code",
   "execution_count": 6,
   "metadata": {},
   "outputs": [],
   "source": [
    "# prepare the model\n",
    "model = Model(BSMparticles=BSMList, SMparticles=SMList)\n",
    "model.updateParticles(inputFile=inputFile)\n",
    "# obtain the decomposed model\n",
    "toplist = decomposer.decompose(model)"
   ]
  },
  {
   "cell_type": "markdown",
   "metadata": {},
   "source": [
    "## run SModelS"
   ]
  },
  {
   "cell_type": "code",
   "execution_count": 7,
   "metadata": {},
   "outputs": [],
   "source": [
    "# get the predictions\n",
    "predictions = list ( theoryPredictionsFor(results, toplist, combinedResults=False ) )"
   ]
  },
  {
   "cell_type": "code",
   "execution_count": 8,
   "metadata": {},
   "outputs": [
    {
     "data": {
      "text/plain": [
       "[('CMS-SUS-19-006-agg', 1.229),\n",
       " ('CMS-SUS-20-004', 0.002),\n",
       " ('CMS-SUS-21-002', 0.077)]"
      ]
     },
     "execution_count": 8,
     "metadata": {},
     "output_type": "execute_result"
    }
   ],
   "source": [
    "# let's have a quick look at the predictions, and the (expected) r-values\n",
    "[ (x.dataset.globalInfo.id, round(x.getRValue(expected=True),3)) for x in predictions ]"
   ]
  },
  {
   "cell_type": "code",
   "execution_count": 9,
   "metadata": {},
   "outputs": [
    {
     "name": "stdout",
     "output_type": "stream",
     "text": [
      "can I combine CMS-SUS-19-006-agg with CMS-SUS-20-004? no\n",
      "can I combine CMS-SUS-19-006-agg with CMS-SUS-21-002? yes\n",
      "can I combine CMS-SUS-20-004 with CMS-SUS-21-002? no\n"
     ]
    }
   ],
   "source": [
    "for i,pr1 in enumerate(predictions[:-1]):\n",
    "    id1 = pr1.dataset.globalInfo.id\n",
    "    for pr2 in predictions[i+1:]:\n",
    "        id2 = pr2.dataset.globalInfo.id\n",
    "        combinable = pr1.dataset.isCombinableWith(pr2.dataset)\n",
    "        print ( f\"can I combine {id1} with {id2}? {'yes' if combinable else 'no'}\" )"
   ]
  },
  {
   "cell_type": "code",
   "execution_count": 10,
   "metadata": {},
   "outputs": [],
   "source": [
    "# lets make a dictionary with the analysis ids as keys\n",
    "d = { x.dataset.globalInfo.id:x for x in predictions }"
   ]
  },
  {
   "cell_type": "markdown",
   "metadata": {},
   "source": [
    "## combine!"
   ]
  },
  {
   "cell_type": "code",
   "execution_count": 11,
   "metadata": {},
   "outputs": [],
   "source": [
    "# we are allowed to combine CMS-SUS-19-006 with CMS-SUS-21-002\n",
    "combiner = TheoryPredictionsCombiner ( [ d[x] for x in ( \"CMS-SUS-19-006-agg\", \"CMS-SUS-21-002\")])"
   ]
  },
  {
   "cell_type": "code",
   "execution_count": 12,
   "metadata": {},
   "outputs": [
    {
     "data": {
      "text/plain": [
       "1.242"
      ]
     },
     "execution_count": 12,
     "metadata": {},
     "output_type": "execute_result"
    }
   ],
   "source": [
    "# the combined expected r value must be above the individual expected r-values\n",
    "round(combiner.getRValue(expected=True),3)"
   ]
  }
 ],
 "metadata": {
  "kernelspec": {
   "display_name": "Python 3 (ipykernel)",
   "language": "python",
   "name": "python3"
  },
  "language_info": {
   "codemirror_mode": {
    "name": "ipython",
    "version": 3
   },
   "file_extension": ".py",
   "mimetype": "text/x-python",
   "name": "python",
   "nbconvert_exporter": "python",
   "pygments_lexer": "ipython3",
   "version": "3.11.2"
  }
 },
 "nbformat": 4,
 "nbformat_minor": 1
}
