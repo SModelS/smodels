{
 "cells": [
  {
   "cell_type": "code",
   "execution_count": 11,
   "metadata": {},
   "outputs": [],
   "source": [
    "import sys\n",
    "sys.path.append('../')\n",
    "import networkx as nx\n",
    "import matplotlib.pyplot as plt\n",
    "from networkx.drawing.nx_agraph import graphviz_layout\n",
    "from smodels.theory.element import Element\n",
    "from smodels.particlesLoader import BSMList\n",
    "from smodels.share.models.SMparticles import SMList\n",
    "from smodels.theory.model import Model\n",
    "from smodels.theory.graphTools import treeToBrackets, ParticleNode, drawTree, getTreeRoot\n",
    "from smodels.tools.physicsUnits import fb"
   ]
  },
  {
   "cell_type": "markdown",
   "metadata": {},
   "source": [
    "### Load model"
   ]
  },
  {
   "cell_type": "code",
   "execution_count": 2,
   "metadata": {},
   "outputs": [],
   "source": [
    "slhafile = '../inputFiles/slha/lightEWinos.slha'\n",
    "model = Model(BSMparticles=BSMList, SMparticles=SMList)\n",
    "model.updateParticles(inputFile=slhafile)\n"
   ]
  },
  {
   "cell_type": "markdown",
   "metadata": {},
   "source": [
    "### Create node with primary particle"
   ]
  },
  {
   "cell_type": "code",
   "execution_count": 3,
   "metadata": {},
   "outputs": [],
   "source": [
    "c2 = model.getParticlesWith(pdg=1000037)[0]\n",
    "mom = ParticleNode(particle=c2,nodeNumber=1)"
   ]
  },
  {
   "cell_type": "markdown",
   "metadata": {},
   "source": [
    "### Create Tree with primary particle"
   ]
  },
  {
   "cell_type": "code",
   "execution_count": 4,
   "metadata": {},
   "outputs": [
    {
     "data": {
      "image/png": "[encoded data removed]",
      "text/plain": [
       "<Figure size 432x288 with 1 Axes>"
      ]
     },
     "metadata": {},
     "output_type": "display_data"
    }
   ],
   "source": [
    "tree = nx.DiGraph()\n",
    "tree.add_node(mom)\n",
    "drawTree(tree)"
   ]
  },
  {
   "cell_type": "markdown",
   "metadata": {},
   "source": [
    "### Add decay to tree"
   ]
  },
  {
   "cell_type": "code",
   "execution_count": 5,
   "metadata": {},
   "outputs": [],
   "source": [
    "def addDecay(tree,mom,decay):\n",
    "    # Create new tree with decay:\n",
    "    inode = mom.node\n",
    "    for pdg in decay.ids:\n",
    "        inode += 1\n",
    "        ptc = model.getParticlesWith(pdg=pdg)[0]\n",
    "        node = ParticleNode(particle=ptc,nodeNumber=inode)\n",
    "        tree.add_node(node)\n",
    "        tree.add_edge(mom,node)\n",
    "        tree.graph['weight'] *= decay.br \n",
    "        \n",
    "def decayDaughter(tree,daughter):\n",
    "    \n",
    "    newTreeList = []\n",
    "    \n",
    "    if daughter.particle.isStable() or not daughter.particle.decays:\n",
    "        return newTreeList\n",
    "    \n",
    "    for decay in daughter.particle.decays:\n",
    "        if decay is None or not decay.br:\n",
    "            continue # Skip decays with zero BRs\n",
    "        newTree = tree.copy()\n",
    "        addDecay(newTree,daughter,decay)\n",
    "        newTreeList.append(newTree)\n",
    "    \n",
    "    return newTreeList\n",
    "\n",
    "\n",
    "# treeList = [tree]\n",
    "\n",
    "# def cascadeDecay(treeList,sigmacut=0.*fb):\n",
    "    \n",
    "    \n",
    "#     newTreeList = []\n",
    "#     for tree in newTreeList:\n",
    "#         finalStates = [n for n in tree.nodes() if tree.out_degree(n)==0]\n",
    "#         newTrees = []\n",
    "#         # Try to decay all final states\n",
    "#         for fs in finalStates:\n",
    "#             newT = decayDaughter(tree,fs) # Try to decay daughter            \n",
    "#             if not newT:\n",
    "#                 continue\n",
    "#             newTrees += newT\n",
    "        \n",
    "#         if not newTrees: # Tree is already stable\n",
    "#             continue\n",
    "        \n",
    "#         # Keeep decaying tree:\n",
    "#         newTrees = cascadeDecay(newTrees,sigmacut=sigmacut)\n",
    "    \n",
    "#     if not newTrees:\n",
    "#         return False\n",
    "            \n",
    "    \n",
    "#     for mom in primaryMothers:\n",
    "    \n",
    "#         if br.maxWeight.asNumber(fb) < sigcut.asNumber(fb):\n",
    "#             continue\n",
    "\n",
    "#         if br.decayDaughter():\n",
    "#             unstableBranches.append(br)\n",
    "#         else:\n",
    "#             stableBranches.append(br)\n",
    "\n",
    "#     while unstableBranches:\n",
    "#         # Store branches after adding one step cascade decay\n",
    "#         newBranchList = []\n",
    "#         for inbranch in unstableBranches:\n",
    "#             if sigcut.asNumber() > 0. and inbranch.maxWeight.asNumber(fb) < sigcut.asNumber(fb):\n",
    "#                 # Remove the branches above sigcut and with length > topmax\n",
    "#                 continue\n",
    "\n",
    "#             #If None appear amongst the decays, add the possibility for the particle not decaying prompt\n",
    "#             if any(x is None for x in inbranch.oddParticles[-1].decays):\n",
    "#                 stableBranches.append(inbranch)\n",
    "\n",
    "#             # Add all possible decays of the R-odd daughter to the original\n",
    "#             # branch (if any)\n",
    "#             newBranches = inbranch.decayDaughter()\n",
    "#             if newBranches:\n",
    "#                 # New branches were generated, add them for next iteration\n",
    "#                 newBranchList += [br for br in newBranches\n",
    "#                                   if br.maxWeight.asNumber(fb) > sigcut.asNumber(fb)]\n",
    "#             elif inbranch.maxWeight.asNumber(fb) > sigcut.asNumber(fb):\n",
    "#                 stableBranches.append(inbranch)\n",
    "\n",
    "#         # Use new unstable branches (if any) for next iteration step\n",
    "#         unstableBranches = newBranchList        \n",
    "        \n",
    "        \n",
    "        \n",
    "        \n",
    "        \n",
    "\n",
    "# newTrees = addDecayList(tree,mom,c2.decays)"
   ]
  },
  {
   "cell_type": "code",
   "execution_count": null,
   "metadata": {},
   "outputs": [],
   "source": [
    "def cascadeDecay(treeList,sigmacut=0.*fb):\n",
    "    \n",
    "    newTrees = []\n",
    "    for tree in treeList:\n",
    "        # Check is tree is final:\n",
    "        unstableFinalStates = []\n",
    "        for n in tree.nodes():\n",
    "            if tree.out_degree(n)==0:\n",
    "                continue\n",
    "            if n.particle.isStable():\n",
    "                continue\n",
    "            if not n.particle.decays:\n",
    "                continue\n",
    "            \n",
    "            unstableFinalStates.append(n)\n",
    "        \n",
    "        if not unstableFinalStates:\n",
    "            continue\n",
    "        \n",
    "        for fs in unstableFinalStates:\n",
    "            newTrees += decayDaughter(tree,fs)\n",
    "        if not newTrees:\n",
    "            continue\n",
    "        newTrees = cascadeDecay(newTrees,sigmacut=sigmacut)\n",
    "    \n",
    "    return newTrees\n",
    "        "
   ]
  },
  {
   "cell_type": "code",
   "execution_count": null,
   "metadata": {},
   "outputs": [],
   "source": [
    "# tree,daughter -> list of trees -> tree -> getDaughter -> tree,daughter ->..."
   ]
  }
 ],
 "metadata": {
  "kernelspec": {
   "display_name": "Python 3 (ipykernel)",
   "language": "python",
   "name": "python3"
  },
  "language_info": {
   "codemirror_mode": {
    "name": "ipython",
    "version": 3
   },
   "file_extension": ".py",
   "mimetype": "text/x-python",
   "name": "python",
   "nbconvert_exporter": "python",
   "pygments_lexer": "ipython3",
   "version": "3.9.7"
  }
 },
 "nbformat": 4,
 "nbformat_minor": 2
}
