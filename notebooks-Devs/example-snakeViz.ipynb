{
 "cells": [
  {
   "cell_type": "code",
   "execution_count": 1,
   "id": "afcea3e6",
   "metadata": {},
   "outputs": [],
   "source": [
    "import sys\n",
    "sys.path.append('../')\n",
    "from Example import main\n",
    "from smodels.tools.physicsUnits import fb\n",
    "# logger.setLevel('DEBUG')\n",
    "%load_ext snakeviz"
   ]
  },
  {
   "cell_type": "code",
   "execution_count": null,
   "id": "29f37db8",
   "metadata": {},
   "outputs": [
    {
     "name": "stderr",
     "output_type": "stream",
     "text": [
      "INFO in databaseObj.loadBinaryFile() in 503: loading binary db file /home/lessa/.cache/smodels/official300-beta.pcl format version 214\n",
      "INFO in databaseObj.loadBinaryFile() in 510: Loaded database from /home/lessa/.cache/smodels/official300-beta.pcl in 1.6 secs.\n",
      "INFO in model.updateParticles() in 401: Loaded 62 BSM particles\n"
     ]
    },
    {
     "name": "stdout",
     "output_type": "stream",
     "text": [
      "\n",
      " Decomposition done in 0.11m\n",
      "\n",
      " Decomposition Results: \n",
      "\t  Total number of topologies: 30 \n",
      "\t  Total number of elements = 1742 \n",
      "\t\t 110110101000 topology  = \n",
      "\t\t 0-th element  =  (PV > N1,C1-(1)), (C1-(1) > N1~,e-,nu)\n",
      "\t\t\twith final states = [1, 3, 4, 5] \n",
      "\t\t\twith cross section = ['1.30E+01 [TeV]:7.03E-03 [pb] (-1000024, 1000022)', '8.00E+00 [TeV]:4.03E-03 [pb] (-1000024, 1000022)'] \n",
      "\t\t\tand masses =  [None, 6.81E+01 [GeV], 1.34E+02 [GeV], 6.81E+01 [GeV], 5.00E-01 [MeV], 0.00E+00 [MeV]]\n",
      "\n",
      " Loaded Database with 125 UL results and 51 EM results \n",
      "\n",
      " Theory Predictions and Constraints:\n",
      "\n",
      " ATLAS-SUSY-2016-24 \n",
      "------------------------\n",
      "Dataset =  None\n",
      "TxNames =  ['TChiWZ']\n",
      "Theory Prediction =  9.03E-04 [pb]\n",
      "Condition Violation =  None\n",
      "UL for theory prediction =  2.54E+02 [fb]\n",
      "r = 3.552E-03\n",
      "\n",
      " ATLAS-SUSY-2016-24 \n",
      "------------------------\n",
      "Dataset =  WZ-0Jb\n",
      "TxNames =  ['TChiWZ']\n",
      "Theory Prediction =  2.14E-07 [pb]\n",
      "Condition Violation =  None\n",
      "UL for theory prediction =  1.00E-01 [fb]\n",
      "r = 2.142E-03\n",
      "L_BSM, L_SM, L_max = 1.512E-01, 1.519E-01, 1.519E-01\n",
      "\n",
      " ATLAS-SUSY-2017-03 \n",
      "------------------------\n",
      "Dataset =  SR2l_Low\n",
      "TxNames =  ['TChiWZ']\n",
      "Theory Prediction =  1.16E-07 [pb]\n",
      "Condition Violation =  None\n",
      "UL for theory prediction =  6.60E-01 [fb]\n",
      "r = 1.757E-04\n",
      "L_BSM, L_SM, L_max = 2.054E-03, 2.052E-03, 6.268E-03\n",
      "\n",
      " ATLAS-SUSY-2018-06 \n",
      "------------------------\n",
      "Dataset =  None\n",
      "TxNames =  ['TChiWZoff']\n",
      "Theory Prediction =  2.63E+00 [pb]\n",
      "Condition Violation =  [0.0]\n",
      "UL for theory prediction =  3.80E+04 [fb]\n",
      "r = 6.917E-02\n",
      "\n",
      " ATLAS-SUSY-2018-06 \n",
      "------------------------\n",
      "Dataset =  SR_low\n",
      "TxNames =  ['TChiWZ']\n",
      "Theory Prediction =  5.18E-07 [pb]\n",
      "Condition Violation =  None\n",
      "UL for theory prediction =  1.72E-01 [fb]\n",
      "r = 3.013E-03\n",
      "L_BSM, L_SM, L_max = 3.775E-03, 3.757E-03, 4.450E-03\n",
      "\n",
      " ATLAS-SUSY-2019-09 \n",
      "------------------------\n",
      "Dataset =  None\n",
      "TxNames =  ['TChiWZoff']\n",
      "Theory Prediction =  2.63E+00 [pb]\n",
      "Condition Violation =  [0.0]\n",
      "UL for theory prediction =  5.49E+02 [fb]\n",
      "r = 4.783E+00\n",
      "\n",
      " ATLAS-SUSY-2019-09 \n",
      "------------------------\n",
      "Dataset =  SRhigh_0Jf1\n",
      "TxNames =  ['TChiWZoff']\n",
      "Theory Prediction =  3.47E-04 [pb]\n",
      "Condition Violation =  None\n",
      "UL for theory prediction =  1.20E-01 [fb]\n",
      "r = 2.888E+00\n",
      "L_BSM, L_SM, L_max = 2.298E-09, 8.011E-03, 8.158E-03\n",
      "\n",
      " CMS-SUS-16-033 \n",
      "------------------------\n",
      "Dataset =  SR8_Njet5_Nb3_HT500_MHT500\n",
      "TxNames =  ['T1bbbb', 'T1tttt']\n",
      "Theory Prediction =  3.68E-04 [pb]\n",
      "Condition Violation =  None\n",
      "UL for theory prediction =  5.00E-01 [fb]\n",
      "r = 7.366E-01\n",
      "L_BSM, L_SM, L_max = 1.155E-03, 4.413E-03, 4.413E-03\n",
      "\n",
      " CMS-SUS-16-039-agg \n",
      "------------------------\n",
      "Dataset =  AR9\n",
      "TxNames =  ['TChiWZ', 'TChiWZoff']\n",
      "Theory Prediction =  1.32E-05 [pb]\n",
      "Condition Violation =  [0.0]\n",
      "UL for theory prediction =  1.38E+00 [fb]\n",
      "r = 9.551E-03\n",
      "L_BSM, L_SM, L_max = 5.692E-04, 5.476E-04, 1.261E-03\n"
     ]
    }
   ],
   "source": [
    "%%snakeviz --new-tab\n",
    "res = main('../inputFiles/slha/lightEWinos.slha',sigmacut=0.5*fb)"
   ]
  },
  {
   "cell_type": "code",
   "execution_count": null,
   "id": "3dde8223",
   "metadata": {},
   "outputs": [],
   "source": [
    "len(res[0].getSMSList())"
   ]
  },
  {
   "cell_type": "code",
   "execution_count": null,
   "id": "0e119ffa",
   "metadata": {},
   "outputs": [],
   "source": []
  }
 ],
 "metadata": {
  "kernelspec": {
   "display_name": "Python 3 (ipykernel)",
   "language": "python",
   "name": "python3"
  },
  "language_info": {
   "codemirror_mode": {
    "name": "ipython",
    "version": 3
   },
   "file_extension": ".py",
   "mimetype": "text/x-python",
   "name": "python",
   "nbconvert_exporter": "python",
   "pygments_lexer": "ipython3",
   "version": "3.9.7"
  }
 },
 "nbformat": 4,
 "nbformat_minor": 5
}
