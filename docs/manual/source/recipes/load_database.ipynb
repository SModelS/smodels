{
 "cells": [
  {
   "cell_type": "markdown",
   "metadata": {},
   "source": [
    "# How To: Load the database, selecting only a few results."
   ]
  },
  {
   "cell_type": "code",
   "execution_count": 1,
   "metadata": {},
   "outputs": [],
   "source": [
    "#Set up the path to SModelS installation folder if running on a different folder\n",
    "import sys; sys.path.append(\".\"); import smodels_paths"
   ]
  },
  {
   "cell_type": "code",
   "execution_count": 2,
   "metadata": {},
   "outputs": [],
   "source": [
    "from smodels.experiment.databaseObj import Database\n",
    "from smodels.base.physicsUnits import GeV"
   ]
  },
  {
   "cell_type": "code",
   "execution_count": 3,
   "metadata": {},
   "outputs": [],
   "source": [
    "## Load the official database:\n",
    "database = Database(\"official\")"
   ]
  },
  {
   "cell_type": "markdown",
   "metadata": {},
   "source": [
    "## How to select results from one publication (or conference note)"
   ]
  },
  {
   "cell_type": "code",
   "execution_count": 4,
   "metadata": {},
   "outputs": [],
   "source": [
    "#Select only the CMS SUS-12-028 conference note\n",
    "expID=[\"CMS-SUS-12-028\"]"
   ]
  },
  {
   "cell_type": "code",
   "execution_count": 5,
   "metadata": {},
   "outputs": [],
   "source": [
    "#Loads the selected analyses\n",
    "#(The INFO tells you that superseded analyses are not loaded, see below)\n",
    "results = database.getExpResults(analysisIDs=expID)"
   ]
  },
  {
   "cell_type": "code",
   "execution_count": 6,
   "metadata": {},
   "outputs": [
    {
     "name": "stdout",
     "output_type": "stream",
     "text": [
      "CMS-SUS-12-028:(0):T1,T1bbbb,T1tttt,T2,T2bb(5)\n",
      "T1 = {(PV(0) > anyBSM(1),anyBSM(2)), (anyBSM(1) > MET(3),jet(4),jet(5)), (anyBSM(2) > MET(6),jet(7),jet(8))}\n",
      "T1bbbb = {(PV(0) > anyBSM(1),anyBSM(2)), (anyBSM(1) > MET(3),b(4),b(5)), (anyBSM(2) > MET(6),b(7),b(8))}\n",
      "T1tttt = {(PV(0) > anyBSM(1),anyBSM(2)), (anyBSM(1) > MET(3),t(4),t(5)), (anyBSM(2) > MET(6),t(7),t(8))}\n",
      "T2 = {(PV(0) > anyBSM(1),anyBSM(2)), (anyBSM(1) > MET(3),jet(4)), (anyBSM(2) > MET(5),jet(6))}\n",
      "T2bb = {(PV(0) > anyBSM(1),anyBSM(2)), (anyBSM(1) > MET(3),b(4)), (anyBSM(2) > MET(5),b(6))}\n"
     ]
    }
   ],
   "source": [
    "#Print all the results selected:\n",
    "for exp in results:\n",
    "    print (exp)\n",
    "#Print the txnames constrained by the result in bracket notation:\n",
    "exp = results[0]\n",
    "for tx in exp.getTxNames():\n",
    "    print (tx,'=',tx.constraint)"
   ]
  },
  {
   "cell_type": "code",
   "execution_count": 7,
   "metadata": {},
   "outputs": [
    {
     "name": "stdout",
     "output_type": "stream",
     "text": [
      "['globalInfo', 'y_unit', 'origdatasets', 'axesMap', 'validated', 'npoints', 'intermediateState', 'neighbors', 'particles', 'SMparticles', 'totalwidth', 'colordim', 'lastUpdate', 'prettyName', 'contact', 'simplices', 'datasets', 'dataMap', 'path', 'label', 'dimensionality', 'finalState', 'constraint', 'url', 'txName', 'isSM', 'spin', 'full_dimensionality', 'dataUrl', 'Leff_outer', 'Leff_inner', 'smsMap', 'implementedBy', 'nsimplex', 'dataType', 'delta_x', 'supersedes', 'allBSMparticles', 'canonName', 'sqrts', 'txnameList', 'txnameDataExp', 'type', 'condition', 'reweightF', 'lumi', 'dataId', 'min_bound', 'mass', 'pdg', 'private', 'paraboloid_shift', 'conditionDescription', 'publication', 'y_values', 'susyProcess', 'ndim', 'source', 'equations', 'dataInfo', 'coplanar', 'max_bound', 'BSMparticles', 'arxiv', 'id', 'inputFile', 'txnameData', 'eCharge', 'tri', 'good', 'figureUrl', 'furthest_site', 'comment', 'paraboloid_scale']\n"
     ]
    }
   ],
   "source": [
    "#Print ALL info fields available:\n",
    "exp = results[0]\n",
    "print (exp.getAttributes())"
   ]
  },
  {
   "cell_type": "code",
   "execution_count": 8,
   "metadata": {},
   "outputs": [
    {
     "name": "stdout",
     "output_type": "stream",
     "text": [
      "sqrts= [8.00E+00 [TeV]]\n",
      "lumi= [1.17E+01 [1/fb]]\n",
      "dataType= ['upperLimit']\n",
      "txnames= ['T1', 'T1bbbb', 'T1tttt', 'T2', 'T2bb']\n"
     ]
    }
   ],
   "source": [
    "#Print values for some of the info fields (always returned as a list):\n",
    "print ('sqrts=',exp.getValuesFor('sqrts'))\n",
    "print ('lumi=',exp.getValuesFor('lumi'))\n",
    "print ('dataType=',exp.getValuesFor('dataType'))\n",
    "print ('txnames=',exp.getValuesFor('txName'))"
   ]
  },
  {
   "cell_type": "code",
   "execution_count": 9,
   "metadata": {},
   "outputs": [
    {
     "name": "stdout",
     "output_type": "stream",
     "text": [
      "xsection upper limit =  2.11E+03 [fb]\n"
     ]
    }
   ],
   "source": [
    "#To obtain the upper limit for a given mass vector and a given simplified model (txname)\n",
    "#Note that the number of masses in the mass vector must be consitent with the txname.\n",
    "#For the T1 txname, for instance:\n",
    "massesT1 = [[300*GeV,100*GeV],[300*GeV,100*GeV]]\n",
    "print ('xsection upper limit = ',exp.getUpperLimitFor(mass=massesT1,txname='T1'))"
   ]
  },
  {
   "cell_type": "code",
   "execution_count": 10,
   "metadata": {},
   "outputs": [
    {
     "name": "stdout",
     "output_type": "stream",
     "text": [
      "xsection upper limit =  1.07E+03 [fb]\n"
     ]
    }
   ],
   "source": [
    "#For the T2 analysis:\n",
    "massesT2 = [[300*GeV,50*GeV],[300*GeV,50*GeV]]\n",
    "print ('xsection upper limit = ',exp.getUpperLimitFor(mass=massesT2,txname='T2'))"
   ]
  },
  {
   "cell_type": "code",
   "execution_count": 11,
   "metadata": {},
   "outputs": [
    {
     "name": "stdout",
     "output_type": "stream",
     "text": [
      "xsection upper limit =  1.07E+03 [fb]\n"
     ]
    }
   ],
   "source": [
    "#If you try with the wrong mass format, an error will be printed:\n",
    "masses = [[300*GeV,50*GeV],[300*GeV,50*GeV]]\n",
    "print ('xsection upper limit = ',exp.getUpperLimitFor(mass=masses,txname='T2'))"
   ]
  },
  {
   "cell_type": "markdown",
   "metadata": {},
   "source": [
    "## How to load results for one simplified model (txname)"
   ]
  },
  {
   "cell_type": "code",
   "execution_count": 12,
   "metadata": {},
   "outputs": [],
   "source": [
    "#It is also possible to load all the results for a single simplified (using the Txname convention)\n",
    "Txnames = [\"T1\"]\n",
    "T1results = database.getExpResults(txnames=Txnames)"
   ]
  },
  {
   "cell_type": "code",
   "execution_count": 13,
   "metadata": {},
   "outputs": [
    {
     "name": "stdout",
     "output_type": "stream",
     "text": [
      "ATLAS-SUSY-2015-06\n",
      "ATLAS-SUSY-2016-07\n",
      "ATLAS-SUSY-2016-07\n",
      "ATLAS-SUSY-2018-22\n",
      "ATLAS-SUSY-2018-22\n",
      "CMS-SUS-16-033\n",
      "CMS-SUS-16-033\n",
      "CMS-SUS-16-036\n",
      "CMS-SUS-19-006\n",
      "CMS-SUS-19-006-agg\n",
      "ATLAS-SUSY-2013-02\n",
      "ATLAS-SUSY-2013-02\n",
      "CMS-SUS-12-028\n",
      "CMS-SUS-13-012\n",
      "CMS-SUS-13-012\n",
      "CMS-SUS-13-019\n"
     ]
    }
   ],
   "source": [
    "#Print all the results constraining the required Txname:\n",
    "for exp in T1results:\n",
    "    print (exp.globalInfo.id) #(or print exp.getValuesFor('id'))"
   ]
  },
  {
   "cell_type": "markdown",
   "metadata": {},
   "source": [
    "## How to load all experimental results, including the superseded publications"
   ]
  },
  {
   "cell_type": "code",
   "execution_count": 14,
   "metadata": {},
   "outputs": [
    {
     "name": "stdout",
     "output_type": "stream",
     "text": [
      "Number of non-superseded results =  174\n"
     ]
    }
   ],
   "source": [
    "#By default only non-supersed analyses are loaded:\n",
    "results = database.getExpResults()\n",
    "print ('Number of non-superseded results = ',len(results))"
   ]
  },
  {
   "cell_type": "code",
   "execution_count": 15,
   "metadata": {},
   "outputs": [
    {
     "name": "stdout",
     "output_type": "stream",
     "text": [
      "Including superseded results = 205\n"
     ]
    }
   ],
   "source": [
    "database = Database(\"official+superseded\")\n",
    "#To load all results (including the superseded ones), load also the superseded database\n",
    "allResults = database.getExpResults()\n",
    "print ('Including superseded results =',len(allResults))"
   ]
  },
  {
   "cell_type": "markdown",
   "metadata": {},
   "source": [
    "## How to selected upper-limit and efficiency map results:"
   ]
  },
  {
   "cell_type": "code",
   "execution_count": 16,
   "metadata": {},
   "outputs": [
    {
     "name": "stdout",
     "output_type": "stream",
     "text": [
      "ATLAS-EXOT-2018-06 upperLimit\n",
      "ATLAS-EXOT-2018-48 upperLimit\n",
      "ATLAS-EXOT-2019-03 upperLimit\n",
      "ATLAS-SUSY-2015-01 upperLimit\n",
      "ATLAS-SUSY-2015-02 upperLimit\n",
      "ATLAS-SUSY-2015-09 upperLimit\n",
      "ATLAS-SUSY-2016-07 upperLimit\n",
      "ATLAS-SUSY-2016-08 upperLimit\n",
      "ATLAS-SUSY-2016-14 upperLimit\n",
      "ATLAS-SUSY-2016-15 upperLimit\n",
      "ATLAS-SUSY-2016-16 upperLimit\n",
      "ATLAS-SUSY-2016-17 upperLimit\n",
      "ATLAS-SUSY-2016-19 upperLimit\n",
      "ATLAS-SUSY-2016-24 upperLimit\n",
      "ATLAS-SUSY-2016-26 upperLimit\n",
      "ATLAS-SUSY-2016-27 upperLimit\n",
      "ATLAS-SUSY-2016-28 upperLimit\n",
      "ATLAS-SUSY-2016-32 upperLimit\n",
      "ATLAS-SUSY-2016-33 upperLimit\n",
      "ATLAS-SUSY-2017-01 upperLimit\n",
      "ATLAS-SUSY-2017-02 upperLimit\n",
      "ATLAS-SUSY-2017-03 upperLimit\n",
      "ATLAS-SUSY-2018-04 upperLimit\n",
      "ATLAS-SUSY-2018-05 upperLimit\n",
      "ATLAS-SUSY-2018-06 upperLimit\n",
      "ATLAS-SUSY-2018-08 upperLimit\n",
      "ATLAS-SUSY-2018-09 upperLimit\n",
      "ATLAS-SUSY-2018-10 upperLimit\n",
      "ATLAS-SUSY-2018-12 upperLimit\n",
      "ATLAS-SUSY-2018-16 upperLimit\n",
      "ATLAS-SUSY-2018-22 upperLimit\n",
      "ATLAS-SUSY-2018-23 upperLimit\n",
      "ATLAS-SUSY-2018-31 upperLimit\n",
      "ATLAS-SUSY-2018-32 upperLimit\n",
      "ATLAS-SUSY-2018-40 upperLimit\n",
      "ATLAS-SUSY-2018-41 upperLimit\n",
      "ATLAS-SUSY-2018-42 upperLimit\n",
      "ATLAS-SUSY-2019-02 upperLimit\n",
      "ATLAS-SUSY-2019-08 upperLimit\n",
      "ATLAS-SUSY-2019-09 upperLimit\n",
      "CMS-EXO-19-012 upperLimit\n",
      "CMS-EXO-20-008 upperLimit\n",
      "CMS-PAS-EXO-16-036 upperLimit\n",
      "CMS-PAS-SUS-16-052 upperLimit\n",
      "CMS-SUS-16-009 upperLimit\n",
      "CMS-SUS-16-032 upperLimit\n",
      "CMS-SUS-16-033 upperLimit\n",
      "CMS-SUS-16-034 upperLimit\n",
      "CMS-SUS-16-035 upperLimit\n",
      "CMS-SUS-16-036 upperLimit\n",
      "CMS-SUS-16-037 upperLimit\n",
      "CMS-SUS-16-039 upperLimit\n",
      "CMS-SUS-16-041 upperLimit\n",
      "CMS-SUS-16-042 upperLimit\n",
      "CMS-SUS-16-043 upperLimit\n",
      "CMS-SUS-16-045 upperLimit\n",
      "CMS-SUS-16-046 upperLimit\n",
      "CMS-SUS-16-047 upperLimit\n",
      "CMS-SUS-16-050 upperLimit\n",
      "CMS-SUS-16-051 upperLimit\n",
      "CMS-SUS-17-003 upperLimit\n",
      "CMS-SUS-17-004 upperLimit\n",
      "CMS-SUS-17-005 upperLimit\n",
      "CMS-SUS-17-006 upperLimit\n",
      "CMS-SUS-17-009 upperLimit\n",
      "CMS-SUS-17-010 upperLimit\n",
      "CMS-SUS-18-002 upperLimit\n",
      "CMS-SUS-18-004 upperLimit\n",
      "CMS-SUS-18-007 upperLimit\n",
      "CMS-SUS-19-006 upperLimit\n",
      "CMS-SUS-19-008 upperLimit\n",
      "CMS-SUS-19-009 upperLimit\n",
      "CMS-SUS-19-010 upperLimit\n",
      "CMS-SUS-19-011 upperLimit\n",
      "CMS-SUS-19-013 upperLimit\n",
      "CMS-SUS-20-001 upperLimit\n",
      "CMS-SUS-20-002 upperLimit\n",
      "CMS-SUS-20-004 upperLimit\n",
      "CMS-SUS-21-002 upperLimit\n",
      "CMS-SUS-21-007 upperLimit\n",
      "ATLAS-EXOT-2013-11 upperLimit\n",
      "ATLAS-SUSY-2013-02 upperLimit\n",
      "ATLAS-SUSY-2013-04 upperLimit\n",
      "ATLAS-SUSY-2013-05 upperLimit\n",
      "ATLAS-SUSY-2013-08 upperLimit\n",
      "ATLAS-SUSY-2013-09 upperLimit\n",
      "ATLAS-SUSY-2013-11 upperLimit\n",
      "ATLAS-SUSY-2013-12 upperLimit\n",
      "ATLAS-SUSY-2013-15 upperLimit\n",
      "ATLAS-SUSY-2013-16 upperLimit\n",
      "ATLAS-SUSY-2013-18 upperLimit\n",
      "ATLAS-SUSY-2013-19 upperLimit\n",
      "ATLAS-SUSY-2013-20 upperLimit\n",
      "ATLAS-SUSY-2013-23 upperLimit\n",
      "CMS-EXO-12-026 upperLimit\n",
      "CMS-EXO-12-059 upperLimit\n",
      "CMS-EXO-16-057 upperLimit\n",
      "CMS-PAS-SUS-13-016 upperLimit\n",
      "CMS-PAS-SUS-13-018 upperLimit\n",
      "CMS-PAS-SUS-13-023 upperLimit\n",
      "CMS-SUS-12-024 upperLimit\n",
      "CMS-SUS-12-028 upperLimit\n",
      "CMS-SUS-13-002 upperLimit\n",
      "CMS-SUS-13-004 upperLimit\n",
      "CMS-SUS-13-006 upperLimit\n",
      "CMS-SUS-13-007 upperLimit\n",
      "CMS-SUS-13-011 upperLimit\n",
      "CMS-SUS-13-012 upperLimit\n",
      "CMS-SUS-13-013 upperLimit\n",
      "CMS-SUS-13-019 upperLimit\n",
      "CMS-SUS-14-010 upperLimit\n",
      "CMS-SUS-14-021 upperLimit\n",
      "CMS-PAS-SUS-15-002 upperLimit\n",
      "CMS-PAS-SUS-16-014 upperLimit\n",
      "CMS-PAS-SUS-16-015 upperLimit\n",
      "CMS-PAS-SUS-16-016 upperLimit\n",
      "CMS-PAS-SUS-16-019 upperLimit\n",
      "CMS-PAS-SUS-16-022 upperLimit\n",
      "CMS-PAS-SUS-17-004 upperLimit\n",
      "CMS-SUS-15-002 upperLimit\n",
      "CMS-SUS-15-008 upperLimit\n",
      "CMS-SUS-16-049 upperLimit\n",
      "CMS-SUS-17-001 upperLimit\n",
      "ATLAS-CONF-2012-105 upperLimit\n",
      "ATLAS-CONF-2012-166 upperLimit\n",
      "ATLAS-CONF-2013-001 upperLimit\n",
      "ATLAS-CONF-2013-007 upperLimit\n",
      "ATLAS-CONF-2013-024 upperLimit\n",
      "ATLAS-CONF-2013-025 upperLimit\n",
      "ATLAS-CONF-2013-035 upperLimit\n",
      "ATLAS-CONF-2013-037 upperLimit\n",
      "ATLAS-CONF-2013-047 upperLimit\n",
      "ATLAS-CONF-2013-048 upperLimit\n",
      "ATLAS-CONF-2013-049 upperLimit\n",
      "ATLAS-CONF-2013-053 upperLimit\n",
      "ATLAS-CONF-2013-061 upperLimit\n",
      "ATLAS-CONF-2013-065 upperLimit\n",
      "ATLAS-CONF-2013-089 upperLimit\n",
      "ATLAS-CONF-2013-093 upperLimit\n",
      "CMS-PAS-SUS-12-022 upperLimit\n",
      "CMS-PAS-SUS-12-026 upperLimit\n",
      "CMS-PAS-SUS-14-011 upperLimit\n"
     ]
    }
   ],
   "source": [
    "#Get only upper-limit results:\n",
    "ULresults =  database.getExpResults(dataTypes=['upperLimit'])\n",
    "for exp in ULresults:\n",
    "    print (exp.globalInfo.id,exp.datasets[0].dataInfo.dataType)"
   ]
  },
  {
   "cell_type": "code",
   "execution_count": 17,
   "metadata": {},
   "outputs": [
    {
     "name": "stdout",
     "output_type": "stream",
     "text": [
      "ATLAS-SUSY-2015-02 efficiencyMap\n",
      "ATLAS-SUSY-2015-06 efficiencyMap\n",
      "ATLAS-SUSY-2016-06 efficiencyMap\n",
      "ATLAS-SUSY-2016-07 efficiencyMap\n",
      "ATLAS-SUSY-2016-16 efficiencyMap\n",
      "ATLAS-SUSY-2016-24 efficiencyMap\n",
      "ATLAS-SUSY-2016-27 efficiencyMap\n",
      "ATLAS-SUSY-2016-32 efficiencyMap\n",
      "ATLAS-SUSY-2017-03 efficiencyMap\n",
      "ATLAS-SUSY-2018-04 efficiencyMap\n",
      "ATLAS-SUSY-2018-05-ewk efficiencyMap\n",
      "ATLAS-SUSY-2018-05-strong efficiencyMap\n",
      "ATLAS-SUSY-2018-06 efficiencyMap\n",
      "ATLAS-SUSY-2018-08 efficiencyMap\n",
      "ATLAS-SUSY-2018-10 efficiencyMap\n",
      "ATLAS-SUSY-2018-12 efficiencyMap\n",
      "ATLAS-SUSY-2018-13 efficiencyMap\n",
      "ATLAS-SUSY-2018-14 efficiencyMap\n",
      "ATLAS-SUSY-2018-16 efficiencyMap\n",
      "ATLAS-SUSY-2018-16-hino efficiencyMap\n",
      "ATLAS-SUSY-2018-22 efficiencyMap\n",
      "ATLAS-SUSY-2018-22-multibin efficiencyMap\n",
      "ATLAS-SUSY-2018-31 efficiencyMap\n",
      "ATLAS-SUSY-2018-32 efficiencyMap\n",
      "ATLAS-SUSY-2018-33 efficiencyMap\n",
      "ATLAS-SUSY-2018-40 efficiencyMap\n",
      "ATLAS-SUSY-2018-41 efficiencyMap\n",
      "ATLAS-SUSY-2018-42 efficiencyMap\n",
      "ATLAS-SUSY-2019-02 efficiencyMap\n",
      "ATLAS-SUSY-2019-08 efficiencyMap\n",
      "ATLAS-SUSY-2019-09 efficiencyMap\n",
      "CMS-EXO-19-001 efficiencyMap\n",
      "CMS-EXO-19-010 efficiencyMap\n",
      "CMS-EXO-20-004 efficiencyMap\n",
      "CMS-PAS-SUS-16-052-agg efficiencyMap\n",
      "CMS-SUS-16-033 efficiencyMap\n",
      "CMS-SUS-16-039-agg efficiencyMap\n",
      "CMS-SUS-16-048 efficiencyMap\n",
      "CMS-SUS-16-050-agg efficiencyMap\n",
      "CMS-SUS-19-006-agg efficiencyMap\n",
      "CMS-SUS-20-004 efficiencyMap\n",
      "CMS-SUS-21-002 efficiencyMap\n",
      "ATLAS-SUSY-2013-02 efficiencyMap\n",
      "ATLAS-SUSY-2013-04 efficiencyMap\n",
      "ATLAS-SUSY-2013-05 efficiencyMap\n",
      "ATLAS-SUSY-2013-09 efficiencyMap\n",
      "ATLAS-SUSY-2013-11 efficiencyMap\n",
      "ATLAS-SUSY-2013-12 efficiencyMap\n",
      "ATLAS-SUSY-2013-15 efficiencyMap\n",
      "ATLAS-SUSY-2013-16 efficiencyMap\n",
      "ATLAS-SUSY-2013-18 efficiencyMap\n",
      "ATLAS-SUSY-2013-21 efficiencyMap\n",
      "ATLAS-SUSY-2014-03 efficiencyMap\n",
      "CMS-EXO-13-006 efficiencyMap\n",
      "CMS-PAS-SUS-13-015 efficiencyMap\n",
      "CMS-PAS-SUS-13-016 efficiencyMap\n",
      "CMS-SUS-12-024 efficiencyMap\n",
      "CMS-SUS-13-007 efficiencyMap\n",
      "CMS-SUS-13-011 efficiencyMap\n",
      "CMS-SUS-13-012 efficiencyMap\n",
      "CMS-SUS-13-013 efficiencyMap\n",
      "CMS-SUS-14-021 efficiencyMap\n",
      "ATLAS-CONF-2013-061 efficiencyMap\n"
     ]
    }
   ],
   "source": [
    "#Get only efficiency map results:\n",
    "EMresults =  database.getExpResults(dataTypes=['efficiencyMap'])\n",
    "for exp in EMresults:\n",
    "    print (exp.globalInfo.id,exp.datasets[0].dataInfo.dataType)"
   ]
  },
  {
   "cell_type": "code",
   "execution_count": null,
   "metadata": {},
   "outputs": [],
   "source": []
  }
 ],
 "metadata": {
  "kernelspec": {
   "display_name": "Python 3 (ipykernel)",
   "language": "python",
   "name": "python3"
  },
  "language_info": {
   "codemirror_mode": {
    "name": "ipython",
    "version": 3
   },
   "file_extension": ".py",
   "mimetype": "text/x-python",
   "name": "python",
   "nbconvert_exporter": "python",
   "pygments_lexer": "ipython3",
   "version": "3.12.3"
  }
 },
 "nbformat": 4,
 "nbformat_minor": 1
}
