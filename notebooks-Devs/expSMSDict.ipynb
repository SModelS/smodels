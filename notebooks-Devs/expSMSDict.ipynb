{
 "cells": [
  {
   "cell_type": "code",
   "execution_count": 1,
   "metadata": {},
   "outputs": [],
   "source": [
    "import sys\n",
    "sys.path.append('../')\n",
    "import matplotlib.pyplot as plt\n",
    "from smodels.experiment.databaseObj import Database\n",
    "import copy\n",
    "import re\n",
    "from smodels.base.smodelsLogging import logger\n",
    "import plotly.graph_objects as go\n",
    "import networkx as nx\n",
    "import numpy as np\n",
    "logger.setLevel('ERROR')"
   ]
  },
  {
   "cell_type": "code",
   "execution_count": 2,
   "metadata": {},
   "outputs": [],
   "source": [
    "db = Database('unittest')"
   ]
  },
  {
   "cell_type": "code",
   "execution_count": 3,
   "metadata": {},
   "outputs": [
    {
     "name": "stdout",
     "output_type": "stream",
     "text": [
      "Dict with 71 unique SMS for 550 txname objects\n"
     ]
    }
   ],
   "source": [
    "exp = db.expSMSDict\n",
    "print(exp)"
   ]
  },
  {
   "cell_type": "code",
   "execution_count": 4,
   "metadata": {},
   "outputs": [
    {
     "name": "stdout",
     "output_type": "stream",
     "text": [
      "438\n"
     ]
    }
   ],
   "source": [
    "cmsTx = [tx for tx in db.expSMSDict.getTx() if 'CMS' in tx.path]\n",
    "print(len(cmsTx))"
   ]
  },
  {
   "cell_type": "code",
   "execution_count": 6,
   "metadata": {},
   "outputs": [
    {
     "name": "stdout",
     "output_type": "stream",
     "text": [
      "Dict with 71 unique SMS for 550 txname objects\n"
     ]
    }
   ],
   "source": [
    "newDict = exp.copy()\n",
    "print(newDict)"
   ]
  },
  {
   "cell_type": "code",
   "execution_count": 7,
   "metadata": {},
   "outputs": [
    {
     "name": "stdout",
     "output_type": "stream",
     "text": [
      "CMS-PAS-EXO-16-036: c000,c100(2):THSCPM1,THSCPM2,THSCPM3,THSCPM4,THSCPM5,THSCPM6,THSCPM7,THSCPM8(8)\n",
      "CMS-PAS-SUS-15-002:(0):T1,T1bbbb,T1tttt,T1ttttoff(4)\n",
      "CMS-PAS-SUS-12-026:(0):T1tttt(1)\n"
     ]
    }
   ],
   "source": [
    "db.selectExpResults(analysisIDs='CMS*')\n",
    "expResultList = db.expResultList\n",
    "for exp in expResultList:\n",
    "    if 'PAS' in str(exp):\n",
    "        print(exp)\n"
   ]
  },
  {
   "cell_type": "code",
   "execution_count": null,
   "metadata": {},
   "outputs": [],
   "source": [
    "for tx in list(newDict.getTx()):\n",
    "    # If tx is in the list, do nothing\n",
    "    if tx in selectedTx:\n",
    "        continue\n",
    "    # Get list of unique SMS matching\n",
    "    # the txname:\n",
    "    smsList = newDict[tx].values()\n",
    "    # Remove tx from newDict:\n",
    "    del newDict[tx]\n",
    "    # Remove tx from the unique sms List:\n",
    "    for sms in smsList:\n",
    "        del newDict[sms][tx]\n",
    "\n",
    "# Finally, remove the unique sms\n",
    "# without any txnames attached to them\n",
    "for sms in list(newDict.getSMS()):\n",
    "    if not newDict[sms]:\n",
    "        del newDict[sms]\n"
   ]
  },
  {
   "cell_type": "code",
   "execution_count": null,
   "metadata": {},
   "outputs": [],
   "source": []
  },
  {
   "cell_type": "code",
   "execution_count": null,
   "metadata": {},
   "outputs": [],
   "source": []
  },
  {
   "cell_type": "code",
   "execution_count": null,
   "metadata": {},
   "outputs": [],
   "source": []
  },
  {
   "cell_type": "markdown",
   "metadata": {},
   "source": [
    "### Filter database"
   ]
  },
  {
   "cell_type": "code",
   "execution_count": 5,
   "metadata": {},
   "outputs": [
    {
     "name": "stdout",
     "output_type": "stream",
     "text": [
      "Dict with 35 unique SMS for 437 txname objects\n"
     ]
    }
   ],
   "source": [
    "db.selectExpResults(analysisIDs='CMS*')\n",
    "expDict = db.expSMSDict\n",
    "print(expDict)"
   ]
  },
  {
   "cell_type": "code",
   "execution_count": 6,
   "metadata": {},
   "outputs": [],
   "source": [
    "newTx = list(expDict.getTx())"
   ]
  },
  {
   "cell_type": "code",
   "execution_count": 7,
   "metadata": {},
   "outputs": [
    {
     "name": "stdout",
     "output_type": "stream",
     "text": [
      "437\n"
     ]
    }
   ],
   "source": [
    "print(len(newTx))"
   ]
  },
  {
   "cell_type": "code",
   "execution_count": 8,
   "metadata": {},
   "outputs": [
    {
     "name": "stdout",
     "output_type": "stream",
     "text": [
      "TChiWZ\n",
      "/home/lessa/smodels-graphs/unittests/database/13TeV/CMS/CMS-PAS-SUS-16-024/data/TChiWZ.txt\n",
      "missing\n"
     ]
    }
   ],
   "source": [
    "for tx in cmsTx:\n",
    "    if not tx in newTx:\n",
    "        print(tx)\n",
    "        print(tx.path)\n",
    "        print('missing')"
   ]
  },
  {
   "cell_type": "code",
   "execution_count": null,
   "metadata": {},
   "outputs": [],
   "source": []
  }
 ],
 "metadata": {
  "kernelspec": {
   "display_name": "Python 3.10.6 64-bit",
   "language": "python",
   "name": "python3"
  },
  "language_info": {
   "codemirror_mode": {
    "name": "ipython",
    "version": 3
   },
   "file_extension": ".py",
   "mimetype": "text/x-python",
   "name": "python",
   "nbconvert_exporter": "python",
   "pygments_lexer": "ipython3",
   "version": "3.10.6"
  },
  "orig_nbformat": 4,
  "vscode": {
   "interpreter": {
    "hash": "e7370f93d1d0cde622a1f8e1c04877d8463912d04d973331ad4851f04de6915a"
   }
  }
 },
 "nbformat": 4,
 "nbformat_minor": 2
}
