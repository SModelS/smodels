{
 "cells": [
  {
   "cell_type": "markdown",
   "metadata": {},
   "source": [
    "# How To: Run SModelS with LHE input with additional width information"
   ]
  },
  {
   "cell_type": "code",
   "execution_count": 1,
   "metadata": {},
   "outputs": [],
   "source": [
    "# Set up the path to SModelS installation folder\n",
    "import sys; sys.path.append(\".\"); import smodels_paths"
   ]
  },
  {
   "cell_type": "code",
   "execution_count": 2,
   "metadata": {},
   "outputs": [],
   "source": [
    "from smodels.tools import runtime\n",
    "#Define your model\n",
    "runtime.modelFile = 'smodels.share.models.mssm' \n",
    "\n",
    "from smodels.theory import decomposer\n",
    "from smodels.tools.physicsUnits import fb, GeV, TeV\n",
    "from smodels.theory.theoryPrediction import theoryPredictionsFor\n",
    "from smodels.experiment.databaseObj import Database\n",
    "from smodels.tools import coverage\n",
    "from smodels.tools.smodelsLogging import setLogLevel\n",
    "from smodels.particlesLoader import BSMList\n",
    "from smodels.share.models.SMparticles import SMList\n",
    "from smodels.theory.model import Model\n",
    "setLogLevel(\"info\")"
   ]
  },
  {
   "cell_type": "markdown",
   "metadata": {},
   "source": [
    "### Read LHE input:"
   ]
  },
  {
   "cell_type": "code",
   "execution_count": 3,
   "metadata": {},
   "outputs": [
    {
     "name": "stderr",
     "output_type": "stream",
     "text": [
      "INFO in model.getModelDataFrom() in 195: Using LHE input. All unstable particles will be assumed to have prompt decays.\n",
      "INFO in model.getModelDataFrom() in 196: Using LHE input. All particles not appearing in the events will be removed from the model.\n",
      "INFO in model.updateParticles() in 387: Loaded 4 BSM particles (58 particles not found in inputFiles/lhe/simplyGluino.lhe)\n"
     ]
    }
   ],
   "source": [
    "# Path to input file (either a SLHA or LHE file)\n",
    "lhefile = 'inputFiles/lhe/simplyGluino.lhe'\n",
    "model = Model(BSMparticles=BSMList, SMparticles=SMList)\n",
    "model.updateParticles(inputFile=lhefile)"
   ]
  },
  {
   "cell_type": "markdown",
   "metadata": {},
   "source": [
    "### Replace widths"
   ]
  },
  {
   "cell_type": "code",
   "execution_count": 4,
   "metadata": {},
   "outputs": [
    {
     "name": "stdout",
     "output_type": "stream",
     "text": [
      "old width= INF [GeV]\n",
      "new width= 1.00E-15 [GeV]\n"
     ]
    }
   ],
   "source": [
    "# At this point all BSM particles in model have either zero (stable) or infinite (unstable) widths.\n",
    "# However the widths can be overwritten for the desired (long-lived) particles.\n",
    "# For instance, the gluino width can be set to 1e-15 GeV as below:\n",
    "gluino = model.getParticlesWith(pdg = 1000021)[0]\n",
    "print('old width=',gluino.totalwidth) #Check that the width was indeed infinite\n",
    "#Assign new width value:\n",
    "gluino.totalwidth = 1e-15*GeV\n",
    "print('new width=',gluino.totalwidth)"
   ]
  },
  {
   "cell_type": "code",
   "execution_count": 5,
   "metadata": {},
   "outputs": [],
   "source": [
    "#The same has to be done for the anti-particles:\n",
    "gluino = model.getParticlesWith(pdg = -1000021)[0]\n",
    "gluino.totalwidth = 1e-15*GeV\n",
    "#The remaining steps are as for any input:"
   ]
  },
  {
   "cell_type": "markdown",
   "metadata": {},
   "source": [
    "### Decompose the input model:"
   ]
  },
  {
   "cell_type": "code",
   "execution_count": 6,
   "metadata": {},
   "outputs": [
    {
     "name": "stdout",
     "output_type": "stream",
     "text": [
      "\n",
      " Decomposition Results: \n",
      "\t  Total number of topologies: 1 \n",
      "\t  Total number of elements = 1 \n"
     ]
    }
   ],
   "source": [
    "# Set main options for decomposition\n",
    "sigmacut = 0.01 * fb\n",
    "mingap = 5. * GeV\n",
    "# Decompose model (use slhaDecomposer for SLHA input or lheDecomposer for LHE input)\n",
    "toplist = decomposer.decompose(model, sigmacut, doCompress=True, doInvisible=True, minmassgap=mingap)\n",
    "\n",
    "# Access basic information from decomposition, using the topology list and topology objects:\n",
    "print( \"\\n Decomposition Results: \" )\n",
    "print( \"\\t  Total number of topologies: %i \" %len(toplist) )\n",
    "nel = sum([len(top.elementList) for top in toplist])\n",
    "print( \"\\t  Total number of elements = %i \" %nel )"
   ]
  },
  {
   "cell_type": "markdown",
   "metadata": {},
   "source": [
    "### Load the Database of experimental results:"
   ]
  },
  {
   "cell_type": "code",
   "execution_count": 7,
   "metadata": {},
   "outputs": [
    {
     "name": "stderr",
     "output_type": "stream",
     "text": [
      "INFO in databaseObj.loadBinaryFile() in 496: loading binary db file /home/lessa/.cache/smodels/official220.pcl format version 214\n",
      "INFO in databaseObj.loadBinaryFile() in 503: Loaded database from /home/lessa/.cache/smodels/official220.pcl in 1.1 secs.\n"
     ]
    },
    {
     "name": "stdout",
     "output_type": "stream",
     "text": [
      "\n",
      " Loaded Database with 97 UL results and 48 EM results \n"
     ]
    }
   ],
   "source": [
    "# Set the path to the database\n",
    "database = Database(\"official\")\n",
    "# Load the experimental results to be used.\n",
    "# In this case, all results are employed.\n",
    "listOfExpRes = database.getExpResults()\n",
    "\n",
    "# Print basic information about the results loaded.\n",
    "# Count the number of loaded UL and EM experimental results:\n",
    "nUL, nEM = 0, 0\n",
    "for exp in listOfExpRes:\n",
    "    expType = exp.getValuesFor('dataType')[0]\n",
    "    if expType == 'upperLimit':\n",
    "        nUL += 1\n",
    "    elif  expType == 'efficiencyMap':\n",
    "        nEM += 1\n",
    "print(\"\\n Loaded Database with %i UL results and %i EM results \" %(nUL,nEM))"
   ]
  },
  {
   "cell_type": "markdown",
   "metadata": {},
   "source": [
    "### Match the decomposed simplified models with the experimental database of constraints:"
   ]
  },
  {
   "cell_type": "code",
   "execution_count": 8,
   "metadata": {},
   "outputs": [
    {
     "name": "stdout",
     "output_type": "stream",
     "text": [
      "\n",
      " Theory Predictions and Constraints:\n",
      "\n",
      " ATLAS-SUSY-2013-02 (8 TeV)\n",
      "------------------------\n",
      "TxNames =  ['T1']\n",
      "Theory Prediction =  2.62E-01 [pb]\n",
      "UL for theory prediction =  2.52E+06 [fb]\n",
      "r =  0.00010397326473252127\n",
      "\n",
      " ATLAS-SUSY-2013-02 (8 TeV)\n",
      "------------------------\n",
      "TxNames =  ['T1']\n",
      "Theory Prediction =  1.85E-07 [pb]\n",
      "UL for theory prediction =  1.54E+00 [fb]\n",
      "r =  0.00011997445608373542\n",
      "likelihood= 0.0010654361427589844\n",
      "\n",
      " CMS-SUS-12-028 (8 TeV)\n",
      "------------------------\n",
      "TxNames =  ['T1']\n",
      "Theory Prediction =  2.62E-01 [pb]\n",
      "UL for theory prediction =  5.04E+06 [fb]\n",
      "r =  5.203165424969029e-05\n",
      "\n",
      " CMS-SUS-13-012 (8 TeV)\n",
      "------------------------\n",
      "TxNames =  ['T1']\n",
      "Theory Prediction =  2.62E-01 [pb]\n",
      "UL for theory prediction =  2.81E+06 [fb]\n",
      "r =  9.329096271894829e-05\n",
      "\n",
      " CMS-SUS-13-012 (8 TeV)\n",
      "------------------------\n",
      "TxNames =  ['T1']\n",
      "Theory Prediction =  3.30E-08 [pb]\n",
      "UL for theory prediction =  1.35E+00 [fb]\n",
      "r =  2.4475646895697347e-05\n",
      "likelihood= 0.0030194326872521092\n",
      "\n",
      " CMS-SUS-13-019 (8 TeV)\n",
      "------------------------\n",
      "TxNames =  ['T1']\n",
      "Theory Prediction =  2.62E-01 [pb]\n",
      "UL for theory prediction =  3.39E+06 [fb]\n",
      "r =  7.73165201779963e-05\n",
      "\n",
      "The largest r-value (theory/upper limit ratio) is  0.00011997445608373542\n",
      "(The input model is not excluded by the simplified model results)\n"
     ]
    }
   ],
   "source": [
    "# Compute the theory predictions for each experimental result and print them:\n",
    "print(\"\\n Theory Predictions and Constraints:\")\n",
    "rmax = 0.\n",
    "bestResult = None\n",
    "for expResult in listOfExpRes:\n",
    "    predictions = theoryPredictionsFor(expResult, toplist)\n",
    "    if not predictions: continue # Skip if there are no constraints from this result\n",
    "    print('\\n %s (%i TeV)' %(expResult.globalInfo.id,expResult.globalInfo.sqrts.asNumber(TeV)))\n",
    "    for theoryPrediction in predictions:\n",
    "        dataset = theoryPrediction.dataset\n",
    "        datasetID = theoryPrediction.dataId()\n",
    "        mass = theoryPrediction.mass\n",
    "        txnames = [str(txname) for txname in theoryPrediction.txnames]\n",
    "        PIDs =  theoryPrediction.PIDs         \n",
    "        print( \"------------------------\" )\n",
    "        print( \"TxNames = \",txnames )  \n",
    "        print( \"Theory Prediction = \",theoryPrediction.xsection.value )  #Signal cross section\n",
    "        # Get the corresponding upper limit:\n",
    "        print( \"UL for theory prediction = \",theoryPrediction.upperLimit )\n",
    "        # Compute the r-value\n",
    "        r = theoryPrediction.getRValue()\n",
    "        print( \"r = \",r )\n",
    "        #Compute likelihhod and chi^2 for EM-type results:\n",
    "        if dataset.dataInfo.dataType == 'efficiencyMap':\n",
    "            theoryPrediction.computeStatistics()\n",
    "            print( 'likelihood=', theoryPrediction.likelihood() )\n",
    "        if r > rmax:\n",
    "            rmax = r\n",
    "            bestResult = expResult.globalInfo.id\n",
    "\n",
    "# Print the most constraining experimental result\n",
    "print( \"\\nThe largest r-value (theory/upper limit ratio) is \",rmax )\n",
    "if rmax > 1.:\n",
    "    print( \"(The input model is likely excluded by %s)\" %bestResult )\n",
    "else:\n",
    "    print( \"(The input model is not excluded by the simplified model results)\" )"
   ]
  },
  {
   "cell_type": "markdown",
   "metadata": {},
   "source": [
    "### Check for simplified models in the input model which were not tested by the Database\n",
    "### (result with displaced gluino decays will now show up)"
   ]
  },
  {
   "cell_type": "code",
   "execution_count": 9,
   "metadata": {},
   "outputs": [
    {
     "name": "stdout",
     "output_type": "stream",
     "text": [
      "\n",
      "Total cross-section for missing topologies (fb):  0.000E+00\n",
      "\n",
      "\n",
      "Total cross-section for missing topologies with displaced decays (fb):  0.000E+00\n",
      "\n",
      "\n",
      "Total cross-section for missing topologies with prompt decays (fb):  0.000E+00\n",
      "\n",
      "\n",
      "Total cross-section for topologies outside the grid (fb):  0.000E+00\n",
      "\n"
     ]
    }
   ],
   "source": [
    "#Find out missing topologies for sqrts=8*TeV:\n",
    "uncovered = coverage.Uncovered(toplist,sqrts=8.*TeV)\n",
    "#First sort coverage groups by label\n",
    "groups = sorted(uncovered.groups[:], key = lambda g: g.label)\n",
    "#Print uncovered cross-sections:\n",
    "for group in groups:\n",
    "    print(\"\\nTotal cross-section for %s (fb): %10.3E\\n\" %(group.description,group.getTotalXSec()))"
   ]
  },
  {
   "cell_type": "code",
   "execution_count": 10,
   "metadata": {},
   "outputs": [
    {
     "name": "stdout",
     "output_type": "stream",
     "text": [
      "No missing topologies found\n",
      "\n",
      "\n",
      "No displaced decays\n"
     ]
    }
   ],
   "source": [
    "missingTopos = uncovered.getGroup('missing (prompt)')\n",
    "#Print some of the missing topologies:\n",
    "if missingTopos.generalElements:\n",
    "    print('Missing topologies (up to 3):' )\n",
    "    for genEl in missingTopos.generalElements[:3]:\n",
    "        print('Element:', genEl)\n",
    "        print('\\tcross-section (fb):', genEl.missingX)\n",
    "else:\n",
    "    print(\"No missing topologies found\\n\")\n",
    "\n",
    "missingDisplaced = uncovered.getGroup('missing (displaced)')\n",
    "#Print elements with displaced decays:\n",
    "if missingDisplaced.generalElements:\n",
    "    print('\\nElements with displaced vertices (up to 2):' )    \n",
    "    for genEl in missingDisplaced.generalElements[:2]:\n",
    "        print('Element:', genEl)\n",
    "        print('\\tcross-section (fb):', genEl.missingX)\n",
    "else:\n",
    "    print(\"\\nNo displaced decays\")\n"
   ]
  },
  {
   "cell_type": "code",
   "execution_count": null,
   "metadata": {},
   "outputs": [],
   "source": []
  }
 ],
 "metadata": {
  "kernelspec": {
   "display_name": "Python 3 (ipykernel)",
   "language": "python",
   "name": "python3"
  },
  "language_info": {
   "codemirror_mode": {
    "name": "ipython",
    "version": 3
   },
   "file_extension": ".py",
   "mimetype": "text/x-python",
   "name": "python",
   "nbconvert_exporter": "python",
   "pygments_lexer": "ipython3",
   "version": "3.9.7"
  }
 },
 "nbformat": 4,
 "nbformat_minor": 1
}
