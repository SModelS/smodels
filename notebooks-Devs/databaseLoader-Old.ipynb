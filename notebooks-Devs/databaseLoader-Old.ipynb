{
 "cells": [
  {
   "cell_type": "code",
   "execution_count": 1,
   "metadata": {},
   "outputs": [],
   "source": [
    "import sys\n",
    "sys.path.append('/home/lessa/smodels')\n",
    "import os\n",
    "from smodels.theory.exceptions import SModelSTheoryError as SModelSError\n",
    "from smodels.tools.smodelsLogging import logger\n",
    "from smodels.experiment.databaseObj import Database"
   ]
  },
  {
   "cell_type": "code",
   "execution_count": 2,
   "metadata": {},
   "outputs": [],
   "source": [
    "db = Database(os.path.expanduser('~/smodels-database-master'))"
   ]
  },
  {
   "cell_type": "code",
   "execution_count": 3,
   "metadata": {},
   "outputs": [
    {
     "name": "stdout",
     "output_type": "stream",
     "text": [
      "Database version: 2.2.0\n",
      "------------------------\n",
      "201 experimental results: 87 CMS, 114 ATLAS, 84 @ 8 TeV, 117 @ 13 TeV\n",
      "1139 datasets, 7039 txnames.\n",
      "\n"
     ]
    }
   ],
   "source": [
    "print(db)"
   ]
  },
  {
   "cell_type": "code",
   "execution_count": 4,
   "metadata": {},
   "outputs": [
    {
     "name": "stdout",
     "output_type": "stream",
     "text": [
      "185\n"
     ]
    }
   ],
   "source": [
    "expList = db.getExpResults()\n",
    "print(len(expList))"
   ]
  },
  {
   "cell_type": "code",
   "execution_count": 5,
   "metadata": {},
   "outputs": [],
   "source": [
    "txInclusive = []\n",
    "for exp in expList:\n",
    "    for tx in exp.getTxNames():\n",
    "        if '*' in tx.constraint:\n",
    "            txInclusive.append(tx)"
   ]
  },
  {
   "cell_type": "code",
   "execution_count": 6,
   "metadata": {},
   "outputs": [
    {
     "name": "stdout",
     "output_type": "stream",
     "text": [
      "Inclusive analyses = {'CMS-SUS-17-004', 'ATLAS-SUSY-2016-16', 'ATLAS-SUSY-2013-02', 'ATLAS-SUSY-2016-24', 'ATLAS-CONF-2013-007', 'CMS-PAS-SUS-16-052', 'ATLAS-SUSY-2013-12', 'ATLAS-SUSY-2016-15', 'CMS-PAS-SUS-17-004', 'CMS-PAS-SUS-12-022', 'CMS-SUS-16-049', 'CMS-SUS-14-021', 'ATLAS-SUSY-2018-22', 'CMS-SUS-17-005', 'CMS-EXO-13-006', 'CMS-SUS-13-006', 'CMS-SUS-16-039', 'CMS-SUS-18-004', 'ATLAS-SUSY-2018-08', 'ATLAS-SUSY-2018-10', 'ATLAS-SUSY-2018-32', 'ATLAS-SUSY-2018-12', 'CMS-SUS-16-041', 'CMS-SUS-16-042', 'ATLAS-SUSY-2013-20', 'ATLAS-SUSY-2016-32', 'CMS-SUS-16-035', 'ATLAS-CONF-2013-035', 'CMS-SUS-13-013', 'ATLAS-SUSY-2016-06', 'CMS-SUS-19-008', 'ATLAS-SUSY-2018-06', 'CMS-EXO-19-010', 'ATLAS-SUSY-2016-07', 'ATLAS-CONF-2013-048', 'CMS-PAS-SUS-13-023', 'ATLAS-SUSY-2019-09', 'CMS-SUS-13-011', 'ATLAS-CONF-2013-047'}\n"
     ]
    }
   ],
   "source": [
    "anaIDs = set([tx.globalInfo.id for tx in txInclusive])\n",
    "print('Inclusive analyses = %s' %anaIDs )"
   ]
  },
  {
   "cell_type": "code",
   "execution_count": null,
   "metadata": {},
   "outputs": [],
   "source": []
  },
  {
   "cell_type": "code",
   "execution_count": null,
   "metadata": {},
   "outputs": [],
   "source": []
  },
  {
   "cell_type": "code",
   "execution_count": 4,
   "metadata": {},
   "outputs": [
    {
     "name": "stdout",
     "output_type": "stream",
     "text": [
      "Database version: unittest220\n",
      "------------------------------\n",
      "15 experimental results: 8 CMS, 7 ATLAS, 7 @ 8 TeV, 8 @ 13 TeV\n",
      "124 datasets, 550 txnames.\n",
      "\n",
      "Database version: unittest220extra\n",
      "-----------------------------------\n",
      "7 experimental results: 3 CMS, 4 ATLAS, 2 @ 8 TeV, 5 @ 13 TeV\n",
      "86 datasets, 141 txnames.\n",
      "\n",
      "Database version: unittest200b-beta\n",
      "------------------------------------\n",
      "2 experimental results: 0 CMS, 2 ATLAS, 0 @ 8 TeV, 2 @ 13 TeV\n",
      "2 datasets, 2 txnames.\n",
      "\n"
     ]
    }
   ],
   "source": [
    "dbList = []\n",
    "for dbdir in ['/home/lessa/smodels/test/database','/home/lessa/smodels/test/database_extra','/home/lessa/smodels/test/database_simple']:\n",
    "    db = Database(os.path.abspath(dbdir))\n",
    "    print(db)\n",
    "    dbList.append(db)    "
   ]
  },
  {
   "cell_type": "code",
   "execution_count": 6,
   "metadata": {},
   "outputs": [
    {
     "name": "stdout",
     "output_type": "stream",
     "text": [
      "ATLAS-CONF-2013-037 86\n",
      "ATLAS-SUSY-2013-02 8\n",
      "ATLAS-SUSY-2013-05 3\n",
      "ATLAS-SUSY-2013-12 5\n",
      "ATLAS-SUSY-2016-08 1\n",
      "ATLAS-SUSY-2016-081 1\n",
      "ATLAS-SUSY-2018-31 8\n",
      "CMS-EXO-13-006 64\n",
      "CMS-PAS-EXO-16-036 16\n",
      "THSCPM1\n",
      "THSCPM2\n",
      "THSCPM3\n",
      "THSCPM4\n",
      "THSCPM5\n",
      "THSCPM6\n",
      "THSCPM7\n",
      "THSCPM8\n",
      "THSCPM1\n",
      "THSCPM2\n",
      "THSCPM3\n",
      "THSCPM4\n",
      "THSCPM5\n",
      "THSCPM6\n",
      "THSCPM7\n",
      "THSCPM8\n",
      "CMS-PAS-SUS-12-026 1\n",
      "CMS-PAS-SUS-15-002 4\n",
      "CMS-SUS-13-012 178\n",
      "CMS-SUS-16-039 6\n",
      "CMS-SUS-16-050-agg 168\n"
     ]
    }
   ],
   "source": [
    "db = dbList[0]\n",
    "for exp in sorted(db.getExpResults(), key = lambda exp: exp.globalInfo.id):\n",
    "    print(exp.globalInfo.id,len(exp.getTxNames()))\n",
    "    if 'EXO-16' in str(exp):\n",
    "        for tx in exp.getTxNames():\n",
    "            print(tx)    "
   ]
  },
  {
   "cell_type": "code",
   "execution_count": null,
   "metadata": {},
   "outputs": [],
   "source": []
  }
 ],
 "metadata": {
  "kernelspec": {
   "display_name": "Python 3 (ipykernel)",
   "language": "python",
   "name": "python3"
  },
  "language_info": {
   "codemirror_mode": {
    "name": "ipython",
    "version": 3
   },
   "file_extension": ".py",
   "mimetype": "text/x-python",
   "name": "python",
   "nbconvert_exporter": "python",
   "pygments_lexer": "ipython3",
   "version": "3.9.7"
  }
 },
 "nbformat": 4,
 "nbformat_minor": 2
}
