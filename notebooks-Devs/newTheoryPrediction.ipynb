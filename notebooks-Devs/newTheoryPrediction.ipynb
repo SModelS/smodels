{
 "cells": [
  {
   "cell_type": "code",
   "execution_count": 2,
   "metadata": {},
   "outputs": [],
   "source": [
    "import sys,os\n",
    "sys.path.append('../')\n",
    "from smodels.base import runtime\n",
    "# Define your model (list of BSM particles)\n",
    "runtime.modelFile = 'smodels.share.models.mssm'\n",
    "# runtime.modelFile = 'mssmQNumbers.slha'\n",
    "\n",
    "from smodels.decomposition import decomposer\n",
    "from smodels.base.physicsUnits import fb, GeV, TeV\n",
    "from smodels.matching.theoryPrediction import theoryPredictionsFor as tpNew\n",
    "# from smodels.matching.theoryPredictionOld import theoryPredictionsFor as tpOld\n",
    "from smodels.experiment.databaseObj import Database\n",
    "from smodels.matching.theoryPredictionsCombiner import TheoryPredictionsCombiner\n",
    "from smodels.base.smodelsLogging import setLogLevel\n",
    "from smodels.share.models.mssm import BSMList\n",
    "from smodels.share.models.SMparticles import SMList\n",
    "from smodels.base.model import Model\n",
    "setLogLevel(\"error\")\n",
    "\n",
    "# Set the path to the database\n",
    "database = Database('official')"
   ]
  },
  {
   "attachments": {},
   "cell_type": "markdown",
   "metadata": {},
   "source": [
    "### Load model"
   ]
  },
  {
   "cell_type": "code",
   "execution_count": null,
   "metadata": {},
   "outputs": [],
   "source": [
    "slhafile = '../inputFiles/slha/lightEWinos.slha'\n",
    "model = Model(BSMparticles=BSMList, SMparticles=SMList)\n",
    "model.updateParticles(inputFile=slhafile)\n"
   ]
  },
  {
   "attachments": {},
   "cell_type": "markdown",
   "metadata": {},
   "source": [
    "### Decompose"
   ]
  },
  {
   "cell_type": "code",
   "execution_count": null,
   "metadata": {},
   "outputs": [],
   "source": [
    "# Set main options for decomposition\n",
    "sigmacut = 0.5*fb\n",
    "mingap = 5.*GeV\n",
    "\n",
    "# Decompose model\n",
    "topDict = decomposer.decompose(model, sigmacut,\n",
    "                               massCompress=True, invisibleCompress=True,\n",
    "                               minmassgap=mingap)"
   ]
  },
  {
   "attachments": {},
   "cell_type": "markdown",
   "metadata": {},
   "source": [
    "### Compute the theory predictions (old method)"
   ]
  },
  {
   "cell_type": "code",
   "execution_count": null,
   "metadata": {},
   "outputs": [],
   "source": [
    "allPredictions = []\n",
    "for expResult in database.expResultList:\n",
    "    predictions = tpOld(expResult, topDict, combinedResults=False)\n",
    "    if not predictions:\n",
    "        continue  # Skip if there are no constraints from this result\n",
    "    # print('\\n %s ' % expResult.globalInfo.id)\n",
    "    for theoryPrediction in predictions:\n",
    "        allPredictions.append(theoryPrediction)\n",
    "        continue\n",
    "        dataset = theoryPrediction.dataset\n",
    "        datasetID = theoryPrediction.dataId()\n",
    "        txnames = sorted([str(txname) for txname in theoryPrediction.txnames])\n",
    "        print(\"------------------------\")\n",
    "        print(\"Dataset = \", datasetID)  # Analysis name\n",
    "        print(\"TxNames = \", txnames)\n",
    "        print(\"Theory Prediction = \", theoryPrediction.xsection)  # Signal cross section\n",
    "        print(\"Condition Violation = \", theoryPrediction.conditions)  # Condition violation values\n",
    "\n",
    "        # Get the corresponding upper limit:\n",
    "        print(\"UL for theory prediction = \", theoryPrediction.upperLimit)\n",
    "\n",
    "        # Compute the r-value\n",
    "        r = theoryPrediction.getRValue()\n",
    "        print(\"r = %1.3E\" % r)\n",
    "        # Compute likelihoods for EM-type results:\n",
    "        if dataset.getType() == 'efficiencyMap':\n",
    "            theoryPrediction.computeStatistics()\n",
    "            print('L_BSM, L_SM, L_max = %1.3E, %1.3E, %1.3E' % (theoryPrediction.likelihood(),\n",
    "                  theoryPrediction.lsm(), theoryPrediction.lmax()))\n",
    "        if r > rmax:\n",
    "            rmax = r\n",
    "            bestResult = expResult.globalInfo.id\n",
    "        allPredictions.append(theoryPrediction)"
   ]
  },
  {
   "attachments": {},
   "cell_type": "markdown",
   "metadata": {},
   "source": [
    "### Compute the theory predictions (new method)"
   ]
  },
  {
   "cell_type": "code",
   "execution_count": null,
   "metadata": {},
   "outputs": [],
   "source": [
    "allPredictionsNew = tpNew(database,topDict, combinedResults=False)"
   ]
  },
  {
   "attachments": {},
   "cell_type": "markdown",
   "metadata": {},
   "source": [
    "### Compare results"
   ]
  },
  {
   "cell_type": "code",
   "execution_count": null,
   "metadata": {},
   "outputs": [],
   "source": [
    "print(len(allPredictions))\n",
    "print(len(allPredictionsNew))"
   ]
  },
  {
   "cell_type": "code",
   "execution_count": null,
   "metadata": {},
   "outputs": [],
   "source": [
    "allPredictions = sorted(allPredictions, key = lambda tp: tp.getRValue(),reverse=True)\n",
    "allPredictionsNew = sorted(allPredictionsNew, key = lambda tp: tp.getRValue(),reverse=True)"
   ]
  },
  {
   "cell_type": "code",
   "execution_count": null,
   "metadata": {},
   "outputs": [],
   "source": [
    "for itp,tp in enumerate(allPredictions):\n",
    "    resOld = [tp.analysisId(),tp.dataId(),tp.dataType(),tp.getRValue()]\n",
    "    tpNew = allPredictionsNew[itp]\n",
    "    resNew = [tpNew.analysisId(),tpNew.dataId(),tpNew.dataType(),tpNew.getRValue()]\n",
    "    # Compare analysis info\n",
    "    if resOld[:-1] != resNew[:-1]:\n",
    "        print(resOld)\n",
    "        print(resNew)\n",
    "        break\n",
    "    # Compare R value\n",
    "    if 2*abs(resOld[-1]-resNew[-1])/(resOld[-1]+resNew[-1]) > 0.01:\n",
    "        print(resOld)\n",
    "        print(resNew)\n",
    "        break"
   ]
  },
  {
   "cell_type": "code",
   "execution_count": null,
   "metadata": {},
   "outputs": [],
   "source": []
  }
 ],
 "metadata": {
  "kernelspec": {
   "display_name": "Python 3.10.6 64-bit",
   "language": "python",
   "name": "python3"
  },
  "language_info": {
   "codemirror_mode": {
    "name": "ipython",
    "version": 3
   },
   "file_extension": ".py",
   "mimetype": "text/x-python",
   "name": "python",
   "nbconvert_exporter": "python",
   "pygments_lexer": "ipython3",
   "version": "3.10.6"
  },
  "vscode": {
   "interpreter": {
    "hash": "e7370f93d1d0cde622a1f8e1c04877d8463912d04d973331ad4851f04de6915a"
   }
  }
 },
 "nbformat": 4,
 "nbformat_minor": 2
}
