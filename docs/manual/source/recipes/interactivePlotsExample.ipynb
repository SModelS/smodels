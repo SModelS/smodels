{
 "cells": [
  {
   "cell_type": "markdown",
   "metadata": {},
   "source": [
    "### Import the plot creator"
   ]
  },
  {
   "cell_type": "code",
   "execution_count": 1,
   "metadata": {},
   "outputs": [],
   "source": [
    "# Set up the path to SModelS installation folder\n",
    "import sys,os\n",
    "\n",
    "sys.path.append(\".\")\n",
    "\n",
    "import smodels_paths\n",
    "from smodels.tools.interactivePlots import PlotMaster\n",
    "from smodels.installation import installDirectory\n",
    "import smodels\n",
    "from types import SimpleNamespace\n"
   ]
  },
  {
   "cell_type": "markdown",
   "metadata": {},
   "source": [
    "### Define the input folders, the parameters file and where to store the plots"
   ]
  },
  {
   "cell_type": "code",
   "execution_count": 2,
   "metadata": {},
   "outputs": [],
   "source": [
    "smodelsOutput = './inputFiles/scanExample/smodels-output.tar.gz'\n",
    "slhaFiles = './inputFiles/scanExample/slhas.tar.gz'\n",
    "parameters = './iplots_parameters.py'\n",
    "indexfile = 'main.html'\n",
    "modelfile='{installDirectory()}/smodels/share/models/mssm.py'\n",
    "outputFolder = './'\n",
    "npoints = -1 #If negative will use all the points in the folders"
   ]
  },
  {
   "cell_type": "markdown",
   "metadata": {},
   "source": [
    "### Create plots"
   ]
  },
  {
   "cell_type": "code",
   "execution_count": 3,
   "metadata": {},
   "outputs": [
    {
     "data": {
      "text/plain": [
       "True"
      ]
     },
     "execution_count": 3,
     "metadata": {},
     "output_type": "execute_result"
    }
   ],
   "source": [
    "plotMaster = PlotMaster(smodelsOutput,slhaFiles,parameters,indexfile)\n",
    "loadData = plotMaster.loadData(npoints)\n",
    "plotMaster.makePlots(outputFolder)  \n"
   ]
  },
  {
   "cell_type": "markdown",
   "metadata": {},
   "source": [
    "### Display the output"
   ]
  },
  {
   "cell_type": "code",
   "execution_count": 4,
   "metadata": {},
   "outputs": [],
   "source": [
    "from IPython.core.display import display,HTML"
   ]
  },
  {
   "cell_type": "code",
   "execution_count": 5,
   "metadata": {},
   "outputs": [
    {
     "data": {
      "text/html": [
       "<html><head><font size=6>SModelS interactive plots: interactive plot example from a small pMSSM scan</font></head><p><strong>r<sub>max</sub></strong>: highest r-value from SModelS. <br><a href=r_max_non-excluded.html>non-excluded</a> <a href=r_max_all.html>all</a> <a href=r_max_excluded.html>excluded</a> </p><p><strong>Analysis</strong>: Experimental analysis from which the highest r-value comes from. <br><a href=Analysis_non-excluded.html>non-excluded</a> <a href=Analysis_all.html>all</a> <a href=Analysis_excluded.html>excluded</a> </p>"
      ],
      "text/plain": [
       "<IPython.core.display.HTML object>"
      ]
     },
     "metadata": {},
     "output_type": "display_data"
    }
   ],
   "source": [
    "#Main page (to open the plots go to the plots output folder and open them with the browser)\n",
    "mainFile = open(outputFolder + indexfile,'r')\n",
    "display(HTML(mainFile.read()))\n",
    "mainFile.close()"
   ]
  }
 ],
 "metadata": {
  "kernelspec": {
   "display_name": "Python 3",
   "language": "python",
   "name": "python3"
  },
  "language_info": {
   "codemirror_mode": {
    "name": "ipython",
    "version": 3
   },
   "file_extension": ".py",
   "mimetype": "text/x-python",
   "name": "python",
   "nbconvert_exporter": "python",
   "pygments_lexer": "ipython3",
   "version": "3.8.6"
  }
 },
 "nbformat": 4,
 "nbformat_minor": 4
}
