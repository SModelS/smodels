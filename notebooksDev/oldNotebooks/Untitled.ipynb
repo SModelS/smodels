{
 "cells": [
  {
   "cell_type": "code",
   "execution_count": 1,
   "metadata": {},
   "outputs": [],
   "source": [
    "from smodels.theory.particle import Particle,MultiParticle\n",
    "from smodels.theory.model import Model\n",
    "from smodels.tools.physicsUnits import MeV , GeV, fb\n",
    "from smodels.share.models.mssm import SMList,BSMList\n",
    "from smodels.theory.branch import Branch, decayBranches\n",
    "from smodels.theory import lheReader\n",
    "from smodels.tools.smodelsLogging import setLogLevel\n",
    "from smodels.experiment.finalStateParticles import finalStates\n",
    "setLogLevel('debug')"
   ]
  },
  {
   "cell_type": "code",
   "execution_count": 2,
   "metadata": {},
   "outputs": [
    {
     "name": "stdout",
     "output_type": "stream",
     "text": [
      "gluino\n",
      "{'_static': False, '_equals': [139743162575616], '_differs': [], 'Z2parity': 'odd', 'label': 'gluino', 'pdg': 1000021, 'eCharge': 0, 'colordim': 8, 'spin': 0.5} 139743162575616\n"
     ]
    }
   ],
   "source": [
    "m = Model(SMparticles=SMList,BSMparticles=BSMList,inputFile='./inputFiles/slha/higgsinoStop.slha')\n",
    "p = m.getParticlesWith(pdg=1000021)[0]\n",
    "print(p)\n",
    "print(p.__dict__,id(p))"
   ]
  },
  {
   "cell_type": "code",
   "execution_count": 3,
   "metadata": {},
   "outputs": [
    {
     "name": "stderr",
     "output_type": "stream",
     "text": [
      "DEBUG in model.updateParticles() in 171: Loaded 62 BSM particles\n",
      "DEBUG in model.updateParticles() in 232: Particle 1000001 has width above the threshold and will be assumed as prompt.\n",
      "DEBUG in model.updateParticles() in 234: Erasing quantum numbers of (prompt) particle 1000001.\n",
      "DEBUG in model.updateParticles() in 232: Particle 1000002 has width above the threshold and will be assumed as prompt.\n",
      "DEBUG in model.updateParticles() in 234: Erasing quantum numbers of (prompt) particle 1000002.\n",
      "DEBUG in model.updateParticles() in 232: Particle 2000001 has width above the threshold and will be assumed as prompt.\n",
      "DEBUG in model.updateParticles() in 234: Erasing quantum numbers of (prompt) particle 2000001.\n",
      "DEBUG in model.updateParticles() in 232: Particle 2000002 has width above the threshold and will be assumed as prompt.\n",
      "DEBUG in model.updateParticles() in 234: Erasing quantum numbers of (prompt) particle 2000002.\n",
      "DEBUG in model.updateParticles() in 232: Particle 1000003 has width above the threshold and will be assumed as prompt.\n",
      "DEBUG in model.updateParticles() in 234: Erasing quantum numbers of (prompt) particle 1000003.\n",
      "DEBUG in model.updateParticles() in 232: Particle 1000004 has width above the threshold and will be assumed as prompt.\n",
      "DEBUG in model.updateParticles() in 234: Erasing quantum numbers of (prompt) particle 1000004.\n",
      "DEBUG in model.updateParticles() in 232: Particle 2000003 has width above the threshold and will be assumed as prompt.\n",
      "DEBUG in model.updateParticles() in 234: Erasing quantum numbers of (prompt) particle 2000003.\n",
      "DEBUG in model.updateParticles() in 232: Particle 2000004 has width above the threshold and will be assumed as prompt.\n",
      "DEBUG in model.updateParticles() in 234: Erasing quantum numbers of (prompt) particle 2000004.\n",
      "DEBUG in model.updateParticles() in 232: Particle 1000005 has width above the threshold and will be assumed as prompt.\n",
      "DEBUG in model.updateParticles() in 234: Erasing quantum numbers of (prompt) particle 1000005.\n",
      "DEBUG in model.updateParticles() in 232: Particle 1000006 has width above the threshold and will be assumed as prompt.\n",
      "DEBUG in model.updateParticles() in 234: Erasing quantum numbers of (prompt) particle 1000006.\n",
      "DEBUG in model.updateParticles() in 232: Particle 2000005 has width above the threshold and will be assumed as prompt.\n",
      "DEBUG in model.updateParticles() in 234: Erasing quantum numbers of (prompt) particle 2000005.\n",
      "DEBUG in model.updateParticles() in 232: Particle 2000006 has width above the threshold and will be assumed as prompt.\n",
      "DEBUG in model.updateParticles() in 234: Erasing quantum numbers of (prompt) particle 2000006.\n",
      "DEBUG in model.updateParticles() in 232: Particle 1000011 has width above the threshold and will be assumed as prompt.\n",
      "DEBUG in model.updateParticles() in 234: Erasing quantum numbers of (prompt) particle 1000011.\n",
      "DEBUG in model.updateParticles() in 232: Particle 1000012 has width above the threshold and will be assumed as prompt.\n",
      "DEBUG in model.updateParticles() in 234: Erasing quantum numbers of (prompt) particle 1000012.\n",
      "DEBUG in model.updateParticles() in 232: Particle 2000011 has width above the threshold and will be assumed as prompt.\n",
      "DEBUG in model.updateParticles() in 234: Erasing quantum numbers of (prompt) particle 2000011.\n",
      "DEBUG in model.updateParticles() in 232: Particle 1000013 has width above the threshold and will be assumed as prompt.\n",
      "DEBUG in model.updateParticles() in 234: Erasing quantum numbers of (prompt) particle 1000013.\n",
      "DEBUG in model.updateParticles() in 232: Particle 1000014 has width above the threshold and will be assumed as prompt.\n",
      "DEBUG in model.updateParticles() in 234: Erasing quantum numbers of (prompt) particle 1000014.\n",
      "DEBUG in model.updateParticles() in 232: Particle 2000013 has width above the threshold and will be assumed as prompt.\n",
      "DEBUG in model.updateParticles() in 234: Erasing quantum numbers of (prompt) particle 2000013.\n",
      "DEBUG in model.updateParticles() in 232: Particle 1000015 has width above the threshold and will be assumed as prompt.\n",
      "DEBUG in model.updateParticles() in 234: Erasing quantum numbers of (prompt) particle 1000015.\n",
      "DEBUG in model.updateParticles() in 232: Particle 1000016 has width above the threshold and will be assumed as prompt.\n",
      "DEBUG in model.updateParticles() in 234: Erasing quantum numbers of (prompt) particle 1000016.\n",
      "DEBUG in model.updateParticles() in 232: Particle 2000015 has width above the threshold and will be assumed as prompt.\n",
      "DEBUG in model.updateParticles() in 234: Erasing quantum numbers of (prompt) particle 2000015.\n",
      "DEBUG in model.updateParticles() in 232: Particle 1000021 has width above the threshold and will be assumed as prompt.\n",
      "DEBUG in model.updateParticles() in 234: Erasing quantum numbers of (prompt) particle 1000021.\n",
      "DEBUG in model.updateParticles() in 227: Particle 1000022 has width below the threshold and will be assumed as stable\n",
      "DEBUG in model.updateParticles() in 232: Particle 1000025 has width above the threshold and will be assumed as prompt.\n",
      "DEBUG in model.updateParticles() in 234: Erasing quantum numbers of (prompt) particle 1000025.\n",
      "DEBUG in model.updateParticles() in 232: Particle 1000035 has width above the threshold and will be assumed as prompt.\n",
      "DEBUG in model.updateParticles() in 234: Erasing quantum numbers of (prompt) particle 1000035.\n",
      "DEBUG in model.updateParticles() in 232: Particle 1000037 has width above the threshold and will be assumed as prompt.\n",
      "DEBUG in model.updateParticles() in 234: Erasing quantum numbers of (prompt) particle 1000037.\n",
      "DEBUG in model.updateParticles() in 232: Particle -1000001 has width above the threshold and will be assumed as prompt.\n",
      "DEBUG in model.updateParticles() in 234: Erasing quantum numbers of (prompt) particle -1000001.\n",
      "DEBUG in model.updateParticles() in 232: Particle -1000002 has width above the threshold and will be assumed as prompt.\n",
      "DEBUG in model.updateParticles() in 234: Erasing quantum numbers of (prompt) particle -1000002.\n",
      "DEBUG in model.updateParticles() in 232: Particle -2000001 has width above the threshold and will be assumed as prompt.\n",
      "DEBUG in model.updateParticles() in 234: Erasing quantum numbers of (prompt) particle -2000001.\n",
      "DEBUG in model.updateParticles() in 232: Particle -2000002 has width above the threshold and will be assumed as prompt.\n",
      "DEBUG in model.updateParticles() in 234: Erasing quantum numbers of (prompt) particle -2000002.\n",
      "DEBUG in model.updateParticles() in 232: Particle -1000003 has width above the threshold and will be assumed as prompt.\n",
      "DEBUG in model.updateParticles() in 234: Erasing quantum numbers of (prompt) particle -1000003.\n",
      "DEBUG in model.updateParticles() in 232: Particle -1000004 has width above the threshold and will be assumed as prompt.\n",
      "DEBUG in model.updateParticles() in 234: Erasing quantum numbers of (prompt) particle -1000004.\n",
      "DEBUG in model.updateParticles() in 232: Particle -2000003 has width above the threshold and will be assumed as prompt.\n",
      "DEBUG in model.updateParticles() in 234: Erasing quantum numbers of (prompt) particle -2000003.\n",
      "DEBUG in model.updateParticles() in 232: Particle -2000004 has width above the threshold and will be assumed as prompt.\n",
      "DEBUG in model.updateParticles() in 234: Erasing quantum numbers of (prompt) particle -2000004.\n",
      "DEBUG in model.updateParticles() in 232: Particle -1000005 has width above the threshold and will be assumed as prompt.\n",
      "DEBUG in model.updateParticles() in 234: Erasing quantum numbers of (prompt) particle -1000005.\n",
      "DEBUG in model.updateParticles() in 232: Particle -1000006 has width above the threshold and will be assumed as prompt.\n",
      "DEBUG in model.updateParticles() in 234: Erasing quantum numbers of (prompt) particle -1000006.\n",
      "DEBUG in model.updateParticles() in 232: Particle -2000005 has width above the threshold and will be assumed as prompt.\n",
      "DEBUG in model.updateParticles() in 234: Erasing quantum numbers of (prompt) particle -2000005.\n",
      "DEBUG in model.updateParticles() in 232: Particle -2000006 has width above the threshold and will be assumed as prompt.\n",
      "DEBUG in model.updateParticles() in 234: Erasing quantum numbers of (prompt) particle -2000006.\n",
      "DEBUG in model.updateParticles() in 232: Particle -1000011 has width above the threshold and will be assumed as prompt.\n"
     ]
    },
    {
     "name": "stderr",
     "output_type": "stream",
     "text": [
      "DEBUG in model.updateParticles() in 234: Erasing quantum numbers of (prompt) particle -1000011.\n",
      "DEBUG in model.updateParticles() in 232: Particle -1000012 has width above the threshold and will be assumed as prompt.\n",
      "DEBUG in model.updateParticles() in 234: Erasing quantum numbers of (prompt) particle -1000012.\n",
      "DEBUG in model.updateParticles() in 232: Particle -2000011 has width above the threshold and will be assumed as prompt.\n",
      "DEBUG in model.updateParticles() in 234: Erasing quantum numbers of (prompt) particle -2000011.\n",
      "DEBUG in model.updateParticles() in 232: Particle -1000013 has width above the threshold and will be assumed as prompt.\n",
      "DEBUG in model.updateParticles() in 234: Erasing quantum numbers of (prompt) particle -1000013.\n",
      "DEBUG in model.updateParticles() in 232: Particle -1000014 has width above the threshold and will be assumed as prompt.\n",
      "DEBUG in model.updateParticles() in 234: Erasing quantum numbers of (prompt) particle -1000014.\n",
      "DEBUG in model.updateParticles() in 232: Particle -2000013 has width above the threshold and will be assumed as prompt.\n",
      "DEBUG in model.updateParticles() in 234: Erasing quantum numbers of (prompt) particle -2000013.\n",
      "DEBUG in model.updateParticles() in 232: Particle -1000015 has width above the threshold and will be assumed as prompt.\n",
      "DEBUG in model.updateParticles() in 234: Erasing quantum numbers of (prompt) particle -1000015.\n",
      "DEBUG in model.updateParticles() in 232: Particle -1000016 has width above the threshold and will be assumed as prompt.\n",
      "DEBUG in model.updateParticles() in 234: Erasing quantum numbers of (prompt) particle -1000016.\n",
      "DEBUG in model.updateParticles() in 232: Particle -2000015 has width above the threshold and will be assumed as prompt.\n",
      "DEBUG in model.updateParticles() in 234: Erasing quantum numbers of (prompt) particle -2000015.\n",
      "DEBUG in model.updateParticles() in 232: Particle -1000021 has width above the threshold and will be assumed as prompt.\n",
      "DEBUG in model.updateParticles() in 234: Erasing quantum numbers of (prompt) particle -1000021.\n",
      "DEBUG in model.updateParticles() in 227: Particle -1000022 has width below the threshold and will be assumed as stable\n",
      "DEBUG in model.updateParticles() in 232: Particle -1000025 has width above the threshold and will be assumed as prompt.\n",
      "DEBUG in model.updateParticles() in 234: Erasing quantum numbers of (prompt) particle -1000025.\n",
      "DEBUG in model.updateParticles() in 232: Particle -1000035 has width above the threshold and will be assumed as prompt.\n",
      "DEBUG in model.updateParticles() in 234: Erasing quantum numbers of (prompt) particle -1000035.\n",
      "DEBUG in model.updateParticles() in 232: Particle -1000037 has width above the threshold and will be assumed as prompt.\n",
      "DEBUG in model.updateParticles() in 234: Erasing quantum numbers of (prompt) particle -1000037.\n",
      "DEBUG in model.updateParticles() in 232: Particle 37 has width above the threshold and will be assumed as prompt.\n",
      "DEBUG in model.updateParticles() in 234: Erasing quantum numbers of (prompt) particle 37.\n",
      "DEBUG in model.updateParticles() in 249: Decay 37 -> [6, -5] is not of the form Z2-odd -> Z2-odd + [Z2-even particles] and will be ignored\n",
      "DEBUG in model.updateParticles() in 249: Decay 37 -> [1000024, 1000025] is not of the form Z2-odd -> Z2-odd + [Z2-even particles] and will be ignored\n",
      "DEBUG in model.updateParticles() in 249: Decay 37 -> [-15, 16] is not of the form Z2-odd -> Z2-odd + [Z2-even particles] and will be ignored\n",
      "DEBUG in model.updateParticles() in 249: Decay 37 -> [1000024, 1000023] is not of the form Z2-odd -> Z2-odd + [Z2-even particles] and will be ignored\n",
      "DEBUG in model.updateParticles() in 249: Decay 37 -> [4, -5] is not of the form Z2-odd -> Z2-odd + [Z2-even particles] and will be ignored\n",
      "DEBUG in model.updateParticles() in 249: Decay 37 -> [24, 25] is not of the form Z2-odd -> Z2-odd + [Z2-even particles] and will be ignored\n",
      "DEBUG in model.updateParticles() in 249: Decay 37 -> [4, -3] is not of the form Z2-odd -> Z2-odd + [Z2-even particles] and will be ignored\n",
      "DEBUG in model.updateParticles() in 249: Decay 37 -> [1000024, 1000022] is not of the form Z2-odd -> Z2-odd + [Z2-even particles] and will be ignored\n",
      "DEBUG in model.updateParticles() in 249: Decay 37 -> [-13, 14] is not of the form Z2-odd -> Z2-odd + [Z2-even particles] and will be ignored\n",
      "DEBUG in model.updateParticles() in 249: Decay 37 -> [2, -3] is not of the form Z2-odd -> Z2-odd + [Z2-even particles] and will be ignored\n",
      "DEBUG in model.updateParticles() in 249: Decay 37 -> [2, -5] is not of the form Z2-odd -> Z2-odd + [Z2-even particles] and will be ignored\n",
      "DEBUG in model.updateParticles() in 249: Decay 37 -> [24, 36] is not of the form Z2-odd -> Z2-odd + [Z2-even particles] and will be ignored\n",
      "DEBUG in model.updateParticles() in 232: Particle 36 has width above the threshold and will be assumed as prompt.\n",
      "DEBUG in model.updateParticles() in 234: Erasing quantum numbers of (prompt) particle 36.\n",
      "DEBUG in model.updateParticles() in 249: Decay 36 -> [5, -5] is not of the form Z2-odd -> Z2-odd + [Z2-even particles] and will be ignored\n",
      "DEBUG in model.updateParticles() in 249: Decay 36 -> [6, -6] is not of the form Z2-odd -> Z2-odd + [Z2-even particles] and will be ignored\n",
      "DEBUG in model.updateParticles() in 249: Decay 36 -> [1000022, 1000025] is not of the form Z2-odd -> Z2-odd + [Z2-even particles] and will be ignored\n",
      "DEBUG in model.updateParticles() in 249: Decay 36 -> [-15, 15] is not of the form Z2-odd -> Z2-odd + [Z2-even particles] and will be ignored\n",
      "DEBUG in model.updateParticles() in 249: Decay 36 -> [1000023, 1000025] is not of the form Z2-odd -> Z2-odd + [Z2-even particles] and will be ignored\n",
      "DEBUG in model.updateParticles() in 249: Decay 36 -> [1000024, -1000024] is not of the form Z2-odd -> Z2-odd + [Z2-even particles] and will be ignored\n",
      "DEBUG in model.updateParticles() in 249: Decay 36 -> [1000022, 1000022] is not of the form Z2-odd -> Z2-odd + [Z2-even particles] and will be ignored\n",
      "DEBUG in model.updateParticles() in 249: Decay 36 -> [1000023, 1000023] is not of the form Z2-odd -> Z2-odd + [Z2-even particles] and will be ignored\n",
      "DEBUG in model.updateParticles() in 249: Decay 36 -> [1000022, 1000023] is not of the form Z2-odd -> Z2-odd + [Z2-even particles] and will be ignored\n",
      "DEBUG in model.updateParticles() in 249: Decay 36 -> [21, 21] is not of the form Z2-odd -> Z2-odd + [Z2-even particles] and will be ignored\n",
      "DEBUG in model.updateParticles() in 249: Decay 36 -> [3, -3] is not of the form Z2-odd -> Z2-odd + [Z2-even particles] and will be ignored\n",
      "DEBUG in model.updateParticles() in 249: Decay 36 -> [23, 25] is not of the form Z2-odd -> Z2-odd + [Z2-even particles] and will be ignored\n",
      "DEBUG in model.updateParticles() in 249: Decay 36 -> [-13, 13] is not of the form Z2-odd -> Z2-odd + [Z2-even particles] and will be ignored\n",
      "DEBUG in model.updateParticles() in 249: Decay 36 -> [4, -4] is not of the form Z2-odd -> Z2-odd + [Z2-even particles] and will be ignored\n",
      "DEBUG in model.updateParticles() in 249: Decay 36 -> [23, 22] is not of the form Z2-odd -> Z2-odd + [Z2-even particles] and will be ignored\n",
      "DEBUG in model.updateParticles() in 249: Decay 36 -> [22, 22] is not of the form Z2-odd -> Z2-odd + [Z2-even particles] and will be ignored\n",
      "DEBUG in model.updateParticles() in 232: Particle 35 has width above the threshold and will be assumed as prompt.\n",
      "DEBUG in model.updateParticles() in 234: Erasing quantum numbers of (prompt) particle 35.\n",
      "DEBUG in model.updateParticles() in 249: Decay 35 -> [5, -5] is not of the form Z2-odd -> Z2-odd + [Z2-even particles] and will be ignored\n",
      "DEBUG in model.updateParticles() in 249: Decay 35 -> [6, -6] is not of the form Z2-odd -> Z2-odd + [Z2-even particles] and will be ignored\n",
      "DEBUG in model.updateParticles() in 249: Decay 35 -> [1000023, 1000025] is not of the form Z2-odd -> Z2-odd + [Z2-even particles] and will be ignored\n",
      "DEBUG in model.updateParticles() in 249: Decay 35 -> [-15, 15] is not of the form Z2-odd -> Z2-odd + [Z2-even particles] and will be ignored\n",
      "DEBUG in model.updateParticles() in 249: Decay 35 -> [1000022, 1000025] is not of the form Z2-odd -> Z2-odd + [Z2-even particles] and will be ignored\n",
      "DEBUG in model.updateParticles() in 249: Decay 35 -> [1000006, -1000006] is not of the form Z2-odd -> Z2-odd + [Z2-even particles] and will be ignored\n"
     ]
    },
    {
     "name": "stderr",
     "output_type": "stream",
     "text": [
      "DEBUG in model.updateParticles() in 249: Decay 35 -> [1000024, -1000024] is not of the form Z2-odd -> Z2-odd + [Z2-even particles] and will be ignored\n",
      "DEBUG in model.updateParticles() in 249: Decay 35 -> [1000022, 1000022] is not of the form Z2-odd -> Z2-odd + [Z2-even particles] and will be ignored\n",
      "DEBUG in model.updateParticles() in 249: Decay 35 -> [1000023, 1000023] is not of the form Z2-odd -> Z2-odd + [Z2-even particles] and will be ignored\n",
      "DEBUG in model.updateParticles() in 249: Decay 35 -> [1000022, 1000023] is not of the form Z2-odd -> Z2-odd + [Z2-even particles] and will be ignored\n",
      "DEBUG in model.updateParticles() in 249: Decay 35 -> [25, 25] is not of the form Z2-odd -> Z2-odd + [Z2-even particles] and will be ignored\n",
      "DEBUG in model.updateParticles() in 249: Decay 35 -> [24, -24] is not of the form Z2-odd -> Z2-odd + [Z2-even particles] and will be ignored\n",
      "DEBUG in model.updateParticles() in 249: Decay 35 -> [3, -3] is not of the form Z2-odd -> Z2-odd + [Z2-even particles] and will be ignored\n",
      "DEBUG in model.updateParticles() in 249: Decay 35 -> [-13, 13] is not of the form Z2-odd -> Z2-odd + [Z2-even particles] and will be ignored\n",
      "DEBUG in model.updateParticles() in 249: Decay 35 -> [23, 23] is not of the form Z2-odd -> Z2-odd + [Z2-even particles] and will be ignored\n",
      "DEBUG in model.updateParticles() in 249: Decay 35 -> [21, 21] is not of the form Z2-odd -> Z2-odd + [Z2-even particles] and will be ignored\n",
      "DEBUG in model.updateParticles() in 249: Decay 35 -> [4, -4] is not of the form Z2-odd -> Z2-odd + [Z2-even particles] and will be ignored\n",
      "DEBUG in model.updateParticles() in 249: Decay 35 -> [22, 22] is not of the form Z2-odd -> Z2-odd + [Z2-even particles] and will be ignored\n",
      "DEBUG in model.updateParticles() in 249: Decay 35 -> [23, 22] is not of the form Z2-odd -> Z2-odd + [Z2-even particles] and will be ignored\n",
      "DEBUG in model.updateParticles() in 249: Decay 35 -> [23, 36] is not of the form Z2-odd -> Z2-odd + [Z2-even particles] and will be ignored\n",
      "DEBUG in model.updateParticles() in 249: Decay 35 -> [36, 36] is not of the form Z2-odd -> Z2-odd + [Z2-even particles] and will be ignored\n",
      "DEBUG in model.updateParticles() in 232: Particle -37 has width above the threshold and will be assumed as prompt.\n",
      "DEBUG in model.updateParticles() in 234: Erasing quantum numbers of (prompt) particle -37.\n",
      "DEBUG in model.updateParticles() in 249: Decay -37 -> [6, -5] is not of the form Z2-odd -> Z2-odd + [Z2-even particles] and will be ignored\n",
      "DEBUG in model.updateParticles() in 249: Decay -37 -> [1000024, 1000025] is not of the form Z2-odd -> Z2-odd + [Z2-even particles] and will be ignored\n",
      "DEBUG in model.updateParticles() in 249: Decay -37 -> [-15, 16] is not of the form Z2-odd -> Z2-odd + [Z2-even particles] and will be ignored\n",
      "DEBUG in model.updateParticles() in 249: Decay -37 -> [1000024, 1000023] is not of the form Z2-odd -> Z2-odd + [Z2-even particles] and will be ignored\n",
      "DEBUG in model.updateParticles() in 249: Decay -37 -> [4, -5] is not of the form Z2-odd -> Z2-odd + [Z2-even particles] and will be ignored\n",
      "DEBUG in model.updateParticles() in 249: Decay -37 -> [24, 25] is not of the form Z2-odd -> Z2-odd + [Z2-even particles] and will be ignored\n",
      "DEBUG in model.updateParticles() in 249: Decay -37 -> [4, -3] is not of the form Z2-odd -> Z2-odd + [Z2-even particles] and will be ignored\n",
      "DEBUG in model.updateParticles() in 249: Decay -37 -> [1000024, 1000022] is not of the form Z2-odd -> Z2-odd + [Z2-even particles] and will be ignored\n",
      "DEBUG in model.updateParticles() in 249: Decay -37 -> [-13, 14] is not of the form Z2-odd -> Z2-odd + [Z2-even particles] and will be ignored\n",
      "DEBUG in model.updateParticles() in 249: Decay -37 -> [2, -3] is not of the form Z2-odd -> Z2-odd + [Z2-even particles] and will be ignored\n",
      "DEBUG in model.updateParticles() in 249: Decay -37 -> [2, -5] is not of the form Z2-odd -> Z2-odd + [Z2-even particles] and will be ignored\n",
      "DEBUG in model.updateParticles() in 249: Decay -37 -> [24, 36] is not of the form Z2-odd -> Z2-odd + [Z2-even particles] and will be ignored\n",
      "DEBUG in model.updateParticles() in 232: Particle -36 has width above the threshold and will be assumed as prompt.\n",
      "DEBUG in model.updateParticles() in 234: Erasing quantum numbers of (prompt) particle -36.\n",
      "DEBUG in model.updateParticles() in 249: Decay -36 -> [5, -5] is not of the form Z2-odd -> Z2-odd + [Z2-even particles] and will be ignored\n",
      "DEBUG in model.updateParticles() in 249: Decay -36 -> [6, -6] is not of the form Z2-odd -> Z2-odd + [Z2-even particles] and will be ignored\n",
      "DEBUG in model.updateParticles() in 249: Decay -36 -> [1000022, 1000025] is not of the form Z2-odd -> Z2-odd + [Z2-even particles] and will be ignored\n",
      "DEBUG in model.updateParticles() in 249: Decay -36 -> [-15, 15] is not of the form Z2-odd -> Z2-odd + [Z2-even particles] and will be ignored\n",
      "DEBUG in model.updateParticles() in 249: Decay -36 -> [1000023, 1000025] is not of the form Z2-odd -> Z2-odd + [Z2-even particles] and will be ignored\n",
      "DEBUG in model.updateParticles() in 249: Decay -36 -> [1000024, -1000024] is not of the form Z2-odd -> Z2-odd + [Z2-even particles] and will be ignored\n",
      "DEBUG in model.updateParticles() in 249: Decay -36 -> [1000022, 1000022] is not of the form Z2-odd -> Z2-odd + [Z2-even particles] and will be ignored\n",
      "DEBUG in model.updateParticles() in 249: Decay -36 -> [1000023, 1000023] is not of the form Z2-odd -> Z2-odd + [Z2-even particles] and will be ignored\n",
      "DEBUG in model.updateParticles() in 249: Decay -36 -> [1000022, 1000023] is not of the form Z2-odd -> Z2-odd + [Z2-even particles] and will be ignored\n",
      "DEBUG in model.updateParticles() in 249: Decay -36 -> [21, 21] is not of the form Z2-odd -> Z2-odd + [Z2-even particles] and will be ignored\n",
      "DEBUG in model.updateParticles() in 249: Decay -36 -> [3, -3] is not of the form Z2-odd -> Z2-odd + [Z2-even particles] and will be ignored\n",
      "DEBUG in model.updateParticles() in 249: Decay -36 -> [23, 25] is not of the form Z2-odd -> Z2-odd + [Z2-even particles] and will be ignored\n",
      "DEBUG in model.updateParticles() in 249: Decay -36 -> [-13, 13] is not of the form Z2-odd -> Z2-odd + [Z2-even particles] and will be ignored\n",
      "DEBUG in model.updateParticles() in 249: Decay -36 -> [4, -4] is not of the form Z2-odd -> Z2-odd + [Z2-even particles] and will be ignored\n",
      "DEBUG in model.updateParticles() in 249: Decay -36 -> [23, 22] is not of the form Z2-odd -> Z2-odd + [Z2-even particles] and will be ignored\n",
      "DEBUG in model.updateParticles() in 249: Decay -36 -> [22, 22] is not of the form Z2-odd -> Z2-odd + [Z2-even particles] and will be ignored\n",
      "DEBUG in model.updateParticles() in 232: Particle -35 has width above the threshold and will be assumed as prompt.\n",
      "DEBUG in model.updateParticles() in 234: Erasing quantum numbers of (prompt) particle -35.\n",
      "DEBUG in model.updateParticles() in 249: Decay -35 -> [5, -5] is not of the form Z2-odd -> Z2-odd + [Z2-even particles] and will be ignored\n",
      "DEBUG in model.updateParticles() in 249: Decay -35 -> [6, -6] is not of the form Z2-odd -> Z2-odd + [Z2-even particles] and will be ignored\n",
      "DEBUG in model.updateParticles() in 249: Decay -35 -> [1000023, 1000025] is not of the form Z2-odd -> Z2-odd + [Z2-even particles] and will be ignored\n",
      "DEBUG in model.updateParticles() in 249: Decay -35 -> [-15, 15] is not of the form Z2-odd -> Z2-odd + [Z2-even particles] and will be ignored\n",
      "DEBUG in model.updateParticles() in 249: Decay -35 -> [1000022, 1000025] is not of the form Z2-odd -> Z2-odd + [Z2-even particles] and will be ignored\n",
      "DEBUG in model.updateParticles() in 249: Decay -35 -> [1000006, -1000006] is not of the form Z2-odd -> Z2-odd + [Z2-even particles] and will be ignored\n",
      "DEBUG in model.updateParticles() in 249: Decay -35 -> [1000024, -1000024] is not of the form Z2-odd -> Z2-odd + [Z2-even particles] and will be ignored\n",
      "DEBUG in model.updateParticles() in 249: Decay -35 -> [1000022, 1000022] is not of the form Z2-odd -> Z2-odd + [Z2-even particles] and will be ignored\n",
      "DEBUG in model.updateParticles() in 249: Decay -35 -> [1000023, 1000023] is not of the form Z2-odd -> Z2-odd + [Z2-even particles] and will be ignored\n",
      "DEBUG in model.updateParticles() in 249: Decay -35 -> [1000022, 1000023] is not of the form Z2-odd -> Z2-odd + [Z2-even particles] and will be ignored\n"
     ]
    },
    {
     "name": "stderr",
     "output_type": "stream",
     "text": [
      "DEBUG in model.updateParticles() in 249: Decay -35 -> [25, 25] is not of the form Z2-odd -> Z2-odd + [Z2-even particles] and will be ignored\n",
      "DEBUG in model.updateParticles() in 249: Decay -35 -> [24, -24] is not of the form Z2-odd -> Z2-odd + [Z2-even particles] and will be ignored\n",
      "DEBUG in model.updateParticles() in 249: Decay -35 -> [3, -3] is not of the form Z2-odd -> Z2-odd + [Z2-even particles] and will be ignored\n",
      "DEBUG in model.updateParticles() in 249: Decay -35 -> [-13, 13] is not of the form Z2-odd -> Z2-odd + [Z2-even particles] and will be ignored\n",
      "DEBUG in model.updateParticles() in 249: Decay -35 -> [23, 23] is not of the form Z2-odd -> Z2-odd + [Z2-even particles] and will be ignored\n",
      "DEBUG in model.updateParticles() in 249: Decay -35 -> [21, 21] is not of the form Z2-odd -> Z2-odd + [Z2-even particles] and will be ignored\n",
      "DEBUG in model.updateParticles() in 249: Decay -35 -> [4, -4] is not of the form Z2-odd -> Z2-odd + [Z2-even particles] and will be ignored\n",
      "DEBUG in model.updateParticles() in 249: Decay -35 -> [22, 22] is not of the form Z2-odd -> Z2-odd + [Z2-even particles] and will be ignored\n",
      "DEBUG in model.updateParticles() in 249: Decay -35 -> [23, 22] is not of the form Z2-odd -> Z2-odd + [Z2-even particles] and will be ignored\n",
      "DEBUG in model.updateParticles() in 249: Decay -35 -> [23, 36] is not of the form Z2-odd -> Z2-odd + [Z2-even particles] and will be ignored\n",
      "DEBUG in model.updateParticles() in 249: Decay -35 -> [36, 36] is not of the form Z2-odd -> Z2-odd + [Z2-even particles] and will be ignored\n"
     ]
    }
   ],
   "source": [
    "m.updateParticles()"
   ]
  },
  {
   "cell_type": "code",
   "execution_count": 4,
   "metadata": {},
   "outputs": [
    {
     "name": "stdout",
     "output_type": "stream",
     "text": [
      "gluino\n",
      "{'_static': False, '_equals': [139743162575616], '_differs': [], 'Z2parity': 'odd', 'label': 'gluino', 'pdg': 1000021, 'mass': 1.61E+03 [GeV], 'decays': [ 0.5 [1000006, -6],  0.5 [-1000006, 6]], 'totalwidth': INF [GeV]} 139743162575616\n"
     ]
    }
   ],
   "source": [
    "p = m.getParticlesWith(pdg=1000021)[0]\n",
    "print(p)\n",
    "print(p.__dict__,id(p))"
   ]
  },
  {
   "cell_type": "code",
   "execution_count": 6,
   "metadata": {},
   "outputs": [],
   "source": [
    "for p in m.SMparticles:\n",
    "    if id(p) == 139950760344880:\n",
    "        print(p)\n",
    "        print(p.__dict__)"
   ]
  },
  {
   "cell_type": "code",
   "execution_count": 7,
   "metadata": {},
   "outputs": [
    {
     "name": "stdout",
     "output_type": "stream",
     "text": [
      "gluino\n"
     ]
    }
   ],
   "source": [
    "import gc\n",
    "\n",
    "for obj in gc.get_objects():\n",
    "    if id(obj) == 139950760344880:\n",
    "        print(obj)"
   ]
  },
  {
   "cell_type": "code",
   "execution_count": null,
   "metadata": {},
   "outputs": [],
   "source": []
  }
 ],
 "metadata": {
  "kernelspec": {
   "display_name": "Python 3",
   "language": "python",
   "name": "python3"
  },
  "language_info": {
   "codemirror_mode": {
    "name": "ipython",
    "version": 3
   },
   "file_extension": ".py",
   "mimetype": "text/x-python",
   "name": "python",
   "nbconvert_exporter": "python",
   "pygments_lexer": "ipython3",
   "version": "3.6.3"
  }
 },
 "nbformat": 4,
 "nbformat_minor": 2
}
