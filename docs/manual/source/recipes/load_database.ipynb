{
 "cells": [
  {
   "cell_type": "markdown",
   "metadata": {},
   "source": [
    "# How To: Load the database, selecting only a few results."
   ]
  },
  {
   "cell_type": "code",
   "execution_count": 1,
   "metadata": {},
   "outputs": [],
   "source": [
    "#Set up the path to SModelS installation folder if running on a different folder\n",
    "import sys; sys.path.append(\".\"); import smodels_paths"
   ]
  },
  {
   "cell_type": "code",
   "execution_count": 2,
   "metadata": {},
   "outputs": [],
   "source": [
    "from smodels.experiment.databaseObj import Database\n",
    "from smodels.base.physicsUnits import GeV"
   ]
  },
  {
   "cell_type": "code",
   "execution_count": 3,
   "metadata": {},
   "outputs": [],
   "source": [
    "## Load the official database:\n",
    "database = Database(\"official\")"
   ]
  },
  {
   "cell_type": "markdown",
   "metadata": {},
   "source": [
    "## How to select results from one publication (or conference note)"
   ]
  },
  {
   "cell_type": "code",
   "execution_count": 4,
   "metadata": {},
   "outputs": [],
   "source": [
    "#Select only the CMS SUS-12-028 conference note\n",
    "expID=[\"CMS-SUS-12-028\"]"
   ]
  },
  {
   "cell_type": "code",
   "execution_count": 5,
   "metadata": {},
   "outputs": [],
   "source": [
    "#Loads the selected analyses\n",
    "#(The INFO tells you that superseded analyses are not loaded, see below)\n",
    "results = database.getExpResults(analysisIDs=expID)"
   ]
  },
  {
   "cell_type": "code",
   "execution_count": 6,
   "metadata": {},
   "outputs": [
    {
     "name": "stdout",
     "output_type": "stream",
     "text": [
      "CMS-SUS-12-028:(0):T1,T1bbbb,T1tttt,T2,T2bb(5)\n",
      "T1 = [[['jet','jet']],[['jet','jet']]]\n",
      "T1bbbb = [[['b','b']],[['b','b']]]\n",
      "T1tttt = [[['t','t']],[['t','t']]]\n",
      "T2 = [[['jet']],[['jet']]]\n",
      "T2bb = [[['b']],[['b']]]\n"
     ]
    }
   ],
   "source": [
    "#Print all the results selected:\n",
    "for exp in results:\n",
    "    print (exp)\n",
    "#Print the txnames constrained by the result in bracket notation:\n",
    "exp = results[0]\n",
    "for tx in exp.getTxNames():\n",
    "    print (tx,'=',tx.constraint)"
   ]
  },
  {
   "cell_type": "code",
   "execution_count": 7,
   "metadata": {},
   "outputs": [
    {
     "name": "stdout",
     "output_type": "stream",
     "text": [
      "['y_values', 'txName', 'contact', 'txnameDataExp', 'finalState', 'dataMap', 'private', 'dataType', 'supersedes', 'npoints', 'reweightF', 'totalwidth', 'lastUpdate', 'condition', 'max_bound', 'validated', 'Leff_inner', 'furthest_site', 'intermediateState', 'conditionDescription', 'isSM', 'simplices', 'prettyName', 'susyProcess', 'sqrts', 'eCharge', 'paraboloid_shift', 'arxiv', 'delta_x', 'Leff_outer', 'SMparticles', 'dimensionality', 'comment', 'good', 'txnameList', 'particles', 'y_unit', 'label', 'dataId', 'dataInfo', 'dataUrl', 'publication', 'spin', 'arrayMap', 'canonName', 'equations', 'url', 'colordim', 'mass', 'constraint', 'source', 'figureUrl', 'id', 'full_dimensionality', 'tri', 'txnameData', 'min_bound', 'inputFile', 'datasets', 'type', 'lumi', 'neighbors', 'pdg', 'smsMap', 'paraboloid_scale', 'axes', 'ndim', 'implementedBy', 'globalInfo', 'BSMparticles', 'nsimplex', 'allBSMparticles', 'path', 'coplanar', 'vertices']\n"
     ]
    }
   ],
   "source": [
    "#Print ALL info fields available:\n",
    "exp = results[0]\n",
    "print (exp.getAttributes())"
   ]
  },
  {
   "cell_type": "code",
   "execution_count": 8,
   "metadata": {},
   "outputs": [
    {
     "name": "stdout",
     "output_type": "stream",
     "text": [
      "sqrts= [8.00E+00 [TeV]]\n",
      "lumi= [1.17E+01 [1/fb]]\n",
      "dataType= ['upperLimit']\n",
      "txnames= ['T1', 'T1bbbb', 'T1tttt', 'T2', 'T2bb']\n"
     ]
    }
   ],
   "source": [
    "#Print values for some of the info fields (always returned as a list):\n",
    "print ('sqrts=',exp.getValuesFor('sqrts'))\n",
    "print ('lumi=',exp.getValuesFor('lumi'))\n",
    "print ('dataType=',exp.getValuesFor('dataType'))\n",
    "print ('txnames=',exp.getValuesFor('txName'))"
   ]
  },
  {
   "cell_type": "code",
   "execution_count": 9,
   "metadata": {},
   "outputs": [
    {
     "name": "stdout",
     "output_type": "stream",
     "text": [
      "xsection upper limit =  2.11E+03 [fb]\n"
     ]
    }
   ],
   "source": [
    "#To obtain the upper limit for a given mass vector and a given simplified model (txname)\n",
    "#Note that the number of masses in the mass vector must be consitent with the txname.\n",
    "#For the T1 txname, for instance:\n",
    "massesT1 = [[300*GeV,100*GeV],[300*GeV,100*GeV]]\n",
    "print ('xsection upper limit = ',exp.getUpperLimitFor(mass=massesT1,txname='T1'))"
   ]
  },
  {
   "cell_type": "code",
   "execution_count": 10,
   "metadata": {},
   "outputs": [
    {
     "name": "stdout",
     "output_type": "stream",
     "text": [
      "xsection upper limit =  1.07E+03 [fb]\n"
     ]
    }
   ],
   "source": [
    "#For the T2 analysis:\n",
    "massesT2 = [[300*GeV,50*GeV],[300*GeV,50*GeV]]\n",
    "print ('xsection upper limit = ',exp.getUpperLimitFor(mass=massesT2,txname='T2'))"
   ]
  },
  {
   "cell_type": "code",
   "execution_count": 11,
   "metadata": {},
   "outputs": [
    {
     "name": "stdout",
     "output_type": "stream",
     "text": [
      "xsection upper limit =  1.07E+03 [fb]\n"
     ]
    }
   ],
   "source": [
    "#If you try with the wrong mass format, an error will be printed:\n",
    "masses = [[300*GeV,50*GeV],[300*GeV,50*GeV]]\n",
    "print ('xsection upper limit = ',exp.getUpperLimitFor(mass=masses,txname='T2'))"
   ]
  },
  {
   "cell_type": "markdown",
   "metadata": {},
   "source": [
    "## How to load results for one simplified model (txname)"
   ]
  },
  {
   "cell_type": "code",
   "execution_count": 12,
   "metadata": {},
   "outputs": [],
   "source": [
    "#It is also possible to load all the results for a single simplified (using the Txname convention)\n",
    "Txnames = [\"T1\"]\n",
    "T1results = database.getExpResults(txnames=Txnames)"
   ]
  },
  {
   "cell_type": "code",
   "execution_count": 13,
   "metadata": {},
   "outputs": [
    {
     "name": "stdout",
     "output_type": "stream",
     "text": [
      "ATLAS-SUSY-2015-06\n",
      "ATLAS-SUSY-2016-07\n",
      "ATLAS-SUSY-2016-07\n",
      "ATLAS-SUSY-2018-22\n",
      "ATLAS-SUSY-2018-22\n",
      "CMS-PAS-SUS-15-002\n",
      "CMS-PAS-SUS-16-014\n",
      "CMS-PAS-SUS-16-015\n",
      "CMS-SUS-15-002\n",
      "CMS-SUS-16-033\n",
      "CMS-SUS-16-033\n",
      "CMS-SUS-16-036\n",
      "CMS-SUS-19-006\n",
      "CMS-SUS-19-006-agg\n",
      "CMS-SUS-19-006\n",
      "ATLAS-CONF-2013-047\n",
      "ATLAS-CONF-2013-047\n",
      "ATLAS-CONF-2013-054\n",
      "ATLAS-CONF-2013-062\n",
      "ATLAS-SUSY-2013-02\n",
      "ATLAS-SUSY-2013-02\n",
      "CMS-SUS-12-028\n",
      "CMS-SUS-13-012\n",
      "CMS-SUS-13-012\n",
      "CMS-SUS-13-019\n"
     ]
    }
   ],
   "source": [
    "#Print all the results constraining the required Txname:\n",
    "for exp in T1results:\n",
    "    print (exp.globalInfo.id) #(or print exp.getValuesFor('id'))"
   ]
  },
  {
   "cell_type": "markdown",
   "metadata": {},
   "source": [
    "## How to load all experimental results, including the superseded publications"
   ]
  },
  {
   "cell_type": "code",
   "execution_count": 14,
   "metadata": {},
   "outputs": [
    {
     "name": "stdout",
     "output_type": "stream",
     "text": [
      "Number of non-superseded results =  185\n"
     ]
    }
   ],
   "source": [
    "#By default only non-supersed analyses are loaded:\n",
    "results = database.getExpResults()\n",
    "print ('Number of non-superseded results = ',len(results))"
   ]
  },
  {
   "cell_type": "code",
   "execution_count": null,
   "metadata": {},
   "outputs": [
    {
     "name": "stderr",
     "output_type": "stream",
     "text": [
      "WARNING in databaseObj.fetchFromScratch() in 668: downloading the database from https://smodels.github.io/database/superseded300-beta and caching in /home/lessa/.cache/smodels. If you want the pickled database file to be cached in a different location, set the environment variable SMODELS_CACHEDIR, e.g. to '/tmp'.\n"
     ]
    },
    {
     "name": "stdout",
     "output_type": "stream",
     "text": [
      "loading >................"
     ]
    }
   ],
   "source": [
    "database = Database(\"official+superseded\")\n",
    "#To load all results (including the superseded ones), load also the superseded database\n",
    "allResults = database.getExpResults()\n",
    "print ('Including superseded results =',len(allResults))"
   ]
  },
  {
   "cell_type": "markdown",
   "metadata": {},
   "source": [
    "## How to selected upper-limit and efficiency map results:"
   ]
  },
  {
   "cell_type": "code",
   "execution_count": null,
   "metadata": {},
   "outputs": [],
   "source": [
    "#Get only upper-limit results:\n",
    "ULresults =  database.getExpResults(dataTypes=['upperLimit'])\n",
    "for exp in ULresults:\n",
    "    print (exp.globalInfo.id,exp.datasets[0].dataInfo.dataType)"
   ]
  },
  {
   "cell_type": "code",
   "execution_count": null,
   "metadata": {},
   "outputs": [],
   "source": [
    "#Get only efficiency map results:\n",
    "EMresults =  database.getExpResults(dataTypes=['efficiencyMap'])\n",
    "for exp in EMresults:\n",
    "    print (exp.globalInfo.id,exp.datasets[0].dataInfo.dataType)"
   ]
  },
  {
   "cell_type": "code",
   "execution_count": null,
   "metadata": {},
   "outputs": [],
   "source": []
  }
 ],
 "metadata": {
  "kernelspec": {
   "display_name": "Python 3 (ipykernel)",
   "language": "python",
   "name": "python3"
  },
  "language_info": {
   "codemirror_mode": {
    "name": "ipython",
    "version": 3
   },
   "file_extension": ".py",
   "mimetype": "text/x-python",
   "name": "python",
   "nbconvert_exporter": "python",
   "pygments_lexer": "ipython3",
   "version": "3.10.4"
  }
 },
 "nbformat": 4,
 "nbformat_minor": 1
}
