{
 "cells": [
  {
   "cell_type": "code",
   "execution_count": 2,
   "id": "24838b80",
   "metadata": {},
   "outputs": [],
   "source": [
    "import sys\n",
    "sys.path.append('../')\n",
    "import networkx as nx\n",
    "import time\n",
    "from smodels.theory.exceptions import SModelSTheoryError as SModelSError\n",
    "from smodels.tools.smodelsLogging import logger\n",
    "import matplotlib.pyplot as plt\n",
    "from networkx.drawing.nx_agraph import graphviz_layout\n",
    "from smodels.theory.element import Element\n",
    "from smodels.theory.crossSection import XSection,XSectionInfo,XSectionList\n",
    "from smodels.particlesLoader import BSMList\n",
    "from smodels.share.models.SMparticles import SMList\n",
    "from smodels.theory.model import Model\n",
    "from smodels.tools.physicsUnits import fb, GeV\n",
    "from smodels.theory.tree import Tree,ParticleNode\n",
    "from smodels.theory.decomposer import cascadeDecay, addOneStepDecays\n",
    "import itertools"
   ]
  },
  {
   "cell_type": "code",
   "execution_count": null,
   "id": "9e3aab25",
   "metadata": {},
   "outputs": [],
   "source": [
    "class TopologyDict(dict):\n",
    "    \"\"\"\n",
    "    An instance of this class represents an iterable collection of topologies.\n",
    "\n",
    "    :ivar topos: list of topologies (Topology objects)\n",
    "\n",
    "    \"\"\"\n",
    "\n",
    "    def __init__(self):\n",
    "\n",
    "        self.__dict__ = {}\n",
    "        \n",
    "    def add(self,obj):\n",
    "        \n",
    "        if isinstance(obj,Element):\n",
    "            canonName = obj.canonName\n",
    "            if not canonName in self:\n",
    "                self[canonName] = [obj]\n",
    "            else:\n",
    "                elementList = self[canonName]\n",
    "                index = index_bisect(elementList, newelement)\n",
    "                if index != len(elementList) and elementList[index] == newelement:\n",
    "                    elementList[index] += newelement\n",
    "                else:\n",
    "                    elementList.insert(index,newelement)\n",
    "            \n",
    "            self[canonName] = elementList\n",
    "\n",
    "            return True"
   ]
  },
  {
   "cell_type": "code",
   "execution_count": 15,
   "id": "24715f9d",
   "metadata": {},
   "outputs": [
    {
     "data": {
      "text/plain": [
       "[1, 2, 2, 5, 5, 6]"
      ]
     },
     "execution_count": 15,
     "metadata": {},
     "output_type": "execute_result"
    }
   ],
   "source": [
    "x = [1,2,2]\n",
    "x.extend([5,5,6])\n",
    "x"
   ]
  },
  {
   "cell_type": "code",
   "execution_count": null,
   "id": "519ff05c",
   "metadata": {},
   "outputs": [],
   "source": [
    "x ="
   ]
  }
 ],
 "metadata": {
  "kernelspec": {
   "display_name": "Python 3 (ipykernel)",
   "language": "python",
   "name": "python3"
  },
  "language_info": {
   "codemirror_mode": {
    "name": "ipython",
    "version": 3
   },
   "file_extension": ".py",
   "mimetype": "text/x-python",
   "name": "python",
   "nbconvert_exporter": "python",
   "pygments_lexer": "ipython3",
   "version": "3.9.7"
  }
 },
 "nbformat": 4,
 "nbformat_minor": 5
}
