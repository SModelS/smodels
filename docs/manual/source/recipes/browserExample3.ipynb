{
 "cells": [
  {
   "cell_type": "markdown",
   "metadata": {},
   "source": [
    "### Load the browser"
   ]
  },
  {
   "cell_type": "code",
   "execution_count": 1,
   "metadata": {},
   "outputs": [],
   "source": [
    "# Set up the path to SModelS installation folder\n",
    "import sys; sys.path.append(\".\"); import smodels_paths"
   ]
  },
  {
   "cell_type": "code",
   "execution_count": 2,
   "metadata": {},
   "outputs": [
    {
     "name": "stdout",
     "output_type": "stream",
     "text": [
      "15\n"
     ]
    }
   ],
   "source": [
    "from smodels.tools import databaseBrowser\n",
    "# First load the browser and check the total number of results loaded\n",
    "# (using unittest database because it is a small database)\n",
    "browser = databaseBrowser.Browser(\"unittest\")\n",
    "print(len(browser))"
   ]
  },
  {
   "cell_type": "markdown",
   "metadata": {},
   "source": [
    "### Select only efficiency map results:"
   ]
  },
  {
   "cell_type": "code",
   "execution_count": 3,
   "metadata": {},
   "outputs": [
    {
     "name": "stdout",
     "output_type": "stream",
     "text": [
      "6\n"
     ]
    }
   ],
   "source": [
    "# Select only efficiency map results:\n",
    "browser.selectExpResultsWith(dataType ='efficiencyMap')\n",
    "# List the name of results loaded:\n",
    "print(len(browser))"
   ]
  },
  {
   "cell_type": "code",
   "execution_count": 4,
   "metadata": {},
   "outputs": [
    {
     "name": "stdout",
     "output_type": "stream",
     "text": [
      "ATLAS-SUSY-2018-16: CR_ewk_VV_high,CR_ewk_VV_low,CR_ewk_tau_high,CR_ewk_tau_low,CR_ewk_top_high,CR_ewk_top_low,CR_slep_VV_high,CR_slep_VV_low,CR_slep_tau_high,CR_slep_tau_low,CR_slep_top_high,CR_slep_top_low,SR_ewk_1l1T,SR_ewk_2l_ee_high_c,SR_ewk_2l_ee_high_d,SR_ewk_2l_ee_high_e,SR_ewk_2l_ee_high_f,SR_ewk_2l_ee_high_g,SR_ewk_2l_ee_high_h,SR_ewk_2l_ee_low_c,SR_ewk_2l_ee_low_d,SR_ewk_2l_ee_low_e,SR_ewk_2l_ee_low_f,SR_ewk_2l_ee_low_g,SR_ewk_2l_ee_low_h,SR_ewk_2l_ee_med_c,SR_ewk_2l_ee_med_d,SR_ewk_2l_ee_med_e,SR_ewk_2l_ee_med_f,SR_ewk_2l_high,SR_ewk_2l_low,SR_ewk_2l_med,SR_ewk_2l_mm_high_a,SR_ewk_2l_mm_high_b,SR_ewk_2l_mm_high_c,SR_ewk_2l_mm_high_d,SR_ewk_2l_mm_high_e,SR_ewk_2l_mm_high_f,SR_ewk_2l_mm_high_g,SR_ewk_2l_mm_high_h,SR_ewk_2l_mm_low_a,SR_ewk_2l_mm_low_b,SR_ewk_2l_mm_low_c,SR_ewk_2l_mm_low_d,SR_ewk_2l_mm_low_e,SR_ewk_2l_mm_low_f,SR_ewk_2l_mm_low_g,SR_ewk_2l_mm_low_h,SR_ewk_2l_mm_med_a,SR_ewk_2l_mm_med_b,SR_ewk_2l_mm_med_c,SR_ewk_2l_mm_med_d,SR_ewk_2l_mm_med_e,SR_ewk_2l_mm_med_f,SR_slep_2l_ee_high_a,SR_slep_2l_ee_high_b,SR_slep_2l_ee_high_c,SR_slep_2l_ee_high_d,SR_slep_2l_ee_high_e,SR_slep_2l_ee_high_f,SR_slep_2l_ee_high_g,SR_slep_2l_ee_high_h,SR_slep_2l_ee_low_a,SR_slep_2l_ee_low_b,SR_slep_2l_ee_low_c,SR_slep_2l_ee_low_d,SR_slep_2l_ee_low_e,SR_slep_2l_ee_low_f,SR_slep_2l_ee_low_g,SR_slep_2l_ee_low_h,SR_slep_2l_mm_high_a,SR_slep_2l_mm_high_b,SR_slep_2l_mm_high_c,SR_slep_2l_mm_high_d,SR_slep_2l_mm_high_e,SR_slep_2l_mm_high_f,SR_slep_2l_mm_high_g,SR_slep_2l_mm_high_h,SR_slep_2l_mm_low_a,SR_slep_2l_mm_low_b,SR_slep_2l_mm_low_c,SR_slep_2l_mm_low_d,SR_slep_2l_mm_low_e,SR_slep_2l_mm_low_f,SR_slep_2l_mm_low_g,SR_slep_2l_mm_low_h(86):TChiWZoff,TSlepSlep,TChiZoff,TChiWWoff(4)\n"
     ]
    }
   ],
   "source": [
    "# Now check the first result:\n",
    "print(browser[0])"
   ]
  },
  {
   "cell_type": "code",
   "execution_count": 5,
   "metadata": {},
   "outputs": [
    {
     "name": "stdout",
     "output_type": "stream",
     "text": [
      "16\n"
     ]
    }
   ],
   "source": [
    "# Now restore all results to the browser:\n",
    "browser.loadAllResults()\n",
    "print(len(browser))"
   ]
  },
  {
   "cell_type": "markdown",
   "metadata": {},
   "source": [
    "### Select only upper limit results:"
   ]
  },
  {
   "cell_type": "code",
   "execution_count": 6,
   "metadata": {},
   "outputs": [
    {
     "name": "stdout",
     "output_type": "stream",
     "text": [
      "9\n"
     ]
    }
   ],
   "source": [
    "# Select only efficiency map results:\n",
    "browser.selectExpResultsWith(dataType='upperLimit')\n",
    "# List the name of results loaded:\n",
    "print(len(browser))"
   ]
  },
  {
   "cell_type": "code",
   "execution_count": 7,
   "metadata": {},
   "outputs": [
    {
     "name": "stdout",
     "output_type": "stream",
     "text": [
      "ATLAS-SUSY-2016-08:(0):T5Disp(1)\n"
     ]
    }
   ],
   "source": [
    "# Now check the first result:\n",
    "print(browser[0])"
   ]
  }
 ],
 "metadata": {
  "kernelspec": {
   "display_name": "Python 3 (ipykernel)",
   "language": "python",
   "name": "python3"
  },
  "language_info": {
   "codemirror_mode": {
    "name": "ipython",
    "version": 3
   },
   "file_extension": ".py",
   "mimetype": "text/x-python",
   "name": "python",
   "nbconvert_exporter": "python",
   "pygments_lexer": "ipython3",
   "version": "3.12.3"
  }
 },
 "nbformat": 4,
 "nbformat_minor": 1
}
