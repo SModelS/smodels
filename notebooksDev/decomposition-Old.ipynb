{
 "cells": [
  {
   "cell_type": "code",
   "execution_count": 1,
   "metadata": {},
   "outputs": [],
   "source": [
    "import sys,os\n",
    "sys.path.append(os.path.expanduser('~/smodels'))\n",
    "import time\n",
    "from smodels.theory.exceptions import SModelSTheoryError as SModelSError\n",
    "from smodels.tools.smodelsLogging import logger\n",
    "import matplotlib.pyplot as plt\n",
    "from smodels.theory import element, topology\n",
    "from smodels.theory.branch import Branch, decayBranches\n",
    "from smodels.tools.physicsUnits import fb, GeV\n",
    "from smodels.tools.smodelsLogging import logger\n",
    "from smodels.tools.physicsUnits import fb,GeV,TeV\n",
    "from smodels.particlesLoader import BSMList\n",
    "from smodels.share.models.SMparticles import SMList\n",
    "from smodels.theory.model import Model\n",
    "%load_ext line_profiler"
   ]
  },
  {
   "cell_type": "markdown",
   "metadata": {},
   "source": [
    "### Decomposer"
   ]
  },
  {
   "cell_type": "code",
   "execution_count": 2,
   "metadata": {},
   "outputs": [],
   "source": [
    "def decompose(model, sigmacut= 0.1*fb, doCompress=True, doInvisible=True,\n",
    "              minmassgap= 0*GeV):\n",
    "    \"\"\"\n",
    "    Perform decomposition using the information stored in model.\n",
    "    \n",
    "    :param sigmacut: minimum sigma*BR to be generated, by default sigmacut = 0.1 fb\n",
    "    :param doCompress: turn mass compression on/off\n",
    "    :param doInvisible: turn invisible compression on/off\n",
    "    :param minmassgap: maximum value (in GeV) for considering two R-odd particles\n",
    "                       degenerate (only revelant for doCompress=True )\n",
    "    :returns: list of topologies (TopologyList object)\n",
    "\n",
    "    \"\"\"\n",
    "    t1 = time.time()\n",
    "    \n",
    "    xSectionList = model.xsections    \n",
    "    pdgList = model.getValuesFor('pdg')\n",
    "\n",
    "    if doCompress and minmassgap/GeV < 0.:\n",
    "        logger.error(\"Asked for compression without specifying minmassgap. Please set minmassgap.\")        \n",
    "        raise SModelSError()\n",
    "\n",
    "    if isinstance(sigmacut,(float,int)):\n",
    "        sigmacut = sigmacut*fb\n",
    "    sigmacut = sigmacut.asNumber(fb)\n",
    "\n",
    "    xSectionList.removeLowerOrder()\n",
    "    # Order xsections by PDGs to improve performance\n",
    "    xSectionList.order()\n",
    "\n",
    "    # Get maximum cross sections (weights) for single particles (irrespective\n",
    "    # of sqrtS)\n",
    "    maxWeight = {}\n",
    "    for pid in xSectionList.getPIDs():\n",
    "        maxWeight[pid] = xSectionList.getXsecsFor(pid).getMaxXsec().asNumber(fb)\n",
    "\n",
    "    # Generate dictionary, where keys are the PIDs and values \n",
    "    # are the list of cross sections for the PID pair (for performance)\n",
    "    xSectionListDict = {}    \n",
    "    for pids in xSectionList.getPIDpairs():\n",
    "        xSectionListDict[pids] = xSectionList.getXsecsFor(pids)\n",
    "\n",
    "    # Create 1-particle branches with all possible mothers    \n",
    "    branchList = []\n",
    "    for pid in maxWeight:\n",
    "        branchList.append(Branch())\n",
    "        bsmParticle = model.getParticlesWith(pdg=pid)\n",
    "        if not bsmParticle:\n",
    "            raise SModelSError(\"Particle for pdg %i has not been defined.\")\n",
    "        if len(bsmParticle) != 1:\n",
    "            raise SModelSError(\"Particle with pdg %i has multiple definitions.\")\n",
    "        branchList[-1].oddParticles = [bsmParticle[0]]\n",
    "        if not pid in pdgList:\n",
    "            logger.error(\"PDG %i has not been defined\" %int(pid))\n",
    "        branchList[-1].maxWeight = maxWeight[pid]  \n",
    "    print('Primary mothers = %i' %len(branchList))\n",
    "        \n",
    "    # Generate final branches (after all R-odd particles have decayed)\n",
    "    finalBranchList = decayBranches(branchList, sigmacut)\n",
    "    \n",
    "    print('Final branch list = %i' %len(finalBranchList))\n",
    "    \n",
    "    # Generate dictionary, where keys are the PIDs and values are the list of branches for the PID (for performance)\n",
    "    branchListDict = {}\n",
    "    for branch in finalBranchList:\n",
    "        if branch.oddParticles[0].pdg in branchListDict:\n",
    "            branchListDict[branch.oddParticles[0].pdg].append(branch)\n",
    "        else:\n",
    "            branchListDict[branch.oddParticles[0].pdg] = [branch]\n",
    "\n",
    "    for pid in xSectionList.getPIDs():\n",
    "        if not pid in branchListDict:\n",
    "            branchListDict[pid] = []\n",
    "\n",
    "    #Sort the branch lists by max weight to improve performance:\n",
    "    for pid in branchListDict:\n",
    "        branchListDict[pid] = sorted(branchListDict[pid], \n",
    "                                     key=lambda br: br.maxWeight, reverse=True)        \n",
    "\n",
    "    smsTopList = topology.TopologyList()\n",
    "\n",
    "    nEltot = 0\n",
    "    # Combine pairs of branches into elements according to production\n",
    "    # cross section list\n",
    "    for pids in xSectionList.getPIDpairs():\n",
    "        weightList = xSectionListDict[pids]\n",
    "        maxxsec = weightList.getMaxXsec().asNumber(fb)\n",
    "        if maxxsec == 0.: ## protection\n",
    "            continue\n",
    "        minBR = sigmacut/maxxsec\n",
    "        if minBR > 1.:\n",
    "            continue\n",
    "        for branch1 in branchListDict[pids[0]]:\n",
    "            BR1 =  branch1.maxWeight/maxWeight[pids[0]]  #Branching ratio for first branch            \n",
    "            if BR1 < minBR:\n",
    "                break #Stop loop if BR1 is already too low\n",
    "            for branch2 in branchListDict[pids[1]]:\n",
    "                BR2 =  branch2.maxWeight/maxWeight[pids[1]]  #Branching ratio for second branch                \n",
    "                if BR2 < minBR:\n",
    "                    break #Stop loop if BR2 is already too low        \n",
    "                                     \n",
    "                finalBR = BR1*BR2\n",
    "                if finalBR < minBR:\n",
    "                    continue # Skip elements with xsec below sigmacut\n",
    "                                       \n",
    "                nEltot += 1\n",
    "                newElement = element.Element([branch1, branch2])\n",
    "                newElement.weight = weightList*finalBR\n",
    "                newElement.sortBranches()  #Make sure elements are sorted BEFORE adding them              \n",
    "                smsTopList.addElement(newElement)                                                 \n",
    "\n",
    "    print('total number of elements = %i' %nEltot)\n",
    "    smsTopList.compressElements(doCompress, doInvisible, minmassgap)\n",
    "    smsTopList._setElementIds()       \n",
    "    print('total number of unique elements = %i' %len(smsTopList.getElements()))\n",
    "            \n",
    "    print(\"decomposer done in %.2f s.\" % (time.time() -t1 ) )\n",
    "  \n",
    "    return smsTopList"
   ]
  },
  {
   "cell_type": "markdown",
   "metadata": {},
   "source": [
    "### Load model"
   ]
  },
  {
   "cell_type": "code",
   "execution_count": 3,
   "metadata": {},
   "outputs": [],
   "source": [
    "slhafile = '../inputFiles/slha/lightEWinos.slha'\n",
    "# slhafile = '../inputFiles/slha/simplyGluino.slha'\n",
    "model = Model(BSMparticles=BSMList, SMparticles=SMList)\n",
    "model.updateParticles(inputFile=slhafile)\n"
   ]
  },
  {
   "cell_type": "code",
   "execution_count": 4,
   "metadata": {},
   "outputs": [
    {
     "name": "stdout",
     "output_type": "stream",
     "text": [
      "Primary mothers = 22\n",
      "Final branch list = 612\n",
      "total number of elements = 14647\n",
      "total number of unique elements = 5624\n",
      "decomposer done in 2.93 s.\n"
     ]
    }
   ],
   "source": [
    "sigmacut = 0.1*fb\n",
    "topList = decompose(model, sigmacut= sigmacut)"
   ]
  },
  {
   "cell_type": "code",
   "execution_count": 5,
   "metadata": {},
   "outputs": [
    {
     "name": "stdout",
     "output_type": "stream",
     "text": [
      "Primary mothers = 22\n",
      "Final branch list = 612\n",
      "total number of elements = 14647\n",
      "total number of unique elements = 5624\n",
      "decomposer done in 9.28 s.\n"
     ]
    }
   ],
   "source": [
    "%lprun -f decompose decompose(model, sigmacut= sigmacut)"
   ]
  },
  {
   "cell_type": "code",
   "execution_count": null,
   "metadata": {},
   "outputs": [],
   "source": []
  }
 ],
 "metadata": {
  "kernelspec": {
   "display_name": "Python 3 (ipykernel)",
   "language": "python",
   "name": "python3"
  },
  "language_info": {
   "codemirror_mode": {
    "name": "ipython",
    "version": 3
   },
   "file_extension": ".py",
   "mimetype": "text/x-python",
   "name": "python",
   "nbconvert_exporter": "python",
   "pygments_lexer": "ipython3",
   "version": "3.9.7"
  }
 },
 "nbformat": 4,
 "nbformat_minor": 2
}
