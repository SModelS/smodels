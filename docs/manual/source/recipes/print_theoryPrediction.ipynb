{
 "cells": [
  {
   "cell_type": "markdown",
   "metadata": {},
   "source": [
    "# How To: Print out the theory predictions"
   ]
  },
  {
   "cell_type": "code",
   "execution_count": 1,
   "metadata": {},
   "outputs": [],
   "source": [
    "# Set up the path to SModelS installation folder \n",
    "import sys; sys.path.append(\".\"); import smodels_paths"
   ]
  },
  {
   "cell_type": "code",
   "execution_count": 2,
   "metadata": {},
   "outputs": [],
   "source": [
    "# Import those parts of smodels that are needed for this exercise\n",
    "# (We will assume the input is a SLHA file. For LHE files, use the lheDecomposer instead)\n",
    "from smodels.share.models.mssm import BSMList\n",
    "from smodels.share.models.SMparticles import SMList\n",
    "from smodels.theory.model import Model\n",
    "from smodels.theory import decomposer\n",
    "from smodels.installation import installDirectory\n",
    "from smodels.tools.physicsUnits import fb, GeV\n",
    "from smodels.matcher.theoryPrediction import theoryPredictionsFor\n",
    "from smodels.experiment.databaseObj import Database"
   ]
  },
  {
   "cell_type": "code",
   "execution_count": 3,
   "metadata": {},
   "outputs": [],
   "source": [
    "# load the official database:\n",
    "database = Database( \"unittest\")\n",
    "# Get list of desired experimental results (by default all results):\n",
    "expResults = database.getExpResults()"
   ]
  },
  {
   "cell_type": "code",
   "execution_count": 4,
   "metadata": {},
   "outputs": [],
   "source": [
    "# Define the SLHA input file name\n",
    "filename=\"inputFiles/slha/gluino_squarks.slha\"\n",
    "model = Model(BSMparticles = BSMList, SMparticles = SMList)\n",
    "model.updateParticles(inputFile=filename)"
   ]
  },
  {
   "cell_type": "code",
   "execution_count": 5,
   "metadata": {},
   "outputs": [],
   "source": [
    "# Perform the decomposition:\n",
    "topList = decomposer.decompose(model, sigmacut = 10.0* fb, massCompress=True, invisibleCompress=True,minmassgap = 5* GeV)"
   ]
  },
  {
   "cell_type": "code",
   "execution_count": 6,
   "metadata": {},
   "outputs": [],
   "source": [
    "# Compute the theory prediction for each selected experimental result using the output from the decomposition:\n",
    "allThPredictions = [theoryPredictionsFor(exp, topList) for exp in expResults]"
   ]
  },
  {
   "cell_type": "code",
   "execution_count": 7,
   "metadata": {},
   "outputs": [
    {
     "name": "stdout",
     "output_type": "stream",
     "text": [
      "\n",
      "Experimental Result:  CMS-SUS-16-039 (upperLimit-type)\n",
      "Theory prediction xsec =  2.07E-01 [pb]\n",
      "Conditions violation (if any) =  None\n",
      "Dataset: None\n",
      "Txnames =  ['TChiWH']\n",
      "\n",
      "Experimental Result:  CMS-SUS-16-039 (upperLimit-type)\n",
      "Theory prediction xsec =  3.99E-02 [pb]\n",
      "Conditions violation (if any) =  None\n",
      "Dataset: None\n",
      "Txnames =  ['TChiWZ']\n",
      "\n",
      "Experimental Result:  ATLAS-SUSY-2013-02 (upperLimit-type)\n",
      "Theory prediction xsec =  5.50E-03 [pb]\n",
      "Conditions violation (if any) =  None\n",
      "Dataset: None\n",
      "Txnames =  ['T6WW']\n",
      "\n",
      "Experimental Result:  ATLAS-SUSY-2013-12 (upperLimit-type)\n",
      "Theory prediction xsec =  1.85E-02 [pb]\n",
      "Conditions violation (if any) =  None\n",
      "Dataset: None\n",
      "Txnames =  ['TChiWZ']\n"
     ]
    }
   ],
   "source": [
    "# Print information about each theory prediction for each result:\n",
    "for thPreds in allThPredictions:\n",
    "    if not thPreds: continue #skip results with no predictions\n",
    "    for theoryPred in thPreds:\n",
    "        print (\"\\nExperimental Result: \",theoryPred.expResult.globalInfo.id,\"(%s-type)\" %theoryPred.dataType() ) #Result ID\n",
    "        print (\"Theory prediction xsec = \",theoryPred.xsection) #Signal xsection*efficiency*BR\n",
    "        print (\"Conditions violation (if any) = \",theoryPred.conditions) #Condition values (for UL-type results)\n",
    "        print (\"Dataset:\",theoryPred.dataId() )  #Corresponding signal region (for EM-type results)\n",
    "        print (\"Txnames = \",[str(tx) for tx in theoryPred.txnames]) #List of simplified models (txnames) contributing to the signal xsec        "
   ]
  },
  {
   "cell_type": "code",
   "execution_count": null,
   "metadata": {},
   "outputs": [],
   "source": []
  }
 ],
 "metadata": {
  "kernelspec": {
   "display_name": "Python 3 (ipykernel)",
   "language": "python",
   "name": "python3"
  },
  "language_info": {
   "codemirror_mode": {
    "name": "ipython",
    "version": 3
   },
   "file_extension": ".py",
   "mimetype": "text/x-python",
   "name": "python",
   "nbconvert_exporter": "python",
   "pygments_lexer": "ipython3",
   "version": "3.9.7"
  }
 },
 "nbformat": 4,
 "nbformat_minor": 1
}
