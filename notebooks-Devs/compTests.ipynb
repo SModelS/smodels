{
 "cells": [
  {
   "cell_type": "code",
   "execution_count": 1,
   "id": "6ca6e807",
   "metadata": {},
   "outputs": [],
   "source": [
    "import time\n",
    "import numpy as np\n",
    "import itertools"
   ]
  },
  {
   "cell_type": "code",
   "execution_count": 2,
   "id": "4a4dedf2",
   "metadata": {},
   "outputs": [],
   "source": [
    "def comp(a,b):\n",
    "    time.sleep(0.1) #  Fake expensive comparison\n",
    "    if np.mod(a,b):\n",
    "        return 0\n",
    "    else:\n",
    "        if a > b:\n",
    "            return 1\n",
    "        else:\n",
    "            return -1"
   ]
  },
  {
   "cell_type": "code",
   "execution_count": 3,
   "id": "bd686c92",
   "metadata": {},
   "outputs": [],
   "source": [
    "listA = [5,8,12,9281,1354,87125]\n",
    "listB = [1,7,123,121415,68767,2345]\n",
    "listC = [5,7,123,121415,68767,2345]"
   ]
  },
  {
   "cell_type": "code",
   "execution_count": 4,
   "id": "8fe654ba",
   "metadata": {},
   "outputs": [],
   "source": [
    "def compLists0(A,B):\n",
    "    matchesDict = {}\n",
    "    \n",
    "    for b in B:\n",
    "        matches = {a : comp(a,b) for a in A}\n",
    "        matchValues = list(matches.values())\n",
    "        if 0 not in matchValues:\n",
    "            return max(matchValues)\n",
    "        matchesDict[b] = matches\n",
    "\n",
    "    return matchesDict\n",
    "    \n",
    "    allPerms = itertools.permutations(B)\n",
    "    for perm in allPerms:\n",
    "        daughters2_perm = list(perm)\n",
    "        print('d=',daughters2_perm)\n",
    "        for i2, d2 in enumerate(daughters2_perm):\n",
    "            cmp = comp(A[i2],d2)\n",
    "            if cmp != 0:\n",
    "                break\n",
    "        else:\n",
    "            # Found matching permutation\n",
    "            return perm\n",
    "    \n",
    "    return None\n"
   ]
  },
  {
   "cell_type": "code",
   "execution_count": 5,
   "id": "be87b475",
   "metadata": {},
   "outputs": [
    {
     "name": "stdout",
     "output_type": "stream",
     "text": [
      "done in 0.60\n",
      "1\n"
     ]
    }
   ],
   "source": [
    "t0 = time.time()\n",
    "mDict = compLists0(listA,listB)\n",
    "print('done in %1.2f' %(time.time()-t0))\n",
    "print(mDict)"
   ]
  },
  {
   "cell_type": "code",
   "execution_count": 8,
   "id": "9c3a61fa",
   "metadata": {},
   "outputs": [
    {
     "name": "stdout",
     "output_type": "stream",
     "text": [
      "done in 3.61\n",
      "{5: {5: -1, 8: 0, 12: 0, 9281: 0, 1354: 0, 87125: 1}, 7: {5: 0, 8: 0, 12: 0, 9281: 0, 1354: 0, 87125: 0}, 123: {5: 0, 8: 0, 12: 0, 9281: 0, 1354: 0, 87125: 0}, 121415: {5: 0, 8: 0, 12: 0, 9281: 0, 1354: 0, 87125: 0}, 68767: {5: 0, 8: 0, 12: 0, 9281: 0, 1354: 0, 87125: 0}, 2345: {5: 0, 8: 0, 12: 0, 9281: 0, 1354: 0, 87125: 0}}\n"
     ]
    }
   ],
   "source": [
    "t0 = time.time()\n",
    "mDict = compLists0(listA,listC)\n",
    "print('done in %1.2f' %(time.time()-t0))\n",
    "print(mDict)"
   ]
  },
  {
   "cell_type": "code",
   "execution_count": 9,
   "id": "49ae8e50",
   "metadata": {},
   "outputs": [
    {
     "name": "stdout",
     "output_type": "stream",
     "text": [
      "{5: [8, 12, 1354, 9281], 7: [5, 8, 12, 1354, 9281, 87125], 123: [5, 8, 12, 1354, 9281, 87125], 121415: [5, 8, 12, 1354, 9281, 87125], 68767: [5, 8, 12, 1354, 9281, 87125], 2345: [5, 8, 12, 1354, 9281, 87125]}\n"
     ]
    }
   ],
   "source": [
    "for k,v in mDict.items():\n",
    "    matches = sorted([x for x,cmp in v.items() if cmp == 0])\n",
    "    mDict[k] = matches\n",
    "print(mDict)    "
   ]
  },
  {
   "cell_type": "code",
   "execution_count": 10,
   "id": "7225db60",
   "metadata": {},
   "outputs": [],
   "source": [
    "from collections import Counter"
   ]
  },
  {
   "cell_type": "code",
   "execution_count": 12,
   "id": "0d1115ea",
   "metadata": {},
   "outputs": [
    {
     "data": {
      "text/plain": [
       "Counter({8: 6, 12: 6, 1354: 6, 9281: 6, 5: 5, 87125: 5})"
      ]
     },
     "execution_count": 12,
     "metadata": {},
     "output_type": "execute_result"
    }
   ],
   "source": [
    "allMatches = []\n",
    "for v in mDict.values():\n",
    "    allMatches += v\n",
    "c = Counter(allMatches)\n",
    "c"
   ]
  },
  {
   "cell_type": "code",
   "execution_count": 13,
   "id": "40dfa797",
   "metadata": {},
   "outputs": [
    {
     "data": {
      "text/plain": [
       "6"
      ]
     },
     "execution_count": 13,
     "metadata": {},
     "output_type": "execute_result"
    }
   ],
   "source": [
    "len(mDict)"
   ]
  },
  {
   "cell_type": "code",
   "execution_count": null,
   "id": "007f90d4",
   "metadata": {},
   "outputs": [],
   "source": []
  }
 ],
 "metadata": {
  "kernelspec": {
   "display_name": "Python 3 (ipykernel)",
   "language": "python",
   "name": "python3"
  },
  "language_info": {
   "codemirror_mode": {
    "name": "ipython",
    "version": 3
   },
   "file_extension": ".py",
   "mimetype": "text/x-python",
   "name": "python",
   "nbconvert_exporter": "python",
   "pygments_lexer": "ipython3",
   "version": "3.9.7"
  }
 },
 "nbformat": 4,
 "nbformat_minor": 5
}
