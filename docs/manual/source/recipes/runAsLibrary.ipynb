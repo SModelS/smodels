{
 "cells": [
  {
   "cell_type": "markdown",
   "metadata": {},
   "source": [
    "# How To: Run SModelS as a python library"
   ]
  },
  {
   "cell_type": "code",
   "execution_count": 1,
   "metadata": {},
   "outputs": [],
   "source": [
    "# Set up the path to SModelS installation folder\n",
    "import sys; sys.path.append(\".\"); import smodels_paths"
   ]
  },
  {
   "cell_type": "code",
   "execution_count": 2,
   "metadata": {},
   "outputs": [],
   "source": [
    "from smodels.tools import runtime\n",
    "#Define your model (list of rEven and rOdd particles)\n",
    "runtime.modelFile = 'smodels.share.models.mssm' \n",
    "\n",
    "from smodels import particlesLoader\n",
    "from smodels.theory import decomposer\n",
    "from smodels.tools.physicsUnits import fb, GeV, TeV\n",
    "from smodels.theory.theoryPrediction import theoryPredictionsFor\n",
    "from smodels.experiment.databaseObj import Database\n",
    "from smodels.tools import coverage\n",
    "from smodels.tools.smodelsLogging import setLogLevel\n",
    "from smodels.particlesLoader import BSMList                                                   \n",
    "from smodels.share.models.SMparticles import SMList                                           \n",
    "from smodels.theory.model import Model\n",
    "setLogLevel(\"info\")"
   ]
  },
  {
   "cell_type": "markdown",
   "metadata": {},
   "source": [
    "### Main input:"
   ]
  },
  {
   "cell_type": "code",
   "execution_count": 3,
   "metadata": {},
   "outputs": [
    {
     "name": "stderr",
     "output_type": "stream",
     "text": [
      "INFO in model.updateParticles() in 385: Loaded 62 BSM particles\n"
     ]
    }
   ],
   "source": [
    "model = Model(BSMparticles=BSMList, SMparticles=SMList)\n",
    " \n",
    "slhafile = 'inputFiles/slha/lightEWinos.slha'\n",
    "model.updateParticles ( inputFile = slhafile )"
   ]
  },
  {
   "cell_type": "markdown",
   "metadata": {},
   "source": [
    "### Decompose the input model:"
   ]
  },
  {
   "cell_type": "code",
   "execution_count": 4,
   "metadata": {},
   "outputs": [
    {
     "name": "stdout",
     "output_type": "stream",
     "text": [
      "\n",
      " Decomposition Results: \n",
      "\t  Total number of topologies: 51 \n",
      "\t  Total number of elements = 14985 \n"
     ]
    }
   ],
   "source": [
    "# Set main options for decomposition\n",
    "sigmacut = 0.01 * fb\n",
    "mingap = 5. * GeV\n",
    "# Decompose model (use slhaDecomposer for SLHA input or lheDecomposer for LHE input)\n",
    "toplist = decomposer.decompose(model, sigmacut, doCompress=True, doInvisible=True, minmassgap=mingap)\n",
    "\n",
    "# Access basic information from decomposition, using the topology list and topology objects:\n",
    "print( \"\\n Decomposition Results: \" )\n",
    "print( \"\\t  Total number of topologies: %i \" %len(toplist) )\n",
    "nel = sum([len(top.elementList) for top in toplist])\n",
    "print( \"\\t  Total number of elements = %i \" %nel )"
   ]
  },
  {
   "cell_type": "markdown",
   "metadata": {},
   "source": [
    "### Load the Database of experimental results:"
   ]
  },
  {
   "cell_type": "code",
   "execution_count": 5,
   "metadata": {},
   "outputs": [
    {
     "name": "stderr",
     "output_type": "stream",
     "text": [
      "INFO in databaseObj.loadBinaryFile() in 496: loading binary db file /home/lessa/.cache/smodels/official220.pcl format version 214\n",
      "INFO in databaseObj.loadBinaryFile() in 503: Loaded database from /home/lessa/.cache/smodels/official220.pcl in 1.4 secs.\n"
     ]
    }
   ],
   "source": [
    "# Set the path to the database\n",
    "database = Database(\"official\")\n",
    "# Load the experimental results to be used.\n",
    "# In this case, all results are employed.\n",
    "listOfExpRes = database.getExpResults( analysisIDs = [ \"ATLAS-SUSY-2015-06\" ])\n",
    "\n",
    "# Print basic information about the results loaded.\n",
    "# Count the number of loaded UL and EM experimental results:\n",
    "nUL, nEM = 0, 0\n",
    "for exp in listOfExpRes:\n",
    "    # expType = exp.getValuesFor('dataType')[0]\n",
    "    expType = exp.datasets[0].dataInfo.dataType\n",
    "    if expType == 'upperLimit':\n",
    "        nUL += 1\n",
    "    elif  expType == 'efficiencyMap':\n",
    "        nEM += 1\n",
    "# print(\"\\n Loaded Database with %i UL results and %i EM results \" %(nUL,nEM))"
   ]
  },
  {
   "cell_type": "markdown",
   "metadata": {},
   "source": [
    "### Match the decomposed simplified models with the experimental database of constraints:"
   ]
  },
  {
   "cell_type": "code",
   "execution_count": 6,
   "metadata": {},
   "outputs": [
    {
     "name": "stdout",
     "output_type": "stream",
     "text": [
      "\n",
      " Theory Predictions and Constraints:\n",
      "\n",
      " ATLAS-SUSY-2015-06 (13 TeV)\n",
      "------------------------\n",
      "TxNames =  ['T1', 'T2']\n",
      "Theory Prediction =  5.28E-06 [pb]\n",
      "UL for theory prediction =  1.79E+00 [fb]\n",
      "r =  0.0029506296753791764\n",
      "L_BSM, L_SM, L_max = 0.007168383173308842 0.007214985691269061 0.007214985691269061\n",
      "\n",
      "The largest r-value (theory/upper limit ratio) is  0.0029506296753791764\n",
      "(The input model is not excluded by the simplified model results)\n"
     ]
    }
   ],
   "source": [
    "# Compute the theory predictions for each experimental result and print them:\n",
    "print(\"\\n Theory Predictions and Constraints:\")\n",
    "rmax = 0.\n",
    "bestResult = None\n",
    "for expResult in listOfExpRes:\n",
    "    predictions = theoryPredictionsFor(expResult, toplist)\n",
    "    if not predictions: continue # Skip if there are no constraints from this result\n",
    "    print('\\n %s (%i TeV)' %(expResult.globalInfo.id,expResult.globalInfo.sqrts.asNumber(TeV)))\n",
    "    for theoryPrediction in predictions:\n",
    "        dataset = theoryPrediction.dataset\n",
    "        datasetID = theoryPrediction.dataId()\n",
    "        mass = theoryPrediction.mass\n",
    "        txnames = [str(txname) for txname in theoryPrediction.txnames]\n",
    "        PIDs =  theoryPrediction.PIDs         \n",
    "        print( \"------------------------\" )\n",
    "        print( \"TxNames = \",txnames )  \n",
    "        print( \"Theory Prediction = \",theoryPrediction.xsection.value )  #Signal cross section\n",
    "        # Get the corresponding upper limit:\n",
    "        print( \"UL for theory prediction = \",theoryPrediction.upperLimit )\n",
    "        # Compute the r-value\n",
    "        r = theoryPrediction.getRValue()\n",
    "        print( \"r = \",r )\n",
    "        #Compute likelihhod and chi^2 for EM-type results:\n",
    "        if theoryPrediction.dataType() == 'efficiencyMap':\n",
    "            theoryPrediction.computeStatistics()\n",
    "            print('L_BSM, L_SM, L_max =', theoryPrediction.likelihood(), theoryPrediction.lsm(), theoryPrediction.lmax() )\n",
    "        if r > rmax:\n",
    "            rmax = r\n",
    "            bestResult = expResult.globalInfo.id\n",
    "\n",
    "# Print the most constraining experimental result\n",
    "print( \"\\nThe largest r-value (theory/upper limit ratio) is \",rmax )\n",
    "if rmax > 1.:\n",
    "    print( \"(The input model is likely excluded by %s)\" %bestResult )\n",
    "else:\n",
    "    print( \"(The input model is not excluded by the simplified model results)\" )"
   ]
  },
  {
   "cell_type": "markdown",
   "metadata": {},
   "source": [
    "### Check for simplified models in the input model which were not tested by the Database:"
   ]
  },
  {
   "cell_type": "code",
   "execution_count": 7,
   "metadata": {},
   "outputs": [
    {
     "name": "stdout",
     "output_type": "stream",
     "text": [
      "\n",
      "Total cross-section for missing topologies (fb):  3.852E+03\n",
      "\n",
      "\n",
      "Total cross-section for missing topologies with displaced decays (fb):  0.000E+00\n",
      "\n",
      "\n",
      "Total cross-section for missing topologies with prompt decays (fb):  3.852E+03\n",
      "\n",
      "\n",
      "Total cross-section for topologies outside the grid (fb):  1.530E+03\n",
      "\n",
      "Missing topologies (up to 3):\n",
      "Element: [[[jet,jet]],[[l,nu]]]  (MET,MET)\n",
      "\tcross-section (fb): 644.0092445884675\n",
      "Element: [[[jet,jet]],[[nu,ta]]]  (MET,MET)\n",
      "\tcross-section (fb): 321.1539651599444\n",
      "Element: [[[jet,jet]],[[b,b]]]  (MET,MET)\n",
      "\tcross-section (fb): 274.43218534400495\n",
      "\n",
      "No displaced decays\n"
     ]
    }
   ],
   "source": [
    "#Find out missing topologies for sqrts=8*TeV:             \n",
    "uncovered = coverage.Uncovered(toplist,sqrts=8.*TeV)\n",
    "#First sort coverage groups by label                                          \n",
    "groups = sorted(uncovered.groups[:], key = lambda g: g.label)\n",
    "#Print uncovered cross-sections:                             \n",
    "for group in groups:\n",
    "    print(\"\\nTotal cross-section for %s (fb): %10.3E\\n\" %(group.description,group.getTotalXSec()))\n",
    "\n",
    "missingTopos = uncovered.getGroup('missing (prompt)')\n",
    "#Print some of the missing topologies:\n",
    "if missingTopos.generalElements:\n",
    "    print('Missing topologies (up to 3):' )\n",
    "    for genEl in missingTopos.generalElements[:3]:\n",
    "        print('Element:', genEl)\n",
    "        print('\\tcross-section (fb):', genEl.missingX)\n",
    "else:\n",
    "    print(\"No missing topologies found\\n\")\n",
    "\n",
    "missingDisplaced = uncovered.getGroup('missing (displaced)')\n",
    "#Print elements with displaced decays:                              \n",
    "if missingDisplaced.generalElements:\n",
    "    print('\\nElements with displaced vertices (up to 2):' )\n",
    "    for genEl in missingDisplaced.generalElements[:2]:                                    \n",
    "        print('Element:', genEl)                                                          \n",
    "        print('\\tcross-section (fb):', genEl.missingX)                                    \n",
    "else:                                                                                     \n",
    "    print(\"\\nNo displaced decays\")"
   ]
  },
  {
   "cell_type": "code",
   "execution_count": null,
   "metadata": {},
   "outputs": [],
   "source": []
  }
 ],
 "metadata": {
  "kernelspec": {
   "display_name": "Python 3 (ipykernel)",
   "language": "python",
   "name": "python3"
  },
  "language_info": {
   "codemirror_mode": {
    "name": "ipython",
    "version": 3
   },
   "file_extension": ".py",
   "mimetype": "text/x-python",
   "name": "python",
   "nbconvert_exporter": "python",
   "pygments_lexer": "ipython3",
   "version": "3.9.7"
  }
 },
 "nbformat": 4,
 "nbformat_minor": 1
}
