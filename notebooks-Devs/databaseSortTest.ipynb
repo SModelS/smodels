{
 "cells": [
  {
   "cell_type": "code",
   "execution_count": 1,
   "metadata": {},
   "outputs": [],
   "source": [
    "import sys\n",
    "sys.path.append('../')\n",
    "import matplotlib.pyplot as plt\n",
    "from smodels.decomposition.theorySMS import TheorySMS\n",
    "from smodels.experiment.expSMS import ExpSMS\n",
    "from smodels.share.models.mssm import BSMList\n",
    "from smodels.share.models.SMparticles import SMList\n",
    "from smodels.experiment.defaultFinalStates import finalStates\n",
    "from smodels.base.model import Model\n",
    "from collections import OrderedDict\n",
    "from smodels.base.physicsUnits import fb, GeV\n",
    "from itertools import product\n",
    "from smodels.experiment.databaseObj import Database\n",
    "import copy"
   ]
  },
  {
   "cell_type": "markdown",
   "metadata": {},
   "source": [
    "### Get database"
   ]
  },
  {
   "cell_type": "code",
   "execution_count": 2,
   "metadata": {
    "scrolled": true
   },
   "outputs": [],
   "source": [
    "db = Database('official')"
   ]
  },
  {
   "cell_type": "code",
   "execution_count": 3,
   "metadata": {},
   "outputs": [
    {
     "name": "stderr",
     "output_type": "stream",
     "text": [
      "ERROR in txnameObj.sortSMSMap() in 260: Can not set the SMS in T6WZh to the standard format.\n",
      "Make sure the constraint [[[jet],[Z]],[[jet],[W]]]+[[[jet],[higgs]],[[jet],[W]]]+[[[jet],[W]],[[jet],[W]]]+[[[jet],[Z]],[[jet],[Z]]]+[[[jet],[higgs]],[[jet],[higgs]]]+[[[jet],[Z]],[[jet],[higgs]]] is consistent with the data grid for all the SMS appearing in the constraint.\n"
     ]
    },
    {
     "name": "stdout",
     "output_type": "stream",
     "text": [
      "Failed for:\n",
      "ATLAS-SUSY-2016-07 T6WZh\n",
      "[[[jet],[Z]],[[jet],[W]]]+[[[jet],[higgs]],[[jet],[W]]]+[[[jet],[W]],[[jet],[W]]]+[[[jet],[Z]],[[jet],[Z]]]+[[[jet],[higgs]],[[jet],[higgs]]]+[[[jet],[Z]],[[jet],[higgs]]]\n",
      "1 fails\n"
     ]
    }
   ],
   "source": [
    "stop = False\n",
    "fails = []\n",
    "for exp in db.getExpResults():\n",
    "    for tx in exp.getTxNames():\n",
    "        try:\n",
    "            tx.sortSMSMap()\n",
    "        except:\n",
    "            fails.append(exp.globalInfo.id+'-'+str(tx))\n",
    "            # print('Failed for:')\n",
    "            # print(exp.globalInfo.id,tx)\n",
    "            # print(tx.constraint)\n",
    "            # stop = True\n",
    "            # break\n",
    "    # if stop: break\n",
    "print(len(set(fails)), 'fails')"
   ]
  },
  {
   "cell_type": "code",
   "execution_count": 4,
   "metadata": {},
   "outputs": [
    {
     "data": {
      "text/plain": [
       "{'ATLAS-SUSY-2016-07-T6WZh'}"
      ]
     },
     "execution_count": 4,
     "metadata": {},
     "output_type": "execute_result"
    }
   ],
   "source": [
    "set(fails)"
   ]
  },
  {
   "cell_type": "code",
   "execution_count": null,
   "metadata": {},
   "outputs": [],
   "source": []
  }
 ],
 "metadata": {
  "kernelspec": {
   "display_name": "Python 3.10.4 64-bit",
   "language": "python",
   "name": "python3"
  },
  "language_info": {
   "codemirror_mode": {
    "name": "ipython",
    "version": 3
   },
   "file_extension": ".py",
   "mimetype": "text/x-python",
   "name": "python",
   "nbconvert_exporter": "python",
   "pygments_lexer": "ipython3",
   "version": "3.10.4"
  },
  "vscode": {
   "interpreter": {
    "hash": "e7370f93d1d0cde622a1f8e1c04877d8463912d04d973331ad4851f04de6915a"
   }
  }
 },
 "nbformat": 4,
 "nbformat_minor": 2
}
