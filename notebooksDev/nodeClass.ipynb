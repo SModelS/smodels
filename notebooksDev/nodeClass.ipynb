{
 "cells": [
  {
   "cell_type": "code",
   "execution_count": 1,
   "id": "452a898e",
   "metadata": {},
   "outputs": [],
   "source": [
    "import networkx as nx\n",
    "import sys\n",
    "sys.path.append('../')\n",
    "from smodels.theory.particle import Particle\n",
    "from smodels.tools.physicsUnits import MeV,GeV\n",
    "from smodels.theory.graphTools import drawTree"
   ]
  },
  {
   "cell_type": "code",
   "execution_count": 2,
   "id": "56fa48bd",
   "metadata": {},
   "outputs": [],
   "source": [
    "H0 = Particle(Z2parity='odd', label='H0', pdg=35, eCharge=0, colordim=1, spin=0)  \n",
    "A0 = Particle(Z2parity='odd', label='A0', pdg=36, eCharge=0, colordim=1, spin=0)\n",
    "e = Particle(Z2parity='even', label='e-', pdg=11, mass=0.5*MeV, eCharge=-1, colordim=1, spin=1./2, totalwidth = 0.*GeV, decays=[])\n",
    "mu = Particle(Z2parity='even', label='mu-', pdg=13, mass=106.*MeV, eCharge=-1, colordim=1, spin=1./2, totalwidth = 0.*GeV, decays=[])\n",
    "ta = Particle(Z2parity='even', label='ta-', pdg=15, mass=1777.*MeV, eCharge=-1, colordim=1, spin=1./2, totalwidth = 0.*GeV, decays=[])\n"
   ]
  },
  {
   "cell_type": "code",
   "execution_count": 3,
   "id": "60dd1509",
   "metadata": {},
   "outputs": [],
   "source": []
  },
  {
   "cell_type": "code",
   "execution_count": 4,
   "id": "cb7c2d67",
   "metadata": {},
   "outputs": [],
   "source": [
    "H0a = ParticleNode(particle=H0,nodeNumber=1)\n",
    "H0b = ParticleNode(particle=H0,nodeNumber=2)\n",
    "A0 = ParticleNode(particle=A0,nodeNumber=3)\n",
    "e = ParticleNode(particle=e,nodeNumber=4)\n",
    "mu = ParticleNode(particle=mu,nodeNumber=5)\n",
    "ta = ParticleNode(particle=ta,nodeNumber=6)"
   ]
  },
  {
   "cell_type": "code",
   "execution_count": 10,
   "id": "23149551",
   "metadata": {},
   "outputs": [],
   "source": [
    "T = nx.DiGraph()\n",
    "T.add_nodes_from([H0a,e,mu,ta,H0b])\n",
    "T.add_edges_from([(H0a,e),(H0a,mu),(H0b,ta),(H0b,H0b)])"
   ]
  },
  {
   "cell_type": "code",
   "execution_count": 11,
   "id": "600d3d11",
   "metadata": {},
   "outputs": [
    {
     "data": {
      "image/png": "[encoded data removed]",
      "text/plain": [
       "<Figure size 432x288 with 1 Axes>"
      ]
     },
     "metadata": {},
     "output_type": "display_data"
    }
   ],
   "source": [
    "drawTree(T)"
   ]
  },
  {
   "cell_type": "code",
   "execution_count": 20,
   "id": "14606ecf",
   "metadata": {},
   "outputs": [
    {
     "name": "stdout",
     "output_type": "stream",
     "text": [
      "odd\n",
      "even\n",
      "even\n",
      "even\n",
      "odd\n"
     ]
    }
   ],
   "source": [
    "for n in T.nodes():\n",
    "    print(n.Z2parity)"
   ]
  },
  {
   "cell_type": "code",
   "execution_count": 24,
   "id": "f9591050",
   "metadata": {},
   "outputs": [
    {
     "data": {
      "text/plain": [
       "{}"
      ]
     },
     "execution_count": 24,
     "metadata": {},
     "output_type": "execute_result"
    }
   ],
   "source": [
    "T.nodes[H0a]"
   ]
  },
  {
   "cell_type": "code",
   "execution_count": null,
   "id": "70daac21",
   "metadata": {},
   "outputs": [],
   "source": []
  }
 ],
 "metadata": {
  "kernelspec": {
   "display_name": "Python 3 (ipykernel)",
   "language": "python",
   "name": "python3"
  },
  "language_info": {
   "codemirror_mode": {
    "name": "ipython",
    "version": 3
   },
   "file_extension": ".py",
   "mimetype": "text/x-python",
   "name": "python",
   "nbconvert_exporter": "python",
   "pygments_lexer": "ipython3",
   "version": "3.9.7"
  }
 },
 "nbformat": 4,
 "nbformat_minor": 5
}
