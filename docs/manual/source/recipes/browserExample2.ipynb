{
 "cells": [
  {
   "cell_type": "markdown",
   "metadata": {},
   "source": [
    "### Load the browser"
   ]
  },
  {
   "cell_type": "code",
   "execution_count": 1,
   "metadata": {},
   "outputs": [],
   "source": [
    "# Set up the path to SModelS installation folder\n",
    "import sys; sys.path.append(\".\"); import smodels_paths"
   ]
  },
  {
   "cell_type": "code",
   "execution_count": 2,
   "metadata": {},
   "outputs": [
    {
     "name": "stdout",
     "output_type": "stream",
     "text": [
      "loading >...................................................done.\n",
      "99\n"
     ]
    }
   ],
   "source": [
    "from smodels.base.physicsUnits import GeV\n",
    "from smodels.tools import databaseBrowser\n",
    "# First load the browser and check the total number of results loaded\n",
    "browser = databaseBrowser.Browser(\"official\")\n",
    "print(len(browser))"
   ]
  },
  {
   "cell_type": "markdown",
   "metadata": {},
   "source": [
    "### Check the upper limit of a efficiency map result (95% C.L. limit for a given signal region)"
   ]
  },
  {
   "cell_type": "code",
   "execution_count": 3,
   "metadata": {},
   "outputs": [
    {
     "name": "stdout",
     "output_type": "stream",
     "text": [
      "4.91E-01 [fb]\n",
      "4.60E-01 [fb]\n"
     ]
    }
   ],
   "source": [
    "# Check the upper limit for the HM200 signal region:\n",
    "print(browser.getULForSR(expid='CMS-SUS-13-011', datasetID='HM200'))\n",
    "# Check the upper limit for the LM300 signal region:\n",
    "print(browser.getULForSR(expid='CMS-SUS-13-011', datasetID='LM300'))"
   ]
  },
  {
   "cell_type": "markdown",
   "metadata": {},
   "source": [
    "### Check the upper limit for a upper limit result (95% C.L. limit for a given simplified model/txname and mass) "
   ]
  },
  {
   "cell_type": "code",
   "execution_count": 4,
   "metadata": {},
   "outputs": [
    {
     "name": "stdout",
     "output_type": "stream",
     "text": [
      "2.82E+00 [fb]\n"
     ]
    }
   ],
   "source": [
    "# Check the upper limit for T1tttt simplified model with gluino mass 1 TeV and LSP mass 100 GeV:\n",
    "print(browser.getULFor(expid='CMS-SUS-16-037', txname='T1tttt', massarray = [[1000.*GeV,100.*GeV],[1000.*GeV,100.*GeV]]))"
   ]
  },
  {
   "cell_type": "code",
   "execution_count": 5,
   "metadata": {},
   "outputs": [
    {
     "name": "stdout",
     "output_type": "stream",
     "text": [
      "1.61E+00 [fb]\n"
     ]
    }
   ],
   "source": [
    "# Check the upper limit for T1tttt simplified model with gluino mass 1.5 TeV and LSP mass 100 GeV:\n",
    "print(browser.getULFor(expid='CMS-SUS-16-037', txname='T1tttt', massarray = [[1500.*GeV,100.*GeV],[1500.*GeV,100.*GeV]]))"
   ]
  },
  {
   "cell_type": "code",
   "execution_count": 6,
   "metadata": {},
   "outputs": [
    {
     "name": "stdout",
     "output_type": "stream",
     "text": [
      "None\n"
     ]
    }
   ],
   "source": [
    "# No results will be given if masses outside the data grid are used:\n",
    "print(browser.getULFor(expid='CMS-SUS-16-037', txname='T1tttt', massarray = [[5000.*GeV,100.*GeV],[5000.*GeV,100.*GeV]]))"
   ]
  },
  {
   "cell_type": "code",
   "execution_count": null,
   "metadata": {},
   "outputs": [],
   "source": []
  }
 ],
 "metadata": {
  "kernelspec": {
   "display_name": "Python 3",
   "language": "python",
   "name": "python3"
  },
  "language_info": {
   "codemirror_mode": {
    "name": "ipython",
    "version": 3
   },
   "file_extension": ".py",
   "mimetype": "text/x-python",
   "name": "python",
   "nbconvert_exporter": "python",
   "pygments_lexer": "ipython3",
   "version": "3.6.3"
  }
 },
 "nbformat": 4,
 "nbformat_minor": 1
}
