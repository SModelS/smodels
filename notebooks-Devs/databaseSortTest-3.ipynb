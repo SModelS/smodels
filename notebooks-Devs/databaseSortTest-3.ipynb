{
 "cells": [
  {
   "cell_type": "code",
   "execution_count": 1,
   "metadata": {},
   "outputs": [],
   "source": [
    "import sys\n",
    "sys.path.append('../')\n",
    "import matplotlib.pyplot as plt\n",
    "from smodels.decomposition.theorySMS import TheorySMS\n",
    "from smodels.experiment.expSMS import ExpSMS\n",
    "from smodels.share.models.mssm import BSMList\n",
    "from smodels.share.models.SMparticles import SMList\n",
    "from smodels.experiment.defaultFinalStates import finalStates\n",
    "from smodels.base.model import Model\n",
    "from collections import OrderedDict\n",
    "from smodels.base.physicsUnits import fb, GeV\n",
    "from itertools import product\n",
    "from smodels.experiment.databaseObj import Database\n",
    "import copy\n",
    "from smodels.experiment.expAuxiliaryFuncs import bracketToProcessStr\n",
    "import re"
   ]
  },
  {
   "cell_type": "markdown",
   "metadata": {},
   "source": [
    "### Get database"
   ]
  },
  {
   "cell_type": "code",
   "execution_count": 2,
   "metadata": {
    "scrolled": true
   },
   "outputs": [],
   "source": [
    "db = Database('official')"
   ]
  },
  {
   "cell_type": "code",
   "execution_count": 69,
   "metadata": {},
   "outputs": [],
   "source": [
    "def convertAxesStr(inStr):\n",
    "    entryDict = {}\n",
    "    # First find the outermost enclosing brackets:\n",
    "    iLeft = inStr.find('[')\n",
    "    iRight = inStr.rfind(']')+1\n",
    "    newStr = inStr[iLeft:iRight]\n",
    "    # Remove blank spaces:\n",
    "    newStr = newStr.replace(\" \",\"\")\n",
    "    iel = 0\n",
    "    # Loop over the string and replace entries by\n",
    "    # \"Xi\" strings\n",
    "    for x in re.split(r',\\s*(?![^()]*\\))', newStr):\n",
    "        x = x.replace('[','').replace(']','')\n",
    "        x = x.strip()\n",
    "        if not x in entryDict:\n",
    "            entryDict[x] = \"'X%i'\" %iel\n",
    "            iel += 1\n",
    "        xNew = entryDict[x]\n",
    "        # print('x=',x,'xNew=',xNew)\n",
    "        # print('before=',newStr)\n",
    "        newStr = newStr.replace(x,xNew,1)\n",
    "        # print('after=',newStr)\n",
    "    # Add the original enclosing strings \n",
    "    # (for cases where the string ends in ]]*2)\n",
    "    newStr = inStr[:iLeft]+newStr+inStr[iRight:]\n",
    "    # print('final=',newStr)\n",
    "    # Evaluate the string with the entries replaces\n",
    "    # by Xi strings:\n",
    "    axes = eval(newStr)\n",
    "    \n",
    "    return axes\n",
    "\n",
    "def getAxesSMS(txAxes):\n",
    "    \"\"\"\n",
    "    Generates a dummy SMS with nodes holding axis labels.\n",
    "    \"\"\"\n",
    "    axesSMS = []\n",
    "    if isinstance(txAxes,str):\n",
    "        txAxes = [txAxes]\n",
    "    for txAx in txAxes:\n",
    "        axis = convertAxesStr(txAx)\n",
    "        axisStr = str([[['anySM'] for ptc in br[:-1]] for br in axis])\n",
    "        finalStates = [str(br[-1]) for br in axis]\n",
    "        intermediateStates = [[str(ptc) for ptc in br[:-1]] for br in axis]\n",
    "        axSMS = ExpSMS.from_string(axisStr,finalState=finalStates,\n",
    "                                intermediateState=intermediateStates)\n",
    "        axesSMS.append(axSMS)\n",
    "    \n",
    "    return axesSMS\n",
    "\n",
    "def symmetricAxes(txAxes):\n",
    "\n",
    "    if isinstance(txAxes,str):\n",
    "        txAxes = [txAxes]\n",
    "    for txAx in txAxes:\n",
    "        axis = convertAxesStr(txAx)\n",
    "        if len(axis) != 2:\n",
    "            # print('Found %i branches!' %(len(axis)))\n",
    "            return False\n",
    "        if axis[0] != axis[1]:\n",
    "            # print('Non-symmetric axis:\\n %s != %s' %(axis[0],axis[1]))\n",
    "            return False\n",
    "\n",
    "    return True\n",
    "                \n"
   ]
  },
  {
   "cell_type": "code",
   "execution_count": 76,
   "metadata": {},
   "outputs": [
    {
     "name": "stdout",
     "output_type": "stream",
     "text": [
      "Missing axes for:\n",
      "ATLAS-SUSY-2016-32:THSCPM5\n",
      "ATLAS-SUSY-2016-32:THSCPM6\n",
      "ATLAS-SUSY-2016-32:THSCPM7\n",
      "CMS-EXO-13-006:THSCPM5\n",
      "CMS-EXO-13-006:THSCPM6\n",
      "CMS-EXO-13-006:THSCPM7\n",
      "Asymmetric axes with more than 1 SMS:\n",
      "ATLAS-SUSY-2019-09:TChiWZoff\n"
     ]
    }
   ],
   "source": [
    "stop = False\n",
    "missingAxes = set([])\n",
    "asymmetricAxes = set([])\n",
    "asymmetricMultiple = set([])\n",
    "for exp in db.getExpResults():\n",
    "    for tx in exp.getTxNames():\n",
    "        txID = exp.globalInfo.id+':'+str(tx)\n",
    "        if not tx.axes:\n",
    "            missingAxes.add(txID)\n",
    "            continue\n",
    "        sym = symmetricAxes(tx.axes)\n",
    "        if not sym:\n",
    "            asymmetricAxes.add(txID)\n",
    "            if len(tx.smsMap) > 1:\n",
    "                asymmetricMultiple.add(txID)\n",
    "\n",
    "missingAxes = sorted(list(missingAxes))\n",
    "asymmetricAxes = sorted(list(asymmetricAxes))\n",
    "asymmetricMultiple = sorted(list(asymmetricMultiple))\n",
    "print('Missing axes for:')\n",
    "for miss in missingAxes:\n",
    "    print(miss)\n",
    "print('Asymmetric axes with more than 1 SMS:')\n",
    "for asym in asymmetricMultiple:\n",
    "    print(asym)\n"
   ]
  }
 ],
 "metadata": {
  "kernelspec": {
   "display_name": "Python 3.10.4 64-bit",
   "language": "python",
   "name": "python3"
  },
  "language_info": {
   "codemirror_mode": {
    "name": "ipython",
    "version": 3
   },
   "file_extension": ".py",
   "mimetype": "text/x-python",
   "name": "python",
   "nbconvert_exporter": "python",
   "pygments_lexer": "ipython3",
   "version": "3.10.4"
  },
  "vscode": {
   "interpreter": {
    "hash": "e7370f93d1d0cde622a1f8e1c04877d8463912d04d973331ad4851f04de6915a"
   }
  }
 },
 "nbformat": 4,
 "nbformat_minor": 2
}
